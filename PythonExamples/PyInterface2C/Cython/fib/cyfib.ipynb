{
 "metadata": {
  "name": "cyfib"
 },
 "nbformat": 3,
 "nbformat_minor": 0,
 "worksheets": [
  {
   "cells": [
    {
     "cell_type": "code",
     "collapsed": false,
     "input": [
      "%load_ext cythonmagic"
     ],
     "language": "python",
     "metadata": {},
     "outputs": [],
     "prompt_number": 1
    },
    {
     "cell_type": "code",
     "collapsed": false,
     "input": [
      "%%cython\n",
      "def fib(int n):\n",
      "    cdef int i, a, b\n",
      "    a, b = 1, 1\n",
      "    for i in range(n):\n",
      "        a, b = a+b, a\n",
      "    return a"
     ],
     "language": "python",
     "metadata": {},
     "outputs": [],
     "prompt_number": 2
    },
    {
     "cell_type": "code",
     "collapsed": false,
     "input": [
      "%%cython\n",
      "import cython\n",
      "@cython.locals(n=cython.int)\n",
      "def fib(n):\n",
      "    cython.declare(i=cython.int,\n",
      "                   a=cython.int,\n",
      "                   b=cython.int)\n",
      "    a,b = 1,1\n",
      "    for i in range(n):\n",
      "        a, b = a+b, a\n",
      "    return a"
     ],
     "language": "python",
     "metadata": {},
     "outputs": [],
     "prompt_number": 3
    },
    {
     "cell_type": "code",
     "collapsed": false,
     "input": [],
     "language": "python",
     "metadata": {},
     "outputs": []
    }
   ],
   "metadata": {}
  }
 ]
}