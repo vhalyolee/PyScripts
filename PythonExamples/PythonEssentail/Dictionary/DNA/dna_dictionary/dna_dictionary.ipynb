{
 "cells": [
  {
   "cell_type": "markdown",
   "metadata": {
    "canopy_exercise": {
     "cell_type": "question"
    }
   },
   "source": [
    "DNA Dictionary\n",
    "==============\n",
    "\n",
    "If you haven't done the \"DNA String\" exercise in the lecture called \"Introduction to Strings\" then you probably should do that exercise before attempting this one.\n",
    "\n",
    "Background\n",
    "----------\n",
    "Sequences of DNA are frequently represented by strings of letters, each corresponding to a base:\n",
    "\n",
    "    \"A\" is adenine\n",
    "    \"C\" is cytosine\n",
    "    \"G\" is guanine\n",
    "    \"T\" is thymine\n",
    "\n",
    "A gene encodes a protein by specifying the amino acids that compose it via groups of 3 bases (called \"codons\").  Each codon corresponds to an amino acid or a special \"start\" or \"stop\" sequence.\n",
    "\n",
    "In the usual genetic code the sequence \"ATG\" indicates the start of the encoding of the protein (and also encodes the amino acid methionine).  The three codons \"TAA\", \"TAG\" and \"TGA\" are stop codons and indicate that the protein is finished.\n",
    "\n",
    "Question 1\n",
    "----------\n",
    "\n",
    "Below is a dictionary called ``codon_table`` that maps codons to their corresponding amino acid abbreviations (the stop codons are usually abbreviated by a `*`).  Extract the abbreviation associated with the codon \"AAG\"."
   ]
  },
  {
   "cell_type": "code",
   "execution_count": null,
   "metadata": {
    "canopy_exercise": {
     "cell_type": "starting code"
    },
    "collapsed": false
   },
   "outputs": [],
   "source": [
    "codon_table = {\n",
    "    'TTT': 'F', 'TTC': 'F', 'TTA': 'L', 'TTG': 'L',\n",
    "    'TCT': 'S', 'TCC': 'S', 'TCA': 'S', 'TCG': 'S',\n",
    "    'TAT': 'Y', 'TAC': 'Y', 'TAA': '*', 'TAG': '*',\n",
    "    'TGT': 'C', 'TGC': 'C', 'TGA': '*', 'TGG': 'W',\n",
    "\n",
    "    'CTT': 'L', 'CTC': 'L', 'CTA': 'L', 'CTG': 'L',\n",
    "    'CCT': 'P', 'CCC': 'P', 'CCA': 'P', 'CCG': 'P',\n",
    "    'CAT': 'H', 'CAC': 'H', 'CAA': 'Q', 'CAG': 'Q',\n",
    "    'CGT': 'R', 'CGC': 'R', 'CGA': 'R', 'CGG': 'R',\n",
    "\n",
    "    'ATT': 'I', 'ATC': 'I', 'ATA': 'I', 'ATG': 'M',\n",
    "    'ACT': 'T', 'ACC': 'T', 'ACA': 'T', 'ACG': 'T',\n",
    "    'AAT': 'N', 'AAC': 'N', 'AAA': 'K', 'AAG': 'K',\n",
    "    'AGT': 'S', 'AGC': 'S', 'AGA': 'R', 'AGG': 'R',\n",
    "\n",
    "    'GTT': 'V', 'GTC': 'V', 'GTA': 'V', 'GTG': 'V',\n",
    "    'GCT': 'A', 'GCC': 'A', 'GCA': 'A', 'GCG': 'A',\n",
    "    'GAT': 'D', 'GAC': 'D', 'GAA': 'E', 'GAG': 'E',\n",
    "    'GGT': 'G', 'GGC': 'G', 'GGA': 'G', 'GGG': 'G',\n",
    "}\n",
    "\n",
    "codon = \"AAG\""
   ]
  },
  {
   "cell_type": "code",
   "execution_count": null,
   "metadata": {
    "canopy_exercise": {
     "cell_type": "student_solution"
    },
    "collapsed": true
   },
   "outputs": [],
   "source": [
    "# your code goes here"
   ]
  },
  {
   "cell_type": "markdown",
   "metadata": {
    "canopy_exercise": {
     "cell_type": "solution_button"
    }
   },
   "source": [
    "<div class=\"btn-group\"><button class=\"btn\" onclick=\"IPython.canopy_exercise.toggle_solution('2')\">Solution</button></div>"
   ]
  },
  {
   "cell_type": "code",
   "execution_count": null,
   "metadata": {
    "canopy_exercise": {
     "cell_type": "solution_view",
     "solution_number": "2"
    },
    "collapsed": false
   },
   "outputs": [],
   "source": [
    "# The lookup in a dictionary is using the square brackets []\n",
    "abbreviation = codon_table[codon]\n",
    "print \"AAG -> {0}\".format(abbreviation)"
   ]
  },
  {
   "cell_type": "markdown",
   "metadata": {
    "canopy_exercise": {
     "cell_type": "question"
    }
   },
   "source": [
    "Question 2\n",
    "----------\n",
    "\n",
    "We have created another dictionary ``amino_acid_table`` that maps the amino acid abbreviations to their full names.  Extract the full name of the amino acid associated with the codon \"CAA\"."
   ]
  },
  {
   "cell_type": "code",
   "execution_count": null,
   "metadata": {
    "canopy_exercise": {
     "cell_type": "starting code"
    },
    "collapsed": false
   },
   "outputs": [],
   "source": [
    "amino_acid_table = {\n",
    "    'A': \"alanine\",\n",
    "    'C': \"cystine\",\n",
    "    'D': \"aspartic acid\",\n",
    "    'E': \"glutamic acid\",\n",
    "    'F': \"phenylalanine\",\n",
    "    'G': \"glycine\",\n",
    "    'H': \"histidine\",\n",
    "    'I': \"isoleucine\",\n",
    "    'K': \"lysine\",\n",
    "    'L': \"leucine\",\n",
    "    'M': \"methionine/start\",\n",
    "    'N': \"asparagine\",\n",
    "    'P': \"proline\",\n",
    "    'Q': \"glutamine\",\n",
    "    'R': \"arginine\",\n",
    "    'S': \"serine\",\n",
    "    'T': \"threonine\",\n",
    "    'V': \"valine\",\n",
    "    'W': \"tryptophan\",\n",
    "    'Y': \"tyrosine\",\n",
    "    '*': \"stop\",\n",
    "}\n",
    "\n",
    "codon = \"CAA\""
   ]
  },
  {
   "cell_type": "code",
   "execution_count": null,
   "metadata": {
    "canopy_exercise": {
     "cell_type": "student_solution"
    },
    "collapsed": true
   },
   "outputs": [],
   "source": [
    "# your code goes here"
   ]
  },
  {
   "cell_type": "markdown",
   "metadata": {
    "canopy_exercise": {
     "cell_type": "solution_button"
    }
   },
   "source": [
    "<div class=\"btn-group\"><button class=\"btn\" onclick=\"IPython.canopy_exercise.toggle_solution('4')\">Solution</button></div>"
   ]
  },
  {
   "cell_type": "code",
   "execution_count": null,
   "metadata": {
    "canopy_exercise": {
     "cell_type": "solution_view",
     "solution_number": "4"
    },
    "collapsed": false
   },
   "outputs": [],
   "source": [
    "abbr = codon_table[codon]\n",
    "full_name = amino_acid_table[abbr]\n",
    "print \"CAA -> {0}\".format(full_name)\n",
    "\n",
    "# We could have done this in a more compact way (completely equivalent \n",
    "# but arguably harder to read)\n",
    "print \"CAA -> {0}\".format(amino_acid_table[codon_table[codon]])"
   ]
  },
  {
   "cell_type": "markdown",
   "metadata": {
    "canopy_exercise": {
     "cell_type": "question"
    }
   },
   "source": [
    "Question 3\n",
    "----------\n",
    "\n",
    "Human mitochondrial DNA has a slightly different genetic code where \"AGA\" and \"AGG\" are additional \"stop\" codons, \"TGA\" is not a \"stop\" codon but instead codes for tryptophan, and \"ATA\" codes for methionine instead of isoleucine.\n",
    "\n",
    "Copy the codon table into a new `mitochondrial_table` and modify the dictionary so that it corresponds to the mitochondrial DNA genetic code.\n",
    "\n",
    "Note: You don't need to manually copy the whole table in the editor. Instead see if you can find dictionary methods to copy the `codon_table`. We will review all dictionary methods at the next lecture, so this is a preview."
   ]
  },
  {
   "cell_type": "markdown",
   "metadata": {
    "canopy_exercise": {
     "cell_type": "hint_button"
    }
   },
   "source": [
    "<div class=\"btn-group\"><button class=\"btn\" onclick=\"IPython.canopy_exercise.toggle_hint('7')\">Hint</button></div>"
   ]
  },
  {
   "cell_type": "markdown",
   "metadata": {
    "canopy_exercise": {
     "cell_type": "hint_view",
     "hint_number": "7"
    }
   },
   "source": [
    "Remember that to find methods (tools) attached to an object, create a notebook cell, create any dictionary inside and then type dot and then the TAB key. For example \n",
    "<pre>\n",
    "{}.[HIT THE TAB KEY HERE]\n",
    "</pre>"
   ]
  },
  {
   "cell_type": "code",
   "execution_count": null,
   "metadata": {
    "canopy_exercise": {
     "cell_type": "student_solution"
    },
    "collapsed": true
   },
   "outputs": [],
   "source": [
    "# your code goes here"
   ]
  },
  {
   "cell_type": "markdown",
   "metadata": {
    "canopy_exercise": {
     "cell_type": "solution_button"
    }
   },
   "source": [
    "<div class=\"btn-group\"><button class=\"btn\" onclick=\"IPython.canopy_exercise.toggle_solution('6')\">Solution</button></div>"
   ]
  },
  {
   "cell_type": "code",
   "execution_count": null,
   "metadata": {
    "canopy_exercise": {
     "cell_type": "solution_view",
     "solution_number": "6"
    },
    "collapsed": false
   },
   "outputs": [],
   "source": [
    "mitochondrial_table = codon_table.copy()\n",
    "\n",
    "mitochondrial_table[\"AGA\"] = '*'\n",
    "mitochondrial_table[\"AGG\"] = '*'\n",
    "mitochondrial_table[\"TGA\"] = 'W'\n",
    "mitochondrial_table[\"ATA\"] = 'M'\n",
    "\n",
    "print mitochondrial_table"
   ]
  },
  {
   "cell_type": "markdown",
   "metadata": {
    "canopy_exercise": {
     "cell_type": "question"
    }
   },
   "source": [
    "Question 4 (Bonus)\n",
    "------------------\n",
    "\n",
    "If you already know about writing loops in Python, build programatically a list of all of the codons that can produce serine.\n"
   ]
  },
  {
   "cell_type": "code",
   "execution_count": null,
   "metadata": {
    "canopy_exercise": {
     "cell_type": "student_solution"
    },
    "collapsed": true
   },
   "outputs": [],
   "source": [
    "# your code goes here"
   ]
  },
  {
   "cell_type": "markdown",
   "metadata": {
    "canopy_exercise": {
     "cell_type": "solution_button"
    }
   },
   "source": [
    "<div class=\"btn-group\"><button class=\"btn\" onclick=\"IPython.canopy_exercise.toggle_solution('7')\">Solution</button></div>"
   ]
  },
  {
   "cell_type": "code",
   "execution_count": null,
   "metadata": {
    "canopy_exercise": {
     "cell_type": "solution_view",
     "solution_number": "7"
    },
    "collapsed": false
   },
   "outputs": [],
   "source": [
    "amino_acid = \"serine\"\n",
    "\n",
    "# you could do it like this:\n",
    "codons = []\n",
    "for codon, symbol in codon_table.items():\n",
    "    if amino_acid_table[symbol] == amino_acid:\n",
    "        codons.append(codon)\n",
    "\n",
    "# or using a list comprehension:\n",
    "codons = [codon for codon, symbol in codon_table.items()\n",
    "          if amino_acid_table[symbol] == amino_acid]\n",
    "\n",
    "print \"Codons that produce serine: {0}\".format(codons)\n"
   ]
  },
  {
   "cell_type": "markdown",
   "metadata": {},
   "source": [
    "Note\n",
    "----\n",
    "\n",
    "If you need to do this sort of bioinformatics manipulation, the [\"Biopython\" library](http://biopython.org/wiki/Main_Page) does all of these sorts of things like this and more. Check it out.\n"
   ]
  },
  {
   "cell_type": "markdown",
   "metadata": {
    "canopy_exercise": {
     "cell_type": "question"
    }
   },
   "source": [
    "Copyright 2008-2016, Enthought, Inc.  \n",
    "Use only permitted under license.  Copying, sharing, redistributing or other unauthorized use strictly prohibited.  \n",
    "http://www.enthought.com"
   ]
  }
 ],
 "metadata": {
  "canopy_exercise": {
   "__metadata_version__": 1
  },
  "kernelspec": {
   "display_name": "Python 2",
   "language": "python",
   "name": "python2"
  },
  "language_info": {
   "codemirror_mode": {
    "name": "ipython",
    "version": 2
   },
   "file_extension": ".py",
   "mimetype": "text/x-python",
   "name": "python",
   "nbconvert_exporter": "python",
   "pygments_lexer": "ipython2",
   "version": "2.7.11"
  }
 },
 "nbformat": 4,
 "nbformat_minor": 0
}
