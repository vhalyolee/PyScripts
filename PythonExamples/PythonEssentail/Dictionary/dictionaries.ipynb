{
 "cells": [
  {
   "cell_type": "markdown",
   "metadata": {},
   "source": [
    "Dictionaries\n",
    "============\n",
    "\n",
    "We've alluded to dictionaries in some of the other lectures.  If you're familiar with the computer science \"hash\" or \"map\" data structures, a dictionary is essentially the Python equivalent of those.\n",
    "\n",
    "For those unfamiliar with Python dictionaries, we can use an actual dictionary as a mental model.  In a dictionary you have words, and those words have definitions that are associated with them. You might have multiple definitions, but they are all associated with one word's entry in the dictionary.\n",
    "\n",
    "This maps to the data structure very well: each entry is a key-value pair, where the keys are the words, and the values are the definitions.  If there are multiple definitions, you might instead have a list of definitions instead of a single definition for the value, but the idea is the same.\n",
    "\n",
    "So in Python we can create an empty dictionary with a pair of braces (curly brackets):"
   ]
  },
  {
   "cell_type": "code",
   "execution_count": null,
   "metadata": {
    "collapsed": false
   },
   "outputs": [],
   "source": [
    "woobsters = {}"
   ]
  },
  {
   "cell_type": "markdown",
   "metadata": {},
   "source": [
    "We can then inject entries into the dictionary using indexing notation to set the value for a key.  So for example, if the word is 'mutable' and the definition is 'liable to change', then we create the entry like this:"
   ]
  },
  {
   "cell_type": "code",
   "execution_count": null,
   "metadata": {
    "collapsed": false
   },
   "outputs": [],
   "source": [
    "woobsters['mutable'] = 'liable to change'"
   ]
  },
  {
   "cell_type": "markdown",
   "metadata": {},
   "source": [
    "We can add another entry, and print the result:"
   ]
  },
  {
   "cell_type": "code",
   "execution_count": null,
   "metadata": {
    "collapsed": false
   },
   "outputs": [],
   "source": [
    "woobsters['immutable'] = 'unchanging over time or unable to be changed'\n",
    "woobsters"
   ]
  },
  {
   "cell_type": "markdown",
   "metadata": {},
   "source": [
    "Note the repeated structure of `key: value` in the dictionary.  When you use IPython to inspect a dictionary, IPython will print the keys in alphabetical order, but this is a feature of IPython, not an intrinisc characteristic of a dictionary: there is no order for the keys in a dictionary.  It doesn't matter what order you put things in to the dictionary, or whether they can be sorted alphabetically, or anything like that.\n",
    "\n",
    "For example, if we print the dictionary explicitly, so that IPython doesn't have a chance to sort things, you _may_ get a different order:"
   ]
  },
  {
   "cell_type": "code",
   "execution_count": null,
   "metadata": {
    "collapsed": false
   },
   "outputs": [],
   "source": [
    "print(woobsters)"
   ]
  },
  {
   "cell_type": "markdown",
   "metadata": {},
   "source": [
    "The only guarantee that a dictionary makes is that you have a single key associated with a value in the dictionary.  It is an unordered mapping of unique keys to values.\n",
    "\n",
    "To look up the value of a key in a dictionary, use indexing notation with the key, so to ask for `'mutable'` you will get the corresponding value like this:"
   ]
  },
  {
   "cell_type": "code",
   "execution_count": null,
   "metadata": {
    "collapsed": false
   },
   "outputs": [],
   "source": [
    "woobsters['mutable']"
   ]
  },
  {
   "cell_type": "markdown",
   "metadata": {},
   "source": [
    "and similarly for `'immutable'`:"
   ]
  },
  {
   "cell_type": "code",
   "execution_count": null,
   "metadata": {
    "collapsed": false
   },
   "outputs": [],
   "source": [
    "woobsters['immutable']"
   ]
  },
  {
   "cell_type": "markdown",
   "metadata": {},
   "source": [
    "Because there is no order, you can't use a positional index 0 to ask for the \"0th\" item in the dictionary.  If you try you get a `KeyError` exception:"
   ]
  },
  {
   "cell_type": "code",
   "execution_count": null,
   "metadata": {
    "collapsed": false
   },
   "outputs": [],
   "source": [
    "woobsters[0]"
   ]
  },
  {
   "cell_type": "markdown",
   "metadata": {},
   "source": [
    "In fact what's happening is that it is checking to see if you stored something associated with the key 0 in the dictionary. The keys of a dictionary don't have to be strings: you can use integers or any other immutable object.\n",
    "\n",
    "Examples\n",
    "--------\n",
    "\n",
    "Let's consider how you might create a data structure to store synonyms of words, rather than definitions.  A dictionary still works well in this case if you use the word as the key, and the value is the full list of synonyms you might have for that word.\n",
    "\n",
    "So you might get something like this:"
   ]
  },
  {
   "cell_type": "code",
   "execution_count": null,
   "metadata": {
    "collapsed": false
   },
   "outputs": [],
   "source": [
    "synonyms = {}\n",
    "synonyms['mutable'] = ['changeable', 'variable', 'varying', 'fluctuating', 'shifting', 'inconsistent',\n",
    "                       'unpredictable', 'inconstant', 'fickle', 'uneven', 'unstable', 'protean']\n",
    "synonyms['immutable'] = ['fixed', 'set', 'rigid', 'inflexible', 'permanent', 'established', 'carved in stone']\n",
    "synonyms"
   ]
  },
  {
   "cell_type": "markdown",
   "metadata": {},
   "source": [
    "An advanced example might involve a large time-series which has events only occasionally.\n",
    "\n",
    "In this example, you might have 4 events, each of which has a magnitude and a width:"
   ]
  },
  {
   "cell_type": "code",
   "execution_count": null,
   "metadata": {
    "collapsed": false
   },
   "outputs": [],
   "source": [
    "e1 = {'mag': 0.05, 'width': 20}\n",
    "e2 = {'mag': 0.04, 'width': 25}\n",
    "e3 = {'mag': 0.05, 'width': 80}\n",
    "e4 = {'mag': 0.03, 'width': 30}"
   ]
  },
  {
   "cell_type": "markdown",
   "metadata": {},
   "source": [
    "And then each event occurs at a particular time (represented as an integer index in the original array):"
   ]
  },
  {
   "cell_type": "code",
   "execution_count": null,
   "metadata": {
    "collapsed": false
   },
   "outputs": [],
   "source": [
    "events = {500: e1, 760: e2, 3001: e3, 4180: e4}"
   ]
  },
  {
   "cell_type": "markdown",
   "metadata": {},
   "source": [
    "Another example might be a database with records holding the fields first name, last name and age.  The result of a query to this database might produce a list of dictionaries which looks something like this:"
   ]
  },
  {
   "cell_type": "code",
   "execution_count": null,
   "metadata": {
    "collapsed": false
   },
   "outputs": [],
   "source": [
    "people = [\n",
    "    {'first': 'Sam', 'last': 'Malone', 'name': 35},\n",
    "    {'first': 'Woody', 'last': 'Boyd', 'name': 21},\n",
    "    {'first': 'Norm', 'last': 'Peterson', 'name': 34},\n",
    "    {'first': 'Diane', 'last': 'Chambers', 'name': 33}\n",
    "]"
   ]
  },
  {
   "cell_type": "markdown",
   "metadata": {},
   "source": [
    "Another common pattern simply maps a string key to a value.  If you were keeping an inventory of parts in a warehouse you might create a dictionary that maps part names to the number of parts in the warehouse:"
   ]
  },
  {
   "cell_type": "code",
   "execution_count": null,
   "metadata": {
    "collapsed": false
   },
   "outputs": [],
   "source": [
    "inventory = dict([('foozelator', 123), ('frombicator', 18), ('spatzleblock', 34), ('snitzelhogen', 23)])\n",
    "inventory"
   ]
  },
  {
   "cell_type": "markdown",
   "metadata": {},
   "source": [
    "(note another way of creating a dictionary here using the `dict` function with a list of tuples of `(key, value)` pairs).\n",
    "\n",
    "If a shipment comes in that gives you another frombicator, then you can add one to the frombicator entry:"
   ]
  },
  {
   "cell_type": "code",
   "execution_count": null,
   "metadata": {
    "collapsed": false
   },
   "outputs": [],
   "source": [
    "inventory['frombicator'] += 1\n",
    "inventory"
   ]
  },
  {
   "cell_type": "markdown",
   "metadata": {},
   "source": [
    "What Can be Keys?\n",
    "-----------------\n",
    "\n",
    "Values in dictionaries can be anything.  Keys, on the other hand, must be immutable (technically, they must be _hashable_, but to be hashable there must be something immutable that can be used to generate the hash).\n",
    "\n",
    "* Integers and strings are very common keys\n",
    "* Floats (or even complex) can be used, but aren't recommended because of round-off errors\n",
    "* Tuples and frozensets are also allowed for keys\n",
    "* Lists and dictionaries are *not* allowed for keys because they are mutable.\n",
    "\n",
    "To understand why floating point numbers are not good dictionary keys, consider the following example (you may want to refer back to the numbers lecture to understand what is happening here):"
   ]
  },
  {
   "cell_type": "code",
   "execution_count": null,
   "metadata": {
    "collapsed": false
   },
   "outputs": [],
   "source": [
    "data = {}\n",
    "data[1.1 + 2.2] = 6.6\n",
    "data[3.3]"
   ]
  },
  {
   "cell_type": "code",
   "execution_count": null,
   "metadata": {
    "collapsed": false
   },
   "outputs": [],
   "source": [
    "data"
   ]
  },
  {
   "cell_type": "markdown",
   "metadata": {},
   "source": [
    "Tuples as Keys\n",
    "--------------\n",
    "\n",
    "Using tuples as keys in a dictionary is a common strategy when you want to represent a directed graph with some sort of weighting on the edges.  \n",
    "\n",
    "For example, if the nodes are cities (say Austin, New York and Seattle) and the edges have weights given by the number of flights from one city to another.  This is a directed graph, because you will probably have a different value for the flights from Austin to New York compared to the number of flights from New York to Austin.\n",
    "\n",
    "One way of storing this data is with a dictionary of connections:"
   ]
  },
  {
   "cell_type": "code",
   "execution_count": null,
   "metadata": {
    "collapsed": false
   },
   "outputs": [],
   "source": [
    "connections = {}"
   ]
  },
  {
   "cell_type": "markdown",
   "metadata": {},
   "source": [
    "If we have a connection, say, _from_ New York _to_ Seattle with 100 flights, then we create an entry for that in the dictionary with key `('New York', 'Seattle')` and value 100:"
   ]
  },
  {
   "cell_type": "code",
   "execution_count": null,
   "metadata": {
    "collapsed": false
   },
   "outputs": [],
   "source": [
    "connections[('New York', 'Seattle')] = 100"
   ]
  },
  {
   "cell_type": "markdown",
   "metadata": {},
   "source": [
    "We might also have 200 flights from Austin to New York, but 400 flights from New York to Austin:"
   ]
  },
  {
   "cell_type": "code",
   "execution_count": null,
   "metadata": {
    "collapsed": false
   },
   "outputs": [],
   "source": [
    "connections[('Austin', 'New York')] = 200\n",
    "connections[('New York', 'Austin')] = 400"
   ]
  },
  {
   "cell_type": "markdown",
   "metadata": {},
   "source": [
    "So you can query the graph for New York to Austin:"
   ]
  },
  {
   "cell_type": "code",
   "execution_count": null,
   "metadata": {
    "collapsed": false
   },
   "outputs": [],
   "source": [
    "connections[('New York', 'Austin')]"
   ]
  },
  {
   "cell_type": "markdown",
   "metadata": {},
   "source": [
    "Or from Austin to New York:"
   ]
  },
  {
   "cell_type": "code",
   "execution_count": null,
   "metadata": {
    "collapsed": false
   },
   "outputs": [],
   "source": [
    "connections[('Austin', 'New York')]"
   ]
  },
  {
   "cell_type": "markdown",
   "metadata": {},
   "source": [
    "And they hold different values.\n",
    "\n",
    "Note that if you are seriously into graph theory you should look into the [NetworkX](http://networkx.github.io/) package, which is available from the Canopy package manager."
   ]
  },
  {
   "cell_type": "markdown",
   "metadata": {},
   "source": [
    "Copyright 2008-2016, Enthought, Inc.<br>Use only permitted under license.  Copying, sharing, redistributing or other unauthorized use strictly prohibited.<br>http://www.enthought.com"
   ]
  }
 ],
 "metadata": {
  "kernelspec": {
   "display_name": "Python 2",
   "language": "python",
   "name": "python2"
  },
  "language_info": {
   "codemirror_mode": {
    "name": "ipython",
    "version": 2
   },
   "file_extension": ".py",
   "mimetype": "text/x-python",
   "name": "python",
   "nbconvert_exporter": "python",
   "pygments_lexer": "ipython2",
   "version": "2.7.10"
  }
 },
 "nbformat": 4,
 "nbformat_minor": 0
}
