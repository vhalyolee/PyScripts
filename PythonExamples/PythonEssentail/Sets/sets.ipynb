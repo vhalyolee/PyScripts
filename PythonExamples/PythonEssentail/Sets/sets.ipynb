{
 "cells": [
  {
   "cell_type": "markdown",
   "metadata": {},
   "source": [
    "Sets\n",
    "====\n",
    "\n",
    "We've seen a number of data structures in the lecture so far, for example:\n",
    "\n",
    "* string: an ordered collection of characters (eg. `'hello'`), so there is a character at index 0 (`'h'`), a character at index 1 (`'e'`), and so on.\n",
    "* list: an ordered collection of anything (eg. `[1, 2, 3, 'a', 1]`), so there is a thing at index 0 (the number `1`), a thing at index 1 (the number `2`), and so on.\n",
    "\n",
    "Sets are collections as well, but unlike strings and lists, they are _unordered_.  You can think of them as a \"bag\" or mathematical set of objects, and so it doesn't make sense to talk about which item in the set is \"first\".\n",
    "\n",
    "If we were to create a set out of our example list `[1, 2, 3, 'a', 1]`, then we would get `1`, `2`, `3`, and `'a'`, but when we came to the second `1` we already have a `1` in the set and so we can't add it again.  So an additional distinction between sets and ordered collections like strings and lists is that you can't have duplicates in a set.\n",
    "\n",
    "There's one other critical distinction between sets and lists: things stored in sets must be immutable (or technically, hashable).  So you can put strings, numbers and tuples into sets, but not dictionaries or lists (since they are mutable).\n",
    "\n",
    "So a set is an _unordered_ collection of _unique_, _immutable_ objects.\n",
    "\n",
    "Constructing Sets\n",
    "-----------------\n",
    "\n",
    "You can create an empty set using the `set()` function:"
   ]
  },
  {
   "cell_type": "code",
   "execution_count": 3,
   "metadata": {
    "collapsed": false
   },
   "outputs": [
    {
     "data": {
      "text/plain": [
       "set()"
      ]
     },
     "execution_count": 3,
     "metadata": {},
     "output_type": "execute_result"
    }
   ],
   "source": [
    "s = set()\n",
    "s"
   ]
  },
  {
   "cell_type": "markdown",
   "metadata": {},
   "source": [
    "If you have an existing collection, like a list, you can use it to create a set in a similar way:"
   ]
  },
  {
   "cell_type": "code",
   "execution_count": 4,
   "metadata": {
    "collapsed": false
   },
   "outputs": [
    {
     "data": {
      "text/plain": [
       "{1, 2, 3}"
      ]
     },
     "execution_count": 4,
     "metadata": {},
     "output_type": "execute_result"
    }
   ],
   "source": [
    "t = set([1, 2, 3, 1])\n",
    "t"
   ]
  },
  {
   "cell_type": "markdown",
   "metadata": {},
   "source": [
    "Note that the duplicated 1 in the list is removed.  Also note that sets in Python are represented with braces (or curly brackets), similar in some ways to dictionaries, but dictionaries have _pairs_ of key and value for each item in the dictionary, while sets only have one value per entry.\n",
    "\n",
    "You can use braces to create a set as well:"
   ]
  },
  {
   "cell_type": "code",
   "execution_count": 5,
   "metadata": {
    "collapsed": false
   },
   "outputs": [
    {
     "data": {
      "text/plain": [
       "{1, 2, 3}"
      ]
     },
     "execution_count": 5,
     "metadata": {},
     "output_type": "execute_result"
    }
   ],
   "source": [
    "t = {1, 2, 3, 1}\n",
    "t"
   ]
  },
  {
   "cell_type": "markdown",
   "metadata": {},
   "source": [
    "but you have to be careful, because you can't create an empty set this way:"
   ]
  },
  {
   "cell_type": "code",
   "execution_count": 6,
   "metadata": {
    "collapsed": false
   },
   "outputs": [
    {
     "name": "stdout",
     "output_type": "stream",
     "text": [
      "{}\n"
     ]
    },
    {
     "data": {
      "text/plain": [
       "dict"
      ]
     },
     "execution_count": 6,
     "metadata": {},
     "output_type": "execute_result"
    }
   ],
   "source": [
    "s = {}\n",
    "print(s)\n",
    "type(s)"
   ]
  },
  {
   "cell_type": "markdown",
   "metadata": {},
   "source": [
    "The empty braces gives you a dictionary, rather than a set. There is some ambiguity in the meaning of `{}`, but dictionaries were introduced into Python long before sets were, so the default is to create a dictionary.\n",
    "\n",
    "So if you want an empty set, you have to use `set()`."
   ]
  },
  {
   "cell_type": "code",
   "execution_count": null,
   "metadata": {
    "collapsed": false
   },
   "outputs": [],
   "source": [
    "s = set()\n",
    "s"
   ]
  },
  {
   "cell_type": "markdown",
   "metadata": {},
   "source": [
    "Examples of Usage\n",
    "-----------------\n",
    "\n",
    "A very common use case for sets is as a convenient way of removing duplicates elements from a list.  For example, you might have a list of e-mails that you've got from people visiting your store or website:"
   ]
  },
  {
   "cell_type": "code",
   "execution_count": 8,
   "metadata": {
    "collapsed": false
   },
   "outputs": [],
   "source": [
    "email_list = ['joe@acme.com', 'sue@cooks.com', 'bud@plumbers.com',\n",
    "              'bugs@cartoon.com', 'betty@cartoon.com',\n",
    "              'joe@acme.com', 'bugs@cartoon.com']"
   ]
  },
  {
   "cell_type": "markdown",
   "metadata": {},
   "source": [
    "Note that Joe's e-mail is repeated twice.  You don't want to send the same e-mail twice to the same people, so you can remove the duplicates using `set()`:"
   ]
  },
  {
   "cell_type": "code",
   "execution_count": 9,
   "metadata": {
    "collapsed": false
   },
   "outputs": [
    {
     "data": {
      "text/plain": [
       "{'betty@cartoon.com',\n",
       " 'bud@plumbers.com',\n",
       " 'bugs@cartoon.com',\n",
       " 'joe@acme.com',\n",
       " 'sue@cooks.com'}"
      ]
     },
     "execution_count": 9,
     "metadata": {},
     "output_type": "execute_result"
    }
   ],
   "source": [
    "emails = set(email_list)\n",
    "emails"
   ]
  },
  {
   "cell_type": "markdown",
   "metadata": {},
   "source": [
    "Now if you imagine that there are multiple websites, you might want to combine the email lists for each site to create a single mailing list, or you might want to do an analysis where you work out which people visit multiple sites, or visit one site but not another one, and so on.\n",
    "\n",
    "It turns out that sets have some nice tools to do this sort of calculation easily, and we'll take a look at those in the next lecture."
   ]
  },
  {
   "cell_type": "markdown",
   "metadata": {},
   "source": [
    "Copyright 2008-2016, Enthought, Inc.<br>Use only permitted under license.  Copying, sharing, redistributing or other unauthorized use strictly prohibited.<br>http://www.enthought.com"
   ]
  }
 ],
 "metadata": {
  "kernelspec": {
   "display_name": "Python 2",
   "language": "python",
   "name": "python2"
  },
  "language_info": {
   "codemirror_mode": {
    "name": "ipython",
    "version": 2
   },
   "file_extension": ".py",
   "mimetype": "text/x-python",
   "name": "python",
   "nbconvert_exporter": "python",
   "pygments_lexer": "ipython2",
   "version": "2.7.11"
  }
 },
 "nbformat": 4,
 "nbformat_minor": 0
}
