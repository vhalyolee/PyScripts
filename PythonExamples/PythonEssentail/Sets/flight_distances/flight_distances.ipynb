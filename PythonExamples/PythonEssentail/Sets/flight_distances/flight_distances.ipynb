{
 "cells": [
  {
   "cell_type": "markdown",
   "metadata": {
    "canopy_exercise": {
     "cell_type": "question"
    }
   },
   "source": [
    "Flight Distances Exercise\n",
    "=========================\n",
    "\n",
    "Flying Circus Airlines flies between the following cities (with distances):\n",
    "\n",
    "<pre>\n",
    "    Atlanta-Chicago:                    590.0\n",
    "    Atlanta-Dallas:                     720.0\n",
    "    Atlanta-Houston:                    700.0\n",
    "    Atlanta-New York:                   750.0\n",
    "    Austin-Dallas:                      180.0\n",
    "    Austin-Houston:                     150.0\n",
    "    Boston-Chicago:                     850.0\n",
    "    Boston-Miami:                      1260.0\n",
    "    Boston-New York:                    190.0\n",
    "    Chicago-Denver:                     920.0\n",
    "    Chicago-Houston:                    940.0\n",
    "    Chicago-Los Angeles:               1740.0\n",
    "    Chicago-New York:                   710.0\n",
    "    Chicago-Seattle:                   1730.0\n",
    "    Dallas-Denver:                      660.0\n",
    "    Dallas-Los Angeles:                1240.0\n",
    "    Dallas-New York:                   1370.0\n",
    "    Denver-Los Angeles:                 830.0\n",
    "    Denver-New York:                   1630.0\n",
    "    Denver-Seattle:                    1020.0\n",
    "    Houston-Los Angeles:               1370.0\n",
    "    Houston-Miami:                      970.0\n",
    "    Houston-San Francisco:             1640.0\n",
    "    Los Angeles-New York:              2450.0\n",
    "    Los Angeles-San Francisco:          350.0\n",
    "    Los Angeles-Seattle:                960.0\n",
    "    Miami-New York:                    1090.0\n",
    "    New York-San Francisco:            2570.0\n",
    "    San Francisco-Seattle:              680.0\n",
    "</pre>\n",
    "\n",
    "We can represent this data in a dictionary mapping the pair of cities to the distance between them. Because the distance between cities isn't directional information, a set of the cities (without any order) seems like the right way to store the keys (pairs of cities). \n",
    "\n",
    "Question 1\n",
    "----------\n",
    "Do you remember why a regular set cannot be a key in a dictionary? We will therefore use frozen sets instead. Build a frozen set with Atlanta and Chicago and another one with Atlanta and Dallas. Make a dictionary called `flight_distances` mapping these sets to their distances (590 and 720 respectively)."
   ]
  },
  {
   "cell_type": "code",
   "execution_count": null,
   "metadata": {
    "canopy_exercise": {
     "cell_type": "student_solution"
    },
    "collapsed": true
   },
   "outputs": [],
   "source": [
    "# your code goes here"
   ]
  },
  {
   "cell_type": "markdown",
   "metadata": {
    "canopy_exercise": {
     "cell_type": "solution_button"
    }
   },
   "source": [
    "<div class=\"btn-group\"><button class=\"btn\" onclick=\"IPython.canopy_exercise.toggle_solution('1')\">Solution</button></div>"
   ]
  },
  {
   "cell_type": "code",
   "execution_count": null,
   "metadata": {
    "canopy_exercise": {
     "cell_type": "solution_view",
     "solution_number": "1"
    },
    "collapsed": false
   },
   "outputs": [],
   "source": [
    "# The answer to the qualitative question is that dictionary keys can only be hashable \n",
    "# objects, which in practice means immutable objects. Since sets are mutable (we can \n",
    "# add elements to or remove elements from them).\n",
    "\n",
    "flight_distances = {frozenset(['Atlanta', 'Chicago']): 590, \n",
    "                    frozenset(['Atlanta', 'Dallas']): 720}"
   ]
  },
  {
   "cell_type": "markdown",
   "metadata": {
    "canopy_exercise": {
     "cell_type": "question"
    }
   },
   "source": [
    "Question 2\n",
    "----------\n",
    "\n",
    "We have built for you the full dictionary `flight_distances`. Use it to print the distance from Seattle to Chicago."
   ]
  },
  {
   "cell_type": "code",
   "execution_count": null,
   "metadata": {
    "canopy_exercise": {
     "cell_type": "starting code"
    },
    "collapsed": false
   },
   "outputs": [],
   "source": [
    "flight_distances = {\n",
    "    frozenset(['Atlanta', 'Chicago']): 590.0,\n",
    "    frozenset(['Atlanta', 'Dallas']): 720.0,\n",
    "    frozenset(['Atlanta', 'Houston']): 700.0,\n",
    "    frozenset(['Atlanta', 'New York']): 750.0,\n",
    "    frozenset(['Austin', 'Dallas']): 180.0,\n",
    "    frozenset(['Austin', 'Houston']): 150.0,\n",
    "    frozenset(['Boston', 'Chicago']): 850.0,\n",
    "    frozenset(['Boston', 'Miami']): 1260.0,\n",
    "    frozenset(['Boston', 'New York']): 190.0,\n",
    "    frozenset(['Chicago', 'Denver']): 920.0,\n",
    "    frozenset(['Chicago', 'Houston']): 940.0,\n",
    "    frozenset(['Chicago', 'Los Angeles']): 1740.0,\n",
    "    frozenset(['Chicago', 'New York']): 710.0,\n",
    "    frozenset(['Chicago', 'Seattle']): 1730.0,\n",
    "    frozenset(['Dallas', 'Denver']): 660.0,\n",
    "    frozenset(['Dallas', 'Los Angeles']): 1240.0,\n",
    "    frozenset(['Dallas', 'New York']): 1370.0,\n",
    "    frozenset(['Denver', 'Los Angeles']): 830.0,\n",
    "    frozenset(['Denver', 'New York']): 1630.0,\n",
    "    frozenset(['Denver', 'Seattle']): 1020.0,\n",
    "    frozenset(['Houston', 'Los Angeles']): 1370.0,\n",
    "    frozenset(['Houston', 'Miami']): 970.0,\n",
    "    frozenset(['Houston', 'San Francisco']): 1640.0,\n",
    "    frozenset(['Los Angeles', 'New York']): 2450.0,\n",
    "    frozenset(['Los Angeles', 'San Francisco']): 350.0,\n",
    "    frozenset(['Los Angeles', 'Seattle']): 960.0,\n",
    "    frozenset(['Miami', 'New York']): 1090.0,\n",
    "    frozenset(['New York', 'San Francisco']): 2570.0,\n",
    "    frozenset(['San Francisco', 'Seattle']): 680.0,\n",
    "}"
   ]
  },
  {
   "cell_type": "code",
   "execution_count": null,
   "metadata": {
    "canopy_exercise": {
     "cell_type": "student_solution"
    },
    "collapsed": true
   },
   "outputs": [],
   "source": [
    "# your code goes here"
   ]
  },
  {
   "cell_type": "markdown",
   "metadata": {
    "canopy_exercise": {
     "cell_type": "solution_button"
    }
   },
   "source": [
    "<div class=\"btn-group\"><button class=\"btn\" onclick=\"IPython.canopy_exercise.toggle_solution('3')\">Solution</button></div>"
   ]
  },
  {
   "cell_type": "code",
   "execution_count": null,
   "metadata": {
    "canopy_exercise": {
     "cell_type": "solution_view",
     "solution_number": "3"
    },
    "collapsed": false
   },
   "outputs": [],
   "source": [
    "print flight_distances[frozenset([\"Seattle\", \"Chicago\"])]"
   ]
  },
  {
   "cell_type": "markdown",
   "metadata": {
    "canopy_exercise": {
     "cell_type": "question"
    }
   },
   "source": [
    "Question 3\n",
    "----------\n",
    "\n",
    "Compute the total distance flying from Austin to Houston to San Francisco and compare it to the distance if you fly Austin to Dallas to Los Angeles to San Francisco."
   ]
  },
  {
   "cell_type": "code",
   "execution_count": null,
   "metadata": {
    "canopy_exercise": {
     "cell_type": "student_solution"
    },
    "collapsed": true
   },
   "outputs": [],
   "source": [
    "# your code goes here"
   ]
  },
  {
   "cell_type": "markdown",
   "metadata": {
    "canopy_exercise": {
     "cell_type": "solution_button"
    }
   },
   "source": [
    "<div class=\"btn-group\"><button class=\"btn\" onclick=\"IPython.canopy_exercise.toggle_solution('4')\">Solution</button></div>"
   ]
  },
  {
   "cell_type": "code",
   "execution_count": null,
   "metadata": {
    "canopy_exercise": {
     "cell_type": "solution_view",
     "solution_number": "4"
    },
    "collapsed": false
   },
   "outputs": [],
   "source": [
    "route_1 = (flight_distances[frozenset([\"Austin\", \"Houston\"])] +\n",
    "      flight_distances[frozenset([\"Houston\", \"San Francisco\"])])\n",
    "route_2 = (flight_distances[frozenset([\"Austin\", \"Dallas\"])] +\n",
    "      flight_distances[frozenset([\"Dallas\", \"Los Angeles\"])] +\n",
    "      flight_distances[frozenset([\"Los Angeles\", \"San Francisco\"])])\n",
    "print \"Route 1:\", route_1\n",
    "print \"Route 2:\", route_2"
   ]
  },
  {
   "cell_type": "markdown",
   "metadata": {
    "canopy_exercise": {
     "cell_type": "question"
    }
   },
   "source": [
    "Question 4\n",
    "----------\n",
    "\n",
    "Flying Circus Airlines adds a direct flight between Austin and San Francisco, which is 1500 miles.  Update the flight distances data structure to reflect this. "
   ]
  },
  {
   "cell_type": "code",
   "execution_count": null,
   "metadata": {
    "canopy_exercise": {
     "cell_type": "student_solution"
    },
    "collapsed": true
   },
   "outputs": [],
   "source": [
    "# your code goes here"
   ]
  },
  {
   "cell_type": "markdown",
   "metadata": {
    "canopy_exercise": {
     "cell_type": "solution_button"
    }
   },
   "source": [
    "<div class=\"btn-group\"><button class=\"btn\" onclick=\"IPython.canopy_exercise.toggle_solution('5')\">Solution</button></div>"
   ]
  },
  {
   "cell_type": "code",
   "execution_count": null,
   "metadata": {
    "canopy_exercise": {
     "cell_type": "solution_view",
     "solution_number": "5"
    },
    "collapsed": false
   },
   "outputs": [],
   "source": [
    "flight_distances[frozenset(['Austin', 'San Francisco'])] = 1500"
   ]
  },
  {
   "cell_type": "markdown",
   "metadata": {
    "canopy_exercise": {
     "cell_type": "question"
    }
   },
   "source": [
    "Question 5\n",
    "----------\n",
    "\n",
    "Flying Circus Airlines cancels the service from Boston to Miami.  Remove it from the flight distances."
   ]
  },
  {
   "cell_type": "code",
   "execution_count": null,
   "metadata": {
    "canopy_exercise": {
     "cell_type": "student_solution"
    },
    "collapsed": true
   },
   "outputs": [],
   "source": [
    "# your code goes here"
   ]
  },
  {
   "cell_type": "markdown",
   "metadata": {
    "canopy_exercise": {
     "cell_type": "solution_button"
    }
   },
   "source": [
    "<div class=\"btn-group\"><button class=\"btn\" onclick=\"IPython.canopy_exercise.toggle_solution('6')\">Solution</button></div>"
   ]
  },
  {
   "cell_type": "code",
   "execution_count": null,
   "metadata": {
    "canopy_exercise": {
     "cell_type": "solution_view",
     "solution_number": "6"
    },
    "collapsed": false
   },
   "outputs": [],
   "source": [
    "del flight_distances[frozenset(['Boston', 'Miami'])]"
   ]
  },
  {
   "cell_type": "markdown",
   "metadata": {
    "canopy_exercise": {
     "cell_type": "question"
    }
   },
   "source": [
    "Question 6\n",
    "----------\n",
    "\n",
    "Below, we have built for you the list of cities that Flying Circus Airlines reaches. (The question `Bonus 1` after this one will get you to build it yourself if you know about looping.) Another company, SouthBy Airlines, flies to the second list of cities given below. The CEO of SouthBy is trying to evaluate if it makes sense to buy Flying Circus Airlines. <br>\n",
    "1. How many cities would be covered if both companies decided to merge? <br>\n",
    "2. Is Flying Circus Airlines bringing any new cities to the table? <br>\n",
    "3. To see if Flying Circus share holders will approve the merger, list the cities that are currently not covered by them and that would be covered by the merged company.<br>\n",
    "4. To evaluate the efficiency of the future merger, compute how many cities are reached by only one of the 2 companies currently."
   ]
  },
  {
   "cell_type": "code",
   "execution_count": null,
   "metadata": {
    "canopy_exercise": {
     "cell_type": "starting code"
    },
    "collapsed": false
   },
   "outputs": [],
   "source": [
    "flying_circus_cities = ['Houston', 'Chicago', 'Miami', 'Boston', 'Dallas', 'Denver', 'New York', \n",
    "                        'Los Angeles', 'San Francisco', 'Atlanta', 'Seattle', 'Austin']\n",
    "southby_cities = ['Chicago',  'Los Angeles', 'New York', 'Boston', 'Orlando', 'Dallas', \n",
    "                  'Toronto', 'Denver', 'Miami', 'San Francisco', 'Houston', 'Atlanta', 'Seattle', \n",
    "                  'Vancouver']"
   ]
  },
  {
   "cell_type": "code",
   "execution_count": null,
   "metadata": {
    "canopy_exercise": {
     "cell_type": "student_solution"
    },
    "collapsed": true
   },
   "outputs": [],
   "source": [
    "# your code goes here"
   ]
  },
  {
   "cell_type": "markdown",
   "metadata": {
    "canopy_exercise": {
     "cell_type": "solution_button"
    }
   },
   "source": [
    "<div class=\"btn-group\"><button class=\"btn\" onclick=\"IPython.canopy_exercise.toggle_solution('8')\">Solution</button></div>"
   ]
  },
  {
   "cell_type": "code",
   "execution_count": null,
   "metadata": {
    "canopy_exercise": {
     "cell_type": "solution_view",
     "solution_number": "8"
    },
    "collapsed": false
   },
   "outputs": [],
   "source": [
    "# 1\n",
    "merger_cities = set(flying_circus_cities)\n",
    "merger_cities.update(southby_cities)\n",
    "print \"Number of cities that would be reached by the merger:\", len(merger_cities)\n",
    "# 2\n",
    "print \"Cities that Flying Circus is contributing to the merger:\", set(flying_circus_cities) - set(southby_cities)\n",
    "# 3\n",
    "print \"Cities that Flying Circus doesn't reach that the merger will:\", set(southby_cities) - set(flying_circus_cities)\n",
    "# 4. That is what the symmetric difference provides: the list of elements in one of the sets but not both:\n",
    "print \"Number of cities reached once:\", len(set(flying_circus_cities) ^ set(southby_cities))\n",
    "# We could also have computed it in various other ways, such as \n",
    "print \"Number of cities reached once:\", len(merger_cities) - len(set(flying_circus_cities) & set(southby_cities))"
   ]
  },
  {
   "cell_type": "markdown",
   "metadata": {
    "canopy_exercise": {
     "cell_type": "question"
    }
   },
   "source": [
    "You will need to be familiar with loops and functions to do the remaining bonus questions.\n",
    "\n",
    "Bonus 1\n",
    "-------\n",
    "\n",
    "Build the set of cities that Flying Circus Airlines flies to programatically. You should have a set containing exactly the cities listed in flying_circus_cities above."
   ]
  },
  {
   "cell_type": "markdown",
   "metadata": {
    "canopy_exercise": {
     "cell_type": "hint_button"
    }
   },
   "source": [
    "<div class=\"btn-group\"><button class=\"btn\" onclick=\"IPython.canopy_exercise.toggle_hint('15')\">Hint</button></div>"
   ]
  },
  {
   "cell_type": "markdown",
   "metadata": {
    "canopy_exercise": {
     "cell_type": "hint_view",
     "hint_number": "15"
    }
   },
   "source": [
    "Use a `for` loop over the keys of the dictionary above and the union operation on sets to build that set. "
   ]
  },
  {
   "cell_type": "code",
   "execution_count": null,
   "metadata": {
    "canopy_exercise": {
     "cell_type": "student_solution"
    },
    "collapsed": true
   },
   "outputs": [],
   "source": [
    "# your code goes here"
   ]
  },
  {
   "cell_type": "markdown",
   "metadata": {
    "canopy_exercise": {
     "cell_type": "solution_button"
    }
   },
   "source": [
    "<div class=\"btn-group\"><button class=\"btn\" onclick=\"IPython.canopy_exercise.toggle_solution('10')\">Solution</button></div>"
   ]
  },
  {
   "cell_type": "code",
   "execution_count": null,
   "metadata": {
    "canopy_exercise": {
     "cell_type": "solution_view",
     "solution_number": "10"
    },
    "collapsed": false
   },
   "outputs": [],
   "source": [
    "cities = set()\n",
    "for pair in flight_distances:\n",
    "    cities = cities.union(pair) \n",
    "    # A more compact way to do the same is cities |= pair\n",
    "print cities\n",
    "print \"Sanity check:\", cities == set(flying_circus_cities)"
   ]
  },
  {
   "cell_type": "markdown",
   "metadata": {
    "canopy_exercise": {
     "cell_type": "question"
    }
   },
   "source": [
    "Bonus 3\n",
    "-------\n",
    "\n",
    "Write a function that takes a list of cities that are directly connected, and computes the total distance to fly between those cities:\n",
    "\n",
    "    def total_distance(city_list):\n",
    "        ..."
   ]
  },
  {
   "cell_type": "code",
   "execution_count": null,
   "metadata": {
    "canopy_exercise": {
     "cell_type": "student_solution"
    },
    "collapsed": true
   },
   "outputs": [],
   "source": [
    "# your code goes here"
   ]
  },
  {
   "cell_type": "markdown",
   "metadata": {
    "canopy_exercise": {
     "cell_type": "solution_button"
    }
   },
   "source": [
    "<div class=\"btn-group\"><button class=\"btn\" onclick=\"IPython.canopy_exercise.toggle_solution('11')\">Solution</button></div>"
   ]
  },
  {
   "cell_type": "code",
   "execution_count": null,
   "metadata": {
    "canopy_exercise": {
     "cell_type": "solution_view",
     "solution_number": "11"
    },
    "collapsed": false
   },
   "outputs": [],
   "source": [
    "# The most straightforward way to build that distance\n",
    "def total_distance(cities):\n",
    "    distance = 0\n",
    "    from_city = cities[0]\n",
    "    for to_city in cities[1:]:\n",
    "        distance += flight_distances[frozenset([from_city, to_city])]\n",
    "        from_city = to_city\n",
    "    return distance"
   ]
  },
  {
   "cell_type": "code",
   "execution_count": null,
   "metadata": {
    "canopy_exercise": {
     "cell_type": "solution_view",
     "solution_number": "11"
    },
    "collapsed": false
   },
   "outputs": [],
   "source": [
    "# A slicker way of doing it would build all start cities and all end cities from the list using slicing\n",
    "def total_distance(cities):\n",
    "    distance = 0\n",
    "    for pair in zip(cities[:-1], cities[1:]):\n",
    "        distance += flight_distances[frozenset(pair)]\n",
    "    return distance\n",
    "\n",
    "# This even slicker solution replaces the for loop above by the sum function\n",
    "def total_distance(cities):\n",
    "    return sum(flight_distances[frozenset(pair)]\n",
    "               for pair in zip(cities[:-1], cities[1:]))"
   ]
  },
  {
   "cell_type": "code",
   "execution_count": null,
   "metadata": {
    "canopy_exercise": {
     "cell_type": "starting code"
    },
    "collapsed": false
   },
   "outputs": [],
   "source": [
    "print total_distance([\"Austin\", \"Houston\", \"San Francisco\"])\n",
    "print total_distance([\"Austin\", \"Dallas\", \"Los Angeles\", \"San Francisco\"])"
   ]
  },
  {
   "cell_type": "markdown",
   "metadata": {
    "canopy_exercise": {
     "cell_type": "question"
    }
   },
   "source": [
    "Copyright 2008-2016, Enthought, Inc.  \n",
    "Use only permitted under license.  Copying, sharing, redistributing or other unauthorized use strictly prohibited.  \n",
    "http://www.enthought.com"
   ]
  }
 ],
 "metadata": {
  "canopy_exercise": {
   "__metadata_version__": 1
  },
  "kernelspec": {
   "display_name": "Python 2",
   "language": "python",
   "name": "python2"
  },
  "language_info": {
   "codemirror_mode": {
    "name": "ipython",
    "version": 2
   },
   "file_extension": ".py",
   "mimetype": "text/x-python",
   "name": "python",
   "nbconvert_exporter": "python",
   "pygments_lexer": "ipython2",
   "version": "2.7.10"
  }
 },
 "nbformat": 4,
 "nbformat_minor": 0
}
