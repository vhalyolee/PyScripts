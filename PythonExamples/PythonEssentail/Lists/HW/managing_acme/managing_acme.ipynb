{
 "cells": [
  {
   "cell_type": "markdown",
   "metadata": {
    "canopy_exercise": {
     "cell_type": "question"
    }
   },
   "source": [
    "Managing ACME\n",
    "=============\n",
    "\n",
    "Question 1\n",
    "----------\n",
    "We are now (badly) managing the employees of a new startup called [ACME Corp.](http://en.wikipedia.org/wiki/Acme_Corporation), which has locations in Taos, Phoenix, Santa Fe, and Flagstaff. The employees of this company have the following email addresses (by order of arrival date in the company):\n",
    "<pre>\n",
    "\"Wile.E.Coyote@acme.com\", \n",
    "\"Looney.Tunes@acme.com\", \n",
    "\"Chuck.Jones@acme.com\", \n",
    "\"Road.Runner@acme.com\", \n",
    "\"Michael.Maltese@acme.com\",\n",
    "\"Speedy.Gonzales@acme.com\",\n",
    "\"Calamity.Coyote@acme.com\",\n",
    "\"Bugs.Bunny@texavery.com\"\n",
    "</pre>\n",
    "\n",
    "Copy these 8 emails into a list called `employee_emails`. Also create a list of employee IDs from 0 to 7 without writing each ID manually (let's assume that we will reuse your code once ACME's products finally start to work and sell and the company becomes huge). "
   ]
  },
  {
   "cell_type": "code",
   "execution_count": null,
   "metadata": {
    "canopy_exercise": {
     "cell_type": "student_solution"
    },
    "collapsed": true
   },
   "outputs": [],
   "source": [
    "# your code goes here"
   ]
  },
  {
   "cell_type": "markdown",
   "metadata": {
    "canopy_exercise": {
     "cell_type": "solution_button"
    }
   },
   "source": [
    "<div class=\"btn-group\"><button class=\"btn\" onclick=\"IPython.canopy_exercise.toggle_solution('1')\">Solution</button></div>"
   ]
  },
  {
   "cell_type": "code",
   "execution_count": null,
   "metadata": {
    "canopy_exercise": {
     "cell_type": "solution_view",
     "solution_number": "1"
    },
    "collapsed": false
   },
   "outputs": [],
   "source": [
    "employee_emails = [\"Wile.E.Coyote@acme.com\", \n",
    "                   \"Looney.Tunes@acme.com\", \n",
    "                   \"Chuck.Jones@acme.com\", \n",
    "                   \"Road.Runner@acme.com\", \n",
    "                   \"Michael.Maltese@acme.com\", \n",
    "                   \"Speedy.Gonzales@acme.com\",\n",
    "                   \"Calamity.Coyote@acme.com\", \n",
    "                   \"Bugs.Bunny@texavery.com\"]\n",
    "employee_ids = range(8)"
   ]
  },
  {
   "cell_type": "markdown",
   "metadata": {
    "canopy_exercise": {
     "cell_type": "question"
    }
   },
   "source": [
    "Question 2\n",
    "----------\n",
    "A new employee, number 8, is joining the company: \"Acceleratti incredibilis\". Add his email address to the list. Update the employee_ids list."
   ]
  },
  {
   "cell_type": "code",
   "execution_count": null,
   "metadata": {
    "canopy_exercise": {
     "cell_type": "student_solution"
    },
    "collapsed": true
   },
   "outputs": [],
   "source": [
    "# your code goes here"
   ]
  },
  {
   "cell_type": "markdown",
   "metadata": {
    "canopy_exercise": {
     "cell_type": "solution_button"
    }
   },
   "source": [
    "<div class=\"btn-group\"><button class=\"btn\" onclick=\"IPython.canopy_exercise.toggle_solution('2')\">Solution</button></div>"
   ]
  },
  {
   "cell_type": "code",
   "execution_count": null,
   "metadata": {
    "canopy_exercise": {
     "cell_type": "solution_view",
     "solution_number": "2"
    },
    "collapsed": false
   },
   "outputs": [],
   "source": [
    "employee_emails.append(\"Acceleratti.incredibilis@acme.com\")\n",
    "employee_ids.append(8)"
   ]
  },
  {
   "cell_type": "markdown",
   "metadata": {
    "canopy_exercise": {
     "cell_type": "question"
    }
   },
   "source": [
    "Question 3\n",
    "----------\n",
    "Suprisingly, one of ACME's products, the \"Earthquake Pills\" work remarkably well and were developed surprisingly fast. Pull up the emails for the team responsible for them, that is employees with IDs 2, 3, 4 and 5. This can be done using slicing."
   ]
  },
  {
   "cell_type": "code",
   "execution_count": null,
   "metadata": {
    "canopy_exercise": {
     "cell_type": "student_solution"
    },
    "collapsed": true
   },
   "outputs": [],
   "source": [
    "# your code goes here"
   ]
  },
  {
   "cell_type": "markdown",
   "metadata": {
    "canopy_exercise": {
     "cell_type": "solution_button"
    }
   },
   "source": [
    "<div class=\"btn-group\"><button class=\"btn\" onclick=\"IPython.canopy_exercise.toggle_solution('3')\">Solution</button></div>"
   ]
  },
  {
   "cell_type": "code",
   "execution_count": null,
   "metadata": {
    "canopy_exercise": {
     "cell_type": "solution_view",
     "solution_number": "3"
    },
    "collapsed": false
   },
   "outputs": [],
   "source": [
    "print employee_emails[2:6]"
   ]
  },
  {
   "cell_type": "markdown",
   "metadata": {
    "canopy_exercise": {
     "cell_type": "question"
    }
   },
   "source": [
    "Question 4\n",
    "----------\n",
    "Despite the Earthquake Pills, this year, the poor financial results of the company only allow to pay bonuses to every other employee (starting with employee 0). Using slicing, pull up their email addresses to announce the good news to them. (Once we learn about NumPy and SciPy, we will learn to select employees based on their performances rather than arrival dates!)"
   ]
  },
  {
   "cell_type": "code",
   "execution_count": null,
   "metadata": {
    "canopy_exercise": {
     "cell_type": "student_solution"
    },
    "collapsed": true
   },
   "outputs": [],
   "source": [
    "# your code goes here"
   ]
  },
  {
   "cell_type": "markdown",
   "metadata": {
    "canopy_exercise": {
     "cell_type": "solution_button"
    }
   },
   "source": [
    "<div class=\"btn-group\"><button class=\"btn\" onclick=\"IPython.canopy_exercise.toggle_solution('4')\">Solution</button></div>"
   ]
  },
  {
   "cell_type": "code",
   "execution_count": null,
   "metadata": {
    "canopy_exercise": {
     "cell_type": "solution_view",
     "solution_number": "4"
    },
    "collapsed": false
   },
   "outputs": [],
   "source": [
    "print employee_emails[::2]"
   ]
  },
  {
   "cell_type": "markdown",
   "metadata": {
    "canopy_exercise": {
     "cell_type": "question"
    }
   },
   "source": [
    "Question 5\n",
    "----------\n",
    "If fact the following year, the company is doing even worse. Mad not to have had a bonus the year before the Looney Tunes decides to spin off half the company to create a new one with employees with odd IDs, except that Bugs Bunny guy (employee 7), because he doesn't really belong here... Pull up their emails to send them a secret message."
   ]
  },
  {
   "cell_type": "markdown",
   "metadata": {
    "canopy_exercise": {
     "cell_type": "hint_button"
    }
   },
   "source": [
    "<div class=\"btn-group\"><button class=\"btn\" onclick=\"IPython.canopy_exercise.toggle_hint('9')\">Hint</button></div>"
   ]
  },
  {
   "cell_type": "markdown",
   "metadata": {
    "canopy_exercise": {
     "cell_type": "hint_view",
     "hint_number": "9"
    }
   },
   "source": [
    "Again slicing could help here since we can extract every other element with it. Could we change the start point to grab the other set of every other employee?"
   ]
  },
  {
   "cell_type": "code",
   "execution_count": null,
   "metadata": {
    "canopy_exercise": {
     "cell_type": "student_solution"
    },
    "collapsed": true
   },
   "outputs": [],
   "source": [
    "# your code goes here"
   ]
  },
  {
   "cell_type": "markdown",
   "metadata": {
    "canopy_exercise": {
     "cell_type": "solution_button"
    }
   },
   "source": [
    "<div class=\"btn-group\"><button class=\"btn\" onclick=\"IPython.canopy_exercise.toggle_solution('6')\">Solution</button></div>"
   ]
  },
  {
   "cell_type": "code",
   "execution_count": null,
   "metadata": {
    "canopy_exercise": {
     "cell_type": "solution_view",
     "solution_number": "6"
    },
    "collapsed": false
   },
   "outputs": [],
   "source": [
    "# The odd employees (no pun intended) can be collected by selecting a slice \n",
    "# that has a step of 2 and a start of 1 instead of starting from the beginning.\n",
    "employee_emails[1:7:2]"
   ]
  },
  {
   "cell_type": "markdown",
   "metadata": {
    "canopy_exercise": {
     "cell_type": "question"
    }
   },
   "source": [
    "Question 6\n",
    "----------\n",
    "His communication was intercepted: Looney Tunes is fired. Remove him from the list of employees. Remove his employee ID as well. "
   ]
  },
  {
   "cell_type": "code",
   "execution_count": null,
   "metadata": {
    "canopy_exercise": {
     "cell_type": "student_solution"
    },
    "collapsed": true
   },
   "outputs": [],
   "source": [
    "# your code goes here"
   ]
  },
  {
   "cell_type": "markdown",
   "metadata": {
    "canopy_exercise": {
     "cell_type": "solution_button"
    }
   },
   "source": [
    "<div class=\"btn-group\"><button class=\"btn\" onclick=\"IPython.canopy_exercise.toggle_solution('7')\">Solution</button></div>"
   ]
  },
  {
   "cell_type": "code",
   "execution_count": null,
   "metadata": {
    "canopy_exercise": {
     "cell_type": "solution_view",
     "solution_number": "7"
    },
    "collapsed": false
   },
   "outputs": [],
   "source": [
    "# We can remove values using either the remove or the pop methods. \n",
    "employee_emails.remove('Looney.Tunes@acme.com')\n",
    "employee_ids.pop(1)"
   ]
  },
  {
   "cell_type": "markdown",
   "metadata": {
    "canopy_exercise": {
     "cell_type": "question"
    }
   },
   "source": [
    "Question 7\n",
    "----------\n",
    "Capture the list of locations of the company in a list (ordered by importance): \"Taos\", \"Phoenix\", \"Santa Fe\", and \"Flagstaff\". Considering the management issues in ACME, it is decided to reverse the order of these locations, and move the headquarters to Flagstaff. Update the list of locations."
   ]
  },
  {
   "cell_type": "code",
   "execution_count": null,
   "metadata": {
    "canopy_exercise": {
     "cell_type": "student_solution"
    },
    "collapsed": true
   },
   "outputs": [],
   "source": [
    "# your code goes here"
   ]
  },
  {
   "cell_type": "markdown",
   "metadata": {
    "canopy_exercise": {
     "cell_type": "solution_button"
    }
   },
   "source": [
    "<div class=\"btn-group\"><button class=\"btn\" onclick=\"IPython.canopy_exercise.toggle_solution('8')\">Solution</button></div>"
   ]
  },
  {
   "cell_type": "code",
   "execution_count": null,
   "metadata": {
    "canopy_exercise": {
     "cell_type": "solution_view",
     "solution_number": "8"
    },
    "collapsed": false
   },
   "outputs": [],
   "source": [
    "acme_locations = [\"Taos\", \"Phoenix\", \"Santa Fe\", \"Flagstaff\"]\n",
    "# Remember that reverse is an inplace operation so \n",
    "# acme_locations = acme_locations.reverse()\n",
    "# would give surprising results. Try it out if you want and check the value of \n",
    "# acme_locations. We will understand that once we learn about functions. \n",
    "acme_locations.reverse()\n",
    "print acme_locations"
   ]
  },
  {
   "cell_type": "markdown",
   "metadata": {
    "canopy_exercise": {
     "cell_type": "question"
    }
   },
   "source": [
    "Question 8\n",
    "----------\n",
    "The Boss ends up missing the nice skiing in Taos, and decides to reverse the location order again. The challenge here is to reverse the order without using the reverse method."
   ]
  },
  {
   "cell_type": "markdown",
   "metadata": {
    "canopy_exercise": {
     "cell_type": "hint_button"
    }
   },
   "source": [
    "<div class=\"btn-group\"><button class=\"btn\" onclick=\"IPython.canopy_exercise.toggle_hint('15')\">Hint</button></div>"
   ]
  },
  {
   "cell_type": "markdown",
   "metadata": {
    "canopy_exercise": {
     "cell_type": "hint_view",
     "hint_number": "15"
    }
   },
   "source": [
    "Slicing could help..."
   ]
  },
  {
   "cell_type": "code",
   "execution_count": null,
   "metadata": {
    "canopy_exercise": {
     "cell_type": "student_solution"
    },
    "collapsed": true
   },
   "outputs": [],
   "source": [
    "# your code goes here"
   ]
  },
  {
   "cell_type": "markdown",
   "metadata": {
    "canopy_exercise": {
     "cell_type": "solution_button"
    }
   },
   "source": [
    "<div class=\"btn-group\"><button class=\"btn\" onclick=\"IPython.canopy_exercise.toggle_solution('10')\">Solution</button></div>"
   ]
  },
  {
   "cell_type": "code",
   "execution_count": null,
   "metadata": {
    "canopy_exercise": {
     "cell_type": "solution_view",
     "solution_number": "10"
    },
    "collapsed": false
   },
   "outputs": [],
   "source": [
    "# Slicing can help here because the step can be negative: -1 goes backwards though the list.\n",
    "acme_locations = acme_locations[::-1]\n",
    "print acme_locations"
   ]
  },
  {
   "cell_type": "markdown",
   "metadata": {
    "canopy_exercise": {
     "cell_type": "question"
    }
   },
   "source": [
    "Copyright 2008-2016, Enthought, Inc.  \n",
    "Use only permitted under license.  Copying, sharing, redistributing or other unauthorized use strictly prohibited.  \n",
    "http://www.enthought.com"
   ]
  }
 ],
 "metadata": {
  "canopy_exercise": {
   "__metadata_version__": 1
  },
  "description": "",
  "difficulty": "simple",
  "duration": "short",
  "exercise_number": 2,
  "export_allowed": true,
  "flavor": "general",
  "kernelspec": {
   "display_name": "Python 2",
   "language": "python",
   "name": "python2"
  },
  "language_info": {
   "codemirror_mode": {
    "name": "ipython",
    "version": 2
   },
   "file_extension": ".py",
   "mimetype": "text/x-python",
   "name": "python",
   "nbconvert_exporter": "python",
   "pygments_lexer": "ipython2",
   "version": "2.7.10"
  },
  "level": "fluency",
  "module": "PyFund_list",
  "pre_requisites": [
   "PyFund_list",
   "header"
  ],
  "programming_goals": [],
  "python_goals": [
   "list creation",
   "range",
   "slicing"
  ]
 },
 "nbformat": 4,
 "nbformat_minor": 0
}
