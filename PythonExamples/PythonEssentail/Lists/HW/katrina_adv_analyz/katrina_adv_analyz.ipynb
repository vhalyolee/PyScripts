{
 "cells": [
  {
   "cell_type": "markdown",
   "metadata": {
    "canopy_exercise": {
     "cell_type": "question"
    }
   },
   "source": [
    "Katrina Advisory Analysis\n",
    "=========================\n",
    "\n",
    "We will keep analyzing the Katrina advisory report following the exercise from the string lecture where we computed a priority alert. Let's analyze it further by computing the number of words and paragraphs, and extracting its metadata. Let's assume that this is useful to know if our application will be able to post it on Twitter or send it by text messages or if other means of communication are needed.\n",
    "\n",
    "Again, we will load the content of the advisory for you since we haven't seen how to read files yet."
   ]
  },
  {
   "cell_type": "code",
   "execution_count": null,
   "metadata": {
    "canopy_exercise": {
     "cell_type": "starting code"
    },
    "collapsed": false
   },
   "outputs": [],
   "source": [
    "f = open(\"katrina_advisory.txt\")\n",
    "text = f.read()\n",
    "f.close()\n",
    "print 'Content of \"katrina_advisory.txt\"'\n",
    "print '-' * 51\n",
    "print\n",
    "print text"
   ]
  },
  {
   "cell_type": "markdown",
   "metadata": {
    "canopy_exercise": {
     "cell_type": "question"
    }
   },
   "source": [
    "Question 1\n",
    "----------\n",
    "\n",
    "Count the number of paragraphs in the text (2 paragraphs are delimited by a blank line). Print the result using  formating to obtain \"The number of paragraphs is 12.\"."
   ]
  },
  {
   "cell_type": "markdown",
   "metadata": {
    "canopy_exercise": {
     "cell_type": "hint_button"
    }
   },
   "source": [
    "<div class=\"btn-group\"><button class=\"btn\" onclick=\"IPython.canopy_exercise.toggle_hint('3')\">Hint</button></div>"
   ]
  },
  {
   "cell_type": "markdown",
   "metadata": {
    "canopy_exercise": {
     "cell_type": "hint_view",
     "hint_number": "3"
    }
   },
   "source": [
    "Paragraphs are delimited by the string \"\\n\\n\""
   ]
  },
  {
   "cell_type": "code",
   "execution_count": null,
   "metadata": {
    "canopy_exercise": {
     "cell_type": "student_solution"
    },
    "collapsed": true
   },
   "outputs": [],
   "source": [
    "# your code goes here"
   ]
  },
  {
   "cell_type": "markdown",
   "metadata": {
    "canopy_exercise": {
     "cell_type": "solution_button"
    }
   },
   "source": [
    "<div class=\"btn-group\"><button class=\"btn\" onclick=\"IPython.canopy_exercise.toggle_solution('4')\">Solution</button></div>"
   ]
  },
  {
   "cell_type": "code",
   "execution_count": null,
   "metadata": {
    "canopy_exercise": {
     "cell_type": "solution_view",
     "solution_number": "4"
    },
    "collapsed": false
   },
   "outputs": [],
   "source": [
    "paragraphs = text.split(\"\\n\\n\")\n",
    "print(\"The number of paragraphs is {0}.\".format(len(paragraphs)))"
   ]
  },
  {
   "cell_type": "markdown",
   "metadata": {
    "canopy_exercise": {
     "cell_type": "question"
    }
   },
   "source": [
    "Question 2\n",
    "----------\n",
    "\n",
    "Count the number of lines of text. This can be done without the need for a for loop, though a loop is an acceptable solution if you know how to implement it."
   ]
  },
  {
   "cell_type": "markdown",
   "metadata": {
    "canopy_exercise": {
     "cell_type": "hint_button"
    }
   },
   "source": [
    "<div class=\"btn-group\"><button class=\"btn\" onclick=\"IPython.canopy_exercise.toggle_hint('5')\">Hint</button></div>"
   ]
  },
  {
   "cell_type": "markdown",
   "metadata": {
    "canopy_exercise": {
     "cell_type": "hint_view",
     "hint_number": "5"
    }
   },
   "source": [
    "How can we get a list of lines from the content of the file? Count the number of lines total. Count the number of empty lines. The result is 34."
   ]
  },
  {
   "cell_type": "code",
   "execution_count": null,
   "metadata": {
    "canopy_exercise": {
     "cell_type": "student_solution"
    },
    "collapsed": true
   },
   "outputs": [],
   "source": [
    "# your code goes here"
   ]
  },
  {
   "cell_type": "markdown",
   "metadata": {
    "canopy_exercise": {
     "cell_type": "solution_button"
    }
   },
   "source": [
    "<div class=\"btn-group\"><button class=\"btn\" onclick=\"IPython.canopy_exercise.toggle_solution('6')\">Solution</button></div>"
   ]
  },
  {
   "cell_type": "code",
   "execution_count": null,
   "metadata": {
    "canopy_exercise": {
     "cell_type": "solution_view",
     "solution_number": "6"
    },
    "collapsed": false
   },
   "outputs": [],
   "source": [
    "lines = text.split(\"\\n\")\n",
    "non_empty_lines = len(lines) - lines.count(\"\")\n",
    "print(\"There are %s lines in total, %s of which are not empty.\" \n",
    "      % (len(lines), non_empty_lines))"
   ]
  },
  {
   "cell_type": "markdown",
   "metadata": {
    "canopy_exercise": {
     "cell_type": "question"
    }
   },
   "source": [
    "Question 3\n",
    "----------\n",
    "\n",
    "We will define the first metadata for the alert message as a preview of the content. It will be made with the first 4 and the last 4 words. Combine this information  into a string type variable `preview` similar to `'The first four words ... the last four words'`."
   ]
  },
  {
   "cell_type": "code",
   "execution_count": null,
   "metadata": {
    "canopy_exercise": {
     "cell_type": "student_solution"
    },
    "collapsed": true
   },
   "outputs": [],
   "source": [
    "# your code goes here"
   ]
  },
  {
   "cell_type": "markdown",
   "metadata": {
    "canopy_exercise": {
     "cell_type": "solution_button"
    }
   },
   "source": [
    "<div class=\"btn-group\"><button class=\"btn\" onclick=\"IPython.canopy_exercise.toggle_solution('7')\">Solution</button></div>"
   ]
  },
  {
   "cell_type": "code",
   "execution_count": null,
   "metadata": {
    "canopy_exercise": {
     "cell_type": "solution_view",
     "solution_number": "7"
    },
    "collapsed": false
   },
   "outputs": [],
   "source": [
    "words = text.split() \n",
    "preview = \" \".join(words[:4]) + \"...\" + \" \".join(words[-4:])"
   ]
  },
  {
   "cell_type": "markdown",
   "metadata": {
    "canopy_exercise": {
     "cell_type": "question"
    }
   },
   "source": [
    "Question 4\n",
    "----------\n",
    "\n",
    "Let's analyze the first paragraph and normalize its content:\n",
    "<pre>\n",
    "URGENT — WEATHER MESSAGE\n",
    "NATIONAL WEATHER SERVICE NEW ORLEANS LA\n",
    "1011 AM CDT SUN AUG 28, 2005\n",
    "</pre>\n",
    "\n",
    "Parse it to extract its priority flag made of the first word of the paragraph, the location it originates from (city, state), the time and the date and store that into 4 distinct variables. It is safe to assume that the location will always follow \"National Weather Service\" on the second line and that the time will always be the first 3 entries on the third line. \n",
    "\n",
    "Store the rest of the message into a \"content\" variable.\n",
    "\n",
    "These date, location and flag metadata could be used add this information automatically on a map, in a calendar, with appropriate flagging, though this is beyond the scope of this exercise. "
   ]
  },
  {
   "cell_type": "code",
   "execution_count": null,
   "metadata": {
    "canopy_exercise": {
     "cell_type": "student_solution"
    },
    "collapsed": true
   },
   "outputs": [],
   "source": [
    "# your code goes here"
   ]
  },
  {
   "cell_type": "markdown",
   "metadata": {
    "canopy_exercise": {
     "cell_type": "solution_button"
    }
   },
   "source": [
    "<div class=\"btn-group\"><button class=\"btn\" onclick=\"IPython.canopy_exercise.toggle_solution('8')\">Solution</button></div>"
   ]
  },
  {
   "cell_type": "code",
   "execution_count": null,
   "metadata": {
    "canopy_exercise": {
     "cell_type": "solution_view",
     "solution_number": "8"
    },
    "collapsed": false
   },
   "outputs": [],
   "source": [
    "# Let's extract the first paragraph and store the rest in the 'content' variable\n",
    "p1 = paragraphs[0]\n",
    "content = \"\\n\\n\".join(paragraphs[1:])\n",
    "# The priority is the first word\n",
    "priority = p1.split()[0]\n",
    "# Let's split the first paragraph into lines\n",
    "p1_lines = p1.split(\"\\n\")\n",
    "# The location will be whatever follows National Weather Service on the line 2\n",
    "line2_words = p1_lines[1].split()\n",
    "location = \" \".join(line2_words[3:])\n",
    "line3_words = lines[2].split()\n",
    "time = \" \".join(line3_words[:3])\n",
    "date = \" \".join(line3_words[3:])\n",
    "\n",
    "print(\"Priority flag: {0}\".format(priority))\n",
    "print(\"Date: {0}\".format(date))\n",
    "print(\"Time: {0}\".format(time))\n",
    "print(\"Location: {0}\".format(location))"
   ]
  },
  {
   "cell_type": "markdown",
   "metadata": {
    "canopy_exercise": {
     "cell_type": "question"
    }
   },
   "source": [
    "Copyright 2008-2016, Enthought, Inc.  \n",
    "Use only permitted under license.  Copying, sharing, redistributing or other unauthorized use strictly prohibited.  \n",
    "http://www.enthought.com"
   ]
  }
 ],
 "metadata": {
  "canopy_exercise": {
   "__metadata_version__": 1
  },
  "celltoolbar": "Exercise",
  "description": "",
  "difficulty": "difficult",
  "duration": "average",
  "exercise_number": 3,
  "export_allowed": false,
  "flavor": "general",
  "kernelspec": {
   "display_name": "Python 2",
   "language": "python",
   "name": "python2"
  },
  "language_info": {
   "codemirror_mode": {
    "name": "ipython",
    "version": 2
   },
   "file_extension": ".py",
   "mimetype": "text/x-python",
   "name": "python",
   "nbconvert_exporter": "python",
   "pygments_lexer": "ipython2",
   "version": "2.7.10"
  },
  "level": "real-life",
  "module": "PyFund_list",
  "pre_requisites": [
   "PyFund_list",
   "PyFund_string",
   "header"
  ],
  "programming_goals": [
   "text processing"
  ],
  "python_goals": [
   "list creation",
   "list methods",
   "strings methods",
   "string to/from list conversion"
  ]
 },
 "nbformat": 4,
 "nbformat_minor": 0
}
