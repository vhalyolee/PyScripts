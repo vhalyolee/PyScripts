{
 "cells": [
  {
   "cell_type": "markdown",
   "metadata": {
    "canopy_exercise": {
     "cell_type": "question"
    }
   },
   "source": [
    "List Operations\n",
    "===============\n",
    "\n",
    "This exercise provides the opportunity to experiment some more with list creation and the use of their methods. Feel free to skip.\n",
    "\n",
    "Create a list 'a' with the elements 10,21,23,11 and 24 in this order"
   ]
  },
  {
   "cell_type": "code",
   "execution_count": null,
   "metadata": {
    "canopy_exercise": {
     "cell_type": "student_solution"
    },
    "collapsed": true
   },
   "outputs": [],
   "source": [
    "# your code goes here"
   ]
  },
  {
   "cell_type": "markdown",
   "metadata": {
    "canopy_exercise": {
     "cell_type": "solution_button"
    }
   },
   "source": [
    "<div class=\"btn-group\"><button class=\"btn\" onclick=\"IPython.canopy_exercise.toggle_solution('1')\">Solution</button></div>"
   ]
  },
  {
   "cell_type": "code",
   "execution_count": null,
   "metadata": {
    "canopy_exercise": {
     "cell_type": "solution_view",
     "solution_number": "1"
    },
    "collapsed": false
   },
   "outputs": [],
   "source": [
    "a = [10,21,23,11,24]"
   ]
  },
  {
   "cell_type": "markdown",
   "metadata": {
    "canopy_exercise": {
     "cell_type": "question"
    }
   },
   "source": [
    "Modify the first element and the last element to be 0."
   ]
  },
  {
   "cell_type": "code",
   "execution_count": null,
   "metadata": {
    "canopy_exercise": {
     "cell_type": "student_solution"
    },
    "collapsed": true
   },
   "outputs": [],
   "source": [
    "# your code goes here"
   ]
  },
  {
   "cell_type": "markdown",
   "metadata": {
    "canopy_exercise": {
     "cell_type": "solution_button"
    }
   },
   "source": [
    "<div class=\"btn-group\"><button class=\"btn\" onclick=\"IPython.canopy_exercise.toggle_solution('2')\">Solution</button></div>"
   ]
  },
  {
   "cell_type": "code",
   "execution_count": null,
   "metadata": {
    "canopy_exercise": {
     "cell_type": "solution_view",
     "solution_number": "2"
    },
    "collapsed": false
   },
   "outputs": [],
   "source": [
    "a[0] = 0\n",
    "a[-1] = 0"
   ]
  },
  {
   "cell_type": "markdown",
   "metadata": {
    "canopy_exercise": {
     "cell_type": "question"
    }
   },
   "source": [
    "The following questions can all be answered using the appropriate methods attached to the list a.\n",
    "\n",
    "Add the element 11 at the end of the list a."
   ]
  },
  {
   "cell_type": "markdown",
   "metadata": {
    "canopy_exercise": {
     "cell_type": "hint_button"
    }
   },
   "source": [
    "<div class=\"btn-group\"><button class=\"btn\" onclick=\"IPython.canopy_exercise.toggle_hint('5')\">Hint</button></div>"
   ]
  },
  {
   "cell_type": "markdown",
   "metadata": {
    "canopy_exercise": {
     "cell_type": "hint_view",
     "hint_number": "5"
    }
   },
   "source": [
    "To explore the available methods, type a.< TAB > in  ipython."
   ]
  },
  {
   "cell_type": "code",
   "execution_count": null,
   "metadata": {
    "canopy_exercise": {
     "cell_type": "student_solution"
    },
    "collapsed": true
   },
   "outputs": [],
   "source": [
    "# your code goes here"
   ]
  },
  {
   "cell_type": "markdown",
   "metadata": {
    "canopy_exercise": {
     "cell_type": "solution_button"
    }
   },
   "source": [
    "<div class=\"btn-group\"><button class=\"btn\" onclick=\"IPython.canopy_exercise.toggle_solution('4')\">Solution</button></div>"
   ]
  },
  {
   "cell_type": "code",
   "execution_count": null,
   "metadata": {
    "canopy_exercise": {
     "cell_type": "solution_view",
     "solution_number": "4"
    },
    "collapsed": false
   },
   "outputs": [],
   "source": [
    "a.append(11)"
   ]
  },
  {
   "cell_type": "markdown",
   "metadata": {
    "canopy_exercise": {
     "cell_type": "question"
    }
   },
   "source": [
    "How many occurrences of 11 is there in a?"
   ]
  },
  {
   "cell_type": "code",
   "execution_count": null,
   "metadata": {
    "canopy_exercise": {
     "cell_type": "student_solution"
    },
    "collapsed": true
   },
   "outputs": [],
   "source": [
    "# your code goes here"
   ]
  },
  {
   "cell_type": "markdown",
   "metadata": {
    "canopy_exercise": {
     "cell_type": "solution_button"
    }
   },
   "source": [
    "<div class=\"btn-group\"><button class=\"btn\" onclick=\"IPython.canopy_exercise.toggle_solution('5')\">Solution</button></div>"
   ]
  },
  {
   "cell_type": "code",
   "execution_count": null,
   "metadata": {
    "canopy_exercise": {
     "cell_type": "solution_view",
     "solution_number": "5"
    },
    "collapsed": false
   },
   "outputs": [],
   "source": [
    "a.count(11)"
   ]
  },
  {
   "cell_type": "markdown",
   "metadata": {
    "canopy_exercise": {
     "cell_type": "question"
    }
   },
   "source": [
    "Extend the list a with another list [\"foo\",4]"
   ]
  },
  {
   "cell_type": "code",
   "execution_count": null,
   "metadata": {
    "canopy_exercise": {
     "cell_type": "student_solution"
    },
    "collapsed": true
   },
   "outputs": [],
   "source": [
    "# your code goes here"
   ]
  },
  {
   "cell_type": "markdown",
   "metadata": {
    "canopy_exercise": {
     "cell_type": "solution_button"
    }
   },
   "source": [
    "<div class=\"btn-group\"><button class=\"btn\" onclick=\"IPython.canopy_exercise.toggle_solution('6')\">Solution</button></div>"
   ]
  },
  {
   "cell_type": "code",
   "execution_count": null,
   "metadata": {
    "canopy_exercise": {
     "cell_type": "solution_view",
     "solution_number": "6"
    },
    "collapsed": false
   },
   "outputs": [],
   "source": [
    "a.extend([\"foo\",4])"
   ]
  },
  {
   "cell_type": "markdown",
   "metadata": {
    "canopy_exercise": {
     "cell_type": "question"
    }
   },
   "source": [
    "What is the location of the first occurrence of 11?"
   ]
  },
  {
   "cell_type": "code",
   "execution_count": null,
   "metadata": {
    "canopy_exercise": {
     "cell_type": "student_solution"
    },
    "collapsed": true
   },
   "outputs": [],
   "source": [
    "# your code goes here"
   ]
  },
  {
   "cell_type": "markdown",
   "metadata": {
    "canopy_exercise": {
     "cell_type": "solution_button"
    }
   },
   "source": [
    "<div class=\"btn-group\"><button class=\"btn\" onclick=\"IPython.canopy_exercise.toggle_solution('7')\">Solution</button></div>"
   ]
  },
  {
   "cell_type": "code",
   "execution_count": null,
   "metadata": {
    "canopy_exercise": {
     "cell_type": "solution_view",
     "solution_number": "7"
    },
    "collapsed": false
   },
   "outputs": [],
   "source": [
    "a.index(11)"
   ]
  },
  {
   "cell_type": "markdown",
   "metadata": {
    "canopy_exercise": {
     "cell_type": "question"
    }
   },
   "source": [
    "Insert the value 100 as the third element. "
   ]
  },
  {
   "cell_type": "markdown",
   "metadata": {
    "canopy_exercise": {
     "cell_type": "hint_button"
    }
   },
   "source": [
    "<div class=\"btn-group\"><button class=\"btn\" onclick=\"IPython.canopy_exercise.toggle_hint('13')\">Hint</button></div>"
   ]
  },
  {
   "cell_type": "markdown",
   "metadata": {
    "canopy_exercise": {
     "cell_type": "hint_view",
     "hint_number": "13"
    }
   },
   "source": [
    "All python sequences start at index 0. "
   ]
  },
  {
   "cell_type": "code",
   "execution_count": null,
   "metadata": {
    "canopy_exercise": {
     "cell_type": "student_solution"
    },
    "collapsed": true
   },
   "outputs": [],
   "source": [
    "# your code goes here"
   ]
  },
  {
   "cell_type": "markdown",
   "metadata": {
    "canopy_exercise": {
     "cell_type": "solution_button"
    }
   },
   "source": [
    "<div class=\"btn-group\"><button class=\"btn\" onclick=\"IPython.canopy_exercise.toggle_solution('9')\">Solution</button></div>"
   ]
  },
  {
   "cell_type": "code",
   "execution_count": null,
   "metadata": {
    "canopy_exercise": {
     "cell_type": "solution_view",
     "solution_number": "9"
    },
    "collapsed": false
   },
   "outputs": [],
   "source": [
    "a.insert(2,100)"
   ]
  },
  {
   "cell_type": "markdown",
   "metadata": {
    "canopy_exercise": {
     "cell_type": "question"
    }
   },
   "source": [
    "Remove the forth element."
   ]
  },
  {
   "cell_type": "markdown",
   "metadata": {
    "canopy_exercise": {
     "cell_type": "hint_button"
    }
   },
   "source": [
    "<div class=\"btn-group\"><button class=\"btn\" onclick=\"IPython.canopy_exercise.toggle_hint('15')\">Hint</button></div>"
   ]
  },
  {
   "cell_type": "markdown",
   "metadata": {
    "canopy_exercise": {
     "cell_type": "hint_view",
     "hint_number": "15"
    }
   },
   "source": [
    "All python sequences start at index 0. "
   ]
  },
  {
   "cell_type": "code",
   "execution_count": null,
   "metadata": {
    "canopy_exercise": {
     "cell_type": "student_solution"
    },
    "collapsed": true
   },
   "outputs": [],
   "source": [
    "# your code goes here"
   ]
  },
  {
   "cell_type": "markdown",
   "metadata": {
    "canopy_exercise": {
     "cell_type": "solution_button"
    }
   },
   "source": [
    "<div class=\"btn-group\"><button class=\"btn\" onclick=\"IPython.canopy_exercise.toggle_solution('11')\">Solution</button></div>"
   ]
  },
  {
   "cell_type": "code",
   "execution_count": null,
   "metadata": {
    "canopy_exercise": {
     "cell_type": "solution_view",
     "solution_number": "11"
    },
    "collapsed": false
   },
   "outputs": [],
   "source": [
    "a.pop(3)"
   ]
  },
  {
   "cell_type": "markdown",
   "metadata": {
    "canopy_exercise": {
     "cell_type": "question"
    }
   },
   "source": [
    "Remove the first occurrence of 11"
   ]
  },
  {
   "cell_type": "code",
   "execution_count": null,
   "metadata": {
    "canopy_exercise": {
     "cell_type": "student_solution"
    },
    "collapsed": true
   },
   "outputs": [],
   "source": [
    "# your code goes here"
   ]
  },
  {
   "cell_type": "markdown",
   "metadata": {
    "canopy_exercise": {
     "cell_type": "solution_button"
    }
   },
   "source": [
    "<div class=\"btn-group\"><button class=\"btn\" onclick=\"IPython.canopy_exercise.toggle_solution('12')\">Solution</button></div>"
   ]
  },
  {
   "cell_type": "code",
   "execution_count": null,
   "metadata": {
    "canopy_exercise": {
     "cell_type": "solution_view",
     "solution_number": "12"
    },
    "collapsed": false
   },
   "outputs": [],
   "source": [
    "a.remove(11)"
   ]
  },
  {
   "cell_type": "markdown",
   "metadata": {
    "canopy_exercise": {
     "cell_type": "question"
    }
   },
   "source": [
    "Sort the list"
   ]
  },
  {
   "cell_type": "code",
   "execution_count": null,
   "metadata": {
    "canopy_exercise": {
     "cell_type": "student_solution"
    },
    "collapsed": true
   },
   "outputs": [],
   "source": [
    "# your code goes here"
   ]
  },
  {
   "cell_type": "markdown",
   "metadata": {
    "canopy_exercise": {
     "cell_type": "solution_button"
    }
   },
   "source": [
    "<div class=\"btn-group\"><button class=\"btn\" onclick=\"IPython.canopy_exercise.toggle_solution('13')\">Solution</button></div>"
   ]
  },
  {
   "cell_type": "code",
   "execution_count": null,
   "metadata": {
    "canopy_exercise": {
     "cell_type": "solution_view",
     "solution_number": "13"
    },
    "collapsed": false
   },
   "outputs": [],
   "source": [
    "a.sort()"
   ]
  },
  {
   "cell_type": "markdown",
   "metadata": {
    "canopy_exercise": {
     "cell_type": "question"
    }
   },
   "source": [
    "Reverse the list"
   ]
  },
  {
   "cell_type": "code",
   "execution_count": null,
   "metadata": {
    "canopy_exercise": {
     "cell_type": "student_solution"
    },
    "collapsed": true
   },
   "outputs": [],
   "source": [
    "# your code goes here"
   ]
  },
  {
   "cell_type": "markdown",
   "metadata": {
    "canopy_exercise": {
     "cell_type": "solution_button"
    }
   },
   "source": [
    "<div class=\"btn-group\"><button class=\"btn\" onclick=\"IPython.canopy_exercise.toggle_solution('14')\">Solution</button></div>"
   ]
  },
  {
   "cell_type": "code",
   "execution_count": null,
   "metadata": {
    "canopy_exercise": {
     "cell_type": "solution_view",
     "solution_number": "14"
    },
    "collapsed": false
   },
   "outputs": [],
   "source": [
    "a.reverse()"
   ]
  },
  {
   "cell_type": "markdown",
   "metadata": {
    "canopy_exercise": {
     "cell_type": "question"
    }
   },
   "source": [
    "Compute the length of the resulting list. "
   ]
  },
  {
   "cell_type": "code",
   "execution_count": null,
   "metadata": {
    "canopy_exercise": {
     "cell_type": "student_solution"
    },
    "collapsed": true
   },
   "outputs": [],
   "source": [
    "# your code goes here"
   ]
  },
  {
   "cell_type": "markdown",
   "metadata": {
    "canopy_exercise": {
     "cell_type": "solution_button"
    }
   },
   "source": [
    "<div class=\"btn-group\"><button class=\"btn\" onclick=\"IPython.canopy_exercise.toggle_solution('15')\">Solution</button></div>"
   ]
  },
  {
   "cell_type": "code",
   "execution_count": null,
   "metadata": {
    "canopy_exercise": {
     "cell_type": "solution_view",
     "solution_number": "15"
    },
    "collapsed": false
   },
   "outputs": [],
   "source": [
    "l = len(a)"
   ]
  },
  {
   "cell_type": "markdown",
   "metadata": {
    "canopy_exercise": {
     "cell_type": "question"
    }
   },
   "source": [
    "Test if 11 is in the list anymore and if 99 is *not* in the list"
   ]
  },
  {
   "cell_type": "code",
   "execution_count": null,
   "metadata": {
    "canopy_exercise": {
     "cell_type": "student_solution"
    },
    "collapsed": true
   },
   "outputs": [],
   "source": [
    "# your code goes here"
   ]
  },
  {
   "cell_type": "markdown",
   "metadata": {
    "canopy_exercise": {
     "cell_type": "solution_button"
    }
   },
   "source": [
    "<div class=\"btn-group\"><button class=\"btn\" onclick=\"IPython.canopy_exercise.toggle_solution('16')\">Solution</button></div>"
   ]
  },
  {
   "cell_type": "code",
   "execution_count": null,
   "metadata": {
    "canopy_exercise": {
     "cell_type": "solution_view",
     "solution_number": "16"
    },
    "collapsed": false
   },
   "outputs": [],
   "source": [
    "print 11 in a\n",
    "print 99 not in a"
   ]
  },
  {
   "cell_type": "markdown",
   "metadata": {
    "canopy_exercise": {
     "cell_type": "question"
    }
   },
   "source": [
    "Copyright 2008-2016, Enthought, Inc.  \n",
    "Use only permitted under license.  Copying, sharing, redistributing or other unauthorized use strictly prohibited.  \n",
    "http://www.enthought.com"
   ]
  }
 ],
 "metadata": {
  "canopy_exercise": {
   "__metadata_version__": 1
  },
  "description": "",
  "difficulty": "very simple",
  "duration": "average",
  "exercise_number": 1,
  "export_allowed": true,
  "flavor": "general",
  "kernelspec": {
   "display_name": "Python 2",
   "language": "python",
   "name": "python2"
  },
  "level": "fluency",
  "module": "PyFund_list",
  "pre_requisites": [
   "PyFund_list",
   "header"
  ],
  "programming_goals": [
   "variable creation",
   "print"
  ],
  "python_goals": [
   "list creation",
   "list methods"
  ]
 },
 "nbformat": 4,
 "nbformat_minor": 0
}
