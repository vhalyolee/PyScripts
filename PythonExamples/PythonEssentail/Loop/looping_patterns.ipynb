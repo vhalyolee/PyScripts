{
 "cells": [
  {
   "cell_type": "markdown",
   "metadata": {},
   "source": [
    "Looping\n",
    "=======\n",
    "\n",
    "When programming, you want to be able to repeatedly execute chunks of code\n",
    "without having to manually duplicate the code.  Being able to repeat a set of\n",
    "instructions in a controlled manner is perhaps the most important function of any\n",
    "sort of automation, and being able to write code to execute something a\n",
    "million times as easily as writing code to execute something three times is\n",
    "important.\n",
    "\n",
    "Python implements a number of looping constructs, and in this lecture we'll\n",
    "discuss the `while` loop and the `for` loop.\n",
    "\n",
    "While loop\n",
    "----------\n",
    "\n",
    "The `while` loop is the simplest form of loop in Python.  It is similar to an `if`\n",
    "statement, in that it evaluates a test which evaluates to `True` or `False`.\n",
    "Unlike the `if` statement, however, a `while` statement doesn't just execute the following\n",
    "block of code once, it executes it over and over, re-evaluating the test\n",
    "before each repetition.  When the test evaluates to `False`, the loop will stop\n",
    "executing, and execution will continue with the next section of code.  Just\n",
    "like the `if` statement, indentation determines which lines of code are\n",
    "associated with the `while` statement.\n",
    "\n",
    "A simple example of a `while` loop might look something like this:"
   ]
  },
  {
   "cell_type": "code",
   "execution_count": null,
   "metadata": {
    "collapsed": false
   },
   "outputs": [],
   "source": [
    "i = 0\n",
    "total = 0\n",
    "while i < 1000000:\n",
    "    total += i\n",
    "    i += 1\n",
    "print total"
   ]
  },
  {
   "cell_type": "markdown",
   "metadata": {},
   "source": [
    "As we'll see, there are better ways of looping over collections of numbers,\n",
    "but this illustrates the basics of the while loop.\n",
    "\n",
    "From the lecture about the if statement, you may remember that things like\n",
    "empty objects and `None` also evaluate to `False`.  You can use this to write\n",
    "loops that consume lists, sets and dictionaries:"
   ]
  },
  {
   "cell_type": "code",
   "execution_count": null,
   "metadata": {
    "collapsed": false
   },
   "outputs": [],
   "source": [
    "plays = set(['Hamlet', 'Macbeth', 'King Lear'])\n",
    "while plays:\n",
    "    play = plays.pop()\n",
    "    print 'Perform', play"
   ]
  },
  {
   "cell_type": "markdown",
   "metadata": {},
   "source": [
    "This repeatedly pops an element from the set of plays until the set of plays\n",
    "is empty.\n",
    "\n",
    "For loop\n",
    "--------\n",
    "\n",
    "The other type of looping statement that is available is the `for` loop.  The\n",
    "`for` loop is designed to loop over sequences, like lists, sets, dictionaries,\n",
    "and even strings.  The `for` statement has the form:\n",
    "\n",
    "    for <variable> in <sequence>:\n",
    "        <indented block of code>\n",
    "\n",
    "The variable is given each element of the sequence in turn, and then the block\n",
    "of code is executed with the variable referring to that element:"
   ]
  },
  {
   "cell_type": "code",
   "execution_count": null,
   "metadata": {
    "collapsed": false
   },
   "outputs": [],
   "source": [
    "plays = set(['Hamlet', 'Macbeth', 'King Lear'])\n",
    "for play in plays:\n",
    "    print 'Perform', play"
   ]
  },
  {
   "cell_type": "markdown",
   "metadata": {},
   "source": [
    "Notice that the loop does not interfere with the values in the list:"
   ]
  },
  {
   "cell_type": "code",
   "execution_count": null,
   "metadata": {
    "collapsed": false
   },
   "outputs": [],
   "source": [
    "print plays"
   ]
  },
  {
   "cell_type": "markdown",
   "metadata": {},
   "source": [
    "In fact this is a very important restriction on `for` loops: a `for` loop should\n",
    "not try to modify the sequence it is looping over, or you may get unexpected\n",
    "results!\n",
    "\n",
    "A very common pattern is to use the `range()` function to create a list of\n",
    "numbers to loop over:"
   ]
  },
  {
   "cell_type": "code",
   "execution_count": null,
   "metadata": {
    "collapsed": false
   },
   "outputs": [],
   "source": [
    "total = 0\n",
    "for i in range(100000):\n",
    "    total += i\n",
    "print total"
   ]
  },
  {
   "cell_type": "markdown",
   "metadata": {},
   "source": [
    "As you can see, this is a much more concise version of the original loop we\n",
    "wrote with a while statement.  There is a downside to this, however, in that\n",
    "it creates a temporary list with a million elements in memory!  On modern\n",
    "computers, this is probably OK, but if it was a billion instead, then many\n",
    "computers would run out of memory just trying to create the list, and creating\n",
    "the list would take a lot of time and overhead.\n",
    "\n",
    "For these sorts of situations, Python provides the `xrange()` function, which\n",
    "can be used by a `for` statement in the same way that the `range()` function can,\n",
    "but doesn't actually create the entire list all at once."
   ]
  },
  {
   "cell_type": "code",
   "execution_count": null,
   "metadata": {
    "collapsed": false
   },
   "outputs": [],
   "source": [
    "total = 0\n",
    "for i in xrange(100000):\n",
    "    total += i\n",
    "print total"
   ]
  },
  {
   "cell_type": "markdown",
   "metadata": {},
   "source": [
    "Doing a timing test of a loop which does nothing, the speed and memory\n",
    "difference isn't really noticeable at a million elements, but for 100 million\n",
    "elements on my machine, range takes about 4 seconds, and xrange takes about\n",
    "2.5 seconds; and for a billion elements, I get a memory error with range, but\n",
    "not with xrange.\n",
    "\n",
    "You can run the same tests on your system with these commands (be careful, particularly with the last two, as if they do run, they will take a long time - remember that you can always restart your IPython kernel):"
   ]
  },
  {
   "cell_type": "code",
   "execution_count": null,
   "metadata": {
    "collapsed": false
   },
   "outputs": [],
   "source": [
    "%timeit for i in range(100000000): pass # range with 100,000,000 elements"
   ]
  },
  {
   "cell_type": "code",
   "execution_count": null,
   "metadata": {
    "collapsed": false
   },
   "outputs": [],
   "source": [
    "%timeit for i in xrange(100000000): pass # xrange with 100,000,000 elements"
   ]
  },
  {
   "cell_type": "code",
   "execution_count": null,
   "metadata": {
    "collapsed": false
   },
   "outputs": [],
   "source": [
    "for i in range(1000000000): pass # range with 1,000,000,000 elements - if this works, it will be slow"
   ]
  },
  {
   "cell_type": "code",
   "execution_count": null,
   "metadata": {
    "collapsed": false
   },
   "outputs": [],
   "source": [
    "for i in xrange(1000000000): pass # xrange with 1,000,000,000 elements"
   ]
  },
  {
   "cell_type": "markdown",
   "metadata": {},
   "source": [
    "Break and Continue\n",
    "------------------\n",
    "\n",
    "Both for and while statements can have the flow modified with the `break` and\n",
    "`continue` statements.\n",
    "\n",
    "If execution hits a `continue` statement, then the execution will jump\n",
    "immediately to the start of the next iteration of the loop.  This is useful if\n",
    "you want to skip occasional values:"
   ]
  },
  {
   "cell_type": "code",
   "execution_count": null,
   "metadata": {
    "collapsed": false
   },
   "outputs": [],
   "source": [
    "values = [7, 6, 4, 7, 19, 2, 1]\n",
    "\n",
    "for i in values:\n",
    "    if i % 2 != 0:\n",
    "        # skip odd numbers\n",
    "        continue\n",
    "    print i/2"
   ]
  },
  {
   "cell_type": "markdown",
   "metadata": {},
   "source": [
    "The `break` statement halts the execution of the loop at that point and starts\n",
    "executing the following code:"
   ]
  },
  {
   "cell_type": "code",
   "execution_count": null,
   "metadata": {
    "collapsed": false
   },
   "outputs": [],
   "source": [
    "command_list = ['start', 'process', 'process', 'process', 'stop', 'start', 'process', 'stop']\n",
    "\n",
    "while command_list:\n",
    "    command = command_list.pop(0)\n",
    "    if command == 'stop':\n",
    "        break\n",
    "    print(command)"
   ]
  },
  {
   "cell_type": "markdown",
   "metadata": {},
   "source": [
    "This example shows a common pattern using `while` loops and `break` statements.\n",
    "\n",
    "In many cases you can re-write a loop without needing `continue` or `break`\n",
    "statements, but using a `continue` or `break` makes things more readable.  For\n",
    "example, the previous example could be written as:"
   ]
  },
  {
   "cell_type": "code",
   "execution_count": null,
   "metadata": {
    "collapsed": false
   },
   "outputs": [],
   "source": [
    "command_list = ['start', 'process', 'process', 'process', 'stop', 'start', 'process', 'stop']\n",
    "\n",
    "if command_list:\n",
    "    command = command_list.pop(0)\n",
    "while command != 'stop':\n",
    "    print(command)\n",
    "    if command_list:\n",
    "        command = command_list.pop(0)"
   ]
  },
  {
   "cell_type": "markdown",
   "metadata": {},
   "source": [
    "which removes the `break` at the expense of a great deal of clarity.\n",
    "\n",
    "Else Statements\n",
    "---------------\n",
    "\n",
    "Just like the `if` statement, both `while` and `for` loops can have `else` clauses\n",
    "at the end.  These get executed if the loop terminates normally, but don't run\n",
    "if the loop terminates with a break.  For example, you might search a list for\n",
    "values less than 10 as follows:"
   ]
  },
  {
   "cell_type": "code",
   "execution_count": null,
   "metadata": {
    "collapsed": false
   },
   "outputs": [],
   "source": [
    "values = [7, 6, 4, 7, 19, 2, 1]\n",
    "\n",
    "for x in values:\n",
    "    if x <= 10:\n",
    "        print 'Found:', x\n",
    "        break\n",
    "else:\n",
    "    print 'All values greater than 10'"
   ]
  },
  {
   "cell_type": "markdown",
   "metadata": {},
   "source": [
    "so in this case we found 7 and the loop terminated with the `break`, so the else didn't execute.\n",
    "\n",
    "If all the numbers had been bigger:"
   ]
  },
  {
   "cell_type": "code",
   "execution_count": null,
   "metadata": {
    "collapsed": false
   },
   "outputs": [],
   "source": [
    "values = [11, 12, 13, 100]\n",
    "\n",
    "for x in values:\n",
    "    if x <= 10:\n",
    "        print 'Found:', x\n",
    "        break\n",
    "else:\n",
    "    print 'All values greater than 10'"
   ]
  },
  {
   "cell_type": "markdown",
   "metadata": {},
   "source": [
    "then the loop would have exited normally when it ran out of values, and the `else` is executed.\n",
    "\n",
    "Notice that the `else` is associated with the `for` statement, and not the `if`.\n",
    "Like the `break` and `continue` statements, you can re-write a loop so that it\n",
    "doesn't use an `else`, but having an `else` clause can result in cleaner, more\n",
    "readable code."
   ]
  },
  {
   "cell_type": "markdown",
   "metadata": {},
   "source": [
    "Copyright 2008-2016, Enthought, Inc.<br>Use only permitted under license.  Copying, sharing, redistributing or other unauthorized use strictly prohibited.<br>http://www.enthought.com"
   ]
  }
 ],
 "metadata": {
  "kernelspec": {
   "display_name": "Python 2",
   "language": "python",
   "name": "python2"
  },
  "language_info": {
   "codemirror_mode": {
    "name": "ipython",
    "version": 2
   },
   "file_extension": ".py",
   "mimetype": "text/x-python",
   "name": "python",
   "nbconvert_exporter": "python",
   "pygments_lexer": "ipython2",
   "version": "2.7.10"
  }
 },
 "nbformat": 4,
 "nbformat_minor": 0
}
