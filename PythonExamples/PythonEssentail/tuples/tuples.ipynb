{
 "cells": [
  {
   "cell_type": "markdown",
   "metadata": {},
   "source": [
    "Introduction to Tuples\n",
    "======================\n",
    "\n",
    "Tuples are very similar to lists in that they are ordered sequences of any type of items.\n",
    "\n",
    "Creation\n",
    "--------\n",
    "\n",
    "You create tuples in much the same way as lists, using a comma-separated list of values, but using parenthesis rather than square brackets:"
   ]
  },
  {
   "cell_type": "code",
   "execution_count": null,
   "metadata": {
    "collapsed": false
   },
   "outputs": [],
   "source": [
    "a = (10, 11, 12, 13, 14)\n",
    "print(a)"
   ]
  },
  {
   "cell_type": "markdown",
   "metadata": {},
   "source": [
    "This is typically how you create tuples, but in fact the parenthesis are not necessary: a comma-separated list creates a tuple as well."
   ]
  },
  {
   "cell_type": "code",
   "execution_count": null,
   "metadata": {
    "collapsed": false
   },
   "outputs": [],
   "source": [
    "a = 10, 11, 12, 13, 14\n",
    "print(a)"
   ]
  },
  {
   "cell_type": "markdown",
   "metadata": {},
   "source": [
    "Because people are used to creating tuples using parenthesis, you might expect to create a tuple like this:"
   ]
  },
  {
   "cell_type": "code",
   "execution_count": null,
   "metadata": {
    "collapsed": false
   },
   "outputs": [],
   "source": [
    "(10)"
   ]
  },
  {
   "cell_type": "markdown",
   "metadata": {},
   "source": [
    "but these parentheses are treated as if they are grouping operators in an expression, so you just get 10 back.\n",
    "\n",
    "To get a tuple of length 1 you have to add a comma inside the parenthesis:"
   ]
  },
  {
   "cell_type": "code",
   "execution_count": null,
   "metadata": {
    "collapsed": false
   },
   "outputs": [],
   "source": [
    "(10,)"
   ]
  },
  {
   "cell_type": "markdown",
   "metadata": {},
   "source": [
    "If you have another kind of sequence then you can use the `tuple()` function to cast it to a tuple.\n",
    "\n",
    "For example, to convert a list to a tuple:"
   ]
  },
  {
   "cell_type": "code",
   "execution_count": null,
   "metadata": {
    "collapsed": false
   },
   "outputs": [],
   "source": [
    "a = [10, 11, 12, 13, 14]\n",
    "tuple(a)"
   ]
  },
  {
   "cell_type": "markdown",
   "metadata": {},
   "source": [
    "Immutability\n",
    "------------\n",
    "\n",
    "So why do both tuples and lists exist in Python?  The primary difference is that tuples are _immutable_.\n",
    "\n",
    "If we create a tuple and try to change the value of an element, we get a `TypeError` exception, just like if we tried to do the same operation on a string:"
   ]
  },
  {
   "cell_type": "code",
   "execution_count": null,
   "metadata": {
    "collapsed": false
   },
   "outputs": [],
   "source": [
    "a = 10, 11, 12, 13, 14\n",
    "a[3] = 23"
   ]
  },
  {
   "cell_type": "markdown",
   "metadata": {},
   "source": [
    "If you look at the methods on tuples, you will see that the only methods available are ones that don't change values: `count()` and `index()`.  There are no methods like `append()`, `extend()` or `sort()` which modify lists in place.\n",
    "\n",
    "So tuples are simpler than lists, they don't have as many features, and as a result thay can be more efficient in some places and they offer you some protection against certain types of errors.  If you want to make sure that nothing else in your code can unexpectedly change the value in a sequence that you are working with, then use a tuple rather than a list.\n",
    "\n",
    "Examples\n",
    "--------\n",
    "\n",
    "Where do you see tuples?\n",
    "\n",
    "One example is with the old-style \"`%`\" string formatting commands.  If you have multiple values that you want to format into a string then you have to put them in a tuple (it won't work if it is a list):"
   ]
  },
  {
   "cell_type": "code",
   "execution_count": null,
   "metadata": {
    "collapsed": false
   },
   "outputs": [],
   "source": [
    "s = \"%d %s\" % (10, \"hello\")\n",
    "s"
   ]
  },
  {
   "cell_type": "markdown",
   "metadata": {},
   "source": [
    "Another place where tuples are commonly used is as the keys of a dictionary.  Dictionaries are discussed in another lecture, but they have the requirement that their keys be immutable or hashable, and lists are neither.\n",
    "\n",
    "For example, if you wanted to have a data set which held the number of flights from one city to another for a collection of cities, you might use a dictionary with keys that are tuples of city names representing `(from, to)` pairs:"
   ]
  },
  {
   "cell_type": "code",
   "execution_count": null,
   "metadata": {
    "collapsed": false
   },
   "outputs": [],
   "source": [
    "connections = {\n",
    "    ('New York', 'Seattle'): 100,\n",
    "    ('Austin', 'New York'): 200,\n",
    "    ('New York', 'Austin'): 400,\n",
    "}"
   ]
  },
  {
   "cell_type": "markdown",
   "metadata": {},
   "source": [
    "This is a common way of representing a directed graph data structure in Python.\n",
    "\n",
    "A more advanced example where you might use tuples as keys in a dictionary is when you are caching the results of calls with different parameters.\n",
    "\n",
    "In this example, we are querying the USGS's earthquake data webservice for the number of earthquakes during a particular time interval.  Once we have the result for a particular time interval we don't want to have to repeat that exact query, so we will store the parameters and the result in a dictionary for later use."
   ]
  },
  {
   "cell_type": "code",
   "execution_count": null,
   "metadata": {
    "collapsed": false
   },
   "outputs": [],
   "source": [
    "import urllib\n",
    "\n",
    "# cache of results\n",
    "cache = {}\n",
    "\n",
    "# ask the USGS how many earthquakes occurred during a particular time interval\n",
    "# query expects (starttime, endtime)\n",
    "parameters = (\"2014-01-01\", \"2014-01-02\")\n",
    "url = \"http://earthquake.usgs.gov/fdsnws/event/1/count?starttime={0}&endtime={1}\".format(*parameters)\n",
    "data = int(urllib.urlopen(url).read())\n",
    "\n",
    "# insert data into cache based on parameters, so we don't have to query website again\n",
    "cache[parameters] = data\n",
    "\n",
    "print(cache[parameters])"
   ]
  },
  {
   "cell_type": "markdown",
   "metadata": {},
   "source": [
    "Another common place where tuples are found is in the results of database queries.  Frequently the result of a database table query will look something like this:"
   ]
  },
  {
   "cell_type": "code",
   "execution_count": null,
   "metadata": {
    "collapsed": false
   },
   "outputs": [],
   "source": [
    "people = [\n",
    "    ('Sam', 'Malone', 35),\n",
    "    ('Woody', 'Boyd', 21),\n",
    "    ('Norm', 'Peterson', 34),\n",
    "    ('Diane', 'Chambers', 33),\n",
    "]"
   ]
  },
  {
   "cell_type": "markdown",
   "metadata": {},
   "source": [
    "So if you ask for `people[0]` you get the first result:"
   ]
  },
  {
   "cell_type": "code",
   "execution_count": null,
   "metadata": {
    "collapsed": false
   },
   "outputs": [],
   "source": [
    "person = people[0]"
   ]
  },
  {
   "cell_type": "markdown",
   "metadata": {},
   "source": [
    "and if you ask for `person[0]` then you get the first name:"
   ]
  },
  {
   "cell_type": "code",
   "execution_count": null,
   "metadata": {
    "collapsed": false
   },
   "outputs": [],
   "source": [
    "person[0]"
   ]
  },
  {
   "cell_type": "markdown",
   "metadata": {},
   "source": [
    "In cases like this the `namedtuple` data structure from the `collections` module can be useful.  It provides a subclass of tuple that lets you refer to the fields of the tuple by named attributes as well as numeric indices, so you could say `person.first` instead of `person[0]`.  This is nicer from the point of view of the code being clearer and more informative to a reader."
   ]
  },
  {
   "cell_type": "code",
   "execution_count": null,
   "metadata": {
    "collapsed": false
   },
   "outputs": [],
   "source": [
    "from collections import namedtuple\n",
    "Person = namedtuple(\"Person\", [\"first\", \"last\", \"age\"])\n",
    "person = Person(\"Sam\", \"Malone\", \"35\")\n",
    "print person[0]"
   ]
  },
  {
   "cell_type": "code",
   "execution_count": null,
   "metadata": {
    "collapsed": true
   },
   "outputs": [],
   "source": [
    "print person.first"
   ]
  },
  {
   "cell_type": "markdown",
   "metadata": {},
   "source": [
    "Copyright 2008-2016, Enthought, Inc.<br>Use only permitted under license.  Copying, sharing, redistributing or other unauthorized use strictly prohibited.<br>http://www.enthought.com"
   ]
  }
 ],
 "metadata": {
  "kernelspec": {
   "display_name": "Python 2",
   "language": "python",
   "name": "python2"
  },
  "language_info": {
   "codemirror_mode": {
    "name": "ipython",
    "version": 2
   },
   "file_extension": ".py",
   "mimetype": "text/x-python",
   "name": "python",
   "nbconvert_exporter": "python",
   "pygments_lexer": "ipython2",
   "version": "2.7.10"
  }
 },
 "nbformat": 4,
 "nbformat_minor": 0
}
