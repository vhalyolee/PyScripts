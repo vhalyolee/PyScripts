{
 "cells": [
  {
   "cell_type": "markdown",
   "metadata": {},
   "source": [
    "Mutable vs. Immutable Data Structures\n",
    "=====================================\n",
    "\n",
    "In this lecture we'll look at the difference between mutable and immutable objects in Python, or the idea of whether an object is changeable or not.\n",
    "\n",
    "A list is an example of a mutable object.  We can change the value of an element in a list:"
   ]
  },
  {
   "cell_type": "code",
   "execution_count": null,
   "metadata": {
    "collapsed": false
   },
   "outputs": [],
   "source": [
    "a = [1, 2, 3, 4]\n",
    "a[0] = 100\n",
    "print(a)"
   ]
  },
  {
   "cell_type": "markdown",
   "metadata": {},
   "source": [
    "We can insert values into it:"
   ]
  },
  {
   "cell_type": "code",
   "execution_count": null,
   "metadata": {
    "collapsed": false
   },
   "outputs": [],
   "source": [
    "a = [100, 2, 3, 4]\n",
    "a.insert(3, 200)\n",
    "print(a)"
   ]
  },
  {
   "cell_type": "markdown",
   "metadata": {},
   "source": [
    "We can sort the values:"
   ]
  },
  {
   "cell_type": "code",
   "execution_count": null,
   "metadata": {
    "collapsed": false
   },
   "outputs": [],
   "source": [
    "a = [100, 2, 3, 200, 4]\n",
    "a.sort()\n",
    "print(a)"
   ]
  },
  {
   "cell_type": "markdown",
   "metadata": {},
   "source": [
    "All of these are in-place operations that are actually changing the list a.\n",
    "\n",
    "A string is an example of an immutable object.  If you try to set a character in a string to a new value, you get a `TypeError` exception:"
   ]
  },
  {
   "cell_type": "code",
   "execution_count": null,
   "metadata": {
    "collapsed": false
   },
   "outputs": [],
   "source": [
    "s = \"hello world\"\n",
    "s[0] = 'z'"
   ]
  },
  {
   "cell_type": "markdown",
   "metadata": {},
   "source": [
    "When you use the `replace()` method in a string, rather than modifying the string, you get a completely new string back:"
   ]
  },
  {
   "cell_type": "code",
   "execution_count": null,
   "metadata": {
    "collapsed": false
   },
   "outputs": [],
   "source": [
    "s.replace('world', 'Mars')"
   ]
  },
  {
   "cell_type": "markdown",
   "metadata": {},
   "source": [
    "The original is unchanged:"
   ]
  },
  {
   "cell_type": "code",
   "execution_count": null,
   "metadata": {
    "collapsed": false
   },
   "outputs": [],
   "source": [
    "s"
   ]
  },
  {
   "cell_type": "markdown",
   "metadata": {},
   "source": [
    "Having seen strings and lists, and the way that their operations and methods work, an obvious question which arises is how do we know whether a data structure will be modified, or a new data structure created?\n",
    "\n",
    "The answer lies in knowing which objects are mutable and which are immutable.  Of the most commonly used types we have:\n",
    "\n",
    "### mutable:\n",
    "\n",
    "- list\n",
    "- dictionary\n",
    "- set\n",
    "- NumPy array\n",
    "- user-defined objects\n",
    "\n",
    "### immutable:\n",
    "\n",
    "- integer\n",
    "- float\n",
    "- complex\n",
    "- long\n",
    "- string\n",
    "- tuple\n",
    "- frozenset\n",
    "\n",
    "One common question which arises is what do you do if you want to modify an immutable data type?  You can't, but there are patterns for doing equivalent operations which generate new objects.\n",
    "\n",
    "For example, inserting values into a string fails:"
   ]
  },
  {
   "cell_type": "code",
   "execution_count": null,
   "metadata": {
    "collapsed": false
   },
   "outputs": [],
   "source": [
    "s = 'abcde'\n",
    "s[1:3] = 'xy'"
   ]
  },
  {
   "cell_type": "markdown",
   "metadata": {},
   "source": [
    "But you can build up a new string and overwrite the original like this:"
   ]
  },
  {
   "cell_type": "code",
   "execution_count": null,
   "metadata": {
    "collapsed": false
   },
   "outputs": [],
   "source": [
    "s = s[:1] + 'xy' + s[3:]\n",
    "print(s)"
   ]
  },
  {
   "cell_type": "markdown",
   "metadata": {},
   "source": [
    "This gives you the string that you want.\n",
    "\n",
    "If you truly need a mutable string, there is the `bytearray` object.  Byte arrays _are_ mutable and have many of the same methods as strings.  So for example, I can create a byte array like this:"
   ]
  },
  {
   "cell_type": "code",
   "execution_count": null,
   "metadata": {
    "collapsed": false
   },
   "outputs": [],
   "source": [
    "s = bytearray('abcde')\n",
    "s"
   ]
  },
  {
   "cell_type": "markdown",
   "metadata": {},
   "source": [
    "and then assign into a slice:"
   ]
  },
  {
   "cell_type": "code",
   "execution_count": null,
   "metadata": {
    "collapsed": false
   },
   "outputs": [],
   "source": [
    "s[1:3] = 'xy'\n",
    "s"
   ]
  },
  {
   "cell_type": "markdown",
   "metadata": {},
   "source": [
    "and this works.  But you can't use a byte array in all the places that you can use a string.\n",
    "\n",
    "Another question which might occur is why have immutable objects at all?  If there are byte arrays that are \"mutable strings\" then why doesn't Python use them instead of the current \"immutable strings\"?\n",
    "\n",
    "The first reason is that mutable data structures can have surprising \"action at a distance\" behaviour.  Consider what happens when two variables are associated with the same list:"
   ]
  },
  {
   "cell_type": "code",
   "execution_count": null,
   "metadata": {
    "collapsed": false
   },
   "outputs": [],
   "source": [
    "a = [1, 2, 3, 4]\n",
    "b = a"
   ]
  },
  {
   "cell_type": "markdown",
   "metadata": {},
   "source": [
    "If we change `b`, look at what happens to `a`:"
   ]
  },
  {
   "cell_type": "code",
   "execution_count": null,
   "metadata": {
    "collapsed": false
   },
   "outputs": [],
   "source": [
    "b[0] = 100\n",
    "print(a)"
   ]
  },
  {
   "cell_type": "markdown",
   "metadata": {},
   "source": [
    "Because `a` and `b` are referring to the same object, `a` is unexpectedly changed.  And this could happen in completely different parts of your program if they happen to be referring to the same object.\n",
    "\n",
    "Because strings are immutable, this can't happen: once you have a string you know that the value can't change, and this is important to Python's internals where this fact is used to allow a number of optimizations on string operations which make them faster.\n",
    "\n",
    "Also strings are viewed as a fundamental data type, like integers and floats.  And just as integers and floats are immutable, strings are as well.\n",
    "\n",
    "Finally, but possibly most importantly, immutability of strings allows them to be used as keys in a dictionary.  Dictionaries are a major data type in Python that we will talk about in another lecture, but dictonaries have a requirement that their keys be immutable or hashable, and strings are things that you frequently want to use as the keys of dictionaries."
   ]
  },
  {
   "cell_type": "markdown",
   "metadata": {},
   "source": [
    "Copyright 2008-2016, Enthought, Inc.<br>Use only permitted under license.  Copying, sharing, redistributing or other unauthorized use strictly prohibited.<br>http://www.enthought.com"
   ]
  }
 ],
 "metadata": {
  "kernelspec": {
   "display_name": "Python 2",
   "language": "python",
   "name": "python2"
  },
  "language_info": {
   "codemirror_mode": {
    "name": "ipython",
    "version": 2
   },
   "file_extension": ".py",
   "mimetype": "text/x-python",
   "name": "python",
   "nbconvert_exporter": "python",
   "pygments_lexer": "ipython2",
   "version": "2.7.11"
  }
 },
 "nbformat": 4,
 "nbformat_minor": 0
}
