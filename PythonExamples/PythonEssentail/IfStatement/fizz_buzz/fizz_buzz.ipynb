{
 "cells": [
  {
   "cell_type": "markdown",
   "metadata": {
    "canopy_exercise": {
     "cell_type": "question"
    }
   },
   "source": [
    "FizzBuzz Exercise\n",
    "=================\n",
    "\n",
    "In this short exercise, we will program the core of a little game designed to teach children about the concept of divisibility. The idea is, for any given number, to print a special message if it is a multiple of 3 and/or 5, or else just print the number itself. It will teach you to use `if` statements to analyze that number as well as the modulo operator `%`. In the following lectures, we will learn about looping, which will be needed to draw and analyze more than 1 number at a time. For now, we will draw a number randomly and print the message for it.\n",
    "\n",
    "The following code generates a random number from 1 to 100:"
   ]
  },
  {
   "cell_type": "code",
   "execution_count": null,
   "metadata": {
    "canopy_exercise": {
     "cell_type": "starting code"
    },
    "collapsed": false
   },
   "outputs": [],
   "source": [
    "from random import randint\n",
    "n = randint(1, 101)\n",
    "print n"
   ]
  },
  {
   "cell_type": "markdown",
   "metadata": {
    "canopy_exercise": {
     "cell_type": "question"
    }
   },
   "source": [
    "Question 1\n",
    "----------\n",
    "\n",
    "For the first level of our game, write a test that prints \"Fizz\" if the number drawn is a multiple of 3, or just prints the number itself if it is not.\n",
    "\n",
    "Test your code with many different values of `n` to make sure it works correctly. For that, run the code above again multiple times and you will see n taking multiple values. You can run your test after each generation of `n`. (That should make you look forward to learning about `for` loops :).)"
   ]
  },
  {
   "cell_type": "markdown",
   "metadata": {
    "canopy_exercise": {
     "cell_type": "hint_button"
    }
   },
   "source": [
    "<div class=\"btn-group\"><button class=\"btn\" onclick=\"IPython.canopy_exercise.toggle_hint('3')\">Hint</button></div>"
   ]
  },
  {
   "cell_type": "markdown",
   "metadata": {
    "canopy_exercise": {
     "cell_type": "hint_view",
     "hint_number": "3"
    }
   },
   "source": [
    "You can use the modulo operator to test for divisibility: `n` is divisible by 3 if `n % 3` equals 0."
   ]
  },
  {
   "cell_type": "code",
   "execution_count": null,
   "metadata": {
    "canopy_exercise": {
     "cell_type": "student_solution"
    },
    "collapsed": true
   },
   "outputs": [],
   "source": [
    "# your code goes here"
   ]
  },
  {
   "cell_type": "markdown",
   "metadata": {
    "canopy_exercise": {
     "cell_type": "solution_button"
    }
   },
   "source": [
    "<div class=\"btn-group\"><button class=\"btn\" onclick=\"IPython.canopy_exercise.toggle_solution('4')\">Solution</button></div>"
   ]
  },
  {
   "cell_type": "code",
   "execution_count": null,
   "metadata": {
    "canopy_exercise": {
     "cell_type": "solution_view",
     "solution_number": "4"
    },
    "collapsed": false
   },
   "outputs": [],
   "source": [
    "if n % 3 == 0:\n",
    "    print \"Fizz\"\n",
    "else:\n",
    "    print n"
   ]
  },
  {
   "cell_type": "markdown",
   "metadata": {
    "canopy_exercise": {
     "cell_type": "question"
    }
   },
   "source": [
    "Question 2\n",
    "----------\n",
    "\n",
    "The second level of our game will be a little more complex. Now write a test that prints \"Fizz\" if the number is a multiple of 3, or prints \"Buzz\" if the number is a multiple of 5.  If it is a multiple of both 3 and 5, it should print \"FizzBuzz\". Finally, if it is neither a multiple of 3 nor 5, it should just print the number.\n",
    "\n",
    "Test your code with many different values of `n` to make sure it works correctly."
   ]
  },
  {
   "cell_type": "code",
   "execution_count": null,
   "metadata": {
    "canopy_exercise": {
     "cell_type": "student_solution"
    },
    "collapsed": true
   },
   "outputs": [],
   "source": [
    "# your code goes here"
   ]
  },
  {
   "cell_type": "markdown",
   "metadata": {
    "canopy_exercise": {
     "cell_type": "solution_button"
    }
   },
   "source": [
    "<div class=\"btn-group\"><button class=\"btn\" onclick=\"IPython.canopy_exercise.toggle_solution('5')\">Solution</button></div>"
   ]
  },
  {
   "cell_type": "code",
   "execution_count": null,
   "metadata": {
    "canopy_exercise": {
     "cell_type": "solution_view",
     "solution_number": "5"
    },
    "collapsed": false
   },
   "outputs": [],
   "source": [
    "# There are multiple ways to solve this problem\n",
    "\n",
    "# A straighforward way to do it is to make a case for each situation\n",
    "if n % 3 == 0 and n % 5 == 0:\n",
    "    print \"FizzBuzz\"\n",
    "elif n % 5 == 0:\n",
    "    print \"Buzz\"\n",
    "elif n % 3 == 0:\n",
    "    print \"Fizz\"\n",
    "else:\n",
    "    print n"
   ]
  },
  {
   "cell_type": "code",
   "execution_count": null,
   "metadata": {
    "canopy_exercise": {
     "cell_type": "solution_view",
     "solution_number": "5"
    },
    "collapsed": false
   },
   "outputs": [],
   "source": [
    "# We could have solved this problem another way (not necessarily better nor worse, just different logic)\n",
    "output = \"\"\n",
    "if n % 3 == 0:\n",
    "    output += \"Fizz\"\n",
    "if n % 5 == 0:\n",
    "    output += \"Buzz\"\n",
    "\n",
    "if output != \"\":\n",
    "    print output\n",
    "else:\n",
    "    print n"
   ]
  },
  {
   "cell_type": "markdown",
   "metadata": {
    "canopy_exercise": {
     "cell_type": "question"
    }
   },
   "source": [
    "Question 3\n",
    "----------\n",
    "\n",
    "We will be analyzing a lot of numbers. In real-life problems, the analyzing may be much more time consuming than just the modulo operation, so it would be useful to build a cache of the output text. What data structure would conveniently store a number and its corresponding message? Build an empty one called `cached_analysis`. In a separate cell, for a given number `n`, check if a message has already been stored. Print it if it has. Otherwise, use the same test as before to build the message, and store it in `cached_analysis` in addition to printing it."
   ]
  },
  {
   "cell_type": "markdown",
   "metadata": {
    "canopy_exercise": {
     "cell_type": "hint_button"
    }
   },
   "source": [
    "<div class=\"btn-group\"><button class=\"btn\" onclick=\"IPython.canopy_exercise.toggle_hint('8')\">Hint</button></div>"
   ]
  },
  {
   "cell_type": "markdown",
   "metadata": {
    "canopy_exercise": {
     "cell_type": "hint_view",
     "hint_number": "8"
    }
   },
   "source": [
    "Since we want to map a number to a message, so that we can look up the number and print the corresponding message, the data-structure we need is a dictionary."
   ]
  },
  {
   "cell_type": "code",
   "execution_count": null,
   "metadata": {
    "canopy_exercise": {
     "cell_type": "student_solution"
    },
    "collapsed": true
   },
   "outputs": [],
   "source": [
    "# your code goes here"
   ]
  },
  {
   "cell_type": "markdown",
   "metadata": {
    "canopy_exercise": {
     "cell_type": "solution_button"
    }
   },
   "source": [
    "<div class=\"btn-group\"><button class=\"btn\" onclick=\"IPython.canopy_exercise.toggle_solution('7')\">Solution</button></div>"
   ]
  },
  {
   "cell_type": "code",
   "execution_count": null,
   "metadata": {
    "canopy_exercise": {
     "cell_type": "solution_view",
     "solution_number": "7"
    },
    "collapsed": false
   },
   "outputs": [],
   "source": [
    "cached_analysis = {}"
   ]
  },
  {
   "cell_type": "code",
   "execution_count": null,
   "metadata": {
    "canopy_exercise": {
     "cell_type": "solution_view",
     "solution_number": "7"
    },
    "collapsed": false
   },
   "outputs": [],
   "source": [
    "# A straightforward way to solve this:\n",
    "\n",
    "if n in cached_analysis:\n",
    "    print cached_analysis[n]\n",
    "else:\n",
    "    # Re-use the our testing form above but store the message in a variable instead of printing it\n",
    "    # so that we don't have to repeat the message, once to print it and once to \n",
    "    if n % 3 == 0 and n % 5 == 0:\n",
    "        msg = \"FizzBuzz\"\n",
    "    elif n % 5 == 0:\n",
    "        msg = \"Buzz\"\n",
    "    elif n % 3 == 0:\n",
    "        msg = \"Fizz\"\n",
    "    else:\n",
    "        msg = \"%s\" % n\n",
    "    \n",
    "    # Now store the message, mapping it to the number (since numbers are immutable) and print it\n",
    "    cached_analysis[n] = msg\n",
    "    print msg"
   ]
  },
  {
   "cell_type": "code",
   "execution_count": null,
   "metadata": {
    "canopy_exercise": {
     "cell_type": "solution_view",
     "solution_number": "7"
    },
    "collapsed": false
   },
   "outputs": [],
   "source": [
    "# We could also architect the solution by checking first if the number is not in the dictionary \n",
    "# and building and storing the message for it.\n",
    "# After that we can print the value corresponding to the number outside of the if statement.\n",
    "# Take the time to look at this solution and make sure that you understand it.\n",
    "if n not in cached_analysis:\n",
    "    if n % 3 == 0 and n % 5 == 0:\n",
    "        msg = \"FizzBuzz\"\n",
    "    elif n % 5 == 0:\n",
    "        msg = \"Buzz\"\n",
    "    elif n % 3 == 0:\n",
    "        msg = \"Fizz\"\n",
    "    else:\n",
    "        msg = \"%s\" % n\n",
    "\n",
    "    cached_analysis[n] = msg\n",
    "\n",
    "print cached_analysis[n]\n",
    "\n",
    "# We thought of this solution by noticing that the straightforward solution above repeats the \n",
    "# instruction \"print cached_analysis[n]\" (or \"print msg\" which is equivalent) for both cases. \n",
    "# If that's the case, it means that there is a way to put that statement outside of the if \n",
    "# blocks. "
   ]
  },
  {
   "cell_type": "markdown",
   "metadata": {
    "canopy_exercise": {
     "cell_type": "question"
    }
   },
   "source": [
    "Copyright 2008-2016, Enthought, Inc.  \n",
    "Use only permitted under license.  Copying, sharing, redistributing or other unauthorized use strictly prohibited.  \n",
    "http://www.enthought.com"
   ]
  }
 ],
 "metadata": {
  "canopy_exercise": {
   "__metadata_version__": 1
  },
  "kernelspec": {
   "display_name": "Python 2",
   "language": "python",
   "name": "python2"
  },
  "language_info": {
   "codemirror_mode": {
    "name": "ipython",
    "version": 2
   },
   "file_extension": ".py",
   "mimetype": "text/x-python",
   "name": "python",
   "nbconvert_exporter": "python",
   "pygments_lexer": "ipython2",
   "version": "2.7.11"
  }
 },
 "nbformat": 4,
 "nbformat_minor": 0
}
