{
 "cells": [
  {
   "cell_type": "markdown",
   "metadata": {},
   "source": [
    "If Statements\n",
    "-------------\n",
    "\n",
    "The simplest sort of way of controlling execution is to decide whether or not\n",
    "a particular piece of code should be executed or not, based upon some\n",
    "condition.  This could include:\n",
    "\n",
    "* computing a particular value for a function in the special case where\n",
    "  `x = 0`\n",
    "\n",
    "* testing if an input is good, and only computing values if it is\n",
    "\n",
    "* executing different pieces of code depending on a command string read from a file\n",
    "  \n",
    "In each of these cases, we execute the code *if* some condition holds, so the\n",
    "statement in Python (and many other languages) that lets us do this is called\n",
    "the `if` statement.\n",
    "\n",
    "The simplest form of the `if` statement looks like this:"
   ]
  },
  {
   "cell_type": "code",
   "execution_count": null,
   "metadata": {
    "collapsed": false
   },
   "outputs": [],
   "source": [
    "x = 0.5\n",
    "\n",
    "if x > 0:\n",
    "    print \"Hey!\"\n",
    "    print \"x is positive\""
   ]
  },
  {
   "cell_type": "markdown",
   "metadata": {},
   "source": [
    "This will execute the print statements if the condition `x > 0` holds true,\n",
    "otherwise it will skip to the next statement after the indented block of code.\n",
    "\n",
    "If you have programmed in some other languages, like C or Java, this should\n",
    "be reasonably familiar to you, but there are some differences.  One immediate\n",
    "one is that there are no parentheses: where languages like C and Java use\n",
    "indentation as a matter of style and readability, Python uses indentation\n",
    "to group lines of code.  In the above example, the two lines of code:\n",
    "\n",
    "    print \"Hey!\"\n",
    "    print \"x is positive\"\n",
    "\n",
    "are called a *block* of Python code, and form the body of the if statement.\n",
    "You'll notice that the last character in the line before the block starts\n",
    "is a colon `:`.  This is required, and signals to Python that an indented\n",
    "block is about to start.  We will see that all flow control statements in\n",
    "Python expect a colon at the end of the statement.\n",
    "\n",
    "The block ends when Python encounters a line of code which is indented at\n",
    "the original level:"
   ]
  },
  {
   "cell_type": "code",
   "execution_count": null,
   "metadata": {
    "collapsed": false
   },
   "outputs": [],
   "source": [
    "if x > 0:\n",
    "    print \"Hey!\"\n",
    "    print \"x is positive\"\n",
    "    print \"This is still part of the block\"\n",
    "print \"This isn't part of the block, and will always print.\""
   ]
  },
  {
   "cell_type": "markdown",
   "metadata": {},
   "source": [
    "If we change the value of x to a negative number and run the same code:"
   ]
  },
  {
   "cell_type": "code",
   "execution_count": null,
   "metadata": {
    "collapsed": false
   },
   "outputs": [],
   "source": [
    "x = -0.5\n",
    "\n",
    "if x > 0:\n",
    "    print \"Hey!\"\n",
    "    print \"x is positive\"\n",
    "    print \"This is still part of the block\"\n",
    "print \"This isn't part of the block, and will always print.\""
   ]
  },
  {
   "cell_type": "markdown",
   "metadata": {},
   "source": [
    "then only the last line prints.\n",
    "\n",
    "You may notice that we indented 4 spaces.  You can indent the lines of a\n",
    "block any number of spaces, as long as all the lines have the same indent,\n",
    "but the Python community has largely settled on 4 spaces as being the\n",
    "preferred indent, and that is what you should use.  You can use tabs instead,\n",
    "but you can end up with odd interactions between tabs and spaces.  The Canopy\n",
    "Python code editor overrides the tab key to instead do indenting with spaces.\n",
    "If you are using some other code editor, you should change your preferences\n",
    "for Python files so that tab indents with spaces, rather than tab characters.\n",
    "\n",
    "Sometimes there may be a number of different possibilities, and you want to\n",
    "do a different thing in each possible case.  The if statement can have\n",
    "additional blocks associated with it via the `elif` and `else` clauses:"
   ]
  },
  {
   "cell_type": "code",
   "execution_count": null,
   "metadata": {
    "collapsed": false
   },
   "outputs": [],
   "source": [
    "x = 0\n",
    "\n",
    "if x > 0:\n",
    "    print \"x is positive\"\n",
    "elif x == 0:\n",
    "    print \"x is zero\"\n",
    "else:\n",
    "    print \"x is negative\""
   ]
  },
  {
   "cell_type": "markdown",
   "metadata": {},
   "source": [
    "Here this executes the second of the three blocks.\n",
    "\n",
    "If instead we had x = 1, it will execute the first of the blocks:"
   ]
  },
  {
   "cell_type": "code",
   "execution_count": null,
   "metadata": {
    "collapsed": false
   },
   "outputs": [],
   "source": [
    "x = 1\n",
    "\n",
    "if x > 0:\n",
    "    print \"x is positive\"\n",
    "elif x == 0:\n",
    "    print \"x is zero\"\n",
    "else:\n",
    "    print \"x is negative\""
   ]
  },
  {
   "cell_type": "markdown",
   "metadata": {},
   "source": [
    "and if we have `x = -1` then it will flow through to the else, and execute that:"
   ]
  },
  {
   "cell_type": "code",
   "execution_count": null,
   "metadata": {
    "collapsed": false
   },
   "outputs": [],
   "source": [
    "x = -1\n",
    "\n",
    "if x > 0:\n",
    "    print \"x is positive\"\n",
    "elif x == 0:\n",
    "    print \"x is zero\"\n",
    "else:\n",
    "    print \"x is negative\""
   ]
  },
  {
   "cell_type": "markdown",
   "metadata": {},
   "source": [
    "You can have as many elif clauses as you want, but at most one else clause,\n",
    "and the else clause must always come last.  In addition, Python will only\n",
    "execute the *first* block of code that matches:"
   ]
  },
  {
   "cell_type": "code",
   "execution_count": null,
   "metadata": {
    "collapsed": false
   },
   "outputs": [],
   "source": [
    "x = 1.5\n",
    "\n",
    "if x > 1:\n",
    "    print \"x is greater than 1\"\n",
    "elif x >= 0:\n",
    "    print \"x is non-negative\""
   ]
  },
  {
   "cell_type": "markdown",
   "metadata": {},
   "source": [
    "In this example, if x is greater than 1, Python will only print \"x is\n",
    "greater than 1\", even though x satisfies both the if and elif clauses.\n",
    "If you wanted both to print, you should use two if statements:"
   ]
  },
  {
   "cell_type": "code",
   "execution_count": null,
   "metadata": {
    "collapsed": false
   },
   "outputs": [],
   "source": [
    "if x > 1:\n",
    "    print \"x is greater than 1\"\n",
    "if x >= 0:\n",
    "    print \"x is non-negative\""
   ]
  },
  {
   "cell_type": "markdown",
   "metadata": {},
   "source": [
    "or even nested if statements:"
   ]
  },
  {
   "cell_type": "code",
   "execution_count": null,
   "metadata": {
    "collapsed": false
   },
   "outputs": [],
   "source": [
    "if x >= 0:\n",
    "    if x > 1:\n",
    "        print \"x is greater than 1\"\n",
    "    print \"x is non-negative\""
   ]
  },
  {
   "cell_type": "markdown",
   "metadata": {},
   "source": [
    "Test Values\n",
    "-----------\n",
    "\n",
    "The other thing we need to consider are the *conditions* that can be used\n",
    "in if and elif clauses of if statements.  Unlike some languages, Python\n",
    "will accept any expression as a condition.  Usually you will use a logical\n",
    "expression, as described in previous lectures, but any\n",
    "other expression will be evaluated, and then tested for truth.\n",
    "\n",
    "Most Python values will test as `True`, but a handful test as `False`.  These\n",
    "are:\n",
    "\n",
    "* `False`,\n",
    "* zero,\n",
    "* `None`,\n",
    "* empty containers (lists, tuples, dicts and sets),\n",
    "* and occassional instances of custom classes.\n",
    "\n",
    "This means you can do things like:"
   ]
  },
  {
   "cell_type": "code",
   "execution_count": null,
   "metadata": {
    "collapsed": false
   },
   "outputs": [],
   "source": [
    "mylist = [3, 1, 4, 1, 5, 9]\n",
    "\n",
    "if mylist:\n",
    "    print \"The first element is:\", mylist[0]\n",
    "else:\n",
    "    print \"There is no first element.\""
   ]
  },
  {
   "cell_type": "markdown",
   "metadata": {},
   "source": [
    "Because the list was not empty, it prints out the first element.  But if we instead ran the same code with an empty list:"
   ]
  },
  {
   "cell_type": "code",
   "execution_count": null,
   "metadata": {
    "collapsed": false
   },
   "outputs": [],
   "source": [
    "mylist = []\n",
    "\n",
    "if mylist:\n",
    "    print \"The first element is:\", mylist[0]\n",
    "else:\n",
    "    print \"There is no first element.\""
   ]
  },
  {
   "cell_type": "markdown",
   "metadata": {},
   "source": [
    "then it prints out that there is no first element instead.\n",
    "\n",
    "Sometimes it pays to be explicit about what it is you are testing for.\n",
    "The above example is safe and reasonably clear, but what we are really\n",
    "testing for is whether the length is greater than or equal to 1, so it\n",
    "could be more clearly (and perhaps safely) written as:"
   ]
  },
  {
   "cell_type": "code",
   "execution_count": null,
   "metadata": {
    "collapsed": false
   },
   "outputs": [],
   "source": [
    "if len(mylist) >= 1:\n",
    "    print \"The first element is:\", mylist[0]\n",
    "else:\n",
    "    print \"There is no first element.\""
   ]
  },
  {
   "cell_type": "markdown",
   "metadata": {},
   "source": [
    "This is particularly the case when you want to check whether a variable\n",
    "holds the special `None` value.  You should *always* test for `None` using:"
   ]
  },
  {
   "cell_type": "code",
   "execution_count": null,
   "metadata": {
    "collapsed": false
   },
   "outputs": [],
   "source": [
    "if x is None:\n",
    "    print \"No value supplied\""
   ]
  },
  {
   "cell_type": "markdown",
   "metadata": {},
   "source": [
    "rather than just \"`x == None`\" or `not x`, as these may behave unexpectedly\n",
    "for some values of x."
   ]
  },
  {
   "cell_type": "markdown",
   "metadata": {},
   "source": [
    "Copyright 2008-2016, Enthought, Inc.<br>Use only permitted under license.  Copying, sharing, redistributing or other unauthorized use strictly prohibited.<br>http://www.enthought.com"
   ]
  }
 ],
 "metadata": {
  "kernelspec": {
   "display_name": "Python 2",
   "language": "python",
   "name": "python2"
  },
  "language_info": {
   "codemirror_mode": {
    "name": "ipython",
    "version": 2
   },
   "file_extension": ".py",
   "mimetype": "text/x-python",
   "name": "python",
   "nbconvert_exporter": "python",
   "pygments_lexer": "ipython2",
   "version": "2.7.10"
  }
 },
 "nbformat": 4,
 "nbformat_minor": 0
}
