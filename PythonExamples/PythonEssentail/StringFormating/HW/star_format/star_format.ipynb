{
 "cells": [
  {
   "cell_type": "markdown",
   "metadata": {
    "canopy_exercise": {
     "cell_type": "question"
    }
   },
   "source": [
    "Star Format Exercise\n",
    "====================\n",
    "\n",
    "The data file for the \"Third Catalogue of Nearby Stars\" contains information about nearby stars in lines which look like the following:\n",
    "\n",
    "<pre>\n",
    "Proxima Centauri  M5  e      11.05 15.49 771.8\n",
    "Alp1Cen           G2 V        0.01  4.38 749.0\n",
    "Alp2Cen           K0 V        1.34  5.71 749.0\n",
    "52Tau Cet         G8 Vp       3.49  5.77 286.0\n",
    "Eps Ret           K2 IV       4.44  3.57 067.0\n",
    "</pre>\n",
    "\n",
    "The data is provided in fixed-width fields, as follows:\n",
    "\n",
    "<pre>\n",
    " 0:17   Star name\n",
    "18:28   Spectral class\n",
    "29:34   Apparent magnitude\n",
    "35:40   Absolute magnitude\n",
    "41:46   Parallax in thousandths of an arc second\n",
    "</pre>\n",
    "\n",
    "These boundaries are both inclusive but include a space to the right of the value to separate it from the next. The apparent and absolute magnitude quantities have 2 decimal places of precision, while the parallax has 1. The parallax values should be padded with leading zeroes if the value is less than 100.\n",
    "\n",
    "Question\n",
    "--------\n",
    "\n",
    "Given the following values for a star, produce a properly formatted string using the `format` string method which would correspond to the last line of the file above. Store your response in a variable named `eps_ret`  and test your solution with the cell below."
   ]
  },
  {
   "cell_type": "code",
   "execution_count": null,
   "metadata": {
    "canopy_exercise": {
     "cell_type": "starting code"
    },
    "collapsed": false
   },
   "outputs": [],
   "source": [
    "star_name = \"Eps Ret\"\n",
    "spectral_class = \"K2 IV\"\n",
    "apparent_magnitude = 4.44\n",
    "absolute_magnitude = 3.57\n",
    "parallax = 67.0"
   ]
  },
  {
   "cell_type": "code",
   "execution_count": null,
   "metadata": {
    "canopy_exercise": {
     "cell_type": "student_solution"
    },
    "collapsed": true
   },
   "outputs": [],
   "source": [
    "# your code goes here"
   ]
  },
  {
   "cell_type": "markdown",
   "metadata": {
    "canopy_exercise": {
     "cell_type": "solution_button"
    }
   },
   "source": [
    "<div class=\"btn-group\"><button class=\"btn\" onclick=\"IPython.canopy_exercise.toggle_solution('2')\">Solution</button></div>"
   ]
  },
  {
   "cell_type": "code",
   "execution_count": null,
   "metadata": {
    "canopy_exercise": {
     "cell_type": "solution_view",
     "solution_number": "2"
    },
    "collapsed": false
   },
   "outputs": [],
   "source": [
    "# There are multiple ways to solve this. We chose to explicitly write the spaces that\n",
    "# separate the fields, and insert the values in between:\n",
    "star_format = \"{0:17s} {1:10s} {2:>5.2f} {3:>5.2f} {4:0>5.1f}\"\n",
    "eps_ret = star_format.format(star_name, spectral_class, apparent_magnitude,\n",
    "                             absolute_magnitude, parallax)"
   ]
  },
  {
   "cell_type": "code",
   "execution_count": null,
   "metadata": {
    "canopy_exercise": {
     "cell_type": "starting code"
    },
    "collapsed": false
   },
   "outputs": [],
   "source": [
    "print eps_ret\n",
    "success = eps_ret == \"Eps Ret           K2 IV       4.44  3.57 067.0\"\n",
    "print(\"Is your solution valid? {0}\".format(success))"
   ]
  },
  {
   "cell_type": "markdown",
   "metadata": {
    "canopy_exercise": {
     "cell_type": "question"
    }
   },
   "source": [
    "References\n",
    "----------\n",
    "\n",
    "<pre>\n",
    "Preliminary Version of the Third Catalogue of Nearby Stars\n",
    "GLIESE W., JAHREISS H.\n",
    "Astron. Rechen-Institut, Heidelberg (1991)\n",
    "</pre>"
   ]
  },
  {
   "cell_type": "markdown",
   "metadata": {
    "canopy_exercise": {
     "cell_type": "question"
    }
   },
   "source": [
    "Copyright 2008-2016, Enthought, Inc.  \n",
    "Use only permitted under license.  Copying, sharing, redistributing or other unauthorized use strictly prohibited.  \n",
    "http://www.enthought.com"
   ]
  }
 ],
 "metadata": {
  "canopy_exercise": {
   "__metadata_version__": 1
  },
  "kernelspec": {
   "display_name": "Python 2",
   "language": "python",
   "name": "python2"
  },
  "language_info": {
   "codemirror_mode": {
    "name": "ipython",
    "version": 2
   },
   "file_extension": ".py",
   "mimetype": "text/x-python",
   "name": "python",
   "nbconvert_exporter": "python",
   "pygments_lexer": "ipython2",
   "version": "2.7.11"
  }
 },
 "nbformat": 4,
 "nbformat_minor": 0
}
