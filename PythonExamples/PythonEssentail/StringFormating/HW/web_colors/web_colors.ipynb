{
 "cells": [
  {
   "cell_type": "markdown",
   "metadata": {
    "canopy_exercise": {
     "cell_type": "question"
    }
   },
   "source": [
    "Web Colors Exercise\n",
    "===================\n",
    "\n",
    "The markup languages used to display web pages, HTML and CSS, usually express colors as hexadecimal strings of the form\n",
    "\n",
    "    #rrggbb\n",
    "\n",
    "where the first two hexadecimal digits are the amount of <span style=\"color:#ff0000;\">red</span>, the second two the amount of <span style=\"color:#00ff00;\">green</span> and the last two the amount of <span style=\"color:#0000ff;\">blue</span> in the color to be displayed.  So, for example, blue corresponds to no red, no green and max value in blue and is therefore #0000ff. On the other hand, <span style=\"color:#dddd00;\">yellow</span> is a mixture of red and green and can be represented by\n",
    "\n",
    "    #dddd00\n",
    "\n",
    "that is with the red and green values at 221, and the blue value at 0, when converted to decimal.\n",
    "\n",
    "Question 1\n",
    "----------\n",
    "\n",
    "The color \"indigo\" usually has red, green and blue values respectively of 75, 0, and 130.\n",
    "\n",
    "Create a hexadecimal string of the format above that represents this color using Python's string formatting methods."
   ]
  },
  {
   "cell_type": "code",
   "execution_count": null,
   "metadata": {
    "canopy_exercise": {
     "cell_type": "starting code"
    },
    "collapsed": false
   },
   "outputs": [],
   "source": [
    "red = 75\n",
    "green = 0\n",
    "blue = 130"
   ]
  },
  {
   "cell_type": "markdown",
   "metadata": {
    "canopy_exercise": {
     "cell_type": "hint_button"
    }
   },
   "source": [
    "<div class=\"btn-group\"><button class=\"btn\" onclick=\"IPython.canopy_exercise.toggle_hint('2')\">Hint</button></div>"
   ]
  },
  {
   "cell_type": "markdown",
   "metadata": {
    "canopy_exercise": {
     "cell_type": "hint_view",
     "hint_number": "2"
    }
   },
   "source": [
    "Remember that you need to ensure two digits for each color and that there is a formatting code for generating hexadecimal string representations of integers directly, so there is no need to convert a number to hexadecimal beforehand."
   ]
  },
  {
   "cell_type": "code",
   "execution_count": null,
   "metadata": {
    "canopy_exercise": {
     "cell_type": "student_solution"
    },
    "collapsed": true
   },
   "outputs": [],
   "source": [
    "# your code goes here"
   ]
  },
  {
   "cell_type": "markdown",
   "metadata": {
    "canopy_exercise": {
     "cell_type": "solution_button"
    }
   },
   "source": [
    "<div class=\"btn-group\"><button class=\"btn\" onclick=\"IPython.canopy_exercise.toggle_solution('3')\">Solution</button></div>"
   ]
  },
  {
   "cell_type": "code",
   "execution_count": null,
   "metadata": {
    "canopy_exercise": {
     "cell_type": "solution_view",
     "solution_number": "3"
    },
    "collapsed": false
   },
   "outputs": [],
   "source": [
    "indigo = \"#{red:02x}{green:02x}{blue:02x}\".format(red=red, green=green, blue=blue)\n",
    "print indigo"
   ]
  },
  {
   "cell_type": "markdown",
   "metadata": {
    "canopy_exercise": {
     "cell_type": "question"
    }
   },
   "source": [
    "Question 2\n",
    "----------\n",
    "\n",
    "This document here is an ipython notebook, which contains (markdown) cells which understand html codes. If you double-click on this current cell or the one containing the general introduction above, you will see that we used codes similar to the ones you just generated to color the word <span style=\"color:#ff0000;\">red</span>."
   ]
  },
  {
   "cell_type": "raw",
   "metadata": {
    "canopy_exercise": {
     "cell_type": "question"
    }
   },
   "source": [
    "Using formating and the output of your previous question, generate a new string that inserts the indigo color inside a string of the form: <span style=\"color:#??????;\">indigo</span> where #?????? is replaced by the hexadecimal code you found in question 1."
   ]
  },
  {
   "cell_type": "code",
   "execution_count": null,
   "metadata": {
    "canopy_exercise": {
     "cell_type": "student_solution"
    },
    "collapsed": true
   },
   "outputs": [],
   "source": [
    "# your code goes here"
   ]
  },
  {
   "cell_type": "markdown",
   "metadata": {
    "canopy_exercise": {
     "cell_type": "solution_button"
    }
   },
   "source": [
    "<div class=\"btn-group\"><button class=\"btn\" onclick=\"IPython.canopy_exercise.toggle_solution('5')\">Solution</button></div>"
   ]
  },
  {
   "cell_type": "code",
   "execution_count": null,
   "metadata": {
    "canopy_exercise": {
     "cell_type": "solution_view",
     "solution_number": "5"
    },
    "collapsed": false
   },
   "outputs": [],
   "source": [
    "indigo_markdown = '<span style=\"color:{0:7s};\">indigo</span>'.format(indigo)\n",
    "print indigo_markdown"
   ]
  },
  {
   "cell_type": "markdown",
   "metadata": {
    "canopy_exercise": {
     "cell_type": "question"
    }
   },
   "source": [
    "To test your result, copy the output of your solution, double-click on this cell, paste it [here] and click inside another cell to make it render."
   ]
  },
  {
   "cell_type": "markdown",
   "metadata": {
    "canopy_exercise": {
     "cell_type": "question"
    }
   },
   "source": [
    "Copyright 2008-2016, Enthought, Inc.  \n",
    "Use only permitted under license.  Copying, sharing, redistributing or other unauthorized use strictly prohibited.  \n",
    "http://www.enthought.com"
   ]
  }
 ],
 "metadata": {
  "canopy_exercise": {
   "__metadata_version__": 1
  },
  "kernelspec": {
   "display_name": "Python 2",
   "language": "python",
   "name": "python2"
  },
  "language_info": {
   "codemirror_mode": {
    "name": "ipython",
    "version": 2
   },
   "file_extension": ".py",
   "mimetype": "text/x-python",
   "name": "python",
   "nbconvert_exporter": "python",
   "pygments_lexer": "ipython2",
   "version": "2.7.11"
  }
 },
 "nbformat": 4,
 "nbformat_minor": 0
}
