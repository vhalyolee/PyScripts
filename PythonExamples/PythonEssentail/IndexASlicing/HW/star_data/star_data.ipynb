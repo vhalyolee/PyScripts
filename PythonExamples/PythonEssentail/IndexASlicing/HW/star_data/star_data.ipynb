{
 "cells": [
  {
   "cell_type": "markdown",
   "metadata": {
    "canopy_exercise": {
     "cell_type": "question"
    }
   },
   "source": [
    "Star Data Exercise\n",
    "==================\n",
    "\n",
    "The data file for the \"Third Catalogue of Nearby Stars\" contains information about nearby stars in lines which look like the following:\n",
    "\n",
    "<pre>\n",
    "Proxima Centauri  M5  e      11.05 15.49 771.8\n",
    "Alp1Cen           G2 V        0.01  4.38 749.0\n",
    "Alp2Cen           K0 V        1.34  5.71 749.0\n",
    "52Tau Cet         G8 Vp       3.49  5.77 286.0\n",
    "</pre>\n",
    "\n",
    "The data is provided in fixed-width fields, as follows:\n",
    "\n",
    "<pre>\n",
    " 0:17   Star name\n",
    "18:28   Spectral class\n",
    "29:34   Apparent magnitude\n",
    "35:40   Absolute magnitude\n",
    "41:46   Parallax in thousandths of an arc second\n",
    "</pre>\n",
    "Both the lower limit and in the upper limit are inclusive here.\n",
    "\n",
    "Given the following string, containing one line from the file, extract each of the data items from the string.  You should strip extraneous whitespace and convert strings containing floating point numbers to Python floats."
   ]
  },
  {
   "cell_type": "code",
   "execution_count": null,
   "metadata": {
    "canopy_exercise": {
     "cell_type": "starting code"
    },
    "collapsed": false
   },
   "outputs": [],
   "source": [
    "star_string = \"Proxima Centauri  M5  e      11.05 15.49 771.8\""
   ]
  },
  {
   "cell_type": "code",
   "execution_count": null,
   "metadata": {
    "canopy_exercise": {
     "cell_type": "student_solution"
    },
    "collapsed": true
   },
   "outputs": [],
   "source": [
    "# your code goes here"
   ]
  },
  {
   "cell_type": "markdown",
   "metadata": {
    "canopy_exercise": {
     "cell_type": "solution_button"
    }
   },
   "source": [
    "<div class=\"btn-group\"><button class=\"btn\" onclick=\"IPython.canopy_exercise.toggle_solution('2')\">Solution</button></div>"
   ]
  },
  {
   "cell_type": "code",
   "execution_count": null,
   "metadata": {
    "canopy_exercise": {
     "cell_type": "solution_view",
     "solution_number": "2"
    },
    "collapsed": false
   },
   "outputs": [],
   "source": [
    "# The slicing will extract the part of the string that is relevant. Since \n",
    "# slicing in python is not inclusive on the upper limit, it is 18 instead of\n",
    "# 17:\n",
    "star_name = star_string[:18]\n",
    "# Then we remove the white spaces:\n",
    "star_name = star_name.strip()\n",
    "# To be more compact, and if it is as readable to you, feel free to do both \n",
    "# steps at once:\n",
    "spectral_class = star_string[18:29].strip()\n",
    "# Since the float function deals with white spaces, the call to .strip is not needed in the next 3 lines:\n",
    "apparent_magnitude = float(star_string[29:35])\n",
    "absolute_magnitude = float(star_string[35:41])\n",
    "parallax = float(star_string[41:])"
   ]
  },
  {
   "cell_type": "code",
   "execution_count": null,
   "metadata": {
    "canopy_exercise": {
     "cell_type": "starting code"
    },
    "collapsed": false
   },
   "outputs": [],
   "source": [
    "print \"Star name:         \", star_name\n",
    "print \"Spectral class:    \", spectral_class\n",
    "print \"Apparent magnitude:\", apparent_magnitude\n",
    "print \"Absolute magnitude:\", absolute_magnitude\n",
    "print \"Parallax:          \", parallax"
   ]
  },
  {
   "cell_type": "markdown",
   "metadata": {
    "canopy_exercise": {
     "cell_type": "<None>"
    }
   },
   "source": [
    "References\n",
    "----------\n",
    "\n",
    "<pre>\n",
    "Preliminary Version of the Third Catalogue of Nearby Stars\n",
    "GLIESE W., JAHREISS H.\n",
    "Astron. Rechen-Institut, Heidelberg (1991)\n",
    "</pre>"
   ]
  },
  {
   "cell_type": "markdown",
   "metadata": {
    "canopy_exercise": {
     "cell_type": "question"
    }
   },
   "source": [
    "Copyright 2008-2016, Enthought, Inc.  \n",
    "Use only permitted under license.  Copying, sharing, redistributing or other unauthorized use strictly prohibited.  \n",
    "http://www.enthought.com"
   ]
  }
 ],
 "metadata": {
  "canopy_exercise": {
   "__metadata_version__": 1
  },
  "kernelspec": {
   "display_name": "Python 2",
   "language": "python",
   "name": "python2"
  },
  "language_info": {
   "codemirror_mode": {
    "name": "ipython",
    "version": 2
   },
   "file_extension": ".py",
   "mimetype": "text/x-python",
   "name": "python",
   "nbconvert_exporter": "python",
   "pygments_lexer": "ipython2",
   "version": "2.7.10"
  }
 },
 "nbformat": 4,
 "nbformat_minor": 0
}
