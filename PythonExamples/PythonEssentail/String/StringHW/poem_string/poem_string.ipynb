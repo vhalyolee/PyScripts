{
 "cells": [
  {
   "cell_type": "markdown",
   "metadata": {
    "canopy_exercise": {
     "cell_type": "question"
    }
   },
   "source": [
    "The Haggis poem\n",
    "===============\n",
    "\n",
    "Despite the number of snakes that are used on books, websites and package names, the `Python` language was named after the British comedy group Monty Python. Part of their `Big Red Book` was a poem called `The Haggis poem` that we will \"analyze\".\n",
    "\n",
    "Copy the text below (only the first half of the poem) and use it to create a string containing the following poem in a variable called `poem`:\n",
    "\n",
    "<pre>\n",
    "Jack\n",
    "Much to his Mum and Dad's dismay\n",
    "Jack ate himself one day.\n",
    "He didn't stop to say his grace,\n",
    "He just sat down and ate his face.\n",
    "\"We can't have this his Dad declared,\n",
    "\"If that lad's ate, he should be shared.\"\n",
    "But even as he spoke they saw\n",
    "Jack eating more and more:\n",
    "First his legs and then his thighs,\n",
    "His arms, his nose, his hair, his eyes...\n",
    "\"Stop him someone!\" Mother cried\n",
    "\"Those eyeballs would be better fried!\"\n",
    "</pre>"
   ]
  },
  {
   "cell_type": "code",
   "execution_count": null,
   "metadata": {
    "canopy_exercise": {
     "cell_type": "student_solution"
    },
    "collapsed": true
   },
   "outputs": [],
   "source": [
    "# your code goes here"
   ]
  },
  {
   "cell_type": "markdown",
   "metadata": {
    "canopy_exercise": {
     "cell_type": "solution_button"
    }
   },
   "source": [
    "<div class=\"btn-group\"><button class=\"btn\" onclick=\"IPython.canopy_exercise.toggle_solution('1')\">Solution</button></div>"
   ]
  },
  {
   "cell_type": "code",
   "execution_count": null,
   "metadata": {
    "canopy_exercise": {
     "cell_type": "solution_view",
     "solution_number": "1"
    },
    "collapsed": true
   },
   "outputs": [],
   "source": [
    "poem = \"\"\"Jack\n",
    "Much to his Mum and Dad's dismay\n",
    "Jack ate himself one day.\n",
    "He didn't stop to say his grace,\n",
    "He just sat down and ate his face.\n",
    "\"We can't have this his Dad declared,\n",
    "\"If that lad's ate, he should be shared.\"\n",
    "But even as he spoke they saw\n",
    "Jack eating more and more:\n",
    "First his legs and then his thighs,\n",
    "His arms, his nose, his hair, his eyes...\n",
    "\"Stop him someone!\" Mother cried\n",
    "\"Those eyeballs would be better fried!\"\n",
    "\"\"\""
   ]
  },
  {
   "cell_type": "markdown",
   "metadata": {
    "canopy_exercise": {
     "cell_type": "question"
    }
   },
   "source": [
    "The name in this version of the poem is wrong and all occurences of \"Jack\" should be replaced by \"Horace\". First, count how many occurences of \"Jack\" there are and find where (at what character) the first occurence happens. Then modify the variable `poem` by replacing them all at once by \"Horace\". Print the result."
   ]
  },
  {
   "cell_type": "code",
   "execution_count": null,
   "metadata": {
    "canopy_exercise": {
     "cell_type": "student_solution"
    },
    "collapsed": true
   },
   "outputs": [],
   "source": [
    "# your code goes here"
   ]
  },
  {
   "cell_type": "markdown",
   "metadata": {
    "canopy_exercise": {
     "cell_type": "solution_button"
    }
   },
   "source": [
    "<div class=\"btn-group\"><button class=\"btn\" onclick=\"IPython.canopy_exercise.toggle_solution('2')\">Solution</button></div>"
   ]
  },
  {
   "cell_type": "code",
   "execution_count": null,
   "metadata": {
    "canopy_exercise": {
     "cell_type": "solution_view",
     "solution_number": "2"
    },
    "collapsed": false
   },
   "outputs": [],
   "source": [
    "print(poem.count(\"Jack\"))\n",
    "print(poem.find(\"Jack\"))"
   ]
  },
  {
   "cell_type": "code",
   "execution_count": null,
   "metadata": {
    "canopy_exercise": {
     "cell_type": "solution_view",
     "solution_number": "2"
    },
    "collapsed": false
   },
   "outputs": [],
   "source": [
    "poem = poem.replace(\"Jack\", \"Horace\")\n",
    "print(poem)"
   ]
  },
  {
   "cell_type": "markdown",
   "metadata": {
    "canopy_exercise": {
     "cell_type": "question"
    }
   },
   "source": [
    "Copyright 2008-2016, Enthought, Inc.  \n",
    "Use only permitted under license.  Copying, sharing, redistributing or other unauthorized use strictly prohibited.  \n",
    "http://www.enthought.com"
   ]
  }
 ],
 "metadata": {
  "canopy_exercise": {
   "__metadata_version__": 1
  },
  "difficulty": "very simple",
  "duration": "very short",
  "exercise_number": 1,
  "flavor": "general",
  "kernelspec": {
   "display_name": "Python 2",
   "language": "python",
   "name": "python2"
  },
  "language_info": {
   "codemirror_mode": {
    "name": "ipython",
    "version": 2
   },
   "file_extension": ".py",
   "mimetype": "text/x-python",
   "name": "python",
   "nbconvert_exporter": "python",
   "pygments_lexer": "ipython2",
   "version": "2.7.11"
  },
  "level": "fluency",
  "module": "PyFund_string",
  "pre_requisites": [
   "PyFund_string",
   "header"
  ],
  "programming_goals": [
   "variable creation",
   "print"
  ],
  "python_goals": [
   "string creation",
   "string concatenation"
  ]
 },
 "nbformat": 4,
 "nbformat_minor": 0
}
