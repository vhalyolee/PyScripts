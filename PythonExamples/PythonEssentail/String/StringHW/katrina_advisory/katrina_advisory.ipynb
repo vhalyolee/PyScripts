{
 "cells": [
  {
   "cell_type": "markdown",
   "metadata": {
    "canopy_exercise": {
     "cell_type": "question"
    }
   },
   "source": [
    "Katrina Advisory Exercise\n",
    "=========================\n",
    "\n",
    "Whenever there's a Hurricane spinning out in the Atlantic (or Pacific), the US National Oceanic and Atomospheric Administration ([NOAA](http://www.noaa.gov/)) issues advisories about the storm's strength.  In this example, we will look at one such advisory for infamous [Hurricane Katrina](http://en.wikipedia.org/wiki/Hurricane_Katrina) that did so much damage to New Orleans in 2005.  \n",
    "\n",
    "Imagine you would like to build an application that \"reads\" storm advisories and assigns a danger level without human interaction.  There are a lot of tools that could help with this (like [NLTK](http://www.nltk.org/)) with fancy-dancy algorithms, but we're going to take a very simple approach of scanning the document for mincing words.\n",
    "\n",
    "Unlike a few of the other string exercises, the text for this example is located in a file on disk.  We haven't gotten to reading and writing files yet, but that is ok.  The following snippet of code opens the file \"katrina_advisory.txt\" (which is located in the same directory as this exercise), and dumps its contents into a string called `text`.  From here on out, you can work with `text` just as if you created the string yourself."
   ]
  },
  {
   "cell_type": "code",
   "execution_count": null,
   "metadata": {
    "canopy_exercise": {
     "cell_type": "starting code"
    },
    "collapsed": true
   },
   "outputs": [],
   "source": [
    "f = open(\"katrina_advisory.txt\")\n",
    "text = f.read()\n",
    "f.close()\n",
    "print 'Content of \"katrina_advisory.txt\"'\n",
    "print '-' * 51\n",
    "print\n",
    "print text"
   ]
  },
  {
   "cell_type": "markdown",
   "metadata": {
    "canopy_exercise": {
     "cell_type": "question"
    }
   },
   "source": [
    "Question 1\n",
    "----------\n",
    "Text and data processing always starts by some clean up. Format the text by converting it to lower case, remove spaces before and \n",
    "after the content. "
   ]
  },
  {
   "cell_type": "code",
   "execution_count": null,
   "metadata": {
    "canopy_exercise": {
     "cell_type": "student_solution"
    },
    "collapsed": true
   },
   "outputs": [],
   "source": [
    "# your code goes here"
   ]
  },
  {
   "cell_type": "markdown",
   "metadata": {
    "canopy_exercise": {
     "cell_type": "solution_button"
    }
   },
   "source": [
    "<div class=\"btn-group\"><button class=\"btn\" onclick=\"IPython.canopy_exercise.toggle_solution('3')\">Solution</button></div>"
   ]
  },
  {
   "cell_type": "code",
   "execution_count": null,
   "metadata": {
    "canopy_exercise": {
     "cell_type": "solution_view",
     "solution_number": "3"
    },
    "collapsed": true
   },
   "outputs": [],
   "source": [
    "# you could do this in a couple of steps:\n",
    "text = text.lower()\n",
    "text = text.strip()\n",
    "\n",
    "# Or you could do this in a one liner by \"chaining\" the method calls\n",
    "# together like so.\n",
    "text = text.lower().strip()\n",
    "\n",
    "# This works because text.lower() returns a string that we then call \n",
    "# .strip() on which also returns a string.  Take note that doing this \n",
    "# sort of chaining, while reducing line count, doesn't necessarily help \n",
    "# readability.  It is reasonable to chain 2 calls like this, but more\n",
    "# than that starts to be hard for readabilty and future debugging."
   ]
  },
  {
   "cell_type": "markdown",
   "metadata": {
    "canopy_exercise": {
     "cell_type": "question"
    }
   },
   "source": [
    "Question 2\n",
    "----------\n",
    "Ok.  Now for our own fancy-dancy algorithm.  Let's count the number of alarming terms in total in the processed `text`. For our purposes, we'll consider the following terms as alarming: \"killed\", \"destroyed\", \"death\", \"devastating\". (They all seem fairly alarming to me...)"
   ]
  },
  {
   "cell_type": "code",
   "execution_count": null,
   "metadata": {
    "canopy_exercise": {
     "cell_type": "student_solution"
    },
    "collapsed": true
   },
   "outputs": [],
   "source": [
    "# your code goes here"
   ]
  },
  {
   "cell_type": "markdown",
   "metadata": {
    "canopy_exercise": {
     "cell_type": "solution_button"
    }
   },
   "source": [
    "<div class=\"btn-group\"><button class=\"btn\" onclick=\"IPython.canopy_exercise.toggle_solution('4')\">Solution</button></div>"
   ]
  },
  {
   "cell_type": "code",
   "execution_count": null,
   "metadata": {
    "canopy_exercise": {
     "cell_type": "solution_view",
     "solution_number": "4"
    },
    "collapsed": true
   },
   "outputs": [],
   "source": [
    "num_alarming_terms = (text.count(\"killed\") + text.count(\"destroyed\")\n",
    "                      + text.count(\"death\") + text.count(\"devastating\"))"
   ]
  },
  {
   "cell_type": "markdown",
   "metadata": {
    "canopy_exercise": {
     "cell_type": "question"
    }
   },
   "source": [
    "Question 3\n",
    "----------\n",
    "Let's also track how urgent NOAA thought the message was.  For this, we'll see if they started the message with the word \"URGENT\" (or \"urgent\").  Make a variable called `is_urgent` that is `True` if \"urgent\" is the first word and `False` otherwise.  As a hint, look at the methods available on strings.  At least one of them will be stunningly useful for our purposes..."
   ]
  },
  {
   "cell_type": "code",
   "execution_count": null,
   "metadata": {
    "canopy_exercise": {
     "cell_type": "student_solution"
    },
    "collapsed": true
   },
   "outputs": [],
   "source": [
    "# your code goes here"
   ]
  },
  {
   "cell_type": "markdown",
   "metadata": {
    "canopy_exercise": {
     "cell_type": "solution_button"
    }
   },
   "source": [
    "<div class=\"btn-group\"><button class=\"btn\" onclick=\"IPython.canopy_exercise.toggle_solution('5')\">Solution</button></div>"
   ]
  },
  {
   "cell_type": "code",
   "execution_count": null,
   "metadata": {
    "canopy_exercise": {
     "cell_type": "solution_view",
     "solution_number": "5"
    },
    "collapsed": true
   },
   "outputs": [],
   "source": [
    "is_urgent = text.startswith(\"urgent\")\n",
    "print \"Starts with urgent?\", is_urgent"
   ]
  },
  {
   "cell_type": "markdown",
   "metadata": {
    "canopy_exercise": {
     "cell_type": "question"
    }
   },
   "source": [
    "Question 4\n",
    "----------\n",
    "Now, let's define the \"danger level\" as the number of occurrences of alarming terms computed above. But let's further say that if the message started with \"urgent\", then will increase the danger level by an additional 3.  This is completely arbitrary, but you get the idea.\n",
    "\n",
    "So, now its up to you to compute the danger level.  Try and think of a way to do this without using an \"`if`\" statement (since we haven't talked about it yet).  If you get stuck, look at the hint below."
   ]
  },
  {
   "cell_type": "markdown",
   "metadata": {
    "canopy_exercise": {
     "cell_type": "hint_button"
    }
   },
   "source": [
    "<div class=\"btn-group\"><button class=\"btn\" onclick=\"IPython.canopy_exercise.toggle_hint('9')\">Hint</button></div>"
   ]
  },
  {
   "cell_type": "markdown",
   "metadata": {
    "canopy_exercise": {
     "cell_type": "hint_view",
     "hint_number": "9"
    }
   },
   "source": [
    "Since `is_urgent` is a `boolean` value, it can be True or False.  In Python, True is also viewed as `1` for mathematical calculations and False is viewed as `0`.  Try printing out `True * 10` and `False * 10` at the command line and see what happens.  Perhaps this gives you an idea of how you can use the `is_urgent` variable you calculated above as part of the danger level calculation.\n",
    "\n",
    "The danger level you calculate should be `9`."
   ]
  },
  {
   "cell_type": "code",
   "execution_count": null,
   "metadata": {
    "canopy_exercise": {
     "cell_type": "student_solution"
    },
    "collapsed": true
   },
   "outputs": [],
   "source": [
    "# your code goes here"
   ]
  },
  {
   "cell_type": "markdown",
   "metadata": {
    "canopy_exercise": {
     "cell_type": "solution_button"
    }
   },
   "source": [
    "<div class=\"btn-group\"><button class=\"btn\" onclick=\"IPython.canopy_exercise.toggle_solution('7')\">Solution</button></div>"
   ]
  },
  {
   "cell_type": "code",
   "execution_count": null,
   "metadata": {
    "canopy_exercise": {
     "cell_type": "solution_view",
     "solution_number": "7"
    },
    "collapsed": true
   },
   "outputs": [],
   "source": [
    "# The trick here is to multiply is_urgent by 3 and add it to the number of\n",
    "# alarming terms.\n",
    "danger_level = num_alarming_terms + is_urgent * 3\n",
    "\n",
    "print \"Danger level =\", danger_level"
   ]
  },
  {
   "cell_type": "code",
   "execution_count": null,
   "metadata": {
    "canopy_exercise": {
     "cell_type": "solution_view",
     "solution_number": "7"
    },
    "collapsed": false
   },
   "outputs": [],
   "source": [
    "# Alternatively, you could also use an \"if\" statement, but we haven't \n",
    "# talked about that yet... :-)\n",
    "if is_urgent:\n",
    "    danger_level = num_alarming_terms + 3\n",
    "else:\n",
    "    danger_level = num_alarming_terms\n",
    "print \"Danger level=\", danger_level"
   ]
  },
  {
   "cell_type": "markdown",
   "metadata": {
    "canopy_exercise": {
     "cell_type": "question"
    }
   },
   "source": [
    "Copyright 2008-2016, Enthought, Inc.  \n",
    "Use only permitted under license.  Copying, sharing, redistributing or other unauthorized use strictly prohibited.  \n",
    "http://www.enthought.com"
   ]
  }
 ],
 "metadata": {
  "canopy_exercise": {
   "__metadata_version__": 1
  },
  "difficulty": "intermediate",
  "duration": "average",
  "exercise_number": 3,
  "flavor": "general",
  "kernelspec": {
   "display_name": "Python 2",
   "language": "python",
   "name": "python2"
  },
  "language_info": {
   "codemirror_mode": {
    "name": "ipython",
    "version": 2
   },
   "file_extension": ".py",
   "mimetype": "text/x-python",
   "name": "python",
   "nbconvert_exporter": "python",
   "pygments_lexer": "ipython2",
   "version": "2.7.11"
  },
  "level": "real-life",
  "module": "PyFund_string",
  "pre_requisites": [
   "PyFund_string",
   "header",
   "(PyFund_FileIO)",
   "(PyFund_control)"
  ],
  "programming_goals": [],
  "python_goals": [
   "string methods"
  ]
 },
 "nbformat": 4,
 "nbformat_minor": 0
}
