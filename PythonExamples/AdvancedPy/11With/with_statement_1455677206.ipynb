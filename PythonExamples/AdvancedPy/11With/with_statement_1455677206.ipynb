{
 "cells": [
  {
   "cell_type": "markdown",
   "metadata": {},
   "source": [
    "Context Managers and the With Statement\n",
    "=======================================\n",
    "\n",
    "There are many situations where you find yourself writing code which follows a pattern like:\n",
    "\n",
    "    # create/aquire some resource\n",
    "    ...\n",
    "    try:\n",
    "        # do something with the resource\n",
    "        ...\n",
    "    finally:\n",
    "        # destroy/release the resource\n",
    "        ...\n",
    "\n",
    "You see this sort of pattern in opening and closing files, acquiring locks when using threads, in network programming, and when using databases, amongst many other situations.\n",
    "\n",
    "Python introduced the `with` statement to handle exactly this sort of situation, and we have already seen this in the discussion of file-IO where:"
   ]
  },
  {
   "cell_type": "code",
   "execution_count": null,
   "metadata": {
    "collapsed": false
   },
   "outputs": [],
   "source": [
    "with open('my_file', 'w') as fp:\n",
    "    # do stuff with fp\n",
    "    data = fp.write(\"Hello world\")"
   ]
  },
  {
   "cell_type": "markdown",
   "metadata": {},
   "source": [
    "is the same as:"
   ]
  },
  {
   "cell_type": "code",
   "execution_count": null,
   "metadata": {
    "collapsed": false
   },
   "outputs": [],
   "source": [
    "fp = open('my_file', 'w')\n",
    "try:\n",
    "    # do stuff with f\n",
    "    data = fp.write(\"Hello world\")\n",
    "finally:\n",
    "    fp.close()"
   ]
  },
  {
   "cell_type": "markdown",
   "metadata": {},
   "source": [
    "but much clearer.\n",
    "\n",
    "So how can we create objects which use this pattern in our own code?\n",
    "\n",
    "How the With Statement Works\n",
    "----------------------------\n",
    "\n",
    "The with statement, in its simplest form, looks like this:\n",
    "\n",
    "    with <expression>:\n",
    "        <block>\n",
    "\n",
    "When Python executes this code, it evaluates the expression, which should return an object which implements the \"context manager\" protocol, that is an object with two special methods: `__enter__` and `__exit__`.\n",
    "\n",
    "Looking at our file object:"
   ]
  },
  {
   "cell_type": "code",
   "execution_count": null,
   "metadata": {
    "collapsed": false
   },
   "outputs": [],
   "source": [
    "print fp.__enter__\n",
    "print fp.__exit__"
   ]
  },
  {
   "cell_type": "markdown",
   "metadata": {},
   "source": [
    "The `__enter__` method gets called before the block is run, and the `__exit__` method gets called after the block completes, even if there is an exception in the code.\n",
    "\n",
    "A minimal context manager class might look like this:"
   ]
  },
  {
   "cell_type": "code",
   "execution_count": null,
   "metadata": {
    "collapsed": false
   },
   "outputs": [],
   "source": [
    "class ContextManager(object):\n",
    "    \n",
    "    def __enter__(self):\n",
    "        print \"Entering\"\n",
    "    \n",
    "    def __exit__(self, exc_type, exc_value, traceback):\n",
    "        print \"Exiting\""
   ]
  },
  {
   "cell_type": "markdown",
   "metadata": {},
   "source": [
    "You can use this as follows:"
   ]
  },
  {
   "cell_type": "code",
   "execution_count": null,
   "metadata": {
    "collapsed": false
   },
   "outputs": [],
   "source": [
    "with ContextManager():\n",
    "    print \"  Inside the with statement\""
   ]
  },
  {
   "cell_type": "markdown",
   "metadata": {},
   "source": [
    "The `__exit__` method gets run, even if there is an exception."
   ]
  },
  {
   "cell_type": "code",
   "execution_count": null,
   "metadata": {
    "collapsed": false
   },
   "outputs": [],
   "source": [
    "with ContextManager():\n",
    "    print 1/0"
   ]
  },
  {
   "cell_type": "markdown",
   "metadata": {},
   "source": [
    "You have the option of returning a value from the `__enter__()` method.  This is the value that is given to the `as` clause of a `with` statement:"
   ]
  },
  {
   "cell_type": "code",
   "execution_count": null,
   "metadata": {
    "collapsed": false
   },
   "outputs": [],
   "source": [
    "class ContextManager(object):\n",
    "    \n",
    "    def __enter__(self):\n",
    "        print \"Entering\"\n",
    "        return \"my value\"\n",
    "    \n",
    "    def __exit__(self, exc_type, exc_value, traceback):\n",
    "        print \"Exiting\""
   ]
  },
  {
   "cell_type": "code",
   "execution_count": null,
   "metadata": {
    "collapsed": false
   },
   "outputs": [],
   "source": [
    "with ContextManager() as value:\n",
    "    print value"
   ]
  },
  {
   "cell_type": "markdown",
   "metadata": {},
   "source": [
    "A very common pattern is for the `__enter__()` method to return the context manager itself.  The file object does this, for example:"
   ]
  },
  {
   "cell_type": "code",
   "execution_count": null,
   "metadata": {
    "collapsed": false
   },
   "outputs": [],
   "source": [
    "fp = open(\"my_file\", \"r\")\n",
    "print fp.__enter__()"
   ]
  },
  {
   "cell_type": "markdown",
   "metadata": {},
   "source": [
    "Getting your code to do this is straightforward:"
   ]
  },
  {
   "cell_type": "code",
   "execution_count": null,
   "metadata": {
    "collapsed": false
   },
   "outputs": [],
   "source": [
    "class ContextManager(object):\n",
    "    \n",
    "    def __enter__(self):\n",
    "        print \"Entering\"\n",
    "        return self\n",
    "    \n",
    "    def __exit__(self, exc_type, exc_value, traceback):\n",
    "        print \"Exiting\""
   ]
  },
  {
   "cell_type": "code",
   "execution_count": null,
   "metadata": {
    "collapsed": false
   },
   "outputs": [],
   "source": [
    "with ContextManager() as value:\n",
    "    print value"
   ]
  },
  {
   "cell_type": "markdown",
   "metadata": {},
   "source": [
    "Error Handling in Context Managers\n",
    "----------------------------------\n",
    "\n",
    "The `__exit__()` method gets passed information about any exceptions which happened in the block of the with statement.  If no exception occurred, then the values will be none, otherwise they are the exception type, the exception object, and the traceback associated with the exception."
   ]
  },
  {
   "cell_type": "code",
   "execution_count": null,
   "metadata": {
    "collapsed": false
   },
   "outputs": [],
   "source": [
    "class ContextManager(object):\n",
    "    \n",
    "    def __enter__(self):\n",
    "        print \"Entering\"\n",
    "    \n",
    "    def __exit__(self, exc_type, exc_value, traceback):\n",
    "        print \"Exiting\"\n",
    "        if exc_type is not None:\n",
    "            print \"  Exception:\", exc_value"
   ]
  },
  {
   "cell_type": "code",
   "execution_count": null,
   "metadata": {
    "collapsed": false
   },
   "outputs": [],
   "source": [
    "with ContextManager():\n",
    "    print 1/0"
   ]
  },
  {
   "cell_type": "markdown",
   "metadata": {},
   "source": [
    "Note that in this case, we let the error continue.  If you want to suppress the exception, you can return `True` from the `__exit__()` method:"
   ]
  },
  {
   "cell_type": "code",
   "execution_count": null,
   "metadata": {
    "collapsed": false
   },
   "outputs": [],
   "source": [
    "class ContextManager(object):\n",
    "    \n",
    "    def __enter__(self):\n",
    "        print \"Entering\"\n",
    "    \n",
    "    def __exit__(self, exc_type, exc_value, traceback):\n",
    "        print \"Exiting\"\n",
    "        if exc_type is not None:\n",
    "            print \"  Exception suppresed:\", exc_value\n",
    "            return True"
   ]
  },
  {
   "cell_type": "code",
   "execution_count": null,
   "metadata": {
    "collapsed": false
   },
   "outputs": [],
   "source": [
    "with ContextManager():\n",
    "    print 1/0"
   ]
  },
  {
   "cell_type": "markdown",
   "metadata": {},
   "source": [
    "As a concrete and practical example of this sort of error handling, the following class uses Python's database API to safely encapsulate a database transaction.  If our code executes normally, we want to ensure that we `commit()` the transaction, otherwise we want to `rollback()` the transaction."
   ]
  },
  {
   "cell_type": "code",
   "execution_count": null,
   "metadata": {
    "collapsed": false
   },
   "outputs": [],
   "source": [
    "class Transaction(object):\n",
    "    \n",
    "    def __init__(self, connection):\n",
    "        self.connection = connection\n",
    "    \n",
    "    def __enter__(self):\n",
    "        return self.connection.cursor()\n",
    "    \n",
    "    def __exit__(self, exc_type, exc_value, traceback):\n",
    "        if exc_value is None:\n",
    "            # transaction was OK, so commit\n",
    "            self.connection.commit()\n",
    "        else:\n",
    "            # transaction had a problem, so rollback\n",
    "            self.connection.rollback()"
   ]
  },
  {
   "cell_type": "markdown",
   "metadata": {},
   "source": [
    "We can then use the code like this:"
   ]
  },
  {
   "cell_type": "code",
   "execution_count": null,
   "metadata": {
    "collapsed": false
   },
   "outputs": [],
   "source": [
    "import sqlite3 as db\n",
    "connection = db.connect(\":memory:\")\n",
    "\n",
    "with Transaction(connection) as cursor:\n",
    "    cursor.execute(\"\"\"CREATE TABLE IF NOT EXISTS addresses (\n",
    "        address_id INTEGER PRIMARY KEY,\n",
    "        street_address TEXT,\n",
    "        city TEXT,\n",
    "        state TEXT,\n",
    "        country TEXT,\n",
    "        postal_code TEXT\n",
    "    )\"\"\")"
   ]
  },
  {
   "cell_type": "code",
   "execution_count": null,
   "metadata": {
    "collapsed": false
   },
   "outputs": [],
   "source": [
    "with Transaction(connection) as cursor:\n",
    "    cursor.executemany(\"\"\"INSERT OR REPLACE INTO addresses VALUES (?, ?, ?, ?, ?, ?)\"\"\", [\n",
    "        (0, '515 Congress Ave', 'Austin', 'Texas', 'USA', '78701'),\n",
    "        (1, '245 Park Avenue', 'New York', 'New York', 'USA', '10167'),\n",
    "        (2, '21 J.J. Thompson Ave.', 'Cambridge', None, 'UK', 'CB3 0FA'),\n",
    "        (3, 'Supreme Business Park', 'Hiranandani Gardens, Powai, Mumbai', 'Maharashtra', 'India', '400076'),\n",
    "    ])"
   ]
  },
  {
   "cell_type": "markdown",
   "metadata": {},
   "source": [
    "But if there is a problem:"
   ]
  },
  {
   "cell_type": "code",
   "execution_count": null,
   "metadata": {
    "collapsed": false
   },
   "outputs": [],
   "source": [
    "with Transaction(connection) as cursor:\n",
    "    cursor.execute(\"\"\"INSERT OR REPLACE INTO addresses VALUES (?, ?, ?, ?, ?, ?)\"\"\",\n",
    "        (4, '2100 Pennsylvania Ave', 'Washington', 'DC', 'USA', '78701'),\n",
    "    )\n",
    "    raise Exception(\"out of addresses\")"
   ]
  },
  {
   "cell_type": "markdown",
   "metadata": {},
   "source": [
    "Then the transaction rolls back correctly:"
   ]
  },
  {
   "cell_type": "code",
   "execution_count": null,
   "metadata": {
    "collapsed": false
   },
   "outputs": [],
   "source": [
    "cursor.execute(\"SELECT * FROM addresses\")\n",
    "for row in cursor:\n",
    "    print row"
   ]
  },
  {
   "cell_type": "markdown",
   "metadata": {},
   "source": [
    "In fact, this pattern is so useful that many Python database libraries implement some variation of it, even though it is not required by the database API.\n",
    "\n",
    "The `contextlib` Module\n",
    "-----------------------\n",
    "\n",
    "Once you have written a few context managers, you may start to notice that you are repeating the same patterns.  Some of these patterns have been gathered into the standard library `contextlib` module.\n",
    "\n",
    "The simplest of these is the `closing()` function which creates a context manager that guarantees that an object's `close()` method is called, assuming it has one:"
   ]
  },
  {
   "cell_type": "code",
   "execution_count": null,
   "metadata": {
    "collapsed": false
   },
   "outputs": [],
   "source": [
    "from contextlib import closing\n",
    "import urllib\n",
    "\n",
    "with closing(urllib.urlopen('http://www.google.com')) as url:\n",
    "    html = url.read()\n",
    "\n",
    "print html[:100]"
   ]
  },
  {
   "cell_type": "markdown",
   "metadata": {},
   "source": [
    "Another useful tool is the `contextmanager` decorator.  This allows you to decorate a simple generator and create a context manager:"
   ]
  },
  {
   "cell_type": "code",
   "execution_count": null,
   "metadata": {
    "collapsed": false
   },
   "outputs": [],
   "source": [
    "from contextlib import contextmanager\n",
    "\n",
    "@contextmanager\n",
    "def my_contextmanager():\n",
    "    print \"Enter\"\n",
    "    yield\n",
    "    print \"Exit\""
   ]
  },
  {
   "cell_type": "code",
   "execution_count": null,
   "metadata": {
    "collapsed": false
   },
   "outputs": [],
   "source": [
    "with my_contextmanager():\n",
    "    print \"  Inside the with statement\""
   ]
  },
  {
   "cell_type": "markdown",
   "metadata": {},
   "source": [
    "(To fully understand this, you might want to review the lectures on generators and decorators.)\n",
    "\n",
    "If you `yield` a value from the generator, that is given to the `as` clause of the `with` statement:"
   ]
  },
  {
   "cell_type": "code",
   "execution_count": null,
   "metadata": {
    "collapsed": false
   },
   "outputs": [],
   "source": [
    "@contextmanager\n",
    "def my_contextmanager():\n",
    "    print \"Enter\"\n",
    "    yield \"my value\"\n",
    "    print \"Exit\""
   ]
  },
  {
   "cell_type": "code",
   "execution_count": null,
   "metadata": {
    "collapsed": false
   },
   "outputs": [],
   "source": [
    "with my_contextmanager() as value:\n",
    "    print value"
   ]
  },
  {
   "cell_type": "markdown",
   "metadata": {},
   "source": [
    "Error handling is achieved via a `try ... except ...` construct around the `yield`:"
   ]
  },
  {
   "cell_type": "code",
   "execution_count": null,
   "metadata": {
    "collapsed": false
   },
   "outputs": [],
   "source": [
    "@contextmanager\n",
    "def my_contextmanager():\n",
    "    print \"Enter\"\n",
    "    try:\n",
    "        yield\n",
    "    except Exception as exc:\n",
    "        print \"   Error:\", exc\n",
    "    finally:\n",
    "        print \"Exit\""
   ]
  },
  {
   "cell_type": "code",
   "execution_count": null,
   "metadata": {
    "collapsed": false
   },
   "outputs": [],
   "source": [
    "with my_contextmanager():\n",
    "    print 1/0"
   ]
  },
  {
   "cell_type": "markdown",
   "metadata": {},
   "source": [
    "So we could re-write the transaction example using the `contextmanager` decorator as follows:"
   ]
  },
  {
   "cell_type": "code",
   "execution_count": null,
   "metadata": {
    "collapsed": false
   },
   "outputs": [],
   "source": [
    "@contextmanager\n",
    "def transaction(connection):\n",
    "    cursor = connection.cursor()\n",
    "    try:\n",
    "        yield cursor\n",
    "    except:\n",
    "        connection.rollback()\n",
    "        raise\n",
    "    else:\n",
    "        connection.commit()"
   ]
  },
  {
   "cell_type": "markdown",
   "metadata": {},
   "source": [
    "The result is very elegant, easy-to-write code, if perhaps a little magical."
   ]
  },
  {
   "cell_type": "markdown",
   "metadata": {},
   "source": [
    "Copyright 2008-2016, Enthought, Inc.<br>Use only permitted under license.  Copying, sharing, redistributing or other unauthorized use strictly prohibited.<br>http://www.enthought.com"
   ]
  }
 ],
 "metadata": {
  "kernelspec": {
   "display_name": "Python 2",
   "language": "python",
   "name": "python2"
  },
  "language_info": {
   "codemirror_mode": {
    "name": "ipython",
    "version": 2
   },
   "file_extension": ".py",
   "mimetype": "text/x-python",
   "name": "python",
   "nbconvert_exporter": "python",
   "pygments_lexer": "ipython2",
   "version": "2.7.10"
  }
 },
 "nbformat": 4,
 "nbformat_minor": 0
}
