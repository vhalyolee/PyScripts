{
 "cells": [
  {
   "cell_type": "code",
   "execution_count": 1,
   "metadata": {
    "collapsed": false
   },
   "outputs": [
    {
     "name": "stdout",
     "output_type": "stream",
     "text": [
      "['/home/beanie/Enthought/Canopy_64bit/User/lib/python2.7/site-packages/ipykernel/__main__.py', '-f', '/run/user/1000/jupyter/kernel-8c2fd3b1-5890-4fa2-9ca5-4bf82f459dd3.json']\n"
     ]
    }
   ],
   "source": [
    "import sys\n",
    "# File : print_args.py\n",
    "\n"
   ]
  },
  {
   "cell_type": "code",
   "execution_count": 2,
   "metadata": {
    "collapsed": false
   },
   "outputs": [
    {
     "ename": "SyntaxError",
     "evalue": "invalid syntax (<ipython-input-2-a306f178ed8b>, line 1)",
     "output_type": "error",
     "traceback": [
      "\u001b[0;36m  File \u001b[0;32m\"<ipython-input-2-a306f178ed8b>\"\u001b[0;36m, line \u001b[0;32m1\u001b[0m\n\u001b[0;31m    python print_args.py 1 foo\u001b[0m\n\u001b[0m                    ^\u001b[0m\n\u001b[0;31mSyntaxError\u001b[0m\u001b[0;31m:\u001b[0m invalid syntax\n"
     ]
    }
   ],
   "source": [
    "python print_args.py 1 foo\n",
    "print sys.argv"
   ]
  },
  {
   "cell_type": "code",
   "execution_count": null,
   "metadata": {
    "collapsed": true
   },
   "outputs": [],
   "source": [
    "sys.exc_info()\n",
    "#returns a tuple (type of exception the actual object and the traceback)\n",
    "sys.exc+clear()\n",
    "#clear all exceptions\n",
    "\n",
    "\n",
    "try:\n",
    "    x= 1/0\n",
    "    except Exception:\n",
    "         print sys.exc_info()\n",
    "            \n",
    "            "
   ]
  },
  {
   "cell_type": "code",
   "execution_count": null,
   "metadata": {
    "collapsed": true
   },
   "outputs": [],
   "source": [
    "sys.stdin\n",
    "sys.stdout\n",
    "sys.stderr\n"
   ]
  },
  {
   "cell_type": "code",
   "execution_count": null,
   "metadata": {
    "collapsed": true
   },
   "outputs": [],
   "source": [
    "sys.exit(arg)\n",
    "#If no integrer non is equivalent to passing 0 and the exit status is 1"
   ]
  },
  {
   "cell_type": "code",
   "execution_count": null,
   "metadata": {
    "collapsed": true
   },
   "outputs": [],
   "source": [
    "sys.path \n",
    "# path of the search location\n",
    "sys.platform\n",
    "#string linux darwin win32 ...\n",
    "sys.getwindowversion()\n",
    "\n",
    "sys.version\n",
    "#python version\n",
    "sys.version_info\n",
    "# major minor micro and releaselevel and serial\n",
    "\n"
   ]
  },
  {
   "cell_type": "markdown",
   "metadata": {},
   "source": [
    "Interacting with the sys OS"
   ]
  },
  {
   "cell_type": "code",
   "execution_count": null,
   "metadata": {
    "collapsed": true
   },
   "outputs": [],
   "source": [
    "os.remove(path) os.unlink(path)"
   ]
  },
  {
   "cell_type": "markdown",
   "metadata": {},
   "source": [
    "It remove thefile the current working dir"
   ]
  },
  {
   "cell_type": "code",
   "execution_count": null,
   "metadata": {
    "collapsed": true
   },
   "outputs": [],
   "source": [
    "os.chdir(topath)\n",
    "os.getcwd() \n",
    "#return current dir\n",
    "os.listdir\n",
    "# returs files\n",
    "os.linesep\n",
    "#Line separator in text mode\n",
    "# \\n ,\\r\\n\n",
    "os.sep \n",
    "# '/', '\\' path sarator\n",
    "os.pathsep\n",
    "os.envision\n"
   ]
  },
  {
   "cell_type": "code",
   "execution_count": null,
   "metadata": {
    "collapsed": true
   },
   "outputs": [],
   "source": [
    "os.path.isfile(path)\n",
    "os.path.isdir(path)\n",
    "\n",
    "os.path.exists(path)\n",
    "os.path.isabs(path)\n",
    "\n",
    "os.path.split(path)\n",
    "#returns a tuple with head and tail dir and file name\n",
    "\n",
    "os.path.join(a,*p)\n",
    "os.path.dirname(path)\n",
    "os.path.basename(path)\n",
    "os.path.expanduser(path ,,~/ $HOME)"
   ]
  },
  {
   "cell_type": "code",
   "execution_count": null,
   "metadata": {
    "collapsed": false
   },
   "outputs": [],
   "source": []
  }
 ],
 "metadata": {
  "kernelspec": {
   "display_name": "Python 2",
   "language": "python",
   "name": "python2"
  },
  "language_info": {
   "codemirror_mode": {
    "name": "ipython",
    "version": 2
   },
   "file_extension": ".py",
   "mimetype": "text/x-python",
   "name": "python",
   "nbconvert_exporter": "python",
   "pygments_lexer": "ipython2",
   "version": "2.7.11"
  }
 },
 "nbformat": 4,
 "nbformat_minor": 0
}
