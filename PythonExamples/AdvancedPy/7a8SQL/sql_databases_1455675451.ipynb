{
 "cells": [
  {
   "cell_type": "markdown",
   "metadata": {},
   "source": [
    "SQL Databases\n",
    "=============\n",
    "\n",
    "There is a standard API that Python uses to communicates with SQL databases.  We'll work with the SQLite database, since that comes bundled with Python, but working with other databases should be very similar, although there may be slight differences in the actual SQL commands sent."
   ]
  },
  {
   "cell_type": "code",
   "execution_count": null,
   "metadata": {
    "collapsed": false
   },
   "outputs": [],
   "source": [
    "import sqlite3 as db"
   ]
  },
  {
   "cell_type": "markdown",
   "metadata": {},
   "source": [
    "The first thing to do is to connect to the database.  For SQLite, the command looks like this:"
   ]
  },
  {
   "cell_type": "code",
   "execution_count": null,
   "metadata": {
    "collapsed": false
   },
   "outputs": [],
   "source": [
    "connection = db.connect(\"my_database.sqlite\")"
   ]
  },
  {
   "cell_type": "markdown",
   "metadata": {},
   "source": [
    "Different databases have different options for the connect command.  For example, the `cx-oracle` database module might connect with:\n",
    "\n",
    "    connection = db.connect(username, password, host, port,  'XE')\n",
    "\n",
    "Once you have a connection, you usually want to create a cursor object which can execute commands provided as strings:"
   ]
  },
  {
   "cell_type": "code",
   "execution_count": null,
   "metadata": {
    "collapsed": false
   },
   "outputs": [],
   "source": [
    "cursor = connection.cursor()\n",
    "cursor.execute(\"\"\"CREATE TABLE IF NOT EXISTS orders(\n",
    "        order_id TEXT PRIMARY KEY,\n",
    "        date TEXT,\n",
    "        symbol TEXT,\n",
    "        quantity INTEGER,\n",
    "        price NUMBER)\"\"\")\n",
    "cursor.execute(\"\"\"INSERT INTO orders VALUES\n",
    "        ('A0001', '2013-12-01', 'AAPL', 1000, 203.4)\"\"\")\n",
    "connection.commit()"
   ]
  },
  {
   "cell_type": "markdown",
   "metadata": {},
   "source": [
    "You don't want to be building SQL commands using string operations however (that's how you get SQL injection attacks!), so the database modules provide ways of parametrizing commands:"
   ]
  },
  {
   "cell_type": "code",
   "execution_count": null,
   "metadata": {
    "collapsed": false
   },
   "outputs": [],
   "source": [
    "orders = [\n",
    "          (\"A0002\",\"2013-12-01\",\"MSFT\",1500,167.5),\n",
    "          (\"A0003\",\"2013-12-02\",\"GOOG\",1500,167.5)\n",
    "]\n",
    "cursor.executemany(\"\"\"INSERT INTO orders VALUES\n",
    "    (?, ?, ?, ?, ?)\"\"\", orders)\n",
    "connection.commit()"
   ]
  },
  {
   "cell_type": "markdown",
   "metadata": {},
   "source": [
    "Note that different databases may indicate parameters using different symbols.  For example, the `cx-oracle` database module would use this syntax:\n",
    "\n",
    "    cursor.executemany(\"\"\"INSERT INTO orders VALUES\n",
    "        (:order_id, :date, :symbol, :quantity, :price)\"\"\",\n",
    "        orders)\n",
    "\n",
    "The supported styles for a database module are given by `db.paramstyle`:"
   ]
  },
  {
   "cell_type": "code",
   "execution_count": null,
   "metadata": {
    "collapsed": false
   },
   "outputs": [],
   "source": [
    "db.paramstyle"
   ]
  },
  {
   "cell_type": "markdown",
   "metadata": {},
   "source": [
    "As you may have noticed, queries which modify the database must be committed after all operations have been performed.  If you don't commit, queries will not see the modifications to the database.\n",
    "\n",
    "If you wish to stop a commit, the `rollback()` method allows you to clean-up and restore the state of the database to the last `commit()`.  This is commonly used to safely handle errors and exceptions during database operations.\n",
    "\n",
    "A common pattern looks like this:\n",
    "\n",
    "    try:\n",
    "        ... # perform some operations\n",
    "    except:\n",
    "        connection.rollback()\n",
    "        raise\n",
    "    else:\n",
    "        connection.commit()\n"
   ]
  },
  {
   "cell_type": "markdown",
   "metadata": {},
   "source": [
    "To extract data from a database, you execute a SELECT command and then use the cursor as an iterator over the rows returned."
   ]
  },
  {
   "cell_type": "code",
   "execution_count": null,
   "metadata": {
    "collapsed": false
   },
   "outputs": [],
   "source": [
    "stock = 'MSFT'\n",
    "cursor.execute(\"\"\"SELECT *\n",
    "    FROM orders\n",
    "    WHERE symbol=?\n",
    "    ORDER BY quantity\"\"\", (stock,))\n",
    "for row in cursor:\n",
    "    print row"
   ]
  },
  {
   "cell_type": "markdown",
   "metadata": {},
   "source": [
    "The `cursor.fetchone()` method can be used to get the next row, and the `cursor.fetchall()` method returns a list of all the rows (which could be very large!)."
   ]
  },
  {
   "cell_type": "code",
   "execution_count": null,
   "metadata": {
    "collapsed": false
   },
   "outputs": [],
   "source": [
    "stock = 'AAPL'\n",
    "cursor.execute(\"\"\"SELECT *\n",
    "    FROM orders\n",
    "    WHERE symbol=?\n",
    "    ORDER BY quantity\"\"\", (stock,))\n",
    "cursor.fetchall()"
   ]
  },
  {
   "cell_type": "markdown",
   "metadata": {},
   "source": [
    "Finally, once you are done you can close the cusor and connection:"
   ]
  },
  {
   "cell_type": "code",
   "execution_count": null,
   "metadata": {
    "collapsed": false
   },
   "outputs": [],
   "source": [
    "cursor.close()\n",
    "connection.close()"
   ]
  },
  {
   "cell_type": "markdown",
   "metadata": {},
   "source": [
    "Copyright 2013-2016, Enthought, Inc.<br>Use only permitted under license.  Copying, sharing, redistributing or other unauthorized use strictly prohibited.<br>http://www.enthought.com"
   ]
  }
 ],
 "metadata": {
  "kernelspec": {
   "display_name": "Python 2",
   "language": "python",
   "name": "python2"
  },
  "language_info": {
   "codemirror_mode": {
    "name": "ipython",
    "version": 2
   },
   "file_extension": ".py",
   "mimetype": "text/x-python",
   "name": "python",
   "nbconvert_exporter": "python",
   "pygments_lexer": "ipython2",
   "version": "2.7.10"
  }
 },
 "nbformat": 4,
 "nbformat_minor": 0
}
