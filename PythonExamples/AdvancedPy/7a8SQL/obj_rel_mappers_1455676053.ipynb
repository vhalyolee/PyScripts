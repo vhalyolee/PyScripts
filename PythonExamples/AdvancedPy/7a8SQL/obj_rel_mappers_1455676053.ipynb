{
 "cells": [
  {
   "cell_type": "markdown",
   "metadata": {},
   "source": [
    "Object-Relational Mappers\n",
    "-------------------------\n",
    "\n",
    "You may have noticed that the values extracted from a database API query are fairly simple: tuples of values.  It is commonly the case that you have an object model that corresponds to the tables of your database, where each field of the database corresponds to an attribute of your model.\n",
    "\n",
    "Object-Relational Mappers (ORMs) are libraries which can automatically populate objects from database queries and, conversely, save object state into database tables.\n",
    "\n",
    "The pre-eminent Python ORM is SQLAlchemy, although there are many others (such as SQLObject, Storm), and Django has its own built-in ORM.\n",
    "\n",
    "For example, the \"orders\" table that we have been using would correspond to an object with attributes \"order_id\", \"date\" and so on.  Using SQLAlchemy, you could represent the object by:"
   ]
  },
  {
   "cell_type": "code",
   "execution_count": null,
   "metadata": {
    "collapsed": false
   },
   "outputs": [],
   "source": [
    "from sqlalchemy.ext.declarative import declarative_base\n",
    "from sqlalchemy import Column, Date, Float, Integer, String\n",
    "\n",
    "Base = declarative_base()\n",
    "\n",
    "class Order(Base):\n",
    "    __tablename__ = 'orders'\n",
    "    \n",
    "    order_id = Column(String, primary_key=True)\n",
    "    date = Column(Date)\n",
    "    symbol = Column(String)\n",
    "    quantity = Column(Integer)\n",
    "    price = Column(Float)\n",
    "    \n",
    "    def get_cost(self):\n",
    "        return self.quantity*self.price\n"
   ]
  },
  {
   "cell_type": "markdown",
   "metadata": {},
   "source": [
    "This creates a class `Order` which behaves much like a standard Python class, but which can map the declared attributes to database table columns.\n",
    "\n",
    "You can create an instance of the class like this:"
   ]
  },
  {
   "cell_type": "code",
   "execution_count": null,
   "metadata": {
    "collapsed": false
   },
   "outputs": [],
   "source": [
    "import datetime\n",
    "order = Order(order_id='A0004', date=datetime.date.today(), symbol='MSFT', quantity=-1000, price=187.54)"
   ]
  },
  {
   "cell_type": "markdown",
   "metadata": {},
   "source": [
    "And it looks like a standard instance:"
   ]
  },
  {
   "cell_type": "code",
   "execution_count": null,
   "metadata": {
    "collapsed": false
   },
   "outputs": [],
   "source": [
    "order.get_cost()"
   ]
  },
  {
   "cell_type": "markdown",
   "metadata": {},
   "source": [
    "To interact with the database, SQLAlchemy has a notion of a database \"engines\" and a \"sessions\", which encapsulate a connection with the database:"
   ]
  },
  {
   "cell_type": "code",
   "execution_count": null,
   "metadata": {
    "collapsed": false
   },
   "outputs": [],
   "source": [
    "from sqlalchemy import create_engine\n",
    "from sqlalchemy.orm import sessionmaker\n",
    "\n",
    "engine = create_engine(\"sqlite:///my_database.sqlite\")\n",
    "Session = sessionmaker(bind=engine)\n",
    "session = Session()"
   ]
  },
  {
   "cell_type": "markdown",
   "metadata": {},
   "source": [
    "We can now save our order using the session:"
   ]
  },
  {
   "cell_type": "code",
   "execution_count": null,
   "metadata": {
    "collapsed": false
   },
   "outputs": [],
   "source": [
    "session.add(order)\n",
    "session.commit()"
   ]
  },
  {
   "cell_type": "markdown",
   "metadata": {},
   "source": [
    "We can see that our order is now in the database:"
   ]
  },
  {
   "cell_type": "code",
   "execution_count": null,
   "metadata": {
    "collapsed": false
   },
   "outputs": [],
   "source": [
    "for row in engine.execute(\"SELECT * FROM orders\"):\n",
    "    print row"
   ]
  },
  {
   "cell_type": "markdown",
   "metadata": {},
   "source": [
    "We can also read rows into objects:"
   ]
  },
  {
   "cell_type": "code",
   "execution_count": null,
   "metadata": {
    "collapsed": false
   },
   "outputs": [],
   "source": [
    "for order in session.query(Order).filter(Order.symbol==\"AAPL\"):\n",
    "    print order.order_id, order.date, order.get_cost()"
   ]
  },
  {
   "cell_type": "markdown",
   "metadata": {},
   "source": [
    "Or get a particular object:"
   ]
  },
  {
   "cell_type": "code",
   "execution_count": null,
   "metadata": {
    "collapsed": false
   },
   "outputs": [],
   "source": [
    "order_2 = session.query(Order).filter(Order.order_id=='A0002').first()"
   ]
  },
  {
   "cell_type": "code",
   "execution_count": null,
   "metadata": {
    "collapsed": false
   },
   "outputs": [],
   "source": [
    "order_2.symbol"
   ]
  },
  {
   "cell_type": "markdown",
   "metadata": {},
   "source": [
    "There is a lot more which can be done with ORMs, in particular, we haven't looked at the \"relational\" part, but these examples should give a flavor of what they can do."
   ]
  },
  {
   "cell_type": "markdown",
   "metadata": {},
   "source": [
    "Copyright 2013-2016, Enthought, Inc.<br>Use only permitted under license.  Copying, sharing, redistributing or other unauthorized use strictly prohibited.<br>http://www.enthought.com"
   ]
  }
 ],
 "metadata": {
  "kernelspec": {
   "display_name": "Python 2",
   "language": "python",
   "name": "python2"
  },
  "language_info": {
   "codemirror_mode": {
    "name": "ipython",
    "version": 2
   },
   "file_extension": ".py",
   "mimetype": "text/x-python",
   "name": "python",
   "nbconvert_exporter": "python",
   "pygments_lexer": "ipython2",
   "version": "2.7.10"
  }
 },
 "nbformat": 4,
 "nbformat_minor": 0
}
