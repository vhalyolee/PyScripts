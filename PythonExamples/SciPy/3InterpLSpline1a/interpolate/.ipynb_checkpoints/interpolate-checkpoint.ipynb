{
 "cells": [
  {
   "cell_type": "markdown",
   "metadata": {},
   "source": [
    "# SciPy Interpolate"
   ]
  },
  {
   "cell_type": "code",
   "execution_count": null,
   "metadata": {
    "collapsed": true
   },
   "outputs": [],
   "source": [
    "# Imports required but not shown in the video lecture.\n",
    "import numpy as np\n",
    "from numpy import genfromtxt, arange, set_printoptions\n",
    "from scipy.misc.pilutil import imread\n",
    "from matplotlib.pyplot import imshow, plot, title, axis, xlabel, ylabel\n",
    "%matplotlib inline"
   ]
  },
  {
   "cell_type": "code",
   "execution_count": null,
   "metadata": {
    "collapsed": false
   },
   "outputs": [],
   "source": [
    "set_printoptions(precision=2, suppress=True)"
   ]
  },
  {
   "cell_type": "code",
   "execution_count": null,
   "metadata": {
    "collapsed": false
   },
   "outputs": [],
   "source": [
    "flame = imread(\"CH4_flame.jpeg\")\n",
    "i = imshow(flame,origin=\"lower\")"
   ]
  },
  {
   "cell_type": "markdown",
   "metadata": {},
   "source": [
    "data from http://kinetics.nist.gov/janaf/html/C-067.txt"
   ]
  },
  {
   "cell_type": "code",
   "execution_count": null,
   "metadata": {
    "collapsed": false
   },
   "outputs": [],
   "source": [
    "data = genfromtxt(\"JANAF_CH4.txt\", \n",
    "                  delimiter=\"\\t\",\n",
    "                  skiprows=1,\n",
    "                  names=True,\n",
    "                  missing_values=\"INFINITE\",\n",
    "                  filling_values=np.inf)"
   ]
  },
  {
   "cell_type": "code",
   "execution_count": null,
   "metadata": {
    "collapsed": false
   },
   "outputs": [],
   "source": [
    "for row in data[:7]:\n",
    "    print \"{}\\t{}\".format(row['TK'], row['Cp'])\n",
    "print \"...\\t...\""
   ]
  },
  {
   "cell_type": "code",
   "execution_count": null,
   "metadata": {
    "collapsed": false
   },
   "outputs": [],
   "source": [
    "p = plot(data['TK'], data['Cp'], 'kx')\n",
    "t = title(\"JANAF data for Methane $CH_4$\")\n",
    "a = axis([0, 6000, 30, 120])\n",
    "x = xlabel(\"Temperature (K)\")\n",
    "y = ylabel(r\"$C_p$ ($\\frac{kJ}{kg K}$)\")\n"
   ]
  },
  {
   "cell_type": "code",
   "execution_count": null,
   "metadata": {
    "collapsed": false
   },
   "outputs": [],
   "source": [
    "from scipy.interpolate import interp1d"
   ]
  },
  {
   "cell_type": "code",
   "execution_count": null,
   "metadata": {
    "collapsed": false
   },
   "outputs": [],
   "source": [
    "ch4_cp = interp1d(data['TK'], data['Cp'])"
   ]
  },
  {
   "cell_type": "code",
   "execution_count": null,
   "metadata": {
    "collapsed": false
   },
   "outputs": [],
   "source": [
    "print ch4_cp(302.2)"
   ]
  },
  {
   "cell_type": "code",
   "execution_count": null,
   "metadata": {
    "collapsed": false
   },
   "outputs": [],
   "source": [
    "# This is raising an exception because that requires extrapolation\n",
    "print ch4_cp(6010)"
   ]
  },
  {
   "cell_type": "code",
   "execution_count": null,
   "metadata": {
    "collapsed": false
   },
   "outputs": [],
   "source": [
    "# With option bounds_error=False, interp1d won't raise an exception on extrapolation\n",
    "ch4_cp = interp1d(data['TK'], data['Cp'],\n",
    "                  bounds_error=False)\n",
    "print ch4_cp(6010)"
   ]
  },
  {
   "cell_type": "code",
   "execution_count": null,
   "metadata": {
    "collapsed": false
   },
   "outputs": [],
   "source": [
    "ch4_cp = interp1d(data['TK'], data['Cp'],\n",
    "                  bounds_error=False, fill_value=-999.25)\n",
    "print ch4_cp(6010)"
   ]
  },
  {
   "cell_type": "code",
   "execution_count": null,
   "metadata": {
    "collapsed": false
   },
   "outputs": [],
   "source": [
    "T = arange(100,355,5)\n",
    "plot(T, ch4_cp(T), \"+k\")\n",
    "p = plot(data['TK'][1:7], data['Cp'][1:7], 'ro', markersize=8)"
   ]
  },
  {
   "cell_type": "code",
   "execution_count": null,
   "metadata": {
    "collapsed": false
   },
   "outputs": [],
   "source": [
    "cp_ch4 = interp1d(data['TK'], data['Cp'], kind=\"linear\")\n",
    "p = plot(T, cp_ch4(T), \"k+\")\n",
    "p = plot(data['TK'][1:7], data['Cp'][1:7], 'ro', markersize=8)"
   ]
  },
  {
   "cell_type": "code",
   "execution_count": null,
   "metadata": {
    "collapsed": false
   },
   "outputs": [],
   "source": [
    "cp_ch4 = interp1d(data['TK'], data['Cp'], kind=\"nearest\")\n",
    "p = plot(T, cp_ch4(T), \"k+\")\n",
    "p = plot(data['TK'][1:7], data['Cp'][1:7], 'ro', markersize=8)"
   ]
  },
  {
   "cell_type": "code",
   "execution_count": null,
   "metadata": {
    "collapsed": false
   },
   "outputs": [],
   "source": [
    "cp_ch4 = interp1d(data['TK'], data['Cp'], kind=\"zero\")\n",
    "p = plot(T, cp_ch4(T), \"k+\")\n",
    "p = plot(data['TK'][1:7], data['Cp'][1:7], 'ro', markersize=8)"
   ]
  },
  {
   "cell_type": "code",
   "execution_count": null,
   "metadata": {
    "collapsed": false
   },
   "outputs": [],
   "source": [
    "cp_ch4 = interp1d(data['TK'], data['Cp'], kind=\"quadratic\")\n",
    "p = plot(T, cp_ch4(T), \"k+\")\n",
    "p = plot(data['TK'][1:7], data['Cp'][1:7], 'ro', markersize=8)"
   ]
  },
  {
   "cell_type": "code",
   "execution_count": null,
   "metadata": {
    "collapsed": false
   },
   "outputs": [],
   "source": [
    "cp_ch4 = interp1d(data['TK'], data['Cp'], kind=\"cubic\")\n",
    "p = plot(T, cp_ch4(T), \"k+\")\n",
    "p = plot(data['TK'][1:7], data['Cp'][1:7], 'ro', markersize=8)"
   ]
  },
  {
   "cell_type": "code",
   "execution_count": null,
   "metadata": {
    "collapsed": false
   },
   "outputs": [],
   "source": [
    "cp_ch4 = interp1d(data['TK'], data['Cp'], kind=4)\n",
    "p = plot(T, cp_ch4(T), \"k+\")\n",
    "p = plot(data['TK'][1:7], data['Cp'][1:7], 'ro', markersize=8)"
   ]
  },
  {
   "cell_type": "code",
   "execution_count": null,
   "metadata": {
    "collapsed": false
   },
   "outputs": [],
   "source": [
    "from scipy.interpolate import interp2d, interpnd"
   ]
  },
  {
   "cell_type": "markdown",
   "metadata": {},
   "source": [
    "Copyright 2008-2016, Enthought, Inc.  \n",
    "Use only permitted under license.  Copying, sharing, redistributing or other unauthorized use strictly prohibited.  \n",
    "http://www.enthought.com"
   ]
  }
 ],
 "metadata": {
  "kernelspec": {
   "display_name": "Python 2",
   "language": "python",
   "name": "python2"
  },
  "language_info": {
   "codemirror_mode": {
    "name": "ipython",
    "version": 2
   },
   "file_extension": ".py",
   "mimetype": "text/x-python",
   "name": "python",
   "nbconvert_exporter": "python",
   "pygments_lexer": "ipython2",
   "version": "2.7.10"
  }
 },
 "nbformat": 4,
 "nbformat_minor": 0
}
