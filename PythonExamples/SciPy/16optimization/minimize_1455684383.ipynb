{
 "cells": [
  {
   "cell_type": "markdown",
   "metadata": {},
   "source": [
    "# Minimization"
   ]
  },
  {
   "cell_type": "code",
   "execution_count": null,
   "metadata": {
    "collapsed": true
   },
   "outputs": [],
   "source": [
    "# Imports required but not shown in the video lecture.\n",
    "import numpy as np\n",
    "from numpy import linspace, pi, cos, meshgrid, sin\n",
    "from matplotlib.pyplot import plot, figure, xlabel, ylabel, cm\n",
    "%matplotlib inline"
   ]
  },
  {
   "cell_type": "code",
   "execution_count": null,
   "metadata": {
    "collapsed": false
   },
   "outputs": [],
   "source": [
    "np.set_printoptions(precision=3, suppress=True)"
   ]
  },
  {
   "cell_type": "markdown",
   "metadata": {},
   "source": [
    "example: projectile motion\n",
    "\n",
    "$d = 2 \\frac{v_0^2}{g} sin(\\theta)cos(\\theta)$\n",
    "\n",
    "- $d$ - distance traveled (units match gravity and initial velocity)\n",
    "- $v_0$ - initial velocity (*fixed*)\n",
    "- $g$ - gravity (*constant*)\n",
    "- $\\theta$ - launch angle"
   ]
  },
  {
   "cell_type": "code",
   "execution_count": null,
   "metadata": {
    "collapsed": false
   },
   "outputs": [],
   "source": [
    "def dist(theta, v0):\n",
    "    \"\"\"calculate the distance travelled by a projectile launched\n",
    "    at theta degrees with v0 (m/s) initial velocity.\n",
    "    \"\"\"\n",
    "    g = 9.8\n",
    "    theta_rad = pi * theta / 180\n",
    "    return 2 * v0 ** 2 / g * sin(theta_rad) * cos(theta_rad)\n",
    "theta = linspace(0,90,90)\n",
    "p = plot(theta, dist(theta, 1.))\n",
    "xl = xlabel(r'launch angle $\\theta (^{\\circ})$')\n",
    "yl = ylabel('horizontal distance traveled')"
   ]
  },
  {
   "cell_type": "code",
   "execution_count": null,
   "metadata": {
    "collapsed": false
   },
   "outputs": [],
   "source": [
    "# Let's define a function that we will want to minimize by being the \n",
    "# opposite of the previous one.\n",
    "def neg_dist(theta, v0):\n",
    "    return -1 * dist(theta, v0)"
   ]
  },
  {
   "cell_type": "code",
   "execution_count": null,
   "metadata": {
    "collapsed": false
   },
   "outputs": [],
   "source": [
    "from scipy.optimize import minimize\n",
    "result = minimize(neg_dist, 40, args=(1,))\n",
    "print \"optimal angle = {:.1f} degrees\".format(result.x[0])"
   ]
  },
  {
   "cell_type": "markdown",
   "metadata": {},
   "source": [
    "### The Result object"
   ]
  },
  {
   "cell_type": "code",
   "execution_count": null,
   "metadata": {
    "collapsed": false
   },
   "outputs": [],
   "source": [
    "print type(result)\n",
    "print result"
   ]
  },
  {
   "cell_type": "markdown",
   "metadata": {},
   "source": [
    "### The Rosenbrock function"
   ]
  },
  {
   "cell_type": "markdown",
   "metadata": {},
   "source": [
    "$f(x)=\\sum\\limits_{i=1}^{N-1}{100\\left( x_i - x_{i-1}^2 \\right) ^2 + \\left(1-x_{i-1}^2 \\right)}$"
   ]
  },
  {
   "cell_type": "code",
   "execution_count": null,
   "metadata": {
    "collapsed": false
   },
   "outputs": [],
   "source": [
    "from scipy.optimize import rosen\n",
    "from mpl_toolkits.mplot3d import Axes3D"
   ]
  },
  {
   "cell_type": "code",
   "execution_count": null,
   "metadata": {
    "collapsed": false
   },
   "outputs": [],
   "source": [
    "x, y = meshgrid(np.linspace(-2,2,25), np.linspace(-0.5,3.5,25))\n",
    "z = rosen([x,y])"
   ]
  },
  {
   "cell_type": "code",
   "execution_count": null,
   "metadata": {
    "collapsed": false
   },
   "outputs": [],
   "source": [
    "fig = figure(figsize=(12,5.5))\n",
    "ax = fig.gca(projection=\"3d\")\n",
    "ax.azim = 70; ax.elev = 48\n",
    "ax.set_xlabel(\"X\"); ax.set_ylabel(\"Y\")\n",
    "ax.set_zlim((0,1000))\n",
    "p = ax.plot_surface(x,y,z,rstride=1, cstride=1, cmap=cm.jet)\n",
    "rosen_min = ax.plot([1],[1],[0],\"ro\")"
   ]
  },
  {
   "cell_type": "code",
   "execution_count": null,
   "metadata": {
    "collapsed": false
   },
   "outputs": [],
   "source": [
    "x0 = [1.3, 1.6, -0.5, -1.8, 0.8]\n",
    "result = minimize(rosen, x0)\n",
    "print result.x"
   ]
  },
  {
   "cell_type": "code",
   "execution_count": null,
   "metadata": {
    "collapsed": false
   },
   "outputs": [],
   "source": [
    "x0 = np.random.randn(10)\n",
    "result = minimize(rosen, x0)\n",
    "print x0\n",
    "print result.x"
   ]
  },
  {
   "cell_type": "markdown",
   "metadata": {},
   "source": [
    "### BFGS (Default) method"
   ]
  },
  {
   "cell_type": "code",
   "execution_count": null,
   "metadata": {
    "collapsed": false
   },
   "outputs": [],
   "source": [
    "minimize?"
   ]
  },
  {
   "cell_type": "code",
   "execution_count": null,
   "metadata": {
    "collapsed": false
   },
   "outputs": [],
   "source": [
    "x0 = [-1.5, 4.5]\n",
    "xi = [x0]\n",
    "result = minimize(rosen, x0, callback=xi.append)\n",
    "xi = np.asarray(xi)\n",
    "print xi.shape\n",
    "print result.x\n",
    "print \"in {} function evaluations.\".format(result.nfev)"
   ]
  },
  {
   "cell_type": "code",
   "execution_count": null,
   "metadata": {
    "collapsed": false
   },
   "outputs": [],
   "source": [
    "x, y = meshgrid(np.linspace(-2.3,1.75,25), np.linspace(-0.5,4.5,25))\n",
    "z = rosen([x,y])\n",
    "fig = figure(figsize=(12,5.5))\n",
    "ax = fig.gca(projection=\"3d\"); ax.azim = 70; ax.elev = 75\n",
    "ax.set_xlabel(\"X\"); ax.set_ylabel(\"Y\"); ax.set_zlim((0,1000))\n",
    "p = ax.plot_surface(x,y,z,rstride=1, cstride=1, cmap=cm.jet)\n",
    "intermed = ax.plot(xi[:,0], xi[:,1], rosen(xi.T), \"g-o\")\n",
    "rosen_min = ax.plot([1],[1],[0],\"ro\")"
   ]
  },
  {
   "cell_type": "markdown",
   "metadata": {},
   "source": [
    "_What is a Jacobian?_\n",
    "\n",
    "given $\\left[y_1,y_2,y_3\\right] = f(x_0, x_1, x_2)$\n",
    "\n",
    "$$J=\\left[ \\begin{matrix} \\frac{\\partial y_1}{\\partial x_0} & \\frac{\\partial y_1}{\\partial x_1} & \\frac{\\partial y_1}{\\partial x_2} \\\\\\ \\frac{\\partial y_2}{\\partial x_0} & \\frac{\\partial y_2}{\\partial x_1} & \\frac{\\partial y_2}{\\partial x_2} \\\\\\ \\frac{\\partial y_3}{\\partial x_0} & \\frac{\\partial y_3}{\\partial x_1} & \\frac{\\partial y_3}{\\partial x_2} \\end{matrix} \\right]$$\n",
    "\n",
    "_In our 2-D Rosenbrock example:_\n",
    "\n",
    "$$J= \\left[ \\begin{matrix}\\frac{\\partial rosen}{\\partial x_0} & \\frac{\\partial rosen}{\\partial x_1} \\end{matrix} \\right] $$"
   ]
  },
  {
   "cell_type": "code",
   "execution_count": null,
   "metadata": {
    "collapsed": false
   },
   "outputs": [],
   "source": [
    "from scipy.optimize import rosen_der"
   ]
  },
  {
   "cell_type": "code",
   "execution_count": null,
   "metadata": {
    "collapsed": false
   },
   "outputs": [],
   "source": [
    "xi = [x0]\n",
    "result = minimize(rosen, x0, jac=rosen_der, callback=xi.append)\n",
    "xi = np.asarray(xi)\n",
    "print xi.shape\n",
    "print \"in {} function evaluations and {} jacobian evaluations.\".format(result.nfev, result.njev)"
   ]
  },
  {
   "cell_type": "code",
   "execution_count": null,
   "metadata": {
    "collapsed": false
   },
   "outputs": [],
   "source": [
    "x, y = meshgrid(np.linspace(-2.3,1.75,25), np.linspace(-0.5,4.5,25))\n",
    "z = rosen([x,y])\n",
    "fig = figure(figsize=(12,5.5))\n",
    "ax = fig.gca(projection=\"3d\"); ax.azim = 70; ax.elev = 75\n",
    "ax.set_xlabel(\"X\"); ax.set_ylabel(\"Y\"); ax.set_zlim((0,1000))\n",
    "p = ax.plot_surface(x,y,z,rstride=1, cstride=1, cmap=cm.jet)\n",
    "intermed = ax.plot(xi[:,0], xi[:,1], rosen(xi.T), \"g-o\")\n",
    "rosen_min = ax.plot([1],[1],[0],\"ro\")"
   ]
  },
  {
   "cell_type": "markdown",
   "metadata": {},
   "source": [
    "### Nelder-Mead Simplex Algorithm"
   ]
  },
  {
   "cell_type": "code",
   "execution_count": null,
   "metadata": {
    "collapsed": false
   },
   "outputs": [],
   "source": [
    "xi = [x0]\n",
    "result = minimize(rosen, x0, method=\"nelder-mead\", callback = xi.append)\n",
    "xi = np.asarray(xi)\n",
    "print xi.shape\n",
    "print \"Solved the Nelder-Mead Simplex method with {} function evaluations.\".format(result.nfev)"
   ]
  },
  {
   "cell_type": "code",
   "execution_count": null,
   "metadata": {
    "collapsed": false
   },
   "outputs": [],
   "source": [
    "x, y = meshgrid(np.linspace(-1.9,1.75,25), np.linspace(-0.5,4.5,25))\n",
    "z = rosen([x,y])\n",
    "fig = figure(figsize=(12,5.5))\n",
    "ax = fig.gca(projection=\"3d\"); ax.azim = 70; ax.elev = 75\n",
    "ax.set_xlabel(\"X\"); ax.set_ylabel(\"Y\"); ax.set_zlim((0,1000))\n",
    "p = ax.plot_surface(x,y,z,rstride=1, cstride=1, cmap=cm.jet)\n",
    "intermed = ax.plot(xi[:,0], xi[:,1], rosen(xi.T), \"g-o\")\n",
    "rosen_min = ax.plot([1],[1],[0],\"ro\")"
   ]
  },
  {
   "cell_type": "markdown",
   "metadata": {},
   "source": [
    "### Powell's Method"
   ]
  },
  {
   "cell_type": "code",
   "execution_count": null,
   "metadata": {
    "collapsed": false
   },
   "outputs": [],
   "source": [
    "xi = [x0]\n",
    "result = minimize(rosen, x0, method=\"powell\", callback=xi.append)\n",
    "xi = np.asarray(xi)\n",
    "print xi.shape\n",
    "print \"Solved Powell's method with {} function evaluations.\".format(result.nfev)"
   ]
  },
  {
   "cell_type": "code",
   "execution_count": null,
   "metadata": {
    "collapsed": false
   },
   "outputs": [],
   "source": [
    "x, y = meshgrid(np.linspace(-2.3,1.75,25), np.linspace(-0.5,4.5,25))\n",
    "z = rosen([x,y])\n",
    "fig = figure(figsize=(12,5.5))\n",
    "ax = fig.gca(projection=\"3d\"); ax.azim = 70; ax.elev = 75\n",
    "ax.set_xlabel(\"X\"); ax.set_ylabel(\"Y\"); ax.set_zlim((0,1000))\n",
    "p = ax.plot_surface(x,y,z,rstride=1, cstride=1, cmap=cm.jet)\n",
    "intermed = ax.plot(xi[:,0], xi[:,1], rosen(xi.T), \"g-o\")\n",
    "rosen_min = ax.plot([1],[1],[0],\"ro\")"
   ]
  },
  {
   "cell_type": "code",
   "execution_count": null,
   "metadata": {
    "collapsed": false
   },
   "outputs": [],
   "source": [
    "print minimize.__doc__"
   ]
  },
  {
   "cell_type": "markdown",
   "metadata": {},
   "source": [
    "Copyright 2008-2016, Enthought, Inc.<br>Use only permitted under license.  Copying, sharing, redistributing or other unauthorized use strictly prohibited.<br>http://www.enthought.com"
   ]
  }
 ],
 "metadata": {
  "kernelspec": {
   "display_name": "Python 2",
   "language": "python",
   "name": "python2"
  },
  "language_info": {
   "codemirror_mode": {
    "name": "ipython",
    "version": 2
   },
   "file_extension": ".py",
   "mimetype": "text/x-python",
   "name": "python",
   "nbconvert_exporter": "python",
   "pygments_lexer": "ipython2",
   "version": "2.7.10"
  }
 },
 "nbformat": 4,
 "nbformat_minor": 0
}
