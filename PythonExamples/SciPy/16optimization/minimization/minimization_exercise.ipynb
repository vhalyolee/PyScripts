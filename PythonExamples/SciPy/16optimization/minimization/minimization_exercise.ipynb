{
 "cells": [
  {
   "cell_type": "markdown",
   "metadata": {
    "canopy_exercise": {
     "cell_type": "question"
    }
   },
   "source": [
    "Volatility Estimation\n",
    "=====================\n",
    "\n",
    "A standard model of stock price fluctuation is:\n",
    "\n",
    "$$\\frac{dS}{S} = \\mu dt + \\sigma \\epsilon \\sqrt{\\strut dt}$$\n",
    "\n",
    "where:\n",
    "    \n",
    "* $S$ is the stock price.\n",
    "* $dS$ is the change in stock price.\n",
    "* $\\mu$ is the rate of return.\n",
    "* $dt$ is the time interval.\n",
    "* $\\epsilon$ is a normal random variable with mean 0 and variance 1 that is\n",
    "  uncorrelated with other time intervals.\n",
    "* $\\sigma$ is the volatility.\n",
    "\n",
    "It is desired to make estimates of $\\sigma$ from historical price information.\n",
    "There are simple approaches to do this that assume volatility is constant over a\n",
    "period of time. It is more accurate, however, to recognize that $\\sigma$ changes\n",
    "with each day and therefore should be estimated at each day. To effectively do\n",
    "this from historical price data alone, some kind of model is needed.\n",
    "\n",
    "The GARCH(1,1) model for volatility at time *n*, estimated from data\n",
    "available at the end of time $n-1$ is:\n",
    "\n",
    "$$\\sigma_n^2 = \\gamma V_L + \\alpha u_{n-1}^2 + \\beta \\sigma_{n-1}^2$$\n",
    "\n",
    "where:\n",
    "\n",
    "* $V_L$ is long-running volatility\n",
    "* $\\alpha+\\beta+\\gamma = 1$\n",
    "* $u_n = log(S_n / S_{n-1})$ or $(S_n - S_{n-1})/S_{n-1}$\n",
    "\n",
    "Estimating $V_L$ can be done as the mean of $u_n^2$ (variance of $u_n$).\n",
    "Estimating parameters $\\alpha$ and $\\beta$ is done by finding the parameters that\n",
    "maximize the likelihood that the data $u_n$ would be observed. If it is assumed\n",
    "that the $u_n$ are normally distributed with mean 0 and variance $\\sigma_n$, this\n",
    "is equivalent to finding $\\alpha$ and $\\beta$ that minimize:\n",
    "\n",
    "$$L(\\alpha, \\beta) = \\sum_{n}(log(\\sigma_n^2) + u_n^2 / \\sigma_n^2)$$\n",
    "\n",
    "where $\\sigma_n^2$ is computed as above. "
   ]
  },
  {
   "cell_type": "markdown",
   "metadata": {
    "canopy_exercise": {
     "cell_type": "question"
    }
   },
   "source": [
    "Question 1\n",
    "----------\n",
    "\n",
    "Create a function to read in daily data from `sp500hst.txt` for the S&P 500 for a particular stock. The file format is:\n",
    "\n",
    "       date, symbol, open, high, low, close, volume"
   ]
  },
  {
   "cell_type": "code",
   "execution_count": null,
   "metadata": {
    "canopy_exercise": {
     "cell_type": "starting code"
    },
    "collapsed": false
   },
   "outputs": [],
   "source": [
    "import numpy as np\n",
    "TRADING_DAYS = 252\n",
    "filename = \"sp500hst.txt\""
   ]
  },
  {
   "cell_type": "code",
   "execution_count": null,
   "metadata": {
    "canopy_exercise": {
     "cell_type": "student_solution"
    },
    "collapsed": true
   },
   "outputs": [],
   "source": [
    "# your code goes here"
   ]
  },
  {
   "cell_type": "markdown",
   "metadata": {
    "canopy_exercise": {
     "cell_type": "solution_button"
    }
   },
   "source": [
    "<div class=\"btn-group\"><button class=\"btn\" onclick=\"IPython.canopy_exercise.toggle_solution('3')\">Solution</button></div>"
   ]
  },
  {
   "cell_type": "code",
   "execution_count": null,
   "metadata": {
    "canopy_exercise": {
     "cell_type": "solution_view",
     "solution_number": "3"
    },
    "collapsed": false
   },
   "outputs": [],
   "source": [
    "fmt = [('date', int), ('symbol', 'S4'), ('open', float),\n",
    "       ('high', float), ('low', float), ('close', float),\n",
    "       ('volume', int)]\n",
    "\n",
    "def read_data(filename):\n",
    "    \"\"\"Read all historical price data in filename into a structured\n",
    "    numpy array with fields:\n",
    "\n",
    "    date, symbol, open, high, low, close, volume\n",
    "    \"\"\"\n",
    "    data = np.genfromtxt(filename, delimiter=\",\", dtype=fmt)\n",
    "    return data\n",
    "\n",
    "def read_symbol(filename, symbol):\n",
    "    \"\"\"Read all historical price data for a particular symbol in filename\n",
    "    into a structured numpy array with fields:\n",
    "\n",
    "    date, symbol, open, high, low, close, volume\n",
    "    \"\"\"\n",
    "    data = read_data(filename)\n",
    "    return data[data['symbol']==symbol]"
   ]
  },
  {
   "cell_type": "markdown",
   "metadata": {
    "canopy_exercise": {
     "cell_type": "question"
    }
   },
   "source": [
    "Question 2\n",
    "----------\n",
    "\n",
    "Create a function to estimate volatility per annum for a specific number of periods (assume 252 trading days in a year)."
   ]
  },
  {
   "cell_type": "code",
   "execution_count": null,
   "metadata": {
    "canopy_exercise": {
     "cell_type": "student_solution"
    },
    "collapsed": true
   },
   "outputs": [],
   "source": [
    "# your code goes here"
   ]
  },
  {
   "cell_type": "markdown",
   "metadata": {
    "canopy_exercise": {
     "cell_type": "solution_button"
    }
   },
   "source": [
    "<div class=\"btn-group\"><button class=\"btn\" onclick=\"IPython.canopy_exercise.toggle_solution('4')\">Solution</button></div>"
   ]
  },
  {
   "cell_type": "code",
   "execution_count": null,
   "metadata": {
    "canopy_exercise": {
     "cell_type": "solution_view",
     "solution_number": "4"
    },
    "collapsed": false
   },
   "outputs": [],
   "source": [
    "def volatility(S, periods=4, repeat=False):\n",
    "    \"\"\"Estimate of volatility using the entire data set\n",
    "    divided into periods.  If repeat is True, then copy the\n",
    "    estimate so that len(sigma) == len(S)-1\n",
    "    \"\"\"\n",
    "    N = len(S)\n",
    "    div = N // periods\n",
    "    S = S[:periods * div]\n",
    "    # place each quarter on its own row\n",
    "    S = S.reshape(periods, -1)\n",
    "    # Compute u\n",
    "    u = np.log(S[:, 1:] / S[:, :-1])\n",
    "    # Estimate volatility per annum\n",
    "    #   by adjusting daily volatility calculation\n",
    "    sigma = np.sqrt(u.var(axis=-1) * TRADING_DAYS)\n",
    "    if repeat:\n",
    "        sigma = sigma.repeat(S.shape[-1])\n",
    "    return sigma[1:]"
   ]
  },
  {
   "cell_type": "markdown",
   "metadata": {
    "canopy_exercise": {
     "cell_type": "question"
    }
   },
   "source": [
    "Question 3\n",
    "----------\n",
    "\n",
    "Create a function to compute $\\sigma^2_n$ for each $n$ from $\\alpha$ and $\\beta$ and $u_n^2$ (you may need to use a for loop for this).  Use $V_L$ to start the recursion."
   ]
  },
  {
   "cell_type": "code",
   "execution_count": null,
   "metadata": {
    "canopy_exercise": {
     "cell_type": "student_solution"
    },
    "collapsed": true
   },
   "outputs": [],
   "source": [
    "# your code goes here"
   ]
  },
  {
   "cell_type": "markdown",
   "metadata": {
    "canopy_exercise": {
     "cell_type": "solution_button"
    }
   },
   "source": [
    "<div class=\"btn-group\"><button class=\"btn\" onclick=\"IPython.canopy_exercise.toggle_solution('5')\">Solution</button></div>"
   ]
  },
  {
   "cell_type": "code",
   "execution_count": null,
   "metadata": {
    "canopy_exercise": {
     "cell_type": "solution_view",
     "solution_number": "5"
    },
    "collapsed": false
   },
   "outputs": [],
   "source": [
    "def sigmasq_g(usq, alpha, beta):\n",
    "    \"\"\"sigma_n**2 assuming the GARCH(1,1) model of::\n",
    "\n",
    "        sigma_n**2 = gamma*VL + alpha*sigma_n**2 + beta*u_n**2\n",
    "\n",
    "    where gamma + alpha + beta = 1\n",
    "    and  VL = mean(usq)\n",
    "    \"\"\"\n",
    "    sigmasq = np.empty_like(usq)\n",
    "    VL = usq.mean()\n",
    "    sigmasq[0] = VL\n",
    "    omega = VL * (1 - alpha - beta)\n",
    "    for i in range(1, len(usq)):\n",
    "        sigmasq[i] = omega + alpha * sigmasq[i - 1] + beta * usq[i - 1]\n",
    "    return sigmasq"
   ]
  },
  {
   "cell_type": "markdown",
   "metadata": {
    "canopy_exercise": {
     "cell_type": "question"
    }
   },
   "source": [
    "Question 4\n",
    "----------\n",
    "\n",
    "Create a function that will estimate volatility using GARCH(1,1) approach by minimizing ``L(alpha, beta)``."
   ]
  },
  {
   "cell_type": "code",
   "execution_count": null,
   "metadata": {
    "canopy_exercise": {
     "cell_type": "starting code"
    },
    "collapsed": false
   },
   "outputs": [],
   "source": [
    "from scipy.optimize import fmin"
   ]
  },
  {
   "cell_type": "code",
   "execution_count": null,
   "metadata": {
    "canopy_exercise": {
     "cell_type": "student_solution"
    },
    "collapsed": true
   },
   "outputs": [],
   "source": [
    "# your code goes here"
   ]
  },
  {
   "cell_type": "markdown",
   "metadata": {
    "canopy_exercise": {
     "cell_type": "solution_button"
    }
   },
   "source": [
    "<div class=\"btn-group\"><button class=\"btn\" onclick=\"IPython.canopy_exercise.toggle_solution('7')\">Solution</button></div>"
   ]
  },
  {
   "cell_type": "code",
   "execution_count": null,
   "metadata": {
    "canopy_exercise": {
     "cell_type": "solution_view",
     "solution_number": "7"
    },
    "collapsed": false
   },
   "outputs": [],
   "source": [
    "# Function to minimize to find parameters of GARCH model.\n",
    "def _minfunc(x, usq):\n",
    "    alpha, beta = x\n",
    "    sigsq = sigmasq_g(usq, alpha, beta)\n",
    "    return (np.log(sigsq) + usq / sigsq).sum()\n",
    "\n",
    "def garch_volatility(S):\n",
    "    \"\"\"Volatility per annum for each day computed from historical\n",
    "    close price information using the GARCH(1,1) and maximum\n",
    "    likelihood estimation of the parameters.\n",
    "    \"\"\"\n",
    "    x0 = [0.5, 0.5]\n",
    "    usq = np.log(S[1:]/S[:-1])**2\n",
    "    xopt = fmin(_minfunc, x0, args=(usq,))\n",
    "    sigmasq = sigmasq_g(usq, *xopt)\n",
    "    print \"alpha = \", xopt[0]\n",
    "    print \"beta = \", xopt[1]\n",
    "    print \"V_L = \", usq.mean()\n",
    "    return np.sqrt(sigmasq*TRADING_DAYS)\n"
   ]
  },
  {
   "cell_type": "markdown",
   "metadata": {
    "canopy_exercise": {
     "cell_type": "question"
    }
   },
   "source": [
    "Question 5\n",
    "----------\n",
    "\n",
    "Use the functions to construct a plot of volatility per annum for a stock of your choice (use 'AAPL' if you don't have a preference) using quarterly, monthly, and GARCH(1,1) estimates."
   ]
  },
  {
   "cell_type": "code",
   "execution_count": null,
   "metadata": {
    "canopy_exercise": {
     "cell_type": "starting code"
    },
    "collapsed": false
   },
   "outputs": [],
   "source": [
    "from matplotlib.pyplot import plot, title, xlabel, ylabel, legend, show"
   ]
  },
  {
   "cell_type": "code",
   "execution_count": null,
   "metadata": {
    "canopy_exercise": {
     "cell_type": "student_solution"
    },
    "collapsed": true
   },
   "outputs": [],
   "source": [
    "# your code goes here"
   ]
  },
  {
   "cell_type": "markdown",
   "metadata": {
    "canopy_exercise": {
     "cell_type": "solution_button"
    }
   },
   "source": [
    "<div class=\"btn-group\"><button class=\"btn\" onclick=\"IPython.canopy_exercise.toggle_solution('9')\">Solution</button></div>"
   ]
  },
  {
   "cell_type": "code",
   "execution_count": null,
   "metadata": {
    "canopy_exercise": {
     "cell_type": "solution_view",
     "solution_number": "9"
    },
    "collapsed": false
   },
   "outputs": [],
   "source": [
    "stock = 'MSFT'\n",
    "data = read_symbol('sp500hst.txt', stock)\n",
    "S = data['close']\n",
    "sig_4 = volatility(S, 4, repeat=True)\n",
    "sig_12 = volatility(S, 12, repeat=True)\n",
    "sig_g = garch_volatility(S)\n",
    "\n",
    "plot(sig_g, label='GARCH(1,1)')\n",
    "plot(sig_12, label='Monthly average')\n",
    "plot(sig_4, label='Quarterly average')\n",
    "\n",
    "title('Volatility estimates')\n",
    "xlabel('trading day')\n",
    "ylabel('volatility per annum')\n",
    "legend(loc='lower right')"
   ]
  },
  {
   "cell_type": "markdown",
   "metadata": {
    "canopy_exercise": {
     "cell_type": "question"
    }
   },
   "source": [
    "Copyright 2008-2016, Enthought, Inc.  \n",
    "Use only permitted under license.  Copying, sharing, redistributing or other unauthorized use strictly prohibited.  \n",
    "http://www.enthought.com"
   ]
  }
 ],
 "metadata": {
  "canopy_exercise": {
   "__metadata_version__": 1
  }
 },
 "nbformat": 4,
 "nbformat_minor": 0
}
