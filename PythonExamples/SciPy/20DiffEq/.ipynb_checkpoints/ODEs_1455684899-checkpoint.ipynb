{
 "cells": [
  {
   "cell_type": "markdown",
   "metadata": {},
   "source": [
    "## Integral solution to ODE's"
   ]
  },
  {
   "cell_type": "code",
   "execution_count": null,
   "metadata": {
    "collapsed": false
   },
   "outputs": [],
   "source": [
    "# Imports required but not shown in the video lecture.\n",
    "from matplotlib.pyplot import plot, legend, xlabel, ylabel\n",
    "from numpy import linspace, pi, cos, sin\n",
    "from scipy.integrate import odeint"
   ]
  },
  {
   "cell_type": "markdown",
   "metadata": {},
   "source": [
    "Simple example:\n",
    "\n",
    "$$\\frac{dy}{dt} = sin(t)$$"
   ]
  },
  {
   "cell_type": "code",
   "execution_count": null,
   "metadata": {
    "collapsed": false
   },
   "outputs": [],
   "source": [
    "def dy_dt(y, t):\n",
    "    return sin(t)"
   ]
  },
  {
   "cell_type": "code",
   "execution_count": null,
   "metadata": {
    "collapsed": false
   },
   "outputs": [],
   "source": [
    "t = linspace(0, 2*pi, 100)\n",
    "result = odeint(dy_dt, 0, t)"
   ]
  },
  {
   "cell_type": "code",
   "execution_count": null,
   "metadata": {
    "collapsed": false
   },
   "outputs": [],
   "source": [
    "p = plot(t, result, \"rx\", label=r\"$\\int_{0}^{x}sin(t) dt $\")\n",
    "p = plot(t, -cos(t) + cos(0), label=r\"$cos(0) - cos(t)$\")\n",
    "p = plot(t, dy_dt(0, t), \"g-\", label=r\"$\\frac{dy}{dt}(t)$\")\n",
    "l = legend(loc=\"upper right\")\n",
    "xl = xlabel(\"t\")"
   ]
  },
  {
   "cell_type": "markdown",
   "metadata": {},
   "source": [
    "## Higher order ODE's"
   ]
  },
  {
   "cell_type": "markdown",
   "metadata": {},
   "source": [
    "Projectile motion (vertical)\n",
    "\n",
    "$$\n",
    "\\frac{d^2x}{dt^2} = g - \\frac{D}{m}\\frac{dx}{dt}\n",
    "$$\n",
    "\n",
    "\n",
    "$$y = \\left[x, \\frac{dx}{dt}\\right] $$\n",
    "\n",
    "$$\\begin{aligned}\n",
    "\\frac{dy_0}{dt} &= y_1 \\\\\\\n",
    "\\frac{dy_1}{dt} &= -g - \\frac{D}{m} y_1 \\\\\\\n",
    "\\end{aligned}\n",
    "$$"
   ]
  },
  {
   "cell_type": "code",
   "execution_count": null,
   "metadata": {
    "collapsed": false
   },
   "outputs": [],
   "source": [
    "def dy_dt(y, t):\n",
    "    \"\"\"Governing equations for projectile motion with drag.\n",
    "    y[0] = position\n",
    "    y[1] = velocity\n",
    "    g = gravity (m/s2)\n",
    "    D = drag (1/s) = force/velocity\n",
    "    m = mass (kg)\n",
    "    \"\"\"\n",
    "    g = -9.8\n",
    "    D = 0.1\n",
    "    m = 0.15\n",
    "    dy1 = g - (D/m) * y[1]\n",
    "    dy0 = y[1] if y[0] >= 0 else 0.\n",
    "    return [dy0, dy1]"
   ]
  },
  {
   "cell_type": "code",
   "execution_count": null,
   "metadata": {
    "collapsed": false
   },
   "outputs": [],
   "source": [
    "position_0 = 0.\n",
    "velocity_0 = 100\n",
    "t = linspace(0, 12, 100)\n",
    "y = odeint(dy_dt, [position_0, velocity_0], t)"
   ]
  },
  {
   "cell_type": "code",
   "execution_count": null,
   "metadata": {
    "collapsed": false
   },
   "outputs": [],
   "source": [
    "p = plot(t, y[:,0])\n",
    "yl = ylabel(\"Height (m)\")\n",
    "xl = xlabel(\"Time (s)\")"
   ]
  },
  {
   "cell_type": "code",
   "execution_count": null,
   "metadata": {
    "collapsed": false
   },
   "outputs": [],
   "source": [
    "y, infodict = odeint(dy_dt, [position_0, velocity_0], t, full_output=True, printmessg=True, )\n",
    "print sorted(infodict.keys())\n",
    "print \"cumulative number of function evaluations at each calculated point:\", infodict['nfe']\n",
    "print \"cumulative number of time steps\", infodict['nst']"
   ]
  },
  {
   "cell_type": "markdown",
   "metadata": {},
   "source": [
    "Copyright 2008-2016, Enthought, Inc.<br>Use only permitted under license.  Copying, sharing, redistributing or other unauthorized use strictly prohibited.<br>http://www.enthought.com"
   ]
  }
 ],
 "metadata": {
  "kernelspec": {
   "display_name": "Python 2",
   "language": "python",
   "name": "python2"
  },
  "language_info": {
   "codemirror_mode": {
    "name": "ipython",
    "version": 2
   },
   "file_extension": ".py",
   "mimetype": "text/x-python",
   "name": "python",
   "nbconvert_exporter": "python",
   "pygments_lexer": "ipython2",
   "version": "2.7.11"
  }
 },
 "nbformat": 4,
 "nbformat_minor": 0
}
