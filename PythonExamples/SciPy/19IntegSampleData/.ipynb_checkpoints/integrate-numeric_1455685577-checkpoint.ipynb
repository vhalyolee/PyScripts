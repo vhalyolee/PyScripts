{
 "cells": [
  {
   "cell_type": "markdown",
   "metadata": {},
   "source": [
    "# Numerical Integration in Python"
   ]
  },
  {
   "cell_type": "code",
   "execution_count": 8,
   "metadata": {
    "collapsed": true
   },
   "outputs": [],
   "source": [
    "# Imports required but not shown in the video lecture.\n",
    "import numpy as np\n",
    "from numpy import cos, exp, linspace, pi, sin\n",
    "from matplotlib.pyplot import plot, annotate, fill_between, figure\n",
    "%matplotlib inline"
   ]
  },
  {
   "cell_type": "code",
   "execution_count": null,
   "metadata": {
    "collapsed": false
   },
   "outputs": [],
   "source": [
    "np.set_printoptions(precision=3)"
   ]
  },
  {
   "cell_type": "markdown",
   "metadata": {},
   "source": [
    "Integrals are *anti-derivatives*\n",
    "\n",
    "$$\\frac{d}{dx}F(x) = f(x)$$\n",
    "\n",
    "$$ \\Rightarrow F(x) = \\int f(x) dx $$"
   ]
  },
  {
   "cell_type": "markdown",
   "metadata": {},
   "source": [
    "Integrals are also infinitessimal summations. So for a range of x divided into n intervals\n",
    "\n",
    "$$ F(x) = \\lim_{n\\rightarrow \\infty}\\sum_{i=0}^{n-1} f(x_i)(x_{i+1} - x_i)$$\n",
    "\n",
    "$$\\Rightarrow F(x) = \\int \\limits_{x_0}^{x_n} f(x) dx$$"
   ]
  },
  {
   "cell_type": "markdown",
   "metadata": {},
   "source": [
    "## Integrating a callable function"
   ]
  },
  {
   "cell_type": "code",
   "execution_count": null,
   "metadata": {
    "collapsed": false
   },
   "outputs": [],
   "source": [
    "from scipy.special import jv\n",
    "def f(x):\n",
    "    return jv(2.5, x)\n",
    "x = np.linspace(0, 10, 100)\n",
    "p = plot(x, f(x), 'k-')"
   ]
  },
  {
   "cell_type": "markdown",
   "metadata": {},
   "source": [
    "Quadrature method of integration\n",
    "\n",
    "http://en.wikipedia.org/wiki/Numerical_integration#Quadrature_rules_based_on_interpolating_functions\n",
    "\n",
    "http://www.scipy.org/doc/api_docs/SciPy.integrate.quadrature.html#quadrature\n"
   ]
  },
  {
   "cell_type": "code",
   "execution_count": null,
   "metadata": {
    "collapsed": false
   },
   "outputs": [],
   "source": [
    "from scipy.integrate import quad\n",
    "interval = [0, 6.5]\n",
    "value, max_err = quad(f, *interval)"
   ]
  },
  {
   "cell_type": "code",
   "execution_count": null,
   "metadata": {
    "collapsed": false
   },
   "outputs": [],
   "source": [
    "print value"
   ]
  },
  {
   "cell_type": "code",
   "execution_count": null,
   "metadata": {
    "collapsed": false
   },
   "outputs": [],
   "source": [
    "print max_err"
   ]
  },
  {
   "cell_type": "code",
   "execution_count": null,
   "metadata": {
    "collapsed": false
   },
   "outputs": [],
   "source": [
    "print \"integral = {:.9f}\".format(value)\n",
    "print \"upper bound on error: {:.2e}\".format(max_err)\n",
    "x = np.linspace(0, 10, 100)\n",
    "p = plot(x, f(x), 'k-')\n",
    "x = np.linspace(0, 6.5, 45)\n",
    "p = fill_between(x, f(x), where=f(x)>0, color=\"blue\")\n",
    "p = fill_between(x, f(x), where=f(x)<0, color=\"red\", interpolate=True)"
   ]
  },
  {
   "cell_type": "code",
   "execution_count": null,
   "metadata": {
    "collapsed": false
   },
   "outputs": [],
   "source": [
    "from numpy import inf\n",
    "interval = [0., inf]"
   ]
  },
  {
   "cell_type": "code",
   "execution_count": null,
   "metadata": {
    "collapsed": false
   },
   "outputs": [],
   "source": [
    "def g(x):\n",
    "    return exp(-x ** 1/2)"
   ]
  },
  {
   "cell_type": "code",
   "execution_count": null,
   "metadata": {
    "collapsed": false
   },
   "outputs": [],
   "source": [
    "value, max_err = quad(g, *interval)\n",
    "x = np.linspace(0, 10, 50)\n",
    "fig = figure(figsize=(10,3))\n",
    "p = plot(x, g(x), 'k-')\n",
    "p = fill_between(x, g(x))\n",
    "annotate(r\"$\\int_0^{\\infty}e^{-x^1/2}dx = $\" + \"{}\".format(value), (4, 0.6),\n",
    "         fontsize=16)\n",
    "print \"upper bound on error: {:.1e}\".format(max_err)"
   ]
  },
  {
   "cell_type": "markdown",
   "metadata": {},
   "source": [
    "## Double integration"
   ]
  },
  {
   "cell_type": "markdown",
   "metadata": {},
   "source": [
    "$$ I_n(x) = \\int \\limits_0^{\\infty} \\int \\limits_1^{\\infty} \\frac{e^{-xt}}{t^n}dt dx = \\frac{1}{n}$$"
   ]
  },
  {
   "cell_type": "code",
   "execution_count": null,
   "metadata": {
    "collapsed": false
   },
   "outputs": [],
   "source": [
    "def h(t, x, n):\n",
    "    \"\"\"core function, takes x, t, n\"\"\"\n",
    "    return exp(-x * t) / (t ** n)"
   ]
  },
  {
   "cell_type": "code",
   "execution_count": null,
   "metadata": {
    "collapsed": false
   },
   "outputs": [],
   "source": [
    "from numpy import vectorize\n",
    "@vectorize\n",
    "def int_h_dt(x, n):\n",
    "    \"\"\"Time integrand of h(x).\"\"\"\n",
    "    return quad(h, 1, inf, args=(x, n))[0]"
   ]
  },
  {
   "cell_type": "code",
   "execution_count": null,
   "metadata": {
    "collapsed": false
   },
   "outputs": [],
   "source": [
    "@vectorize\n",
    "def I_n(n):\n",
    "    return quad(int_h_dt, 0, inf, args=(n))"
   ]
  },
  {
   "cell_type": "code",
   "execution_count": null,
   "metadata": {
    "collapsed": false
   },
   "outputs": [],
   "source": [
    "I_n([0.5, 1.0, 2.0, 5])"
   ]
  },
  {
   "cell_type": "code",
   "execution_count": null,
   "metadata": {
    "collapsed": false
   },
   "outputs": [],
   "source": [
    "from scipy.integrate import dblquad\n",
    "@vectorize\n",
    "def I(n):\n",
    "    \"\"\"Same as I_n, but using the built-in dblquad\"\"\"\n",
    "    x_lower = 0\n",
    "    x_upper = inf\n",
    "    return dblquad(h, x_lower, x_upper,\n",
    "                   lambda t_lower: 1, lambda t_upper: inf, args=(n,))"
   ]
  },
  {
   "cell_type": "code",
   "execution_count": null,
   "metadata": {
    "collapsed": false
   },
   "outputs": [],
   "source": [
    "I([0.5, 1.0, 2.0, 5])"
   ]
  },
  {
   "cell_type": "markdown",
   "metadata": {},
   "source": [
    "## Integration of sampled data"
   ]
  },
  {
   "cell_type": "code",
   "execution_count": null,
   "metadata": {
    "collapsed": false
   },
   "outputs": [],
   "source": [
    "from scipy.integrate import trapz, simps"
   ]
  },
  {
   "cell_type": "code",
   "execution_count": null,
   "metadata": {
    "collapsed": false
   },
   "outputs": [],
   "source": [
    "x_s = linspace(0, pi, 5)\n",
    "y_s = sin(x_s)\n",
    "x = linspace(0, pi, 100)\n",
    "y = sin(x)"
   ]
  },
  {
   "cell_type": "code",
   "execution_count": null,
   "metadata": {
    "collapsed": false
   },
   "outputs": [],
   "source": [
    "p = plot(x, y, 'k:')\n",
    "p = plot(x_s, y_s, 'k+-')\n",
    "p = fill_between(x_s, y_s, color=\"gray\")"
   ]
  },
  {
   "cell_type": "code",
   "execution_count": null,
   "metadata": {
    "collapsed": false
   },
   "outputs": [],
   "source": [
    "result_s = trapz(y_s, x_s)\n",
    "result_s_s = simps(y_s, x_s)\n",
    "result = trapz(y, x)\n",
    "print \"Trapezoidal Integration over 5 points : {:.3f}\".format(result_s)\n",
    "print \"Simpson Integration over 5 points : {:.3f}\".format(result_s_s)\n",
    "print \"Trapezoidal Integration over 100 points : {:.3f}\".format(result)"
   ]
  },
  {
   "cell_type": "markdown",
   "metadata": {},
   "source": [
    "### Numpy UFunc \"accumulate\" method"
   ]
  },
  {
   "cell_type": "code",
   "execution_count": null,
   "metadata": {
    "collapsed": false
   },
   "outputs": [],
   "source": [
    "type(np.add)"
   ]
  },
  {
   "cell_type": "code",
   "execution_count": null,
   "metadata": {
    "collapsed": false
   },
   "outputs": [],
   "source": [
    "result_np = np.add.accumulate?"
   ]
  },
  {
   "cell_type": "code",
   "execution_count": null,
   "metadata": {
    "collapsed": true
   },
   "outputs": [],
   "source": [
    "result_np = np.add.accumulate"
   ]
  },
  {
   "cell_type": "code",
   "execution_count": null,
   "metadata": {
    "collapsed": false
   },
   "outputs": [],
   "source": [
    "result_np = np.add.accumulate(y) * (x[1] - x[0]) - (x[1] - x[0]) / 2"
   ]
  },
  {
   "cell_type": "code",
   "execution_count": null,
   "metadata": {
    "collapsed": false
   },
   "outputs": [],
   "source": [
    "p = plot(x, - cos(x) + cos(0), 'rx')\n",
    "p = plot(x, result_np)"
   ]
  },
  {
   "cell_type": "markdown",
   "metadata": {},
   "source": [
    "# Speed Comparisons"
   ]
  },
  {
   "cell_type": "code",
   "execution_count": null,
   "metadata": {
    "collapsed": false
   },
   "outputs": [],
   "source": [
    "import sympy\n",
    "from sympy.abc import x, theta\n",
    "sympy_x = x"
   ]
  },
  {
   "cell_type": "code",
   "execution_count": null,
   "metadata": {
    "collapsed": false
   },
   "outputs": [],
   "source": [
    "x = linspace(0, 20 * pi, 1e+4)\n",
    "y = np.sin(x)\n",
    "sympy_y = vectorize(lambda x: sympy.integrate(sympy.sin(theta), (theta, 0, x)))"
   ]
  },
  {
   "cell_type": "code",
   "execution_count": null,
   "metadata": {
    "collapsed": false
   },
   "outputs": [],
   "source": [
    "%timeit np.add.accumulate(y) * (x[1] - x[0])\n",
    "y0 = np.add.accumulate(y) * (x[1] - x[0])\n",
    "print y0[-1] "
   ]
  },
  {
   "cell_type": "code",
   "execution_count": null,
   "metadata": {
    "collapsed": false
   },
   "outputs": [],
   "source": [
    "%timeit quad(np.sin, 0, 20 * pi)\n",
    "y2 = quad(np.sin, 0, 20 * pi, full_output=True)\n",
    "print \"result = \", y2[0]\n",
    "print \"number of evaluations\", y2[-1]['neval']"
   ]
  },
  {
   "cell_type": "code",
   "execution_count": null,
   "metadata": {
    "collapsed": false
   },
   "outputs": [],
   "source": [
    "%timeit trapz(y, x)\n",
    "y1 = trapz(y, x)\n",
    "print y1"
   ]
  },
  {
   "cell_type": "code",
   "execution_count": null,
   "metadata": {
    "collapsed": false
   },
   "outputs": [],
   "source": [
    "%timeit simps(y, x)\n",
    "y3 = simps(y, x)\n",
    "print y3"
   ]
  },
  {
   "cell_type": "code",
   "execution_count": null,
   "metadata": {
    "collapsed": false
   },
   "outputs": [],
   "source": [
    "%timeit sympy_y(20 * pi)\n",
    "y4 = sympy_y(20 * pi)\n",
    "print y4"
   ]
  },
  {
   "cell_type": "markdown",
   "metadata": {},
   "source": [
    "Copyright 2008-2016, Enthought, Inc.<br>Use only permitted under license.  Copying, sharing, redistributing or other unauthorized use strictly prohibited.<br>http://www.enthought.com"
   ]
  }
 ],
 "metadata": {
  "kernelspec": {
   "display_name": "Python 2",
   "language": "python",
   "name": "python2"
  },
  "language_info": {
   "codemirror_mode": {
    "name": "ipython",
    "version": 2
   },
   "file_extension": ".py",
   "mimetype": "text/x-python",
   "name": "python",
   "nbconvert_exporter": "python",
   "pygments_lexer": "ipython2",
   "version": "2.7.11"
  }
 },
 "nbformat": 4,
 "nbformat_minor": 0
}
