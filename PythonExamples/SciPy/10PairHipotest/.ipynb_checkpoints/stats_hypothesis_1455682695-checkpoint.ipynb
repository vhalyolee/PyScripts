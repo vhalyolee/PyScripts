{
 "cells": [
  {
   "cell_type": "markdown",
   "metadata": {},
   "source": [
    "# Hypothesis Testing"
   ]
  },
  {
   "cell_type": "code",
   "execution_count": null,
   "metadata": {
    "collapsed": false
   },
   "outputs": [],
   "source": [
    "from scipy.stats import norm\n",
    "from scipy.stats import ttest_ind, ttest_rel, ttest_1samp\n",
    "from scipy.stats import t\n",
    "import numpy as np\n",
    "from matplotlib.pyplot import figure, fill_between, hist, plot\n",
    "%matplotlib inline"
   ]
  },
  {
   "cell_type": "markdown",
   "metadata": {},
   "source": [
    "### independent samples"
   ]
  },
  {
   "cell_type": "code",
   "execution_count": null,
   "metadata": {
    "collapsed": false
   },
   "outputs": [],
   "source": [
    "n1 = norm(loc=0.5, scale=1.0)\n",
    "n2 = norm(loc=0, scale=1.0)\n",
    "n1_samples = n1.rvs(size=100)\n",
    "n2_samples = n2.rvs(size=100)\n",
    "samples = np.concatenate([n1_samples, n2_samples], axis=0)\n",
    "loc, scale = norm.fit(samples)\n",
    "n = norm(loc=loc, scale=scale)"
   ]
  },
  {
   "cell_type": "code",
   "execution_count": null,
   "metadata": {
    "collapsed": false
   },
   "outputs": [],
   "source": [
    "x = np.linspace(-3, 3, 100)\n",
    "h = hist([samples, n1_samples, n2_samples], normed=True)\n",
    "p = plot(x, n.pdf(x), 'b-')\n",
    "p = plot(x, n1.pdf(x), 'g-')\n",
    "p = plot(x, n2.pdf(x), 'r-')"
   ]
  },
  {
   "cell_type": "code",
   "execution_count": null,
   "metadata": {
    "collapsed": false
   },
   "outputs": [],
   "source": [
    "t_val, p_val = ttest_ind(n1_samples, n2_samples)\n",
    "print \"t = {}\".format(t_val)\n",
    "print \"p-value = {}\".format(p_val)"
   ]
  },
  {
   "cell_type": "markdown",
   "metadata": {},
   "source": [
    "### paired samples"
   ]
  },
  {
   "cell_type": "code",
   "execution_count": null,
   "metadata": {
    "collapsed": false
   },
   "outputs": [],
   "source": [
    "pop_size = 35\n",
    "\n",
    "pre_treat = norm(loc=0.0, scale=1.0)\n",
    "n0 = pre_treat.rvs(size=pop_size)\n",
    "hist(n0, normed=True)\n",
    "plot(x, pre_treat.pdf(x))"
   ]
  },
  {
   "cell_type": "code",
   "execution_count": null,
   "metadata": {
    "collapsed": false
   },
   "outputs": [],
   "source": [
    "effect = norm(loc=0.15, scale=0.2)\n",
    "eff = effect.rvs(size=n0.shape[0])\n",
    "h = hist(eff, normed=True)\n",
    "p = plot(x, effect.pdf(x))"
   ]
  },
  {
   "cell_type": "code",
   "execution_count": null,
   "metadata": {
    "collapsed": false
   },
   "outputs": [],
   "source": [
    "n1 = n0 + eff\n",
    "loc, scale = norm.fit(n1)\n",
    "post_treat = norm(loc=loc, scale=scale)\n",
    "\n",
    "fig = figure(figsize=(10,4))\n",
    "ax1 = fig.add_subplot(1, 2, 1)\n",
    "h = ax1.hist([n0, n1], normed=True)\n",
    "p = ax1.plot(x, pre_treat.pdf(x), 'b-')\n",
    "p = ax1.plot(x, post_treat.pdf(x), 'g-')\n",
    "ax2 = fig.add_subplot(1, 2, 2)\n",
    "h = ax2.hist(eff, normed=True)"
   ]
  },
  {
   "cell_type": "markdown",
   "metadata": {},
   "source": [
    "#### independent samples test"
   ]
  },
  {
   "cell_type": "code",
   "execution_count": null,
   "metadata": {
    "collapsed": false
   },
   "outputs": [],
   "source": [
    "t_val, p_val = ttest_ind(n0, n1)\n",
    "print \"t = {}\".format(t_val)\n",
    "print \"p-value = {}\".format(p_val)"
   ]
  },
  {
   "cell_type": "markdown",
   "metadata": {},
   "source": [
    "#### related samples test"
   ]
  },
  {
   "cell_type": "code",
   "execution_count": null,
   "metadata": {
    "collapsed": false
   },
   "outputs": [],
   "source": [
    "t_val, p_val = ttest_rel(n1, n0)\n",
    "print \"t = {}\".format(t_val)\n",
    "print \"p-value = {}\".format(p_val)"
   ]
  },
  {
   "cell_type": "code",
   "execution_count": null,
   "metadata": {
    "collapsed": false
   },
   "outputs": [],
   "source": [
    "my_t = t(n0.shape[0])\n",
    "p = plot(x, my_t.pdf(x), 'b-', linewidth=2)\n",
    "lower_x = x[x <= -abs(t_val)]\n",
    "upper_x = x[x >= abs(t_val)]\n",
    "p = fill_between(lower_x, my_t.pdf(lower_x), color=\"gray\")\n",
    "p = fill_between(upper_x, my_t.pdf(upper_x), color=\"gray\")"
   ]
  },
  {
   "cell_type": "code",
   "execution_count": null,
   "metadata": {
    "collapsed": false
   },
   "outputs": [],
   "source": [
    "my_t.cdf(-abs(t_val)) * 2"
   ]
  },
  {
   "cell_type": "markdown",
   "metadata": {},
   "source": [
    "Copyright 2008-2016, Enthought, Inc.<br>Use only permitted under license.  Copying, sharing, redistributing or other unauthorized use strictly prohibited.<br>http://www.enthought.com"
   ]
  }
 ],
 "metadata": {
  "kernelspec": {
   "display_name": "Python 2",
   "language": "python",
   "name": "python2"
  },
  "language_info": {
   "codemirror_mode": {
    "name": "ipython",
    "version": 2
   },
   "file_extension": ".py",
   "mimetype": "text/x-python",
   "name": "python",
   "nbconvert_exporter": "python",
   "pygments_lexer": "ipython2",
   "version": "2.7.11"
  }
 },
 "nbformat": 4,
 "nbformat_minor": 0
}
