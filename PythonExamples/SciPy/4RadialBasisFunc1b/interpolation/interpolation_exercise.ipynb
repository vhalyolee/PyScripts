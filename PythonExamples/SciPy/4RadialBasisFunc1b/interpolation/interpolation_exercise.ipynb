{
 "cells": [
  {
   "cell_type": "markdown",
   "metadata": {
    "canopy_exercise": {
     "cell_type": "question"
    }
   },
   "source": [
    "Interpolation\n",
    "=============\n",
    "\n",
    "In this exercise, we will use some of the SciPy interpolation functions, to clean up some bad data. We will read a datafile, which has some invalid entries, which we will then fill with plausible interpolated results. We will then make a plot of the cleaned data, and as a bonus, will highlight the interpolated regions on the plot."
   ]
  },
  {
   "cell_type": "code",
   "execution_count": null,
   "metadata": {
    "collapsed": true
   },
   "outputs": [],
   "source": [
    "from matplotlib.pyplot import plot, xlabel, ylabel, title\n",
    "%matplotlib inline"
   ]
  },
  {
   "cell_type": "markdown",
   "metadata": {
    "canopy_exercise": {
     "cell_type": "question"
    }
   },
   "source": [
    "Question 1\n",
    "----------\n",
    "\n",
    "Read the data in `ud667.csv`. Note that some of the values are -999.25, which is a special value for \"Missing data\"."
   ]
  },
  {
   "cell_type": "code",
   "execution_count": null,
   "metadata": {
    "canopy_exercise": {
     "cell_type": "starting code"
    },
    "collapsed": false
   },
   "outputs": [],
   "source": [
    "from numpy import genfromtxt, empty, NaN"
   ]
  },
  {
   "cell_type": "code",
   "execution_count": null,
   "metadata": {
    "canopy_exercise": {
     "cell_type": "student_solution"
    },
    "collapsed": true
   },
   "outputs": [],
   "source": [
    "# your code goes here"
   ]
  },
  {
   "cell_type": "markdown",
   "metadata": {
    "canopy_exercise": {
     "cell_type": "solution_button"
    }
   },
   "source": [
    "<div class=\"btn-group\"><button class=\"btn\" onclick=\"IPython.canopy_exercise.toggle_solution('3')\">Solution</button></div>"
   ]
  },
  {
   "cell_type": "code",
   "execution_count": null,
   "metadata": {
    "canopy_exercise": {
     "cell_type": "solution_view",
     "solution_number": "3"
    },
    "collapsed": false
   },
   "outputs": [],
   "source": [
    "logs = genfromtxt('ud667.csv', names=True)"
   ]
  },
  {
   "cell_type": "markdown",
   "metadata": {
    "canopy_exercise": {
     "cell_type": "question"
    }
   },
   "source": [
    "Question 2\n",
    "----------\n",
    "\n",
    "Use the function `interp1d` in the `scipy.interpolate` module to fill in the \"bad\" regions (where the data is -999.25) of the VP data with data from the \"good\" areas in the logs."
   ]
  },
  {
   "cell_type": "code",
   "execution_count": null,
   "metadata": {
    "canopy_exercise": {
     "cell_type": "starting code"
    },
    "collapsed": false
   },
   "outputs": [],
   "source": [
    "from scipy.interpolate import interp1d"
   ]
  },
  {
   "cell_type": "code",
   "execution_count": null,
   "metadata": {
    "canopy_exercise": {
     "cell_type": "student_solution"
    },
    "collapsed": true
   },
   "outputs": [],
   "source": [
    "# your code goes here"
   ]
  },
  {
   "cell_type": "markdown",
   "metadata": {
    "canopy_exercise": {
     "cell_type": "solution_button"
    }
   },
   "source": [
    "<div class=\"btn-group\"><button class=\"btn\" onclick=\"IPython.canopy_exercise.toggle_solution('5')\">Solution</button></div>"
   ]
  },
  {
   "cell_type": "code",
   "execution_count": null,
   "metadata": {
    "canopy_exercise": {
     "cell_type": "solution_view",
     "solution_number": "5"
    },
    "collapsed": false
   },
   "outputs": [],
   "source": [
    "vp = logs['VP']\n",
    "\n",
    "depth = logs['DEPTH']\n",
    "\n",
    "\n",
    "\n",
    "good_mask = vp != -999.25\n",
    "\n",
    "\n",
    "\n",
    "good_depth = depth[good_mask]\n",
    "\n",
    "good_vp = vp[good_mask]\n",
    "\n",
    "\n",
    "\n",
    "# Now find the depths where we want to interpolate.\n",
    "\n",
    "interp_depth = depth[~good_mask]\n",
    "\n",
    "\n",
    "\n",
    "# Create an \"interpolator\" object that interpolates from the \n",
    "\n",
    "# good values for depth and vp \n",
    "\n",
    "interpolator = interp1d(good_depth, good_vp, kind=3, bounds_error=False)\n",
    "\n",
    "\n",
    "\n",
    "# Now, interpolate the new vp values in the areas we had -999.25.\n",
    "\n",
    "interp_vp = interpolator(interp_depth)\n",
    "\n",
    "\n",
    "\n",
    "# Combine the good original and the new interpolated values into\n",
    "\n",
    "# one log.\n",
    "\n",
    "cleaned_vp = vp.copy()\n",
    "\n",
    "cleaned_vp[~good_mask] = interp_vp\n"
   ]
  },
  {
   "cell_type": "markdown",
   "metadata": {
    "canopy_exercise": {
     "cell_type": "question"
    }
   },
   "source": [
    "Question 3\n",
    "----------\n",
    "\n",
    "Create a plot of VP vs. DEPTH using the interpolated data."
   ]
  },
  {
   "cell_type": "code",
   "execution_count": null,
   "metadata": {
    "canopy_exercise": {
     "cell_type": "student_solution"
    },
    "collapsed": true
   },
   "outputs": [],
   "source": [
    "# your code goes here"
   ]
  },
  {
   "cell_type": "markdown",
   "metadata": {
    "canopy_exercise": {
     "cell_type": "solution_button"
    }
   },
   "source": [
    "<div class=\"btn-group\"><button class=\"btn\" onclick=\"IPython.canopy_exercise.toggle_solution('6')\">Solution</button></div>"
   ]
  },
  {
   "cell_type": "code",
   "execution_count": null,
   "metadata": {
    "canopy_exercise": {
     "cell_type": "solution_view",
     "solution_number": "6"
    },
    "collapsed": false
   },
   "outputs": [],
   "source": [
    "plot(depth, cleaned_vp)\n",
    "\n",
    "xlabel('depth')\n",
    "\n",
    "ylabel('vp')\n",
    "\n",
    "title('Interpolated Log')"
   ]
  },
  {
   "cell_type": "markdown",
   "metadata": {
    "canopy_exercise": {
     "cell_type": "question"
    }
   },
   "source": [
    "Question 4\n",
    "----------\n",
    "\n",
    "Bonus: Create another plot of VP vs DEPTH, but change the color\n",
    " of the interpolated part of the data."
   ]
  },
  {
   "cell_type": "code",
   "execution_count": null,
   "metadata": {
    "canopy_exercise": {
     "cell_type": "student_solution"
    },
    "collapsed": true
   },
   "outputs": [],
   "source": [
    "# your code goes here"
   ]
  },
  {
   "cell_type": "markdown",
   "metadata": {
    "canopy_exercise": {
     "cell_type": "solution_button"
    }
   },
   "source": [
    "<div class=\"btn-group\"><button class=\"btn\" onclick=\"IPython.canopy_exercise.toggle_solution('7')\">Solution</button></div>"
   ]
  },
  {
   "cell_type": "code",
   "execution_count": null,
   "metadata": {
    "canopy_exercise": {
     "cell_type": "solution_view",
     "solution_number": "7"
    },
    "collapsed": false
   },
   "outputs": [],
   "source": [
    "# Build another plot that shows the original and interpolated\n",
    "\n",
    "# sections separately.\n",
    "\n",
    "\n",
    "\n",
    "plot(depth, cleaned_vp, 'b')\n",
    "\n",
    "\n",
    "\n",
    "# plot() skips NaN values without connecting the lines\n",
    "\n",
    "cleaned_vp[good_mask] = NaN\n",
    "\n",
    "plot(depth, cleaned_vp, 'r', lw=2, alpha=.8)\n"
   ]
  },
  {
   "cell_type": "markdown",
   "metadata": {
    "canopy_exercise": {
     "cell_type": "question"
    }
   },
   "source": [
    "Copyright 2008-2016, Enthought, Inc.  \n",
    "Use only permitted under license.  Copying, sharing, redistributing or other unauthorized use strictly prohibited.  \n",
    "http://www.enthought.com"
   ]
  }
 ],
 "metadata": {
  "canopy_exercise": {
   "__metadata_version__": 1
  },
  "kernelspec": {
   "display_name": "Python 2",
   "language": "python",
   "name": "python2"
  },
  "language_info": {
   "codemirror_mode": {
    "name": "ipython",
    "version": 2
   },
   "file_extension": ".py",
   "mimetype": "text/x-python",
   "name": "python",
   "nbconvert_exporter": "python",
   "pygments_lexer": "ipython2",
   "version": "2.7.10"
  }
 },
 "nbformat": 4,
 "nbformat_minor": 0
}
