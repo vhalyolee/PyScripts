{
 "cells": [
  {
   "cell_type": "markdown",
   "metadata": {},
   "source": [
    "# Curve Fitting"
   ]
  },
  {
   "cell_type": "code",
   "execution_count": null,
   "metadata": {
    "collapsed": true
   },
   "outputs": [],
   "source": [
    "# Imports required but not shown in the video lecture.\n",
    "import numpy as np\n",
    "from numpy import exp, pi, linalg, linspace, newaxis, sin, sqrt\n",
    "from matplotlib.pyplot import plot, axis\n",
    "%matplotlib inline"
   ]
  },
  {
   "cell_type": "code",
   "execution_count": null,
   "metadata": {
    "collapsed": false
   },
   "outputs": [],
   "source": [
    "np.set_printoptions(precision=3, suppress=True)"
   ]
  },
  {
   "cell_type": "markdown",
   "metadata": {},
   "source": [
    "## Linear polynomial fitting"
   ]
  },
  {
   "cell_type": "code",
   "execution_count": null,
   "metadata": {
    "collapsed": false
   },
   "outputs": [],
   "source": [
    "from numpy import polyfit, poly1d"
   ]
  },
  {
   "cell_type": "code",
   "execution_count": null,
   "metadata": {
    "collapsed": false
   },
   "outputs": [],
   "source": [
    "x = np.linspace(-5, 5, 100)\n",
    "y = 4 * x + 1.5\n",
    "noisy_y = y + np.random.randn(y.shape[-1]) * 2.5"
   ]
  },
  {
   "cell_type": "code",
   "execution_count": null,
   "metadata": {
    "collapsed": false
   },
   "outputs": [],
   "source": [
    "p = plot(x, noisy_y, 'rx')\n",
    "p = plot(x, y, 'b:')"
   ]
  },
  {
   "cell_type": "code",
   "execution_count": null,
   "metadata": {
    "collapsed": false
   },
   "outputs": [],
   "source": [
    "coefficients = polyfit(x, noisy_y, 1)\n",
    "print coefficients"
   ]
  },
  {
   "cell_type": "code",
   "execution_count": null,
   "metadata": {
    "collapsed": false
   },
   "outputs": [],
   "source": [
    "p = plot(x, noisy_y, 'rx')\n",
    "p = plot(x, coefficients[0] * x + coefficients[1], 'k-')\n",
    "p = plot(x, y, 'b--')"
   ]
  },
  {
   "cell_type": "code",
   "execution_count": null,
   "metadata": {
    "collapsed": false
   },
   "outputs": [],
   "source": [
    "f = poly1d(coefficients)\n",
    "p = plot(x, noisy_y, 'rx')\n",
    "p = plot(x, f(x))"
   ]
  },
  {
   "cell_type": "code",
   "execution_count": null,
   "metadata": {
    "collapsed": false
   },
   "outputs": [],
   "source": [
    "f"
   ]
  },
  {
   "cell_type": "code",
   "execution_count": null,
   "metadata": {
    "collapsed": false
   },
   "outputs": [],
   "source": [
    "print f + 2 * f **2"
   ]
  },
  {
   "cell_type": "markdown",
   "metadata": {},
   "source": [
    "## Sine curve example"
   ]
  },
  {
   "cell_type": "code",
   "execution_count": null,
   "metadata": {
    "collapsed": false
   },
   "outputs": [],
   "source": [
    "x = np.linspace(-pi, pi, 100)\n",
    "y = sin(x)"
   ]
  },
  {
   "cell_type": "code",
   "execution_count": null,
   "metadata": {
    "collapsed": false
   },
   "outputs": [],
   "source": [
    "y1 = poly1d(polyfit(x, y, 1))\n",
    "y3 = poly1d(polyfit(x, y, 3))\n",
    "y5 = poly1d(polyfit(x, y, 5))\n",
    "y7 = poly1d(polyfit(x, y, 7))\n",
    "y9 = poly1d(polyfit(x, y, 9))"
   ]
  },
  {
   "cell_type": "code",
   "execution_count": null,
   "metadata": {
    "collapsed": false
   },
   "outputs": [],
   "source": [
    "x = np.linspace(-3 * pi, 3 * pi, 100)\n",
    "p = plot(x, sin(x), 'k')\n",
    "p = plot(x, y1(x))\n",
    "p = plot(x, y3(x))\n",
    "p = plot(x, y5(x))\n",
    "p = plot(x, y7(x))\n",
    "p = plot(x, y9(x))\n",
    "a = axis([-3 * pi, 3 * pi, -1.25, 1.25])"
   ]
  },
  {
   "cell_type": "markdown",
   "metadata": {},
   "source": [
    "## Least-Squares Fitting"
   ]
  },
  {
   "cell_type": "code",
   "execution_count": null,
   "metadata": {
    "collapsed": false
   },
   "outputs": [],
   "source": [
    "from scipy.linalg import lstsq\n",
    "from scipy.stats import linregress\n",
    "from scipy.optimize import leastsq"
   ]
  },
  {
   "cell_type": "code",
   "execution_count": null,
   "metadata": {
    "collapsed": false
   },
   "outputs": [],
   "source": [
    "x = np.linspace(0, 5, 100)\n",
    "y = 0.5 * x + np.random.randn(x.shape[-1]) * 0.35\n",
    "p = plot(x,y,'x')"
   ]
  },
  {
   "cell_type": "markdown",
   "metadata": {},
   "source": [
    "$$XC = Y$$\n",
    "\n",
    "where for a polynomial of order $N$ and $M$ observations\n",
    "\n",
    "$$\\left[ \\begin{matrix}\n",
    "x_0^{N-1} & \\dots & x_0 & 1 \\\\\\\n",
    "x_1^{N-1} & \\dots & x_1 & 1 \\\\\\\n",
    "\\dots & \\dots & \\dots & \\dots \\\\\\\n",
    "x_M^{N-1} & \\dots & x_M & 1\n",
    "\\end{matrix}\\right] \n",
    "\\left[ \\begin{matrix} C_{N-1} \\\\\\ \\dots \\\\\\ C_1 \\\\\\ C_0 \\end{matrix} \\right] =\n",
    "\\left[ \\begin{matrix} y_0 \\\\\\ y_1 \\\\\\ \\dots \\\\\\ y_M \\end{matrix} \\right]$$"
   ]
  },
  {
   "cell_type": "markdown",
   "metadata": {},
   "source": [
    "### Scipy.linalg.lstsq "
   ]
  },
  {
   "cell_type": "code",
   "execution_count": null,
   "metadata": {
    "collapsed": false
   },
   "outputs": [],
   "source": [
    "X = np.hstack((x[:,newaxis], np.ones((x.shape[-1],1))))\n",
    "X"
   ]
  },
  {
   "cell_type": "code",
   "execution_count": null,
   "metadata": {
    "collapsed": false
   },
   "outputs": [],
   "source": [
    "C, resid, rank, s = linalg.lstsq(X, y)\n",
    "p = plot(x, y, 'rx')\n",
    "p = plot(x, C[0] * x + C[1], 'k--')\n",
    "print \"sum squared residual = {:.3f}\".format(resid[0])\n",
    "print \"rank of the X matrix = {}\".format(rank)\n",
    "print \"singular values of X = {}\".format(s)"
   ]
  },
  {
   "cell_type": "markdown",
   "metadata": {},
   "source": [
    "### Scipy.stats.linregress"
   ]
  },
  {
   "cell_type": "code",
   "execution_count": null,
   "metadata": {
    "collapsed": false
   },
   "outputs": [],
   "source": [
    "slope, intercept, r_value, p_value, stderr = linregress(x, y)"
   ]
  },
  {
   "cell_type": "code",
   "execution_count": null,
   "metadata": {
    "collapsed": false
   },
   "outputs": [],
   "source": [
    "p = plot(x, y, 'rx')\n",
    "p = plot(x, slope * x + intercept, 'k--')\n",
    "print \"R-value = {:.3f}\".format(r_value)\n",
    "print \"p-value (probability there is no correlation) = {:.3e}\".format(p_value)\n",
    "print \"Root mean squared error (𝜎) of the fit = {:.3f}\".format(sqrt(stderr))"
   ]
  },
  {
   "cell_type": "markdown",
   "metadata": {},
   "source": [
    "## Curve fitting with callables"
   ]
  },
  {
   "cell_type": "markdown",
   "metadata": {},
   "source": [
    "$y = a e^{-b sin( f x + \\phi)}$"
   ]
  },
  {
   "cell_type": "code",
   "execution_count": null,
   "metadata": {
    "collapsed": false
   },
   "outputs": [],
   "source": [
    "def function(x, a , b, f, phi):\n",
    "    \"\"\"a function of x with four parameters\"\"\"\n",
    "    result = a * exp(-b * sin(f * x + phi))\n",
    "    return result"
   ]
  },
  {
   "cell_type": "code",
   "execution_count": null,
   "metadata": {
    "collapsed": false
   },
   "outputs": [],
   "source": [
    "x = linspace(0, 2 * pi, 50)\n",
    "actual_parameters = [3, 2, 1.25, pi / 4]\n",
    "y = function(x, *actual_parameters)\n",
    "p = plot(x,y)"
   ]
  },
  {
   "cell_type": "code",
   "execution_count": null,
   "metadata": {
    "collapsed": false
   },
   "outputs": [],
   "source": [
    "from scipy.stats import norm\n",
    "y_noisy = y + 0.8 * norm.rvs(size=len(x))\n",
    "p = plot(x, y, 'k-')\n",
    "p = plot(x, y_noisy, 'rx')"
   ]
  },
  {
   "cell_type": "markdown",
   "metadata": {},
   "source": [
    "### scipy.optimize.leastsq"
   ]
  },
  {
   "cell_type": "code",
   "execution_count": null,
   "metadata": {
    "collapsed": false
   },
   "outputs": [],
   "source": [
    "def f_err(p, y, x):\n",
    "    return y - function(x, *p)"
   ]
  },
  {
   "cell_type": "code",
   "execution_count": null,
   "metadata": {
    "collapsed": false
   },
   "outputs": [],
   "source": [
    "c, ret_val = leastsq(f_err, [1, 1, 1, 1], args=(y_noisy, x))"
   ]
  },
  {
   "cell_type": "markdown",
   "metadata": {},
   "source": [
    "If `ret_val` is 1, 2, 3, 4, then the solution was found, and execution was successful."
   ]
  },
  {
   "cell_type": "code",
   "execution_count": null,
   "metadata": {
    "collapsed": false
   },
   "outputs": [],
   "source": [
    "print ret_val, c"
   ]
  },
  {
   "cell_type": "code",
   "execution_count": null,
   "metadata": {
    "collapsed": false
   },
   "outputs": [],
   "source": [
    "p = plot(x, y_noisy, 'rx')\n",
    "p = plot(x, function(x, *c), 'k--')"
   ]
  },
  {
   "cell_type": "code",
   "execution_count": null,
   "metadata": {
    "collapsed": false
   },
   "outputs": [],
   "source": [
    "c, ret_val = leastsq(f_err, [0, 0, 0, 0], args=(y_noisy, x))\n",
    "p = plot(x, y, 'rx')\n",
    "p = plot(x, function(x, *c), 'k--')"
   ]
  },
  {
   "cell_type": "markdown",
   "metadata": {},
   "source": [
    "### scipy.optimize.curve_fit"
   ]
  },
  {
   "cell_type": "markdown",
   "metadata": {},
   "source": [
    "General purpose curve fitting interface to Fortran `MINPACK`"
   ]
  },
  {
   "cell_type": "code",
   "execution_count": null,
   "metadata": {
    "collapsed": false
   },
   "outputs": [],
   "source": [
    "from scipy.optimize import curve_fit"
   ]
  },
  {
   "cell_type": "code",
   "execution_count": null,
   "metadata": {
    "collapsed": false
   },
   "outputs": [],
   "source": [
    "p_est, err_est = curve_fit(function, x, y_noisy)"
   ]
  },
  {
   "cell_type": "code",
   "execution_count": null,
   "metadata": {
    "collapsed": false
   },
   "outputs": [],
   "source": [
    "print p_est\n",
    "p = plot(x, y_noisy, \"rx\")\n",
    "p = plot(x, function(x, *p_est), \"k--\")"
   ]
  },
  {
   "cell_type": "code",
   "execution_count": null,
   "metadata": {
    "collapsed": false
   },
   "outputs": [],
   "source": [
    "# err_est is a covariance matrix of the estimates\n",
    "# The diagonals are the variances of the individual parameters.\n",
    "print err_est"
   ]
  },
  {
   "cell_type": "code",
   "execution_count": null,
   "metadata": {
    "collapsed": false
   },
   "outputs": [],
   "source": [
    "print \"normalized relative errors for each parameter\"\n",
    "print \"   a\\t  b\\t f\\tphi\"\n",
    "print sqrt(err_est.diagonal()) / p_est"
   ]
  },
  {
   "cell_type": "markdown",
   "metadata": {},
   "source": [
    "Copyright 2008-2016, Enthought, Inc.<br>Use only permitted under license.  Copying, sharing, redistributing or other unauthorized use strictly prohibited.<br>http://www.enthought.com"
   ]
  }
 ],
 "metadata": {
  "kernelspec": {
   "display_name": "Python 2",
   "language": "python",
   "name": "python2"
  },
  "language_info": {
   "codemirror_mode": {
    "name": "ipython",
    "version": 2
   },
   "file_extension": ".py",
   "mimetype": "text/x-python",
   "name": "python",
   "nbconvert_exporter": "python",
   "pygments_lexer": "ipython2",
   "version": "2.7.11"
  }
 },
 "nbformat": 4,
 "nbformat_minor": 0
}
