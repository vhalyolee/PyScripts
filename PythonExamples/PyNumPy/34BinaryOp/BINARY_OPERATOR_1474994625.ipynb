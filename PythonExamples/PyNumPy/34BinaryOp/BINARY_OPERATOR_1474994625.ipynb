{
 "cells": [
  {
   "cell_type": "markdown",
   "metadata": {},
   "source": [
    "# Binary Operators"
   ]
  },
  {
   "cell_type": "code",
   "execution_count": null,
   "metadata": {
    "collapsed": true
   },
   "outputs": [],
   "source": [
    "# Imports required but not shown in the video lecture.\n",
    "import numpy\n",
    "\n",
    "from numpy import (add, array, empty_like, float32, float64, int32, \n",
    "                   logical_and, multiply, uint8, zeros)"
   ]
  },
  {
   "cell_type": "code",
   "execution_count": null,
   "metadata": {
    "collapsed": false
   },
   "outputs": [],
   "source": [
    "print numpy.__version__"
   ]
  },
  {
   "cell_type": "markdown",
   "metadata": {},
   "source": [
    "## Basic Mathematical Operations (+, *, -, /, and friends)"
   ]
  },
  {
   "cell_type": "markdown",
   "metadata": {},
   "source": [
    "The basic binary mathematical operators, addition(+), subtraction (-), multiplication (*), and division (/) support element-by-element operations between two arrays.  For operations between an array and a scalar, the scalar is \"broadcast\" across each value in the array.  In the example below where the scalar, `3`, is multiplied with an array, `a`, `3` is multiplied with each value in the array.  The remainder operator, `%`, and the power operator, `**`, also follow these same rules. \n",
    "\n",
    "Note: The \"broadcasting\" idea actually extends beyond scalar-array operations and will, when certain conditions are met, allow operations between two arrays with different shapes.  This is covered in a later lecture."
   ]
  },
  {
   "cell_type": "code",
   "execution_count": null,
   "metadata": {
    "collapsed": false
   },
   "outputs": [],
   "source": [
    "a = array([1,2])\n",
    "a * 3"
   ]
  },
  {
   "cell_type": "code",
   "execution_count": null,
   "metadata": {
    "collapsed": false
   },
   "outputs": [],
   "source": [
    "a = array([1,2])\n",
    "b = array([3,4])\n",
    "a * b"
   ]
  },
  {
   "cell_type": "markdown",
   "metadata": {},
   "source": [
    "There is an identical \"functional\" form of all of these operators, `add`, `subtract`, `multiply`, `divide`, `remainder`, and `power`.  They are rarely used by end users in normal data analysis, but the can come in handy when writing applications that need to evaluate mathematical expressions.  These functions, in their basic form, take two inputs, `a` and `b` below, and produce a third array which is the result.  "
   ]
  },
  {
   "cell_type": "code",
   "execution_count": null,
   "metadata": {
    "collapsed": false
   },
   "outputs": [],
   "source": [
    "multiply(a,b)"
   ]
  },
  {
   "cell_type": "markdown",
   "metadata": {},
   "source": [
    "## In-place operations"
   ]
  },
  {
   "cell_type": "markdown",
   "metadata": {},
   "source": [
    "The binary operators actually will accept a third argument, an array where the results from the operation are written.  The array must of the correct shape for the output array.   This can be used to write the results into a pre-allocated array, saving the array creation time for the results and potentially improving performance.  \n",
    "\n",
    "In the following case, the output array is also one of the input arrays.  This results in an \"inplace\" operation where the results overwrite the contents of one of the input operators.  This has the additional performance benefit of reducing the amount of memory that moves through the cache during the operations (only two arrays instead of three).  It is, however, at the expense of readability in anything but the most trivial operation.  As a result, it isn't encouraged accept in very particular situations where performance is absolute king.  And, even in those situations, it is likely that a tool like `cython` or `numexpr` will provide similar or better results without degrading readability as severely.  "
   ]
  },
  {
   "cell_type": "code",
   "execution_count": null,
   "metadata": {
    "collapsed": false
   },
   "outputs": [],
   "source": [
    "# overwrite the values in a with the results from a*b\n",
    "multiply(a,b,a)"
   ]
  },
  {
   "cell_type": "code",
   "execution_count": null,
   "metadata": {
    "collapsed": false
   },
   "outputs": [],
   "source": [
    "a"
   ]
  },
  {
   "cell_type": "markdown",
   "metadata": {},
   "source": [
    "### Timing Comparison"
   ]
  },
  {
   "cell_type": "markdown",
   "metadata": {},
   "source": [
    "Here are some timing comparisons between standard binary operator execution and using \"inplace\" operations with the functional binary operator interface."
   ]
  },
  {
   "cell_type": "code",
   "execution_count": null,
   "metadata": {
    "collapsed": false
   },
   "outputs": [],
   "source": [
    "from timeit import timeit\n",
    "a = zeros((512,512),dtype=float64)\n",
    "b = zeros((512,512),dtype=float64)\n",
    "c = zeros((512,512),dtype=float64)\n"
   ]
  },
  {
   "cell_type": "code",
   "execution_count": null,
   "metadata": {
    "collapsed": false
   },
   "outputs": [],
   "source": [
    "%timeit d = a + b * c"
   ]
  },
  {
   "cell_type": "code",
   "execution_count": null,
   "metadata": {
    "collapsed": false
   },
   "outputs": [],
   "source": [
    "d = empty_like(a)\n",
    "%timeit add(a, multiply(b, c, b), a)\n"
   ]
  },
  {
   "cell_type": "code",
   "execution_count": null,
   "metadata": {
    "collapsed": false
   },
   "outputs": [],
   "source": [
    "speed_up = 745/402.\n",
    "print speed_up"
   ]
  },
  {
   "cell_type": "code",
   "execution_count": null,
   "metadata": {
    "collapsed": false
   },
   "outputs": [],
   "source": [
    "# timeit doesn't work with statements like b*= c.  Just use the timers directly.\n",
    "from timeit import default_timer\n",
    "t1 = default_timer()\n",
    "for i in range(1000):\n",
    "    b *= c\n",
    "    a += c\n",
    "t2 = default_timer()\n",
    "print (t2-t1)/1000."
   ]
  },
  {
   "cell_type": "markdown",
   "metadata": {},
   "source": [
    "## Comparison Operators"
   ]
  },
  {
   "cell_type": "code",
   "execution_count": null,
   "metadata": {
    "collapsed": false
   },
   "outputs": [],
   "source": [
    "a = array([[1,2,3,4],\n",
    "           [2,3,4,5]])\n",
    "b = array([[1,2,5,4],\n",
    "           [1,3,4,5]])"
   ]
  },
  {
   "cell_type": "code",
   "execution_count": null,
   "metadata": {
    "collapsed": false
   },
   "outputs": [],
   "source": [
    "a == b"
   ]
  },
  {
   "cell_type": "code",
   "execution_count": null,
   "metadata": {
    "collapsed": false
   },
   "outputs": [],
   "source": [
    "a > b"
   ]
  },
  {
   "cell_type": "markdown",
   "metadata": {},
   "source": [
    "## Arrays and the `if` statement"
   ]
  },
  {
   "cell_type": "markdown",
   "metadata": {},
   "source": [
    "Be careful when using arrays within the conditional test in `if` statements.  The if statement expects the condition to be a single `True/False` value instead of an array of values.  When given an array, it'll raise an exception.  Depending on your situation, there are a couple of solutions here that don't involve slowly looping over each element independently.  The first is to look at the `choose` function.  In some cases, it can replace the need for `if/then` statements.  The second is to use `all`, `any`, or `allclose` to reduce the entire boolean array to a single scalar.  Which one you choose will depend on the logic needed for your application."
   ]
  },
  {
   "cell_type": "code",
   "execution_count": null,
   "metadata": {
    "collapsed": false
   },
   "outputs": [],
   "source": [
    "if all(a==b):\n",
    "    print \"All the values are the same!\"\n",
    "else:\n",
    "    print \"Some of the values are different.\""
   ]
  },
  {
   "cell_type": "markdown",
   "metadata": {},
   "source": [
    "## Logical Operators"
   ]
  },
  {
   "cell_type": "markdown",
   "metadata": {},
   "source": [
    "`logical_and`, `logical_not`, `logical_or`, and `logical_xor` provide an element-by-element logical comparison between two arrays.  While Bitwise operations are more common and accomplish the same thing when operating on boolean arrays, they are particularly useful in comparing values from arrays with different dtypes."
   ]
  },
  {
   "cell_type": "code",
   "execution_count": null,
   "metadata": {
    "collapsed": false
   },
   "outputs": [],
   "source": [
    "a = array([0,  1, 2], dtype=float32)\n",
    "b = array([0, 10, 0], dtype=int32)"
   ]
  },
  {
   "cell_type": "code",
   "execution_count": null,
   "metadata": {
    "collapsed": false
   },
   "outputs": [],
   "source": [
    "logical_and(a,b)"
   ]
  },
  {
   "cell_type": "markdown",
   "metadata": {},
   "source": [
    "## Bitwise Operators"
   ]
  },
  {
   "cell_type": "code",
   "execution_count": null,
   "metadata": {
    "collapsed": false
   },
   "outputs": [],
   "source": [
    "a = array([1,   2,  4,   8], dtype=uint8)\n",
    "b = array([16, 32, 64, 128], dtype=uint8)"
   ]
  },
  {
   "cell_type": "code",
   "execution_count": null,
   "metadata": {
    "collapsed": false
   },
   "outputs": [],
   "source": [
    "# bitwise or\n",
    "a | b"
   ]
  },
  {
   "cell_type": "code",
   "execution_count": null,
   "metadata": {
    "collapsed": false
   },
   "outputs": [],
   "source": [
    "a = array((1,2,3,4), uint8)\n",
    "~a"
   ]
  },
  {
   "cell_type": "code",
   "execution_count": null,
   "metadata": {
    "collapsed": false
   },
   "outputs": [],
   "source": [
    "a = array([1, 2, 4, 8], dtype=uint8)\n",
    "a << 3"
   ]
  },
  {
   "cell_type": "markdown",
   "metadata": {},
   "source": [
    "Copyright 2008-2016, Enthought, Inc.<br>Use only permitted under license.  Copying, sharing, redistributing or other unauthorized use strictly prohibited.<br>",
    "http://www.enthought.com"
   ]
  }
 ],
 "metadata": {
  "kernelspec": {
   "display_name": "Python 2",
   "language": "python",
   "name": "python2"
  },
  "language_info": {
   "codemirror_mode": {
    "name": "ipython",
    "version": 2
   },
   "file_extension": ".py",
   "mimetype": "text/x-python",
   "name": "python",
   "nbconvert_exporter": "python",
   "pygments_lexer": "ipython2",
   "version": "2.7.10"
  }
 },
 "nbformat": 4,
 "nbformat_minor": 0
}
