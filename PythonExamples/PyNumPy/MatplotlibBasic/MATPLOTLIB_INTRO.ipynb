{
 "cells": [
  {
   "cell_type": "markdown",
   "metadata": {},
   "source": [
    "# Matplotlib Basics"
   ]
  },
  {
   "cell_type": "code",
   "execution_count": null,
   "metadata": {
    "collapsed": true
   },
   "outputs": [],
   "source": [
    "# Imports required but not shown in the video lecture.\n",
    "import numpy\n",
    "import matplotlib\n",
    "\n",
    "from numpy import array, cos, linspace, mgrid, pi, sin, sqrt\n",
    "from numpy.random import rand, randn\n",
    "from matplotlib.pyplot import (clf, close, colorbar, figure, \n",
    "                               grid, hold, imshow, legend, \n",
    "                               plot, scatter, show, subplot, \n",
    "                               title, xlabel, ylabel, )\n",
    "from matplotlib import cm\n",
    "%matplotlib inline"
   ]
  },
  {
   "cell_type": "code",
   "execution_count": null,
   "metadata": {
    "collapsed": false
   },
   "outputs": [],
   "source": [
    "print numpy.__version__\n",
    "print matplotlib.__version__"
   ]
  },
  {
   "cell_type": "markdown",
   "metadata": {},
   "source": [
    "`matplotlib` provides tons of tools for creating line plots, image plots, and even some 3D plots.  By default, many of the matplotlib functions are available at the command line or in notebooks within Canopy.  When you write scripts using these tools, you will need to import the desired functions.  There are a couple of common approaches.  The first is to import the specific functions you want using:\n",
    "    \n",
    "    from matplotlib.pyplot import plot, subplot, figure, etc.\n",
    "\n",
    "An alternative that is also used quite often is:\n",
    "    \n",
    "    import matplotlib.pyplot as plt\n",
    "\n",
    "Using this approach, you can refer to the plot commands through the `plt` name such as `plt.plot`.\n",
    "\n",
    "Within Canopy, the command line and notebooks use `pylab` mode which, from a plotting perspective, is equivalent to running:\n",
    "    \n",
    "    from matplotlib.pyplot import *\n",
    "\n",
    "at the command line.\n",
    "\n",
    "\n",
    "Line Plots\n",
    "==========\n",
    "\n",
    "The **`plot`** command is the swiss army knife of plotting commands.  It defaults to creating line plots, but it is possible to control many different aspects of data display (marker types, color, transparency, etc.) through its key word arguments."
   ]
  },
  {
   "cell_type": "markdown",
   "metadata": {},
   "source": [
    "Plot Against Indices\n",
    "--------------------\n",
    "\n",
    "When calling **`plot`** with a single argument (in this case `sin(x)`), the values of the array are used as the y values, and the indices of the array (0, 1, 2, ...) are used as the x axis."
   ]
  },
  {
   "cell_type": "code",
   "execution_count": null,
   "metadata": {
    "collapsed": false
   },
   "outputs": [],
   "source": [
    "x = linspace(0, 2*pi, 50)\n",
    "plot(sin(x))"
   ]
  },
  {
   "cell_type": "markdown",
   "metadata": {},
   "source": [
    "When calling plot with two arguments, the first is used as the x value, and the second is used as the y value."
   ]
  },
  {
   "cell_type": "code",
   "execution_count": null,
   "metadata": {
    "collapsed": false
   },
   "outputs": [],
   "source": [
    "plot(x,sin(x))"
   ]
  },
  {
   "cell_type": "markdown",
   "metadata": {},
   "source": [
    "Multiple Data Sets\n",
    "------------------\n",
    "\n",
    "Calling **`plot`** with multiple argument pairs results in multiple lines within a plot."
   ]
  },
  {
   "cell_type": "code",
   "execution_count": null,
   "metadata": {
    "collapsed": false
   },
   "outputs": [],
   "source": [
    "plot(x, sin(x), x, sin(2*x))"
   ]
  },
  {
   "cell_type": "markdown",
   "metadata": {},
   "source": [
    "Launching External Plots Windows\n",
    "================================\n",
    "\n",
    "By default, the notebooks in Canopy put the plot command output 'inline' within the notebook.  It is possible, however, to launch an external plot window from using the magic command **`%pylab qt`**.  This will bring up the standard plot window that you get when running plot commands from Canopy's console window.  There are multiple benefits to external windows including much more interactive plots (zooming, panning, etc.).  You can use this window to experiment with the various toolbars.  "
   ]
  },
  {
   "cell_type": "code",
   "execution_count": null,
   "metadata": {
    "collapsed": false
   },
   "outputs": [],
   "source": [
    "%matplotlib qt\n",
    "plot(x, sin(x))"
   ]
  },
  {
   "cell_type": "markdown",
   "metadata": {},
   "source": [
    "To switch back to inline plots, use the magic command **`%pylab inline`**."
   ]
  },
  {
   "cell_type": "code",
   "execution_count": null,
   "metadata": {
    "collapsed": false
   },
   "outputs": [],
   "source": [
    "%matplotlib inline\n",
    "plot(x, sin(x))"
   ]
  },
  {
   "cell_type": "markdown",
   "metadata": {},
   "source": [
    "Plot Format Strings\n",
    "===================\n",
    "\n",
    "If and x,y data pair is followed by a string, it is interpreted as a format string for the line that allows you to specify color, line type, and marker type.  To see a full list of options for format strings, type **`plot?`** at the prompt."
   ]
  },
  {
   "cell_type": "code",
   "execution_count": null,
   "metadata": {
    "collapsed": false
   },
   "outputs": [],
   "source": [
    "plot(x, sin(x), 'r-^')"
   ]
  },
  {
   "cell_type": "code",
   "execution_count": null,
   "metadata": {
    "collapsed": false
   },
   "outputs": [],
   "source": [
    "plot(x, sin(x), 'b-o', x, sin(2*x), 'r-^')"
   ]
  },
  {
   "cell_type": "markdown",
   "metadata": {},
   "source": [
    "Scatter Plots\n",
    "=============\n",
    "\n",
    "The **`scatter`** function can create simple x, y scatter plots."
   ]
  },
  {
   "cell_type": "code",
   "execution_count": null,
   "metadata": {
    "collapsed": false
   },
   "outputs": [],
   "source": [
    "x = linspace(0, 2*pi, 50)\n",
    "y = sin(x)\n",
    "scatter(x,y)"
   ]
  },
  {
   "cell_type": "markdown",
   "metadata": {},
   "source": [
    "It also takes 4 arguments to produce a x,y scatter plot that also varies the size and color for each marker."
   ]
  },
  {
   "cell_type": "code",
   "execution_count": null,
   "metadata": {
    "collapsed": false
   },
   "outputs": [],
   "source": [
    "x = randn(200)\n",
    "y = randn(200)\n",
    "size = rand(200) * 30\n",
    "color = rand(200)\n",
    "scatter(x, y, size, color)\n",
    "colorbar()"
   ]
  },
  {
   "cell_type": "markdown",
   "metadata": {},
   "source": [
    "Multiple Plot Windows\n",
    "=====================\n",
    "\n",
    "The **`figure`** function will create new plot windows (when not in the inline plot display mode in notebooks).  In notebooks, it simply creates two separate plots."
   ]
  },
  {
   "cell_type": "code",
   "execution_count": null,
   "metadata": {
    "collapsed": false
   },
   "outputs": [],
   "source": [
    "%matplotlib qt\n",
    "t = linspace(0, 2*pi, 50)\n",
    "x = sin(t)\n",
    "y = cos(t)\n",
    "\n",
    "# create the first window\n",
    "figure()\n",
    "plot(x)\n",
    "\n",
    "# create the second window.\n",
    "figure()\n",
    "plot(y)"
   ]
  },
  {
   "cell_type": "markdown",
   "metadata": {},
   "source": [
    "Multiple Plots in one Window\n",
    "============================\n",
    "\n",
    "The **`subplot`** function allows you to position two separate plots within a single plot window."
   ]
  },
  {
   "cell_type": "code",
   "execution_count": null,
   "metadata": {
    "collapsed": false
   },
   "outputs": [],
   "source": [
    "%matplotlib inline\n",
    "x = array([1,2,3,2,1])\n",
    "y = array([1,3,2,3,1])\n",
    "\n",
    "subplot(2,1,1)\n",
    "plot(x)\n",
    "\n",
    "subplot(2,1,2)\n",
    "plot(y)"
   ]
  },
  {
   "cell_type": "markdown",
   "metadata": {},
   "source": [
    "Adding Lines to a Plot\n",
    "======================\n",
    "\n",
    "By default, multiple **`plot`** calls in a row will add plots to the same window. This behavior is controlled by the **`hold`** function.  By default, `hold` is `True`."
   ]
  },
  {
   "cell_type": "code",
   "execution_count": null,
   "metadata": {
    "collapsed": false
   },
   "outputs": [],
   "source": [
    "x = linspace(0, 2*pi, 50)\n",
    "plot(sin(x))\n",
    "plot(cos(x))"
   ]
  },
  {
   "cell_type": "markdown",
   "metadata": {},
   "source": [
    "Calling the **`hold`** function with `False` as its argument will turn off this behavior.  Now all subsequent `plot` functions will erase any existing data before displaying their data.  In the call below, you'll notice that only `cos(x)` is displayed.   "
   ]
  },
  {
   "cell_type": "code",
   "execution_count": null,
   "metadata": {
    "collapsed": false
   },
   "outputs": [],
   "source": [
    "plot(sin(x))\n",
    "hold(False)\n",
    "plot(cos(x))\n",
    "hold(True) # Turn hold back on so that subsequent plots will overplot."
   ]
  },
  {
   "cell_type": "markdown",
   "metadata": {},
   "source": [
    "Legends\n",
    "=======\n",
    "\n",
    "The **`legend`** function will add a legend to plots, using the specified `label` keyword argument that was passed into each plot function."
   ]
  },
  {
   "cell_type": "code",
   "execution_count": null,
   "metadata": {
    "collapsed": false
   },
   "outputs": [],
   "source": [
    "plot(sin(x), label='sin')\n",
    "plot(cos(x), label='cos')\n",
    "legend()"
   ]
  },
  {
   "cell_type": "markdown",
   "metadata": {},
   "source": [
    "Here is an example where we have three lines, but have only labeled two.  **`legend`** is smart enough to only put the labeled lines into the legend."
   ]
  },
  {
   "cell_type": "code",
   "execution_count": null,
   "metadata": {
    "collapsed": false
   },
   "outputs": [],
   "source": [
    "plot(sin(x), label='sin')\n",
    "plot(sin(2*x))\n",
    "plot(cos(x), label='cos')\n",
    "legend()"
   ]
  },
  {
   "cell_type": "markdown",
   "metadata": {},
   "source": [
    "If the plot functions have not assigned a label to the lines, then you can pass a list of labels to the **`legend`**.  The labels are assigned to the data sets in the same order they were added to the plot."
   ]
  },
  {
   "cell_type": "code",
   "execution_count": null,
   "metadata": {
    "collapsed": false
   },
   "outputs": [],
   "source": [
    "plot(sin(x))\n",
    "plot(cos(x))\n",
    "legend(['sin', 'cos'])"
   ]
  },
  {
   "cell_type": "markdown",
   "metadata": {},
   "source": [
    "Titles And Grid\n",
    "===============\n"
   ]
  },
  {
   "cell_type": "code",
   "execution_count": null,
   "metadata": {
    "collapsed": false
   },
   "outputs": [],
   "source": [
    "plot(x, sin(x))\n",
    "xlabel('radians')\n",
    "ylabel('amplitude', fontsize='large')\n",
    "title('Sin(x)')"
   ]
  },
  {
   "cell_type": "code",
   "execution_count": null,
   "metadata": {
    "collapsed": false
   },
   "outputs": [],
   "source": [
    "plot(x, sin(x))\n",
    "xlabel('radians')\n",
    "ylabel('amplitude', fontsize='large')\n",
    "title('Sin(x)')\n",
    "grid()"
   ]
  },
  {
   "cell_type": "markdown",
   "metadata": {},
   "source": [
    "Clearing and Closing Plots\n",
    "=========================="
   ]
  },
  {
   "cell_type": "code",
   "execution_count": null,
   "metadata": {
    "collapsed": false
   },
   "outputs": [],
   "source": [
    "%matplotlib qt\n",
    "plot(x, sin(x)) # This line will create a plot.\n",
    "clf() # And this will clear it."
   ]
  },
  {
   "cell_type": "code",
   "execution_count": null,
   "metadata": {
    "collapsed": false
   },
   "outputs": [],
   "source": [
    "close() # And this closes the window.\n",
    "close('all') # And this will close all windows."
   ]
  },
  {
   "cell_type": "code",
   "execution_count": null,
   "metadata": {
    "collapsed": false
   },
   "outputs": [],
   "source": [
    "# Turn the inline plots back on.\n",
    "%matplotlib inline "
   ]
  },
  {
   "cell_type": "code",
   "execution_count": null,
   "metadata": {
    "collapsed": false
   },
   "outputs": [],
   "source": [
    "from scipy.misc import ascent\n",
    "img = ascent()\n",
    "imshow(img, extent=[-25, 25, -25, 25], cmap=cm.bone)\n",
    "colorbar()"
   ]
  },
  {
   "cell_type": "markdown",
   "metadata": {},
   "source": [
    "Histograms\n",
    "==========\n",
    "\n",
    "**`hist`** will create a histogram with 10 bins by default.  This can be changed by specifying the `bins` keyword argument.\n",
    "\n",
    "Note that matplotlib's `hist` function can be slow on large data sets.  In these cases, it can be beneficial to use the `scipy.stats.histogram` method which is faster.  However, it only does the calculations. It'll be up to you to make the plot from the returned values.\n"
   ]
  },
  {
   "cell_type": "code",
   "execution_count": null,
   "metadata": {
    "collapsed": false
   },
   "outputs": [],
   "source": [
    "hist(randn(1000))"
   ]
  },
  {
   "cell_type": "code",
   "execution_count": null,
   "metadata": {
    "collapsed": false
   },
   "outputs": [],
   "source": [
    "hist(randn(1000), 30)"
   ]
  },
  {
   "cell_type": "code",
   "execution_count": null,
   "metadata": {
    "collapsed": false
   },
   "outputs": [],
   "source": [
    "from mpl_toolkits.mplot3d import Axes3D\n",
    "x, y = mgrid[-5:5:35j, 0:10:35j]\n",
    "z = x*sin(x)*cos(.25*y)\n",
    "fig = figure()\n",
    "ax = Axes3D(fig)\n",
    "ax.plot_surface(x, y, z, rstride=1, cstride=1, cmap=cm.jet)\n",
    "xlabel('x')\n",
    "ylabel('y')"
   ]
  },
  {
   "cell_type": "code",
   "execution_count": null,
   "metadata": {
    "collapsed": false
   },
   "outputs": [],
   "source": [
    "t = linspace(0, 30, 1000)\n",
    "x, y, z = (t*cos(t) , t*sin(t), t)\n",
    "fig = figure()\n",
    "ax = Axes3D(fig)\n",
    "ax.plot(x, y, z)\n",
    "xlabel('x')\n",
    "ylabel('y')"
   ]
  },
  {
   "cell_type": "code",
   "execution_count": null,
   "metadata": {
    "collapsed": false
   },
   "outputs": [],
   "source": [
    "from scipy import special\n",
    "x, y = mgrid[-25:25:100j, -25:25:100j]\n",
    "r = sqrt(x**2+y**2)\n",
    "s = special.j0(r) * 25\n",
    "\n",
    "# You'll need to be in 'qt' mode to be able to interact with\n",
    "# the plot correctly.\n",
    "%matplotlib qt\n",
    "from mayavi import mlab\n",
    "mlab.surf(x, y, s)\n",
    "mlab.colorbar()\n",
    "mlab.axes()"
   ]
  },
  {
   "cell_type": "code",
   "execution_count": null,
   "metadata": {
    "collapsed": false
   },
   "outputs": [],
   "source": [
    "%matplotlib inline"
   ]
  },
  {
   "cell_type": "markdown",
   "metadata": {},
   "source": [
    "Copyright 2008-2016, Enthought, Inc.<br>Use only permitted under license.  Copying, sharing, redistributing or other unauthorized use strictly prohibited.<br>http://www.enthought.com"
   ]
  }
 ],
 "metadata": {
  "kernelspec": {
   "display_name": "Python 2",
   "language": "python",
   "name": "python2"
  },
  "language_info": {
   "codemirror_mode": {
    "name": "ipython",
    "version": 2
   },
   "file_extension": ".py",
   "mimetype": "text/x-python",
   "name": "python",
   "nbconvert_exporter": "python",
   "pygments_lexer": "ipython2",
   "version": "2.7.11"
  }
 },
 "nbformat": 4,
 "nbformat_minor": 0
}
