{
 "cells": [
  {
   "cell_type": "markdown",
   "metadata": {
    "canopy_exercise": {
     "cell_type": "question"
    }
   },
   "source": [
    "Plotting\n",
    "========\n",
    "\n",
    "Using matplotlib, create a plot display that looks like the following:"
   ]
  },
  {
   "cell_type": "code",
   "execution_count": null,
   "metadata": {
    "canopy_exercise": {
     "cell_type": "starting code"
    },
    "collapsed": false
   },
   "outputs": [],
   "source": [
    "from IPython.core.display import Image\n",
    "Image(filename='sample_plots.png')"
   ]
  },
  {
   "cell_type": "markdown",
   "metadata": {
    "canopy_exercise": {
     "cell_type": "question"
    }
   },
   "source": [
    "This is a 2x2 layout, with 3 slots occupied.\n",
    "\n",
    "1. Sine function, with blue solid line; cosine with red '+' markers; the extents\n",
    "   fit the plot exactly.\n",
    "2. Sine function, with gridlines, axis labels, and title; the extents fit the\n",
    "   plot exactly.\n",
    "3. Image with color map; the extents run from -10 to 10, rather than the \n",
    "   default. \n",
    "\n",
    "Save the resulting plot image to a file. (Use a different file name, so you\n",
    "don't overwrite the sample.)\n",
    "\n",
    "The color map in the example is 'winter'; use 'cm.<tab>' to list the available\n",
    "ones, and experiment to find one you like.\n",
    "\n",
    "Start with the following statements:"
   ]
  },
  {
   "cell_type": "code",
   "execution_count": null,
   "metadata": {
    "collapsed": false
   },
   "outputs": [],
   "source": [
    "from numpy import linspace, pi, sin, cos\n",
    "from matplotlib.pyplot import plot, subplot, cm, imshow, xlabel, ylabel, title, grid, \\\n",
    "                              axis, show, savefig, tight_layout, imread\n",
    "# The following import is needed because matplotlib's version \n",
    "# of 'imread' does not read JPEGs.\n",
    "from scipy.misc.pilutil import imread\n",
    "%matplotlib inline"
   ]
  },
  {
   "cell_type": "code",
   "execution_count": null,
   "metadata": {
    "canopy_exercise": {
     "cell_type": "starting code"
    },
    "collapsed": false
   },
   "outputs": [],
   "source": [
    "x = linspace(0, 2*pi, 101)\n",
    "s = sin(x)\n",
    "c = cos(x)\n",
    "\n",
    "# 'flatten' creates a 2D array from a JPEG.\n",
    "img = imread('dc_metro.jpg', flatten=True)"
   ]
  },
  {
   "cell_type": "markdown",
   "metadata": {
    "canopy_exercise": {
     "cell_type": "hint_button"
    }
   },
   "source": [
    "<div class=\"btn-group\"><button class=\"btn\" onclick=\"IPython.canopy_exercise.toggle_hint('4')\">Hint</button></div>"
   ]
  },
  {
   "cell_type": "markdown",
   "metadata": {
    "canopy_exercise": {
     "cell_type": "hint_view",
     "hint_number": "4"
    }
   },
   "source": [
    "See the `axis()` function for setting the extents fo the plot in for 1 and 2."
   ]
  },
  {
   "cell_type": "markdown",
   "metadata": {
    "canopy_exercise": {
     "cell_type": "hint_view",
     "hint_number": "4"
    }
   },
   "source": [
    "If you find that the label of one plot overlaps another plot, try adding\n",
    "a call to `tight_layout()` to your script."
   ]
  },
  {
   "cell_type": "code",
   "execution_count": null,
   "metadata": {
    "canopy_exercise": {
     "cell_type": "student_solution"
    },
    "collapsed": true
   },
   "outputs": [],
   "source": [
    "# your code goes here"
   ]
  },
  {
   "cell_type": "markdown",
   "metadata": {
    "canopy_exercise": {
     "cell_type": "solution_button"
    }
   },
   "source": [
    "<div class=\"btn-group\"><button class=\"btn\" onclick=\"IPython.canopy_exercise.toggle_solution('6')\">Solution</button></div>"
   ]
  },
  {
   "cell_type": "code",
   "execution_count": null,
   "metadata": {
    "canopy_exercise": {
     "cell_type": "solution_view",
     "solution_number": "6"
    },
    "collapsed": false
   },
   "outputs": [],
   "source": [
    "# 2x2 layout, first plot: sin and cos\n",
    "subplot(2,2,1)\n",
    "\n",
    "plot(x, s, 'b-', x, c, 'r+')\n",
    "axis('tight')\n",
    "\n",
    "# 2nd plot: gridlines, labels\n",
    "subplot(2,2,2)\n",
    "\n",
    "plot(x, s)\n",
    "grid()\n",
    "xlabel('radians')\n",
    "ylabel('amplitude')\n",
    "title('sin(x)')\n",
    "axis('tight')\n",
    "\n",
    "# 3rd plot, image\n",
    "subplot(2,2,3)\n",
    "imshow(img, extent=[-10, 10, -10, 10], cmap=cm.winter)\n",
    "\n",
    "tight_layout()\n",
    "\n",
    "savefig('my_plots.png')"
   ]
  },
  {
   "cell_type": "markdown",
   "metadata": {},
   "source": [
    "Photo credit: David Fettig [http://www.publicdomainpictures.net/view-image.php?image=507]"
   ]
  },
  {
   "cell_type": "markdown",
   "metadata": {
    "canopy_exercise": {
     "cell_type": "question"
    }
   },
   "source": [
    "Copyright 2008-2016, Enthought, Inc.  \n",
    "Use only permitted under license.  Copying, sharing, redistributing or other unauthorized use strictly prohibited.  \n",
    "http://www.enthought.com"
   ]
  }
 ],
 "metadata": {
  "canopy_exercise": {
   "__metadata_version__": 1
  },
  "kernelspec": {
   "display_name": "Python 2",
   "language": "python",
   "name": "python2"
  },
  "language_info": {
   "codemirror_mode": {
    "name": "ipython",
    "version": 2
   },
   "file_extension": ".py",
   "mimetype": "text/x-python",
   "name": "python",
   "nbconvert_exporter": "python",
   "pygments_lexer": "ipython2",
   "version": "2.7.10"
  }
 },
 "nbformat": 4,
 "nbformat_minor": 0
}
