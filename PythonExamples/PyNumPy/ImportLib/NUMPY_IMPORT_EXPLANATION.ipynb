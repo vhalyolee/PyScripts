{
 "cells": [
  {
   "cell_type": "markdown",
   "metadata": {},
   "source": [
    "# NumPy Import Explanation"
   ]
  },
  {
   "cell_type": "code",
   "execution_count": null,
   "metadata": {
    "collapsed": true
   },
   "outputs": [],
   "source": [
    "# Imports required but not shown in the video lecture.\n",
    "import numpy\n",
    "import matplotlib\n",
    "\n",
    "from numpy import array, sin\n",
    "from matplotlib.pyplot import plot\n",
    "% matplotlib inline"
   ]
  },
  {
   "cell_type": "code",
   "execution_count": null,
   "metadata": {
    "collapsed": false
   },
   "outputs": [],
   "source": [
    "print numpy.__version__\n",
    "print matplotlib.__version__"
   ]
  },
  {
   "cell_type": "markdown",
   "metadata": {},
   "source": [
    "By default in IPython notebooks and at the ipython prompt in Canopy, NumPy and Plotting functions are available without imports.  It is as if you typed::\n",
    "        \n",
    "        from numpy import *\n",
    "        from matplotlib.pyplot import *\n",
    "        \n",
    "at the command prompt or within a script.        "
   ]
  },
  {
   "cell_type": "code",
   "execution_count": null,
   "metadata": {
    "collapsed": false
   },
   "outputs": [],
   "source": [
    "a = array([1,2,3])\n",
    "a"
   ]
  },
  {
   "cell_type": "code",
   "execution_count": null,
   "metadata": {
    "collapsed": false
   },
   "outputs": [],
   "source": [
    "b = sin(a)\n",
    "b"
   ]
  },
  {
   "cell_type": "code",
   "execution_count": null,
   "metadata": {
    "collapsed": false
   },
   "outputs": [],
   "source": [
    "plot(a,b)"
   ]
  },
  {
   "cell_type": "markdown",
   "metadata": {},
   "source": [
    "When writing a script, however, you'll need to make sure that you explicitly import these functions because they will not be automatically available.\n",
    "\n",
    "    # some_script.py\n",
    "    from numpy import array, sin\n",
    "    from matplotlib.pyplot import plot\n",
    "    # or\n",
    "    # from pylab import plot\n",
    "    a = array([1,2,3])\n",
    "    b = sin(a)\n",
    "    plot(a,b)\n",
    "    \n",
    "You could also just import everything from the numpy, pyplot namespaces, but that is really frowned upon in scripts and modules.  It leads headaches later because the code is harder to read and debug. [Trust me on this.]\n",
    "\n",
    "    # some_script.py\n",
    "    from numpy import *\n",
    "    from matplotlib.pyplot import *\n",
    "    # or\n",
    "    # from pylab import plot\n",
    "    a = array([1,2,3])\n",
    "    b = sin(a)\n",
    "    plot(a,b)\n",
    "    \n",
    "Another common convention is to rename the numpy and pyplot (pylab) modules on import to make them shorter to type, but also to keep all the various functions in separate \"namespaces.\"  This explicit yet compact approach has its appeal.\n",
    "\n",
    "    # some_script.py\n",
    "    import numpy as np\n",
    "    import matplotlib.pyplot as plt\n",
    "    a = np.array([1,2,3])\n",
    "    b = np.sin(a)\n",
    "    plt.plot(a,b)"
   ]
  },
  {
   "cell_type": "markdown",
   "metadata": {},
   "source": [
    "Copyright 2008-2016, Enthought, Inc.<br>Use only permitted under license.  Copying, sharing, redistributing or other unauthorized use strictly prohibited.<br>",
    "http://www.enthought.com"
   ]
  }
 ],
 "metadata": {
  "kernelspec": {
   "display_name": "Python 2",
   "language": "python",
   "name": "python2"
  },
  "language_info": {
   "codemirror_mode": {
    "name": "ipython",
    "version": 2
   },
   "file_extension": ".py",
   "mimetype": "text/x-python",
   "name": "python",
   "nbconvert_exporter": "python",
   "pygments_lexer": "ipython2",
   "version": "2.7.10"
  }
 },
 "nbformat": 4,
 "nbformat_minor": 0
}
