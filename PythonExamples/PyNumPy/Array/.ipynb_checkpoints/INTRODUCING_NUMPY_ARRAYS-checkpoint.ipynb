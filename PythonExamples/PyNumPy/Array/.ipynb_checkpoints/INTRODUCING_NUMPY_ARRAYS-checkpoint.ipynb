{
 "cells": [
  {
   "cell_type": "markdown",
   "metadata": {},
   "source": [
    "# Introducing NumPy Arrays"
   ]
  },
  {
   "cell_type": "code",
   "execution_count": null,
   "metadata": {
    "collapsed": true
   },
   "outputs": [],
   "source": [
    "# Imports required but not shown in the video lecture.\n",
    "import numpy\n",
    "\n",
    "from numpy import array"
   ]
  },
  {
   "cell_type": "code",
   "execution_count": null,
   "metadata": {
    "collapsed": false
   },
   "outputs": [],
   "source": [
    "print numpy.__version__"
   ]
  },
  {
   "cell_type": "markdown",
   "metadata": {},
   "source": [
    "Simple Array Creation\n",
    "=====================\n",
    "There are a number of ways to create an NumPy array.  Here we start with a simple list, `lst`, that we'll convert to a numpy array, `a` using the **`array`** function."
   ]
  },
  {
   "cell_type": "code",
   "execution_count": null,
   "metadata": {
    "collapsed": false
   },
   "outputs": [],
   "source": [
    "lst = [0, 1, 2, 3]\n",
    "lst"
   ]
  },
  {
   "cell_type": "code",
   "execution_count": null,
   "metadata": {
    "collapsed": false
   },
   "outputs": [],
   "source": [
    "a = array(lst)\n",
    "a"
   ]
  },
  {
   "cell_type": "markdown",
   "metadata": {},
   "source": [
    "You can also just create a list (or tuple or any sequence) on the fly and convert it directly to an array.  For example, instead of the two-step process above, you will often see this:"
   ]
  },
  {
   "cell_type": "code",
   "execution_count": null,
   "metadata": {
    "collapsed": false
   },
   "outputs": [],
   "source": [
    "a = array([0,1,2,3])\n",
    "a"
   ]
  },
  {
   "cell_type": "markdown",
   "metadata": {},
   "source": [
    "Checking the Type\n",
    "=================\n",
    "\n",
    "If you check the data type of `a` you'll see that the `array` function retuns something called a `numpy.ndarray`.  The `nd` here stands for N-dimenional or multi-dimensional.  So, even though this example is a one dimensional array, they also can be two, three, or more dimensional.\n",
    "\n",
    "Even though it has this fancy name, we (and everyone else) will forever more just refer to the as 'arrays' or 'NumPy arrays.'"
   ]
  },
  {
   "cell_type": "code",
   "execution_count": null,
   "metadata": {
    "collapsed": false
   },
   "outputs": [],
   "source": [
    "type(a)"
   ]
  },
  {
   "cell_type": "markdown",
   "metadata": {},
   "source": [
    "Numeric 'Type' and bytes of Elements \n",
    "====================================\n",
    "\n",
    "\n",
    "NumPy arrays are special compared to Python lists because the are 'homogenous,' meaning that each and every element in the array has the same data type. (Remember that Python lists, on the other hand, can have a different type of data in each position.)  This homogenity is one of the secrets to NumPy's speed and memory efficiency.\n",
    "\n",
    "The **`dtype`** attribute of an array will tell you its data type.  In the presentation videos, the type is `dtype('int32')` which means each element is a 4 byte (or 32 bit) integer.  This is because it was originally designed running on a 32 bit operating system.  This notebook was created on a 64-bit OSX machine, so the default data type for integers is larger at 8 bytes (64 bits).  You can double-check this by checking the **`itemsize`** attribute for the array.  This takes up twice the memory, but also means that it can represent larger (and smaller) numbers than the 32-bit arrays.  If you select 'Cell' on the menu above and then 'Run All', it will re-run this notebook on your machine.  What is the default integer array type for you?\n",
    "\n",
    "*Note: We will see later, that NumPy arrays can actually hold heterogenous data types (hint: `array([1,1.2,'hello'], dtype=object)`).  This is a great feature, but it does impact both speed and memory efficiency.*"
   ]
  },
  {
   "cell_type": "code",
   "execution_count": null,
   "metadata": {
    "collapsed": false
   },
   "outputs": [],
   "source": [
    "a.dtype"
   ]
  },
  {
   "cell_type": "code",
   "execution_count": null,
   "metadata": {
    "collapsed": false
   },
   "outputs": [],
   "source": [
    "a.itemsize"
   ]
  },
  {
   "cell_type": "markdown",
   "metadata": {},
   "source": [
    "Copyright 2008-2016, Enthought, Inc.<br>Use only permitted under license.  Copying, sharing, redistributing or other unauthorized use strictly prohibited.<br>http://www.enthought.com"
   ]
  }
 ],
 "metadata": {
  "kernelspec": {
   "display_name": "Python 2",
   "language": "python",
   "name": "python2"
  },
  "language_info": {
   "codemirror_mode": {
    "name": "ipython",
    "version": 2
   },
   "file_extension": ".py",
   "mimetype": "text/x-python",
   "name": "python",
   "nbconvert_exporter": "python",
   "pygments_lexer": "ipython2",
   "version": "2.7.11"
  }
 },
 "nbformat": 4,
 "nbformat_minor": 0
}
