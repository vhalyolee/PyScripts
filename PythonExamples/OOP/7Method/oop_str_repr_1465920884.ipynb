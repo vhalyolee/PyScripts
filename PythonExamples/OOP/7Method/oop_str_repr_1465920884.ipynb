{
 "cells": [
  {
   "cell_type": "markdown",
   "metadata": {},
   "source": [
    "More Special Methods\n",
    "====================\n",
    "\n",
    "In the last lecture we saw that Python has special methods that provide hooks for the Python language to do special things with your objects, and we looked at the special `__init__` \"constructor\" method."
   ]
  },
  {
   "cell_type": "markdown",
   "metadata": {},
   "source": [
    "`__str__` and `__repr__`\n",
    "------------------------\n",
    "\n",
    "In this lecture we'll look at a few more of these special methods, in particular the representation methods `__repr__` and `__str__`.  The `__str__` method is used whenever you are printing an instance of your class, while the `__repr__` method is what you get when you evaluate an object interactively, for example at the IPython prompt, and is intended to be an \"internal\" representation to help programmers.\n",
    "\n",
    "So if we were to take our leaf class, we might write these methods something like the following code."
   ]
  },
  {
   "cell_type": "code",
   "execution_count": null,
   "metadata": {
    "collapsed": false
   },
   "outputs": [],
   "source": [
    "class Leaf(object):\n",
    "    \"\"\"A Leaf falling in the woods\"\"\"\n",
    "    \n",
    "    def __init__(self, color='green'):\n",
    "        self.color = color\n",
    "    \n",
    "    def __str__(self):\n",
    "        \"\"\"The string to be printed\"\"\"\n",
    "        return \"A {0} leaf.\".format(self.color)\n",
    "    \n",
    "    def __repr__(self):\n",
    "        \"\"\"An internal representation\"\"\"\n",
    "        return \"{0}(color='{1}')\".format(\n",
    "            self.__class__.__name__, self.color)\n",
    "\n",
    "leaf = Leaf()"
   ]
  },
  {
   "cell_type": "markdown",
   "metadata": {},
   "source": [
    "So now we can print our leaf object, and have it call the `__str__` special method"
   ]
  },
  {
   "cell_type": "code",
   "execution_count": null,
   "metadata": {
    "collapsed": false
   },
   "outputs": [],
   "source": [
    "print leaf"
   ]
  },
  {
   "cell_type": "markdown",
   "metadata": {},
   "source": [
    "But instead if we just evaluate the leaf in the IPython prompt, we get the result of the `__repr__` method."
   ]
  },
  {
   "cell_type": "code",
   "execution_count": null,
   "metadata": {
    "collapsed": false
   },
   "outputs": [],
   "source": [
    "leaf"
   ]
  },
  {
   "cell_type": "markdown",
   "metadata": {},
   "source": [
    "Although not required, it is standard practice to write this so that if you evaluate it, you get the object back, and that's what we've done in this case.\n",
    "\n",
    "Although these are the most common ways that these methods are called, they are also called in some other contexts.  For example, when you convert an object to a Python string using the `str()` builtin, under the covers it actually calls the `__str__` method of the object, if it's available.\n",
    "\n",
    "So we can write:"
   ]
  },
  {
   "cell_type": "code",
   "execution_count": null,
   "metadata": {
    "collapsed": false
   },
   "outputs": [],
   "source": [
    "x = str(leaf)\n",
    "x"
   ]
  },
  {
   "cell_type": "markdown",
   "metadata": {},
   "source": [
    "And in fact it you go looking at Python's standard data types, you'll see that they all have `__str__` methods."
   ]
  },
  {
   "cell_type": "code",
   "execution_count": null,
   "metadata": {
    "collapsed": false
   },
   "outputs": [],
   "source": [
    "a = 1\n",
    "a.__str__"
   ]
  },
  {
   "cell_type": "markdown",
   "metadata": {},
   "source": [
    "And you can call them directly as methods if you really want to (but you probably _shouldn't_)."
   ]
  },
  {
   "cell_type": "code",
   "execution_count": null,
   "metadata": {
    "collapsed": false
   },
   "outputs": [],
   "source": [
    "a.__str__()"
   ]
  },
  {
   "cell_type": "markdown",
   "metadata": {},
   "source": [
    "The string formatting methods also call the `__str__` special method, so if you write:"
   ]
  },
  {
   "cell_type": "code",
   "execution_count": null,
   "metadata": {
    "collapsed": false
   },
   "outputs": [],
   "source": [
    "\"The object is: {0}\".format(leaf)"
   ]
  },
  {
   "cell_type": "markdown",
   "metadata": {},
   "source": [
    "then you can see it uses our special string description.\n",
    "\n",
    "In a similar way, the `__repr__` method is used by the `repr()` builtin function (this is what IPython is using under the covers to produce the output it displays)."
   ]
  },
  {
   "cell_type": "code",
   "execution_count": null,
   "metadata": {
    "collapsed": false
   },
   "outputs": [],
   "source": [
    "x = repr(leaf)\n",
    "x"
   ]
  },
  {
   "cell_type": "markdown",
   "metadata": {},
   "source": [
    "Notice that `repr()` is returning the string value produced by the `__repr__` method.\n",
    "\n",
    "Similarly, all the basic Python data types provide an `__repr__` method, so for example "
   ]
  },
  {
   "cell_type": "code",
   "execution_count": null,
   "metadata": {
    "collapsed": false
   },
   "outputs": [],
   "source": [
    "a = \"This is a string\"\n",
    "x = a.__repr__()\n",
    "x"
   ]
  },
  {
   "cell_type": "markdown",
   "metadata": {},
   "source": [
    "It's also worthwhile noticing the way that we construct the value in the `__repr__` method in the example.  It would be tempting to do something like:\n",
    "\n",
    "    def __repr__(self):\n",
    "        return \"Leaf(color='{0}')\".format(self.color)\n",
    "\n",
    "But instead we can look up the name of the class using the `__class__` special attribute of the instance (which returns the class object)"
   ]
  },
  {
   "cell_type": "code",
   "execution_count": null,
   "metadata": {
    "collapsed": false
   },
   "outputs": [],
   "source": [
    "leaf.__class__"
   ]
  },
  {
   "cell_type": "markdown",
   "metadata": {},
   "source": [
    "and then use the class' `__name__` special attribute to get the name of the class as a string"
   ]
  },
  {
   "cell_type": "code",
   "execution_count": null,
   "metadata": {
    "collapsed": false
   },
   "outputs": [],
   "source": [
    "Leaf.__name__"
   ]
  },
  {
   "cell_type": "markdown",
   "metadata": {},
   "source": [
    "We'll see that doing things this way makes our method more flexible when we start considering subclassing and inheritance.\n",
    "\n",
    "In fact, knowing what we do now, it would be slightly better to define our `__repr__` method to use `repr` on the color, as that also makes things work somewhat more generally.\n",
    "\n",
    "    def __repr__(self):\n",
    "        return \"{0}(color={1})\".format(\n",
    "            self.__class__.__name__, repr(self.color))\n",
    "\n",
    "The final thing to note in this discussion, is that if you only write a `__repr__` and not a `__str__` then the default `__str__` implementation will call `__repr__` to get the string value."
   ]
  },
  {
   "cell_type": "markdown",
   "metadata": {},
   "source": [
    "Forest Example\n",
    "--------------\n",
    "\n",
    "Let's continue our forest example."
   ]
  },
  {
   "cell_type": "code",
   "execution_count": null,
   "metadata": {
    "collapsed": false
   },
   "outputs": [],
   "source": [
    "import numpy as np\n",
    "\n",
    "class Forest(object):\n",
    "    \"\"\"A forest can grow trees which eventually die\"\"\"\n",
    "    \n",
    "    def __init__(self):\n",
    "        \"Constructor -- this method is automatically called when the instance is created.\"\n",
    "        self.trees = np.zeros((150, 150), dtype=bool)\n",
    "        self.fires = np.zeros((150, 150), dtype=bool)\n",
    "    \n",
    "    def __repr__(self):\n",
    "        \"Representation of the object\"\n",
    "        return \"{0}()\".format(self.__class__.__name__)\n",
    "\n",
    "forest = Forest()"
   ]
  },
  {
   "cell_type": "markdown",
   "metadata": {},
   "source": [
    "And now we have a nice representation of our `Forest` instance."
   ]
  },
  {
   "cell_type": "code",
   "execution_count": null,
   "metadata": {
    "collapsed": false
   },
   "outputs": [],
   "source": [
    "forest"
   ]
  },
  {
   "cell_type": "markdown",
   "metadata": {},
   "source": [
    "To make this a bit more interesting, we might decide that we want to add a size attribute to our constructor, so that we can choose to create bigger or smaller forests.  So our `__init__` might look like this:\n",
    "\n",
    "    def __init__(self, size=(150, 150)):\n",
    "        self.size = size\n",
    "        self.trees = np.zeros(self.size, dtype=bool)\n",
    "        self.trees = np.zeros(self.size, dtype=bool)\n",
    "\n",
    "and then we end up adding this to the `__repr__`, and we get"
   ]
  },
  {
   "cell_type": "code",
   "execution_count": null,
   "metadata": {
    "collapsed": false
   },
   "outputs": [],
   "source": [
    "class Forest(object):\n",
    "    \"\"\"A forest can grow trees which eventually die\"\"\"\n",
    "    \n",
    "    def __init__(self, size=(150, 150)):\n",
    "        \"Constructor -- this method is automatically called when the instance is created.\"\n",
    "        self.size = size\n",
    "        self.trees = np.zeros(self.size, dtype=bool)\n",
    "        self.fires = np.zeros(self.size, dtype=bool)\n",
    "    \n",
    "    def __repr__(self):\n",
    "        \"Representation of the object\"\n",
    "        return \"{0}(size={1})\".format(\n",
    "            self.__class__.__name__, repr(self.size))\n",
    "\n",
    "forest = Forest()\n",
    "forest"
   ]
  },
  {
   "cell_type": "markdown",
   "metadata": {},
   "source": [
    "Finally, lets add a `__str__` method that just returns the name of the class."
   ]
  },
  {
   "cell_type": "code",
   "execution_count": null,
   "metadata": {
    "collapsed": false
   },
   "outputs": [],
   "source": [
    "class Forest(object):\n",
    "    \"\"\"A forest can grow trees which eventually die\"\"\"\n",
    "    \n",
    "    def __init__(self, size=(150, 150)):\n",
    "        \"Constructor -- this method is automatically called when the instance is created.\"\n",
    "        self.size = size\n",
    "        self.trees = np.zeros(self.size, dtype=bool)\n",
    "        self.fires = np.zeros(self.size, dtype=bool)\n",
    "    \n",
    "    def __repr__(self):\n",
    "        \"Representation of the object\"\n",
    "        return \"{0}(size={1})\".format(\n",
    "            self.__class__.__name__, repr(self.size))\n",
    "    \n",
    "    def __str__(self):\n",
    "        \"Convert object to string\"\n",
    "        return self.__class__.__name__\n",
    "\n",
    "forest = Forest()\n",
    "print forest\n",
    "forest"
   ]
  },
  {
   "cell_type": "markdown",
   "metadata": {},
   "source": [
    "Other Special Methods\n",
    "---------------------\n",
    "\n",
    "There are many other special methods available, more than we could comfortably cover in an introductory course on OOP in Python, particularly given that many of them are only needed if you are trying to do something sophisticated or involving deep hackery.\n",
    "\n",
    "Some of the advanced special methods are discussed in the Advanced Python lectures, but it's probably worth briefly discussing a few of the others here.\n",
    "\n",
    "The full gory details can be found in the [Python Language Reference](https://docs.python.org/2/reference/datamodel.html#special-method-names)."
   ]
  },
  {
   "cell_type": "markdown",
   "metadata": {},
   "source": [
    "### Conversion Methods\n",
    "\n",
    "The `__str__` method is actually one of a family of special methods that are available for converting objects to the basic data types.  There are methods `__int__`, `__long__`, `__float__` and `__complex__` that allow a class to tell python how to convert it to the corresponding numerical types via the corresponding type builtins.  Similarly `__unicode__` allows you to specify how to convert to unicode instead of a standard Python string."
   ]
  },
  {
   "cell_type": "markdown",
   "metadata": {},
   "source": [
    "### Arithmetic Methods\n",
    "\n",
    "If you want your object to be able to perform arithmetic operations, either with itself or with other numeric types, then there are special methods for each of the binary arithmetic operators: `__add__`, `__sub__`, `__mul__` and `__div__`, as well as \"reversed\" and \"in-place\" versions (so \"reversed addition\" is `__radd__` and is called when your instance is the second term in an addition; and \"in-place addition\" is `__iadd__` and is called when your instance is used with the inplace addition operator `+=`).\n",
    "\n",
    "There are also methods for comparison between objects (`<`, `>`, `==`, etc.), binary logical operations (`&`, `|`, `<<`, etc), unary operations (`-a`, `+a`, `~a`), and some methods for helping coerce when performing operations between differing types."
   ]
  },
  {
   "cell_type": "markdown",
   "metadata": {},
   "source": [
    "### Example\n",
    "\n",
    "As a simple example, lets say that we want to represent an amount of money, together with the currency that the money is in.  We should be able to add and subtract money in the same currency, multiply and divide currency by floating point numbers, compare amounts of money, and have a nice string representation.\n",
    "\n",
    "Such a class might look like this."
   ]
  },
  {
   "cell_type": "code",
   "execution_count": null,
   "metadata": {
    "collapsed": false
   },
   "outputs": [],
   "source": [
    "import numbers\n",
    "\n",
    "class Money(object):\n",
    "    \n",
    "    symbols = {\n",
    "        'USD': u'$',\n",
    "        'AUD': u'A$',\n",
    "        'GBP': u'\\u00a3',\n",
    "        'EUR': u'\\u20ac',\n",
    "        'JPY': u'\\u00a5',\n",
    "    }\n",
    "    \n",
    "    def __init__(self, amount, currency='USD'):\n",
    "        self.amount = amount\n",
    "        self.currency = currency\n",
    "    \n",
    "    def __repr__(self):\n",
    "        return \"{0}({1}, currency={2})\".format(\n",
    "            self.__class__.__name__, self.amount,\n",
    "            repr(self.currency))\n",
    "    \n",
    "    def __str__(self):\n",
    "        return \"{0} {1}\".format(self.currency, self.amount)\n",
    "    \n",
    "    def __unicode__(self):\n",
    "        symbol = self.symbols.get(self.currency, self.currency)\n",
    "        return u\"{0}{1}\".format(symbol, self.amount)\n",
    "    \n",
    "    # arithmetic methods\n",
    "    def __add__(self, other):\n",
    "        if getattr(other, 'currency', None) == self.currency:\n",
    "            return Money(self.amount+other.amount, self.currency)\n",
    "        return NotImplemented\n",
    "    \n",
    "    def __sub__(self, other):\n",
    "        if getattr(other, 'currency', None) == self.currency:\n",
    "            return Money(self.amount-other.amount, self.currency)\n",
    "        return NotImplemented\n",
    "    \n",
    "    def __neg__(self):\n",
    "        return Money(-self.amount, self.currency)\n",
    "    \n",
    "    def __mul__(self, other):\n",
    "        if isinstance(other, numbers.Real):\n",
    "            return Money(self.amount*other, self.currency)\n",
    "        return NotImplemented\n",
    "    \n",
    "    def __rmul__(self, other):\n",
    "        if isinstance(other, numbers.Real):\n",
    "            return Money(self.amount*other, self.currency)\n",
    "        return NotImplemented\n",
    "    \n",
    "    def __div__(self, other):\n",
    "        if isinstance(other, numbers.Real):\n",
    "            return Money(self.amount/other, self.currency)\n",
    "        return NotImplemented\n",
    "    \n",
    "    # comparison methods\n",
    "    def __eq__(self, other):\n",
    "        return (getattr(other, 'currency', None) == self.currency and\n",
    "                self.amount == other.amount)\n",
    "    \n",
    "    def __ne__(self, other):\n",
    "        return (getattr(other, 'currency', None) != self.currency or\n",
    "                self.amount != other.amount)\n",
    "\n",
    "    def __ge__(self, other):\n",
    "        if getattr(other, 'currency', None) == self.currency:\n",
    "            return self.amount >= other.amount\n",
    "        raise TypeError(\"Can't compare Money with other types\")\n",
    "\n",
    "    def __le__(self, other):\n",
    "        if getattr(other, 'currency', None) == self.currency:\n",
    "            return self.amount <= other.amount\n",
    "        raise TypeError(\"Can't compare Money with other types\")\n",
    "\n",
    "    def __gt__(self, other):\n",
    "        if getattr(other, 'currency', None) == self.currency:\n",
    "            return self.amount > other.amount\n",
    "        raise TypeError(\"Can't compare Money with other types\")\n",
    "\n",
    "    def __lt__(self, other):\n",
    "        if getattr(other, 'currency', None) == self.currency:\n",
    "            return self.amount < other.amount\n",
    "        raise TypeError(\"Can't compare Money with other types\")\n",
    "\n",
    "    def __nonzero__(self, other):\n",
    "        return self.amount != 0\n"
   ]
  },
  {
   "cell_type": "markdown",
   "metadata": {},
   "source": [
    "And we can see our new type in action in the following examples"
   ]
  },
  {
   "cell_type": "code",
   "execution_count": null,
   "metadata": {
    "collapsed": false
   },
   "outputs": [],
   "source": [
    "x = Money(100, 'EUR')\n",
    "print x\n",
    "print unicode(x)\n",
    "x"
   ]
  },
  {
   "cell_type": "code",
   "execution_count": null,
   "metadata": {
    "collapsed": false
   },
   "outputs": [],
   "source": [
    "print x + Money(20, 'EUR')"
   ]
  },
  {
   "cell_type": "code",
   "execution_count": null,
   "metadata": {
    "collapsed": false
   },
   "outputs": [],
   "source": [
    "x + Money(20, 'GBP')"
   ]
  },
  {
   "cell_type": "code",
   "execution_count": null,
   "metadata": {
    "collapsed": false
   },
   "outputs": [],
   "source": [
    "print -x\n",
    "print x*10\n",
    "print x/1.5\n",
    "print 10*x"
   ]
  },
  {
   "cell_type": "code",
   "execution_count": null,
   "metadata": {
    "collapsed": false
   },
   "outputs": [],
   "source": [
    "x *= 10\n",
    "print x"
   ]
  },
  {
   "cell_type": "code",
   "execution_count": null,
   "metadata": {
    "collapsed": false
   },
   "outputs": [],
   "source": [
    "print x > Money(500, 'EUR')"
   ]
  },
  {
   "cell_type": "code",
   "execution_count": null,
   "metadata": {
    "collapsed": false
   },
   "outputs": [],
   "source": [
    "print x > Money(500, 'GBP')"
   ]
  },
  {
   "cell_type": "code",
   "execution_count": null,
   "metadata": {
    "collapsed": false
   },
   "outputs": [],
   "source": [
    "sorted(Money(x, 'EUR') for x in np.random.rand(10)*100)"
   ]
  },
  {
   "cell_type": "code",
   "execution_count": null,
   "metadata": {
    "collapsed": false
   },
   "outputs": [],
   "source": [
    "-x"
   ]
  },
  {
   "cell_type": "markdown",
   "metadata": {},
   "source": [
    "Copyright 2008-2016, Enthought, Inc.<br>Use only permitted under license.  Copying, sharing, redistributing or other unauthorized use strictly prohibited.<br>http://www.enthought.com"
   ]
  }
 ],
 "metadata": {
  "kernelspec": {
   "display_name": "Python 2",
   "language": "python",
   "name": "python2"
  },
  "language_info": {
   "codemirror_mode": {
    "name": "ipython",
    "version": 2
   },
   "file_extension": ".py",
   "mimetype": "text/x-python",
   "name": "python",
   "nbconvert_exporter": "python",
   "pygments_lexer": "ipython2",
   "version": "2.7.10"
  }
 },
 "nbformat": 4,
 "nbformat_minor": 0
}
