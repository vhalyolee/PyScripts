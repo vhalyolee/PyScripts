{
 "cells": [
  {
   "cell_type": "markdown",
   "metadata": {},
   "source": [
    "# More Pulling Together"
   ]
  },
  {
   "cell_type": "markdown",
   "metadata": {},
   "source": [
    "In this lecture we'll just work on our example a bit more and pull together some of the concepts we've learned in the previous lectures.\n",
    "\n",
    "First we need to define our `Forest` and `BurnableForest` classes used in previous lectures."
   ]
  },
  {
   "cell_type": "code",
   "execution_count": null,
   "metadata": {
    "collapsed": false
   },
   "outputs": [],
   "source": [
    "import numpy as np\n",
    "from matplotlib.pyplot import plot, legend\n",
    "%matplotlib inline\n",
    "\n",
    "class Forest(object):\n",
    "    \"\"\" A Forest can grow but won't burn.\n",
    "    \"\"\"\n",
    "\n",
    "    def __init__(self, size=(150, 150), p_sapling=0.0025):\n",
    "        self.size = size\n",
    "        self.trees = np.zeros(self.size, dtype=bool)\n",
    "        self.p_sapling = p_sapling\n",
    "\n",
    "    @property\n",
    "    def num_cells(self):\n",
    "        return self.size[0] * self.size[1]\n",
    "\n",
    "    @property\n",
    "    def tree_fraction(self):\n",
    "        return self.trees.sum() / float(self.num_cells)\n",
    "\n",
    "    def grow_trees(self):\n",
    "        growth_sites = self._rand_bool(self.p_sapling)\n",
    "        self.trees[growth_sites] = True\n",
    "\n",
    "    def _rand_bool(self, p):\n",
    "        return np.random.uniform(size=self.trees.shape) < p\n",
    "\n",
    "    def advance_one_step(self):\n",
    "        self.grow_trees()\n",
    "\n",
    "\n",
    "class BurnableForest(Forest):\n",
    "    \"\"\" BurnableForest supports fires.\n",
    "    \"\"\"\n",
    "\n",
    "    def __init__(self, p_lightning=5.0e-6, *args, **kwargs):\n",
    "        super(BurnableForest, self).__init__(*args, **kwargs)\n",
    "        self.p_lightning = p_lightning\n",
    "        self.fires = np.zeros(self.size, dtype=bool)\n",
    "\n",
    "    @property\n",
    "    def fire_fraction(self):\n",
    "        return self.fires.sum() / float(self.num_cells)\n",
    "\n",
    "    def start_fires(self):\n",
    "        lightning_strikes = self._rand_bool(self.p_lightning) & self.trees\n",
    "        self.fires[lightning_strikes] = True\n",
    "\n",
    "    def burn_trees(self):\n",
    "        \"\"\"The rules for burning trees:\n",
    "        -New fires start in tree-filled adjacent cells.\n",
    "        -Trees in currently burning cells burn and disappear.\n",
    "\n",
    "        The fire-spreading algorithm is calculated on an array padded\n",
    "        around the edges with zeros to allow vectorized computations.\n",
    "        \"\"\"\n",
    "        working_size = (self.size[0] + 2, self.size[1] + 2)\n",
    "        fires = np.zeros(working_size, dtype=bool)\n",
    "        fires[1:-1, 1:-1] = self.fires\n",
    "        north = fires[:-2, 1:-1]\n",
    "        south = fires[2:, 1:-1]\n",
    "        east = fires[1:-1, :-2]\n",
    "        west = fires[1:-1, 2:]\n",
    "        new_fires = (north | south | east | west) & self.trees\n",
    "        self.trees[self.fires] = False\n",
    "        self.fires = new_fires\n",
    "\n",
    "    def advance_one_step(self):\n",
    "        self.grow_trees()\n",
    "        self.start_fires()\n",
    "        self.burn_trees()"
   ]
  },
  {
   "cell_type": "markdown",
   "metadata": {},
   "source": [
    "Now we'll subclass `BurnableForest` and add more methods to implement our original burning behavior.  This code is pretty much copied and pasted directly from our earlier implementation."
   ]
  },
  {
   "cell_type": "code",
   "execution_count": null,
   "metadata": {
    "collapsed": false
   },
   "outputs": [],
   "source": [
    "class SlowBurnForest(BurnableForest):\n",
    "    \"\"\"BurnableForest where fires spread at the same time scale as the new\n",
    "    trees grow.\n",
    "    \"\"\"\n",
    "    def advance_one_step(self):\n",
    "        self.grow_trees()\n",
    "        self.start_fires()\n",
    "        self.burn_trees()\n",
    "\n",
    "    def burn_trees(self):\n",
    "        # assumes 2D forest\n",
    "        working_size = (self.size[0] + 2, self.size[1] + 2)\n",
    "        fires = np.zeros(working_size, dtype=bool)\n",
    "        fires[1:-1, 1:-1] = self.fires\n",
    "        north = fires[:-2, 1:-1]\n",
    "        south = fires[2:, 1:-1]\n",
    "        east = fires[1:-1, :-2]\n",
    "        west = fires[1:-1, 2:]\n",
    "        new_fires = (north | south | east | west) & self.trees\n",
    "        self.trees[self.fires] = False\n",
    "        self.fires = new_fires\n",
    "\n",
    "    def start_fires(self):\n",
    "        lightning_strikes = self._rand_bool(self.p_lightning) & self.trees\n",
    "        self.fires[lightning_strikes] = True"
   ]
  },
  {
   "cell_type": "markdown",
   "metadata": {},
   "source": [
    "Note that in `SlowBurnForest` we completely overwrote `advance_one_step()`.  The method has the same name, but the code is unrelated to the parent class.\n",
    "\n",
    "We have the original behavior we started with:"
   ]
  },
  {
   "cell_type": "code",
   "execution_count": null,
   "metadata": {
    "collapsed": false
   },
   "outputs": [],
   "source": [
    "forest = SlowBurnForest()\n",
    "history = []\n",
    "for i in range(1000):\n",
    "    forest.advance_one_step()\n",
    "    history.append(forest.tree_fraction)\n",
    "plot(history)"
   ]
  },
  {
   "cell_type": "markdown",
   "metadata": {},
   "source": [
    "Notice that I was able to place a `SlowBurnForest` instance into exactly the same code that I used earlier for the `Forest` instance."
   ]
  },
  {
   "cell_type": "markdown",
   "metadata": {},
   "source": [
    "Now I can take my co-worker's suggestions and re-use the `BurnableForest` code in a different class, called InstantBurnForest.  Again, I'm completely replacing the `advance_one_step()` method.\n",
    "\n",
    "Notice that all of the functionality that is shared between the `SlowBurnForest` and the `InstantBurnForest` is written in `BurnableForest`."
   ]
  },
  {
   "cell_type": "code",
   "execution_count": null,
   "metadata": {
    "collapsed": false
   },
   "outputs": [],
   "source": [
    "from scipy.ndimage.measurements import label\n",
    "class InstantBurnForest(BurnableForest):\n",
    "    \"\"\"BurnableForest where fires spread instantaneously relative to the\n",
    "    growth of new saplings.\n",
    "    \"\"\"\n",
    "    def advance_one_step(self):\n",
    "        self.grow_trees()\n",
    "        self.strike_and_burn()\n",
    "\n",
    "    def strike_and_burn(self):\n",
    "        strikes = self._rand_bool(self.p_lightning) & self.trees\n",
    "        groves, num_groves = label(self.trees)\n",
    "        fires = set(groves[strikes])\n",
    "        self.fires.fill(False)\n",
    "        for fire in fires:\n",
    "            self.fires[groves == fire] = True\n",
    "        self.trees[self.fires] = False"
   ]
  },
  {
   "cell_type": "code",
   "execution_count": null,
   "metadata": {
    "collapsed": false
   },
   "outputs": [],
   "source": [
    "forest = InstantBurnForest()\n",
    "history = []\n",
    "for i in range(1000):\n",
    "    forest.advance_one_step()\n",
    "    history.append(forest.tree_fraction)\n",
    "plot(history)"
   ]
  },
  {
   "cell_type": "markdown",
   "metadata": {},
   "source": [
    "Now there are catastrophic fires."
   ]
  },
  {
   "cell_type": "markdown",
   "metadata": {},
   "source": [
    "Copyright 2008-2016, Enthought, Inc.<br>Use only permitted under license.  Copying, sharing, redistributing or other unauthorized use strictly prohibited.<br>http://www.enthought.com"
   ]
  }
 ],
 "metadata": {
  "kernelspec": {
   "display_name": "Python 2",
   "language": "python",
   "name": "python2"
  },
  "language_info": {
   "codemirror_mode": {
    "name": "ipython",
    "version": 2
   },
   "file_extension": ".py",
   "mimetype": "text/x-python",
   "name": "python",
   "nbconvert_exporter": "python",
   "pygments_lexer": "ipython2",
   "version": "2.7.10"
  }
 },
 "nbformat": 4,
 "nbformat_minor": 0
}
