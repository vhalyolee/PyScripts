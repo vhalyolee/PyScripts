{
 "cells": [
  {
   "cell_type": "markdown",
   "metadata": {},
   "source": [
    "## Method Resolution Order"
   ]
  },
  {
   "cell_type": "markdown",
   "metadata": {},
   "source": [
    "How does Python know the order to call the methods?  In our example, it wasn't critical, but sometimes it might be critical to know the order of resolving calls to `super`.  That is where the Python *method resolution order* comes in.  A property of a class is its *method resolution order*, accessible in the `__mro__` attribute.\n",
    "\n",
    "First we need to define all of our classes as in the previous lecture:"
   ]
  },
  {
   "cell_type": "code",
   "execution_count": null,
   "metadata": {
    "collapsed": false
   },
   "outputs": [],
   "source": [
    "import numpy as np\n",
    "from matplotlib.pyplot import figure, legend, plot\n",
    "%matplotlib inline\n",
    "\n",
    "class Forest(object):\n",
    "    \"\"\" A Forest can grow but won't burn.\n",
    "    \"\"\"\n",
    "\n",
    "    def __init__(self, size=(150, 150), p_sapling=0.0025):\n",
    "        self.size = size\n",
    "        self.trees = np.zeros(self.size, dtype=bool)\n",
    "        self.p_sapling = p_sapling\n",
    "\n",
    "    @property\n",
    "    def name(self):\n",
    "        return self.__class__.__name__\n",
    "\n",
    "    @property\n",
    "    def num_cells(self):\n",
    "        return self.size[0] * self.size[1]\n",
    "\n",
    "    @property\n",
    "    def tree_fraction(self):\n",
    "        return self.trees.sum() / float(self.num_cells)\n",
    "\n",
    "    def grow_trees(self):\n",
    "        growth_sites = self._rand_bool(self.p_sapling)\n",
    "        self.trees[growth_sites] = True\n",
    "\n",
    "    def _rand_bool(self, p):\n",
    "        return np.random.uniform(size=self.trees.shape) < p\n",
    "\n",
    "    def advance_one_step(self):\n",
    "        self.grow_trees()\n",
    "\n",
    "class MoldProneForest(Forest):\n",
    "    \"\"\"Tree-killing mold can grow in tree groves of a certain size.\n",
    "    \"\"\"\n",
    "    def __init__(self, p_mold=3.0e-3, critical_density=3, *args, **kwargs):\n",
    "        super(MoldProneForest, self).__init__(*args, **kwargs)\n",
    "        self.p_mold = p_mold\n",
    "        self.critical_density = critical_density\n",
    "        self.mold = np.zeros(self.size, dtype=bool)\n",
    "\n",
    "    @property\n",
    "    def mold_fraction(self):\n",
    "        return self.mold.sum() / float(self.num_cells)\n",
    "\n",
    "    @property\n",
    "    def losses(self):\n",
    "        return self.mold\n",
    "\n",
    "    def advance_one_step(self):\n",
    "        self.grow_trees()\n",
    "        self._grow_mold_and_kill_trees()\n",
    "\n",
    "    def _grow_mold_and_kill_trees(self):\n",
    "        working_size = (self.size[0] + 2, self.size[1] + 2)\n",
    "        tmp_trees = np.zeros(working_size, dtype=np.int8)\n",
    "        tmp_trees[1:-1, 1:-1] = self.trees\n",
    "\n",
    "        north = tmp_trees[:-2, 1:-1]\n",
    "        south = tmp_trees[2:, 1:-1]\n",
    "        east = tmp_trees[1:-1, :-2]\n",
    "        west = tmp_trees[1:-1, 2:]\n",
    "        density = north + south + east + west\n",
    "        mold_prone_trees = density >= self.critical_density\n",
    "\n",
    "        self.mold = self._rand_bool(self.p_mold) & mold_prone_trees\n",
    "        self.trees[self.mold] = False\n",
    "        \n",
    "class BurnableForest(Forest):\n",
    "    \"\"\" BurnableForest supports fires.\n",
    "    \"\"\"\n",
    "\n",
    "    def __init__(self, p_lightning=5.0e-6, *args, **kwargs):\n",
    "        super(BurnableForest, self).__init__(*args, **kwargs)\n",
    "        self.p_lightning = p_lightning\n",
    "        self.fires = np.zeros(self.size, dtype=bool)\n",
    "\n",
    "    @property\n",
    "    def fire_fraction(self):\n",
    "        return self.fires.sum() / float(self.num_cells)\n",
    "\n",
    "    def start_fires(self):\n",
    "        lightning_strikes = self._rand_bool(self.p_lightning) & self.trees\n",
    "        self.fires[lightning_strikes] = True\n",
    "\n",
    "    def burn_trees(self):\n",
    "        \"\"\"The rules for burning trees:\n",
    "        -New fires start in tree-filled adjacent cells.\n",
    "        -Trees in currently burning cells burn and disappear.\n",
    "\n",
    "        The fire-spreading algorithm is calculated on an array padded\n",
    "        around the edges with zeros to allow vectorized computations.\n",
    "        \"\"\"\n",
    "        working_size = (self.size[0] + 2, self.size[1] + 2)\n",
    "        fires = np.zeros(working_size, dtype=bool)\n",
    "        fires[1:-1, 1:-1] = self.fires\n",
    "        north = fires[:-2, 1:-1]\n",
    "        south = fires[2:, 1:-1]\n",
    "        east = fires[1:-1, :-2]\n",
    "        west = fires[1:-1, 2:]\n",
    "        new_fires = (north | south | east | west) & self.trees\n",
    "        self.trees[self.fires] = False\n",
    "        self.fires = new_fires\n",
    "\n",
    "    def advance_one_step(self):\n",
    "        self.grow_trees()\n",
    "        self.start_fires()\n",
    "        self.burn_trees()\n",
    "\n",
    "    @property\n",
    "    def losses(self):\n",
    "        return self.fires\n",
    "\n",
    "class InstantBurnForest(BurnableForest):\n",
    "    \"\"\"BurnableForest where fires spread instantaneously relative to the\n",
    "    growth of new saplings.\n",
    "    \"\"\"\n",
    "    def advance_one_step(self):\n",
    "        self.grow_trees()\n",
    "        self._strike_and_burn()\n",
    "\n",
    "    def _strike_and_burn(self):\n",
    "        strikes = self._rand_bool(self.p_lightning) & self.trees\n",
    "        groves, num_groves = label(self.trees)\n",
    "        fires = set(groves[strikes])\n",
    "        self.fires.fill(False)\n",
    "        for fire in fires:\n",
    "            self.fires[groves == fire] = True\n",
    "        self.trees[self.fires] = False\n",
    "\n",
    "class MoldyInstantBurningForest(InstantBurnForest, MoldProneForest):\n",
    "    @property\n",
    "    def losses(self):\n",
    "        return self.fires | self.mold\n",
    "\n",
    "    def advance_one_step(self):\n",
    "        self.grow_trees()\n",
    "        self._grow_mold_and_kill_trees()\n",
    "        self._strike_and_burn()"
   ]
  },
  {
   "cell_type": "markdown",
   "metadata": {},
   "source": [
    "Now we can look at the `__mro__` attribute of the `MoldyInstantBurningForest`, which has complex ancestry:"
   ]
  },
  {
   "cell_type": "code",
   "execution_count": null,
   "metadata": {
    "collapsed": false
   },
   "outputs": [],
   "source": [
    "MoldyInstantBurningForest.__mro__"
   ]
  },
  {
   "cell_type": "markdown",
   "metadata": {},
   "source": [
    "This explains the call to `super`.  The first argument of `super` is the current location in the method resolution order.  The method resolution order is found in the `__class__` attribute of `self` class whose method resolution order you want to use.\n",
    "\n",
    "Let's think about what happens when you create a new instance of MoldyInstantBurningForest:"
   ]
  },
  {
   "cell_type": "code",
   "execution_count": null,
   "metadata": {
    "collapsed": false
   },
   "outputs": [],
   "source": [
    "MoldyInstantBurningForest.__init__??"
   ]
  },
  {
   "cell_type": "markdown",
   "metadata": {},
   "source": [
    "Check the class definitions for the classes listed in the method resolution order.  Neither `MoldyInstantBurningForest` nor `InstantBurnForest` defines an `__init__` method, so what we see is the `__init__` method of `BurnableForest`.  Inspection of the constructor code shows a call to `super`.  Now let's step through the code to trace our way through the constructor calls to see what happens with `super`."
   ]
  },
  {
   "cell_type": "code",
   "execution_count": null,
   "metadata": {
    "collapsed": false
   },
   "outputs": [],
   "source": [
    "import pdb\n",
    "pdb.runcall(MoldyInstantBurningForest)"
   ]
  },
  {
   "cell_type": "markdown",
   "metadata": {},
   "source": [
    "`super` in `BurnableForest` looks at the `__mro__` of `self`, which is a `MoldyInstantBurningForest` instance.  The next item after `BurnableForest` is `MoldProneForest`, so that is the `__init__` that is called.\n",
    "\n",
    "The call from `MoldProneForest` will take the next one after `MoldProneForest`, which is `Forest`.\n",
    "\n",
    "So that first argument in `super` is kind of like a locator.  It tells the function where it is in the method resolution order of `self`.\n",
    "\n",
    "As long as there is a chain of calls to `super()`, all of the methods of a class hierarchy can be called.\n",
    "\n",
    "Note the effect of order in the inheritance specification in the class definition.  If we reversed the order and put `MoldProneForest` first, then it would have been the first constructor to be called.\n",
    "\n",
    "Note also that to get this behavior, it is necessary that the top-most parent class inherit from `object`."
   ]
  },
  {
   "cell_type": "markdown",
   "metadata": {},
   "source": [
    "Copyright 2008-2016, Enthought, Inc.<br>Use only permitted under license.  Copying, sharing, redistributing or other unauthorized use strictly prohibited.<br>http://www.enthought.com"
   ]
  }
 ],
 "metadata": {
  "kernelspec": {
   "display_name": "Python 2",
   "language": "python",
   "name": "python2"
  },
  "language_info": {
   "codemirror_mode": {
    "name": "ipython",
    "version": 2
   },
   "file_extension": ".py",
   "mimetype": "text/x-python",
   "name": "python",
   "nbconvert_exporter": "python",
   "pygments_lexer": "ipython2",
   "version": "2.7.10"
  }
 },
 "nbformat": 4,
 "nbformat_minor": 0
}
