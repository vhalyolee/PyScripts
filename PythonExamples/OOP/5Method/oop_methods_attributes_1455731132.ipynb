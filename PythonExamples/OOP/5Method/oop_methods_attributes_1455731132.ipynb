{
 "cells": [
  {
   "cell_type": "markdown",
   "metadata": {},
   "source": [
    "Adding Methods and Attributes\n",
    "=============================\n",
    "\n",
    "We've seen how to create a class, but we want to learn how to get the class to store data and to do things.  These are achieved by adding methods and attributes to a class.\n",
    "\n",
    "Methods\n",
    "-------\n",
    "\n",
    "In Python, methods are usually added as part of the class definition.\n",
    "\n",
    "Defining methods is similar to defining functions, with a couple of differences:\n",
    "\n",
    "1. the definition is indented under the class definition, and\n",
    "2. the first argument is always `self`, although you never call the method with `self`.\n",
    "\n",
    "Let's start with a simple example."
   ]
  },
  {
   "cell_type": "code",
   "execution_count": null,
   "metadata": {
    "collapsed": false
   },
   "outputs": [],
   "source": [
    "class Leaf(object):\n",
    "    \"\"\"A Leaf falling in the woods\"\"\"\n",
    "    \n",
    "    def fall(self):\n",
    "        \"\"\"Make a noise when falling\"\"\"\n",
    "        print \"Splat!\"\n",
    "    \n",
    "    def rustle(self, wind_strength=1):\n",
    "        \"\"\"Make a noise from the wind\"\"\"\n",
    "        print \"Whoosh \" * wind_strength\n",
    "\n",
    "leaf = Leaf()"
   ]
  },
  {
   "cell_type": "markdown",
   "metadata": {},
   "source": [
    "So here we have a `Leaf` class with two methods, `fall()` and `rustle()`, and we've created an instance that we can test with.\n",
    "\n",
    "Let's try using the `fall()` method."
   ]
  },
  {
   "cell_type": "code",
   "execution_count": null,
   "metadata": {
    "collapsed": false
   },
   "outputs": [],
   "source": [
    "leaf.fall()"
   ]
  },
  {
   "cell_type": "markdown",
   "metadata": {},
   "source": [
    "Notice that although the `fall()` method is defined to have `self` as the first argument, we don't need to pass that in.  Instead Python takes care of inserting the appropriate instance implicitly (in this case, our object called `leaf`) as the first argument as part of the method call process.\n",
    "\n",
    "We also have a `rustle()` method which has an additional (optional) argument.  Again, when we call it, Pyton implicitly provides the first argument, so we only need to supply a value for `wind_strength`."
   ]
  },
  {
   "cell_type": "code",
   "execution_count": null,
   "metadata": {
    "collapsed": false
   },
   "outputs": [],
   "source": [
    "leaf.rustle(2)"
   ]
  },
  {
   "cell_type": "markdown",
   "metadata": {},
   "source": [
    "Attributes\n",
    "----------\n",
    "\n",
    "By way of contrast, in Python, we can add attributes to our object dynamically rather than in a class definition. This is different from many other languages, which typically require you to declare your data structure up front.  It's also different from the way that we add methods, which are usually created as part of the class definition as we just saw.\n",
    "\n",
    "So if we already have an instance of a class, we can add an attribute to it."
   ]
  },
  {
   "cell_type": "code",
   "execution_count": null,
   "metadata": {
    "collapsed": false
   },
   "outputs": [],
   "source": [
    "leaf.color = \"green\""
   ]
  },
  {
   "cell_type": "markdown",
   "metadata": {},
   "source": [
    "Having done this, we now have a value on the instance which we can use."
   ]
  },
  {
   "cell_type": "code",
   "execution_count": null,
   "metadata": {
    "collapsed": false
   },
   "outputs": [],
   "source": [
    "leaf.color"
   ]
  },
  {
   "cell_type": "markdown",
   "metadata": {},
   "source": [
    "But notice that we have only added this attribute to this one instance.  If we create another leaf, it has no color."
   ]
  },
  {
   "cell_type": "code",
   "execution_count": null,
   "metadata": {
    "collapsed": false
   },
   "outputs": [],
   "source": [
    "leaf2 = Leaf()\n",
    "leaf2.color"
   ]
  },
  {
   "cell_type": "markdown",
   "metadata": {},
   "source": [
    "Obviously we would like to have all of our `Leaf` instances have the same attributes.  We could add them all by hand, but there has to be a better way (and there is, as we'll see in the next lecture).\n",
    "\n",
    "It's worth making a couple of notes here, particularly if you have some familiarity with so-called \"statically typed\" OOP languages like C++ or Java.  Unlike those languages, in Python (almost) any attribute can be added to any object at any time, and nothing will complain.  In C++ or Java if you try to add or use an attribute which isn't part of the class definition, then you will get an error when you try to compile the program.\n",
    "\n",
    "A consequence of this is that in Python, you need to be careful of the spelling of your attributes.  For example, if you are outside of the USA, it can be easy to write"
   ]
  },
  {
   "cell_type": "code",
   "execution_count": null,
   "metadata": {
    "collapsed": false
   },
   "outputs": [],
   "source": [
    "leaf.colour"
   ]
  },
  {
   "cell_type": "markdown",
   "metadata": {},
   "source": [
    "which at least generates an error, but its also easy to write"
   ]
  },
  {
   "cell_type": "code",
   "execution_count": null,
   "metadata": {
    "collapsed": false
   },
   "outputs": [],
   "source": [
    "leaf.colour = \"brown\""
   ]
  },
  {
   "cell_type": "markdown",
   "metadata": {},
   "source": [
    "which doesn't generate an error, and will cause problems, because the `color` attribute is unchanged."
   ]
  },
  {
   "cell_type": "code",
   "execution_count": null,
   "metadata": {
    "collapsed": false
   },
   "outputs": [],
   "source": [
    "leaf.color"
   ]
  },
  {
   "cell_type": "markdown",
   "metadata": {},
   "source": [
    "Since Python won't catch these errors for you, the way that you detect them (other than by accident) is by writing good tests for all of your code.\n",
    "\n",
    "The other note is that although methods are usually defined as part of a class, all a method is is a *callable* attribute of the *class* object."
   ]
  },
  {
   "cell_type": "code",
   "execution_count": null,
   "metadata": {
    "collapsed": false
   },
   "outputs": [],
   "source": [
    "Leaf.fall"
   ]
  },
  {
   "cell_type": "markdown",
   "metadata": {},
   "source": [
    "So you can even add methods dynamically, you just have to add them to the class rather than the instance.\n",
    "\n",
    "This might lead you ask whether you can add other attributes to a class, and the answer is that you can, but the value is shared by all the instances of the class.  For more information about this, see the lectures on scoping in the Advanced Python course.\n",
    "\n",
    "Example\n",
    "-------\n",
    "\n",
    "Let's go back to the forest example that we've been working with.  In the last lecture we created an empty `Forest` class."
   ]
  },
  {
   "cell_type": "code",
   "execution_count": null,
   "metadata": {
    "collapsed": false
   },
   "outputs": [],
   "source": [
    "class Forest(object):\n",
    "    \"\"\"A forest can grow trees which eventually die\"\"\"\n",
    "    pass\n",
    "\n",
    "forest = Forest()"
   ]
  },
  {
   "cell_type": "markdown",
   "metadata": {},
   "source": [
    "So, for example, we can add an array holding information about our trees."
   ]
  },
  {
   "cell_type": "code",
   "execution_count": null,
   "metadata": {
    "collapsed": false
   },
   "outputs": [],
   "source": [
    "import numpy as np\n",
    "\n",
    "forest.trees = np.zeros((150, 150), dtype=bool)"
   ]
  },
  {
   "cell_type": "markdown",
   "metadata": {},
   "source": [
    "So now we have populated the attribute on that instance."
   ]
  },
  {
   "cell_type": "code",
   "execution_count": null,
   "metadata": {
    "collapsed": false
   },
   "outputs": [],
   "source": [
    "print forest.trees"
   ]
  },
  {
   "cell_type": "markdown",
   "metadata": {},
   "source": [
    "Of course, if we create another forest, then it doesn't have any trees by default."
   ]
  },
  {
   "cell_type": "code",
   "execution_count": null,
   "metadata": {
    "collapsed": false
   },
   "outputs": [],
   "source": [
    "forest2 = Forest()\n",
    "forest2.trees"
   ]
  },
  {
   "cell_type": "markdown",
   "metadata": {},
   "source": [
    "So what we really need is some way of automatically adding attributes to an instance when it is created, and we'll talk about that in the next lecture."
   ]
  },
  {
   "cell_type": "markdown",
   "metadata": {},
   "source": [
    "Copyright 2008-2016, Enthought, Inc.<br>Use only permitted under license.  Copying, sharing, redistributing or other unauthorized use strictly prohibited.<br>http://www.enthought.com"
   ]
  }
 ],
 "metadata": {
  "kernelspec": {
   "display_name": "Python 2",
   "language": "python",
   "name": "python2"
  },
  "language_info": {
   "codemirror_mode": {
    "name": "ipython",
    "version": 2
   },
   "file_extension": ".py",
   "mimetype": "text/x-python",
   "name": "python",
   "nbconvert_exporter": "python",
   "pygments_lexer": "ipython2",
   "version": "2.7.10"
  }
 },
 "nbformat": 4,
 "nbformat_minor": 0
}
