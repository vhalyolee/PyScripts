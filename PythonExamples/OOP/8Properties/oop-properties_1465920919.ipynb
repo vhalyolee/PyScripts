{
 "cells": [
  {
   "cell_type": "markdown",
   "metadata": {},
   "source": [
    "## Properties"
   ]
  },
  {
   "cell_type": "markdown",
   "metadata": {},
   "source": [
    "Another useful feature of OOP in Python is a *property*.  Sometimes we want to define an attribute that gets computed when asked for but otherwise behaves like the attributes we've already seen.  This kind of attribute that is not stored, but rather computed on-demand, is called a property.  In the simplest case of a read-only property, you define it as a method with a *decorator*.  It's not critical to understand decorators to do this, but if you're interested, you can get more in-depth information on decorators in our \"Advanced Python\" course.\n",
    "\n",
    "Let's consider the example of a `Leaf`.  The leaf has an attribute that holds the mass of the leaf in milligrams.  We can add a property to the leaf to make its mass in ounces available as a computed attribute:"
   ]
  },
  {
   "cell_type": "code",
   "execution_count": null,
   "metadata": {
    "collapsed": false
   },
   "outputs": [],
   "source": [
    "class Leaf(object):\n",
    "    \n",
    "    def __init__(self, mass_mg):\n",
    "        self.mass_mg = mass_mg\n",
    "\n",
    "    @property\n",
    "    def mass_oz(self):\n",
    "        return self.mass_mg * 3.53e-5"
   ]
  },
  {
   "cell_type": "markdown",
   "metadata": {},
   "source": [
    "Now when we create an instance of `Leaf` and assign it a value in milligrams, our new property will automatically do the unit conversion for us:"
   ]
  },
  {
   "cell_type": "code",
   "execution_count": null,
   "metadata": {
    "collapsed": false
   },
   "outputs": [],
   "source": [
    "leaf = Leaf(200)\n",
    "print leaf.mass_oz"
   ]
  },
  {
   "cell_type": "markdown",
   "metadata": {},
   "source": [
    "Note that we access the property just like a normal attribute, not like a method call with parentheses.\n",
    "\n",
    "If we change the value of the underlying attribute, the next time we access the `mass_oz` property, it will see the updated value:"
   ]
  },
  {
   "cell_type": "code",
   "execution_count": null,
   "metadata": {
    "collapsed": false
   },
   "outputs": [],
   "source": [
    "leaf.mass_mg = 150\n",
    "print leaf.mass_oz"
   ]
  },
  {
   "cell_type": "markdown",
   "metadata": {},
   "source": [
    "Note that `mass_oz` is a read-only attribiute.  If we try to assign a value to it, it will raise an error:"
   ]
  },
  {
   "cell_type": "code",
   "execution_count": null,
   "metadata": {
    "collapsed": false
   },
   "outputs": [],
   "source": [
    "leaf.mass_oz = 0.001"
   ]
  },
  {
   "cell_type": "markdown",
   "metadata": {},
   "source": [
    "Going back to our Forest class, let's define properties to let us look up the fractional area of trees and fires in the forest.  Notice that I'm also using the built-in attributes `__class__` and `__name__` to create a default name."
   ]
  },
  {
   "cell_type": "code",
   "execution_count": null,
   "metadata": {
    "collapsed": false
   },
   "outputs": [],
   "source": [
    "import numpy as np\n",
    "\n",
    "class Forest(object):\n",
    "    def __init__(self, size=(150, 150), p_sapling=0.0025, p_lightning=5.0e-6,\n",
    "                 name=None):\n",
    "        self.size = size\n",
    "        self.trees = np.zeros(self.size, dtype=bool)\n",
    "        self.fires = np.zeros(self.size, dtype=bool)\n",
    "        self.p_sapling = p_sapling\n",
    "        self.p_lightning = p_lightning\n",
    "        if name is not None:\n",
    "            self.name = name\n",
    "        else:\n",
    "            self.name = self.__class__.__name__\n",
    "\n",
    "    @property\n",
    "    def num_cells(self):\n",
    "        \"\"\" Number of cells available for growing trees. \"\"\"\n",
    "        # assuming 2D forest\n",
    "        return self.size[0] * self.size[1]\n",
    "\n",
    "    @property\n",
    "    def fire_fraction(self):\n",
    "        return float(self.fires.sum()) / self.num_cells\n",
    "\n",
    "    @property\n",
    "    def tree_fraction(self):\n",
    "        return float(self.trees.sum()) / float(self.num_cells)"
   ]
  },
  {
   "cell_type": "markdown",
   "metadata": {},
   "source": [
    "Now every `Forest` instance has arrays of trees and fires and a name attribute.  In addition, we defined properties to look up the number of cells and the fractional area with trees or with fires.\n"
   ]
  },
  {
   "cell_type": "code",
   "execution_count": null,
   "metadata": {
    "collapsed": false
   },
   "outputs": [],
   "source": [
    "forest = Forest()\n",
    "print forest.num_cells\n",
    "print forest.tree_fraction\n",
    "print forest.name"
   ]
  },
  {
   "cell_type": "markdown",
   "metadata": {},
   "source": [
    "Let's make a small forest, and see that it has a different number of computed cells:"
   ]
  },
  {
   "cell_type": "code",
   "execution_count": null,
   "metadata": {
    "collapsed": false
   },
   "outputs": [],
   "source": [
    "small_forest = Forest((10, 10))\n",
    "print small_forest.num_cells\n",
    "print small_forest.tree_fraction"
   ]
  },
  {
   "cell_type": "markdown",
   "metadata": {
    "collapsed": false
   },
   "source": [
    "Copyright 2008-2016, Enthought, Inc.<br>Use only permitted under license.  Copying, sharing, redistributing or other unauthorized use strictly prohibited.<br>http://www.enthought.com"
   ]
  }
 ],
 "metadata": {
  "kernelspec": {
   "display_name": "Python 2",
   "language": "python",
   "name": "python2"
  },
  "language_info": {
   "codemirror_mode": {
    "name": "ipython",
    "version": 2
   },
   "file_extension": ".py",
   "mimetype": "text/x-python",
   "name": "python",
   "nbconvert_exporter": "python",
   "pygments_lexer": "ipython2",
   "version": "2.7.10"
  }
 },
 "nbformat": 4,
 "nbformat_minor": 0
}
