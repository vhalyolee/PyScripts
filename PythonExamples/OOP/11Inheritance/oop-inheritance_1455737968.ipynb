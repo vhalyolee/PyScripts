{
 "cells": [
  {
   "cell_type": "markdown",
   "metadata": {},
   "source": [
    "# Inheritance"
   ]
  },
  {
   "cell_type": "markdown",
   "metadata": {},
   "source": [
    "So I just had a conversation with my co-worker who pointed out to me that my model for forest fires is not realistic because it assumes that the forest fires grow on the same time scale that the fires spread.\n",
    "\n",
    "He's right, in fact, and I should update my model, but I'd like to keep the slow-burn implementation, because it might be interesting for other slow-spreading-death simulations.\n",
    "\n",
    "So how can I make two different kinds of forest that share some of their behaviors but are distinct in other ways?\n",
    "\n",
    "The answer is to make use of *inheritance*.  We're going to define a *parent class* that has the features that are common to the children.  In our case, we want a Forest parent class that has arrays of trees and has a growth model.  In addition, the parent should be able to `advance_one_step`.  We'll hold off adding fires for now, because we may want to add other things later, like bark-beetles or fungal infections, that have spreading behavior.\n",
    "\n",
    "Let's use a simple example to illustrate the point here, using our simple class that models a leaf:"
   ]
  },
  {
   "cell_type": "code",
   "execution_count": null,
   "metadata": {
    "collapsed": false
   },
   "outputs": [],
   "source": [
    "class Leaf(object):\n",
    "    \n",
    "    def __init__(self, color=\"green\"):\n",
    "        self.color = color\n",
    "\n",
    "    def fall(self):\n",
    "        print \"Splat!\"\n",
    "        \n",
    "leaf = Leaf()\n",
    "print leaf.color\n",
    "leaf.fall()"
   ]
  },
  {
   "cell_type": "markdown",
   "metadata": {},
   "source": [
    "The argument `object` in the class definition specifies the parent class we would like to inherit behavior from.  The `object` class is the most basic class in Python, and nearly everything descends from it.\n",
    "\n",
    "Now let's make a model of a maple leaf that does everything that a leaf does, but has a new method to change color.  We can do this by specifying that our `MapleLeaf` class inherits from `Leaf`, instead of `object`:"
   ]
  },
  {
   "cell_type": "code",
   "execution_count": null,
   "metadata": {
    "collapsed": false
   },
   "outputs": [],
   "source": [
    "class MapleLeaf(Leaf):\n",
    "    \n",
    "    def change_color(self):\n",
    "        if self.color == \"green\":\n",
    "            self.color = \"red\""
   ]
  },
  {
   "cell_type": "markdown",
   "metadata": {},
   "source": [
    "We see that an instance of our new `MapleLeaf` inherits the `color` attribute and `fall` method."
   ]
  },
  {
   "cell_type": "code",
   "execution_count": null,
   "metadata": {
    "collapsed": false
   },
   "outputs": [],
   "source": [
    "mleaf = MapleLeaf()\n",
    "print mleaf.color\n",
    "mleaf.fall()"
   ]
  },
  {
   "cell_type": "code",
   "execution_count": null,
   "metadata": {
    "collapsed": false
   },
   "outputs": [],
   "source": [
    "mleaf.change_color()\n",
    "print mleaf.color"
   ]
  },
  {
   "cell_type": "markdown",
   "metadata": {},
   "source": [
    "We can also override methods in the parent class if we define them in `MapleLeaf`:"
   ]
  },
  {
   "cell_type": "code",
   "execution_count": null,
   "metadata": {
    "collapsed": false
   },
   "outputs": [],
   "source": [
    "class MapleLeaf(Leaf):\n",
    "    \n",
    "    def change_color(self):\n",
    "        if self.color == \"green\":\n",
    "            self.color = \"red\"\n",
    "            \n",
    "    def fall(self):\n",
    "        self.change_color()\n",
    "        print \"Plunk!\""
   ]
  },
  {
   "cell_type": "markdown",
   "metadata": {},
   "source": [
    "and now if we call the `fall()` method on an instance of `MapleLeaf`, it uses the new behavior:"
   ]
  },
  {
   "cell_type": "code",
   "execution_count": null,
   "metadata": {
    "collapsed": false
   },
   "outputs": [],
   "source": [
    "mleaf = MapleLeaf()\n",
    "mleaf.fall()\n",
    "print mleaf.color"
   ]
  },
  {
   "cell_type": "markdown",
   "metadata": {},
   "source": [
    "Copyright 2008-2016, Enthought, Inc.<br>Use only permitted under license.  Copying, sharing, redistributing or other unauthorized use strictly prohibited.<br>http://www.enthought.com"
   ]
  }
 ],
 "metadata": {
  "kernelspec": {
   "display_name": "Python 2",
   "language": "python",
   "name": "python2"
  },
  "language_info": {
   "codemirror_mode": {
    "name": "ipython",
    "version": 2
   },
   "file_extension": ".py",
   "mimetype": "text/x-python",
   "name": "python",
   "nbconvert_exporter": "python",
   "pygments_lexer": "ipython2",
   "version": "2.7.10"
  }
 },
 "nbformat": 4,
 "nbformat_minor": 0
}
