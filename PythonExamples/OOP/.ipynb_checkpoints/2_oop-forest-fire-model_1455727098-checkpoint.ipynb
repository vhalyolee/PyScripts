{
 "cells": [
  {
   "cell_type": "markdown",
   "metadata": {},
   "source": [
    "Using OOP to Model a Forest Fire\n",
    "================================\n",
    "\n",
    "Let's take a simple example that is borrowed from Maksim Tsvetovat and Alexander Kouznetsov's [book on modeling complexity](http://www.worldcat.org/search?q=isbn%3A9781449330835).\n",
    "\n",
    "We're considering a forest modeled with a numpy array. Every cell can have two values: True means there's a tree there, and False means no tree. At every step, each cell of my forest can grow a new tree with some probability or lose a tree if it is on fire. Lightning can strike any cell with a different probability. Fires are started in cells with trees either by lightning strikes or by fires in adjacent cells. At the end of the step, every cell that started with a fire loses its tree, and newly started fires continue into the next step.\n",
    "\n",
    "In this example, there is a class called Forest that models the forest. It has attributes representing the locations of trees and the fires, and it has methods to carry out actions described by the model, like growing trees and starting fires.\n",
    "\n",
    "Let's do some preliminary imports so that we can investigate what is going on in the model:"
   ]
  },
  {
   "cell_type": "code",
   "execution_count": null,
   "metadata": {
    "collapsed": false
   },
   "outputs": [],
   "source": [
    "%matplotlib inline"
   ]
  },
  {
   "cell_type": "markdown",
   "metadata": {},
   "source": [
    "Technically we don't need numpy for this model, but it makes the simulation run faster, and reflects the way that you probably should write scientific code like this."
   ]
  },
  {
   "cell_type": "code",
   "execution_count": null,
   "metadata": {
    "collapsed": false
   },
   "outputs": [],
   "source": [
    "import matplotlib.pyplot as plt\n",
    "import numpy as np"
   ]
  },
  {
   "cell_type": "markdown",
   "metadata": {},
   "source": [
    "Rather than importing from a file, let's define our Forest class directly in this notebook:"
   ]
  },
  {
   "cell_type": "code",
   "execution_count": null,
   "metadata": {
    "collapsed": false
   },
   "outputs": [],
   "source": [
    "class Forest(object):\n",
    "    def __init__(self, size=(150, 150), p_sapling=0.0025, p_lightning=5.e-6, name=None):\n",
    "        self.size = size\n",
    "        self.trees = np.zeros(self.size, dtype=bool)\n",
    "        self.forest_fires = np.zeros(self.size, dtype=bool)\n",
    "        self.p_sapling = p_sapling\n",
    "        self.p_lightning = p_lightning\n",
    "        if name is not None:\n",
    "            self.name = name\n",
    "        else:\n",
    "            self.name = self.__class__.__name__\n",
    "\n",
    "    @property\n",
    "    def num_cells(self):\n",
    "        return self.size[0] * self.size[1]\n",
    "\n",
    "    @property\n",
    "    def tree_fraction(self):\n",
    "        return self.trees.sum() / float(self.num_cells)\n",
    "\n",
    "    @property\n",
    "    def fire_fraction(self):\n",
    "        return self.forest_fires.sum() / float(self.num_cells)\n",
    "\n",
    "    def advance_one_step(self):\n",
    "        self.grow_trees()\n",
    "        self.start_fires()\n",
    "        self.burn_trees()\n",
    "\n",
    "    def grow_trees(self):\n",
    "        growth_sites = self._rand_bool(self.p_sapling)\n",
    "        self.trees[growth_sites] = True\n",
    "\n",
    "    def start_fires(self):\n",
    "        lightning_strikes = (self._rand_bool(self.p_lightning) & \n",
    "            self.trees)\n",
    "        self.forest_fires[lightning_strikes] = True\n",
    "        \n",
    "    def burn_trees(self):\n",
    "        fires = np.zeros((self.size[0] + 2, self.size[1] + 2), dtype=bool)\n",
    "        fires[1:-1, 1:-1] = self.forest_fires\n",
    "        north = fires[:-2, 1:-1]\n",
    "        south = fires[2:, 1:-1]\n",
    "        east = fires[1:-1, :-2]\n",
    "        west = fires[1:-1, 2:]\n",
    "        new_fires = (north | south | east | west) & self.trees\n",
    "        self.trees[self.forest_fires] = False\n",
    "        self.forest_fires = new_fires\n",
    "\n",
    "    def _rand_bool(self, p):\n",
    "        return np.random.uniform(size=self.trees.shape) < p"
   ]
  },
  {
   "cell_type": "markdown",
   "metadata": {},
   "source": [
    "Don't worry about how all of this code is put together.  Instead, lets look at how we can use it.\n",
    "\n",
    "First, let's create ourselves a forest to play with:"
   ]
  },
  {
   "cell_type": "code",
   "execution_count": null,
   "metadata": {
    "collapsed": false
   },
   "outputs": [],
   "source": [
    "forest = Forest()"
   ]
  },
  {
   "cell_type": "markdown",
   "metadata": {},
   "source": [
    "Let's take a look at the representation of the trees and the forest fires.  As we noted above, these are NumPy arrays of booleans."
   ]
  },
  {
   "cell_type": "code",
   "execution_count": null,
   "metadata": {
    "collapsed": false
   },
   "outputs": [],
   "source": [
    "print forest.trees\n",
    "print forest.forest_fires"
   ]
  },
  {
   "cell_type": "markdown",
   "metadata": {},
   "source": [
    "We can visualize these a bit better with Matplotlib's `matshow()`."
   ]
  },
  {
   "cell_type": "code",
   "execution_count": null,
   "metadata": {
    "collapsed": false
   },
   "outputs": [],
   "source": [
    "plt.matshow(forest.trees, cmap=plt.cm.Greens)"
   ]
  },
  {
   "cell_type": "markdown",
   "metadata": {},
   "source": [
    "We can advance time by calling the `advance_one_step()` method of the forest.  Let's advance time, and then plot the trees:"
   ]
  },
  {
   "cell_type": "code",
   "execution_count": null,
   "metadata": {
    "collapsed": false
   },
   "outputs": [],
   "source": [
    "forest.advance_one_step()\n",
    "plt.matshow(forest.trees, cmap=plt.cm.Greens)"
   ]
  },
  {
   "cell_type": "markdown",
   "metadata": {},
   "source": [
    "You can re-run this code a few times and see the coverage of trees increase.  Use control-enter (or command-enter on OS X) to run a cell without advancing to the next one.\n",
    "\n",
    "We also have some attributes which provide useful summary information about our forest, such as the fraction of the area covered with trees."
   ]
  },
  {
   "cell_type": "code",
   "execution_count": null,
   "metadata": {
    "collapsed": false
   },
   "outputs": [],
   "source": [
    "print forest.tree_fraction"
   ]
  },
  {
   "cell_type": "markdown",
   "metadata": {},
   "source": [
    "We can use these methods and attributes on our objects as we would any of the built-in object types.  So for example, we could advance time in a `for` loop and then see how things look."
   ]
  },
  {
   "cell_type": "code",
   "execution_count": null,
   "metadata": {
    "collapsed": false
   },
   "outputs": [],
   "source": [
    "for i in range(500):\n",
    "    forest.advance_one_step()\n",
    "plt.matshow(forest.trees, cmap=plt.cm.Greens)\n",
    "print forest.tree_fraction"
   ]
  },
  {
   "cell_type": "markdown",
   "metadata": {},
   "source": [
    "If we take a look at the code for `advance_one_step()`, we'll see that it's written in terms that relate to the domain:\n",
    "\n",
    "    def advance_one_step(self):\n",
    "        self.grow_trees()\n",
    "        self.start_fires()\n",
    "        self.burn_trees()\n",
    "\n",
    "Advancing one step first grows the trees, then it starts the fires, then the trees get burned.\n",
    "\n",
    "Without worrying about the implementation (yet) we can use this model to run a little simulation. For instance we can track the tree population over a number of growth cycles. At every step, we'll advance the forest one step and append the number of trees to a list. Then we plot the results."
   ]
  },
  {
   "cell_type": "code",
   "execution_count": null,
   "metadata": {
    "collapsed": false
   },
   "outputs": [],
   "source": [
    "forest = Forest()\n",
    "tree_fractions = []\n",
    "for i in range(5000):\n",
    "    forest.advance_one_step()\n",
    "    tree_fractions.append(forest.tree_fraction)\n",
    "fig = plt.figure()\n",
    "ax0 = fig.add_subplot(1,2,1)\n",
    "ax0.matshow(forest.trees, cmap=plt.cm.Greens)\n",
    "ax1 = fig.add_subplot(1,2,2)\n",
    "ax1.plot(tree_fractions)"
   ]
  },
  {
   "cell_type": "markdown",
   "metadata": {},
   "source": [
    "...and interesting behavior emerges, and you're already thinking, what are the probabilities, and how do I tweak them, and let's run more cycles to see the patterns.\n",
    "\n",
    "You should feel free to investigate this example further and play around with the parameters some more."
   ]
  },
  {
   "cell_type": "markdown",
   "metadata": {},
   "source": [
    "Copyright 2008-2016, Enthought, Inc.<br>Use only permitted under license.  Copying, sharing, redistributing or other unauthorized use strictly prohibited.<br>http://www.enthought.com"
   ]
  }
 ],
 "metadata": {
  "kernelspec": {
   "display_name": "Python 2",
   "language": "python",
   "name": "python2"
  },
  "language_info": {
   "codemirror_mode": {
    "name": "ipython",
    "version": 2
   },
   "file_extension": ".py",
   "mimetype": "text/x-python",
   "name": "python",
   "nbconvert_exporter": "python",
   "pygments_lexer": "ipython2",
   "version": "2.7.11"
  }
 },
 "nbformat": 4,
 "nbformat_minor": 0
}
