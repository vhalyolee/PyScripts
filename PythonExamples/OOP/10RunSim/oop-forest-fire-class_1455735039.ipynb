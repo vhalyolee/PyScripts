{
 "cells": [
  {
   "cell_type": "markdown",
   "metadata": {},
   "source": [
    "Let's add the rest of the methods that we need to get the behavior we saw in the demonstration.  Notice that we can call other methods of a class from inside methods by accessing them through `self`."
   ]
  },
  {
   "cell_type": "code",
   "execution_count": null,
   "metadata": {
    "collapsed": false
   },
   "outputs": [],
   "source": [
    "import numpy as np\n",
    "\n",
    "class Forest(object):\n",
    "    def __init__(self, size=(150, 150), p_sapling=0.0025, p_lightning=5.0e-6,\n",
    "                 name=None):\n",
    "        self.size = size\n",
    "        self.trees = np.zeros(self.size, dtype=bool)\n",
    "        self.fires = np.zeros(self.size, dtype=bool)\n",
    "        self.p_sapling = p_sapling\n",
    "        self.p_lightning = p_lightning\n",
    "        if name is not None:\n",
    "            self.name = name\n",
    "        else:\n",
    "            self.name = self.__class__.__name__\n",
    "\n",
    "    @property\n",
    "    def num_cells(self):\n",
    "        return self.size[0] * self.size[1]\n",
    "\n",
    "    @property\n",
    "    def fire_fraction(self):\n",
    "        return self.fires.sum() / float(self.num_cells)\n",
    "\n",
    "    @property\n",
    "    def tree_fraction(self):\n",
    "        return self.trees.sum() / float(self.num_cells)\n",
    "\n",
    "    def advance_one_step(self):\n",
    "        self.grow_trees()\n",
    "        self.start_fires()\n",
    "        self.burn_trees()\n",
    "\n",
    "    def burn_trees(self):\n",
    "        \"\"\"The rules for burning trees:\n",
    "        -New fires start in tree-filled adjacent cells.\n",
    "        -Trees in currently burning cells burn and disappear.\n",
    "\n",
    "        The fire-spreading algorithm is calculated on an array padded\n",
    "        around the edges with zeros to allow vectorized computations.\n",
    "        \"\"\"\n",
    "        working_size = (self.size[0] + 2, self.size[1] + 2)\n",
    "        fires = np.zeros(working_size, dtype=bool)\n",
    "        fires[1:-1, 1:-1] = self.fires\n",
    "        north = fires[:-2, 1:-1]\n",
    "        south = fires[2:, 1:-1]\n",
    "        east = fires[1:-1, :-2]\n",
    "        west = fires[1:-1, 2:]\n",
    "        new_fires = (north | south | east | west) & self.trees\n",
    "        self.trees[self.fires] = False\n",
    "        self.fires = new_fires\n",
    "\n",
    "    def grow_trees(self):\n",
    "        growth_sites = self._rand_bool(self.p_sapling)\n",
    "        self.trees[growth_sites] = True\n",
    "\n",
    "    def start_fires(self):\n",
    "        lightning_strikes = self._rand_bool(self.p_lightning) & self.trees\n",
    "        self.fires[lightning_strikes] = True\n",
    "\n",
    "    def _rand_bool(self, p):\n",
    "        \"\"\" A private method that will be reused by other methods. \"\"\"\n",
    "        return np.random.uniform(size=self.trees.shape) < p"
   ]
  },
  {
   "cell_type": "markdown",
   "metadata": {},
   "source": [
    "We can test that we have the basic operations in place by creating an instance of `Forest` and calling some of its methods:"
   ]
  },
  {
   "cell_type": "code",
   "execution_count": null,
   "metadata": {
    "collapsed": false
   },
   "outputs": [],
   "source": [
    "forest = Forest()\n",
    "forest.grow_trees()\n",
    "forest.start_fires()\n",
    "forest.burn_trees()\n",
    "print forest.tree_fraction"
   ]
  },
  {
   "cell_type": "markdown",
   "metadata": {},
   "source": [
    "Now let's use our new class to create two different forests, one that burns rarely, and another that has more frequent lightning strikes."
   ]
  },
  {
   "cell_type": "code",
   "execution_count": null,
   "metadata": {
    "collapsed": false
   },
   "outputs": [],
   "source": [
    "low_fire_forest = Forest(p_lightning=5e-6, name=\"Infrequent fires\")\n",
    "high_fire_forest = Forest(p_lightning=1e-4, name=\"Frequent fires\")\n",
    "tree_counts = []\n",
    "for i in range(2500):\n",
    "    low_fire_forest.advance_one_step()\n",
    "    high_fire_forest.advance_one_step()\n",
    "    tree_counts.append((low_fire_forest.tree_fraction, high_fire_forest.tree_fraction))"
   ]
  },
  {
   "cell_type": "markdown",
   "metadata": {},
   "source": [
    "A little plotting help from `matplotlib` lets us take a look at the results."
   ]
  },
  {
   "cell_type": "code",
   "execution_count": null,
   "metadata": {
    "collapsed": false
   },
   "outputs": [],
   "source": [
    "import matplotlib.pyplot as plt\n",
    "%matplotlib inline\n",
    "\n",
    "fig = plt.figure(figsize=(9,4))\n",
    "ax0 = fig.add_subplot(1,3,1)\n",
    "ax0.imshow(low_fire_forest.trees, \n",
    "           interpolation=\"none\",\n",
    "           origin='lower', cmap=plt.cm.Greens)\n",
    "ax0.set_title(low_fire_forest.name)\n",
    "\n",
    "ax1 = fig.add_subplot(1,3,2)\n",
    "ax1.plot(tree_counts)\n",
    "ax1.legend(['less-frequent', 'more-frequent'], loc='best')\n",
    "\n",
    "ax2 = fig.add_subplot(1,3,3)\n",
    "ax2.imshow(high_fire_forest.trees, \n",
    "           interpolation=\"none\",\n",
    "           origin='lower', cmap=plt.cm.Greens)\n",
    "ax2.set_title(high_fire_forest.name)"
   ]
  },
  {
   "cell_type": "markdown",
   "metadata": {},
   "source": [
    "We see a remarkable difference in the behavior of the two forests.  The forest with frequent fires has a relatively stable poulation of trees, while the forest with less frequent fires shows dramatic oscillations as the forest grows and is burned back by larger fires."
   ]
  },
  {
   "cell_type": "markdown",
   "metadata": {},
   "source": [
    "Copyright 2008-2016, Enthought, Inc.<br>Use only permitted under license.  Copying, sharing, redistributing or other unauthorized use strictly prohibited.<br>http://www.enthought.com"
   ]
  }
 ],
 "metadata": {
  "kernelspec": {
   "display_name": "Python 2",
   "language": "python",
   "name": "python2"
  },
  "language_info": {
   "codemirror_mode": {
    "name": "ipython",
    "version": 2
   },
   "file_extension": ".py",
   "mimetype": "text/x-python",
   "name": "python",
   "nbconvert_exporter": "python",
   "pygments_lexer": "ipython2",
   "version": "2.7.10"
  }
 },
 "nbformat": 4,
 "nbformat_minor": 0
}
