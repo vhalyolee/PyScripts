{
 "cells": [
  {
   "cell_type": "markdown",
   "metadata": {},
   "source": [
    "Introduction\n",
    "============\n",
    "\n",
    "**(Or, Don't Panic! You have been using OOP already)**\n",
    "\n",
    "If you're coming to Python from a scientific or engineering background, you may have some trepidation about learning and using Object Oriented Programming.  Don't worry,  OOP in Python is pretty straightforward, and understanding it unlocks a lot of potential in your programming skills.\n",
    "\n",
    "There are several different ways to approach OOP, and right now I want to show you that you're already familiar with some aspects of it just by having covered the material in the Python language courses.  I'm referring to the fact that objects in Python have *attributes* and *methods*.\n",
    "\n",
    "Attributes\n",
    "----------\n",
    "\n",
    "An attribute is just a piece of data attached to an object.  It might be a setting or name or a mode.  For instance when you create a file object, you give it a mode:"
   ]
  },
  {
   "cell_type": "code",
   "execution_count": null,
   "metadata": {
    "collapsed": false
   },
   "outputs": [],
   "source": [
    "f = file(\"new_file\", \"w\")"
   ]
  },
  {
   "cell_type": "markdown",
   "metadata": {},
   "source": [
    "(in this case, `\"w\"`) and this is stored on the file object as an attribute:"
   ]
  },
  {
   "cell_type": "code",
   "execution_count": null,
   "metadata": {
    "collapsed": false
   },
   "outputs": [],
   "source": [
    "f.mode"
   ]
  },
  {
   "cell_type": "markdown",
   "metadata": {},
   "source": [
    "File objects have other attributes, for example, the `closed` attribute tells you if the file is closed or not:"
   ]
  },
  {
   "cell_type": "code",
   "execution_count": null,
   "metadata": {
    "collapsed": false
   },
   "outputs": [],
   "source": [
    "f.closed"
   ]
  },
  {
   "cell_type": "markdown",
   "metadata": {},
   "source": [
    "Attributes can be read-only (as these examples are), read/write, or (rarely) write-only.  You write to an attribute by assigning a value to it, just as you would a Python variable.\n",
    "\n",
    "### Common Errors\n",
    "\n",
    "One common error is to try to write to a read-only attribute:"
   ]
  },
  {
   "cell_type": "code",
   "execution_count": null,
   "metadata": {
    "collapsed": false
   },
   "outputs": [],
   "source": [
    "f.mode = \"r\""
   ]
  },
  {
   "cell_type": "markdown",
   "metadata": {},
   "source": [
    "Another common error is trying to call an attribute (mistaking it for a method):"
   ]
  },
  {
   "cell_type": "code",
   "execution_count": null,
   "metadata": {
    "collapsed": false
   },
   "outputs": [],
   "source": [
    "f.mode()"
   ]
  },
  {
   "cell_type": "markdown",
   "metadata": {},
   "source": [
    "Methods\n",
    "-------\n",
    "\n",
    "A method is a function attached to an object that works on the object itself. Our file object has methods like `write()`, `seek()` and `close()` that we use to write content to and close the file. Because these are methods of the specific file that we opened they do the appropriate actions on that file."
   ]
  },
  {
   "cell_type": "code",
   "execution_count": null,
   "metadata": {
    "collapsed": false
   },
   "outputs": [],
   "source": [
    "f.write(\"Hi.\\n\")\n",
    "f.seek(0)\n",
    "f.write(\"Hola!\\n\")\n",
    "f.close()"
   ]
  },
  {
   "cell_type": "markdown",
   "metadata": {},
   "source": [
    "You've been using methods on objects almost immediately from the start of these courses.\n",
    "\n",
    "### Common Errors\n",
    "\n",
    "A common mistake is to access the method without the parentheses. It typically leads to a different kind of error, because all you're doing here is evaluating the function object without actually calling it:"
   ]
  },
  {
   "cell_type": "code",
   "execution_count": null,
   "metadata": {
    "collapsed": false
   },
   "outputs": [],
   "source": [
    "f.close"
   ]
  },
  {
   "cell_type": "markdown",
   "metadata": {},
   "source": [
    "So if anything we're doing relies on having the file closed, it would fail, but you may not notice the error immediately because there is nothing syntactically wrong with what you have written.\n",
    "\n",
    "Why Use OOP?\n",
    "------------\n",
    "\n",
    "There are a number of good reasons to use OOP, even for beginners.\n",
    "Probably the most important benefit is that you can design a data type that models the problem you are trying to solve. With a well designed class, you can work with your model in terms that make sense in your domain, rather than getting bogged down with a lot of programming details every time you want to use your model.\n",
    "\n",
    "In addition, OOP allows you to easily re-use and extend code to situations that had not been forseen initially by using techniques like inheritance.\n",
    "\n",
    "Lastly, a lot of Python code has been written using OOP (in particular, graphical user interface code tends to be heavily object-oriented), and it is valuable to be able to read, understand and use other peoples' code."
   ]
  },
  {
   "cell_type": "markdown",
   "metadata": {},
   "source": [
    "Copyright 2008-2016, Enthought, Inc.<br>Use only permitted under license.  Copying, sharing, redistributing or other unauthorized use strictly prohibited.<br>http://www.enthought.com"
   ]
  }
 ],
 "metadata": {
  "kernelspec": {
   "display_name": "Python 2",
   "language": "python",
   "name": "python2"
  },
  "language_info": {
   "codemirror_mode": {
    "name": "ipython",
    "version": 2
   },
   "file_extension": ".py",
   "mimetype": "text/x-python",
   "name": "python",
   "nbconvert_exporter": "python",
   "pygments_lexer": "ipython2",
   "version": "2.7.10"
  }
 },
 "nbformat": 4,
 "nbformat_minor": 0
}
