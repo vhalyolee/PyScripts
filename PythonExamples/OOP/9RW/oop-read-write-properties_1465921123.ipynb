{
 "cells": [
  {
   "cell_type": "markdown",
   "metadata": {},
   "source": [
    "# Read/Write Properties"
   ]
  },
  {
   "cell_type": "markdown",
   "metadata": {},
   "source": [
    "In this optional lecture, we'll look at how to create a read/write property.  In the previous lecture, we saw how to use the `@property` decorator.  In a similar way, we can use a decorator to specify a method that will be used to set a property value.  That decorator has the form of an attribute called `setter` on the name of the property (in our case this becomes `@mass_oz.setter`)."
   ]
  },
  {
   "cell_type": "code",
   "execution_count": null,
   "metadata": {
    "collapsed": false
   },
   "outputs": [],
   "source": [
    "class Leaf(object):\n",
    "    \n",
    "    def __init__(self, mass_mg):\n",
    "        self.mass_mg = mass_mg\n",
    "\n",
    "    @property\n",
    "    def mass_oz(self):\n",
    "        return self.mass_mg * 3.53e-5\n",
    "    \n",
    "    @mass_oz.setter\n",
    "    def mass_oz(self, m_oz):\n",
    "        self.mass_mg = m_oz / 3.53e-5"
   ]
  },
  {
   "cell_type": "markdown",
   "metadata": {},
   "source": [
    "Now, not only can we read the `mass_oz` property as before, but we can also assign it, and that assignment will have the effect of changing the underlying `mass_mg` property:"
   ]
  },
  {
   "cell_type": "code",
   "execution_count": null,
   "metadata": {
    "collapsed": false
   },
   "outputs": [],
   "source": [
    "leaf = Leaf(200)\n",
    "print leaf.mass_oz\n",
    "leaf.mass_mg = 150\n",
    "print leaf.mass_oz"
   ]
  },
  {
   "cell_type": "code",
   "execution_count": null,
   "metadata": {
    "collapsed": false
   },
   "outputs": [],
   "source": [
    "leaf.mass_oz = 0.01\n",
    "print leaf.mass_mg"
   ]
  },
  {
   "cell_type": "markdown",
   "metadata": {},
   "source": [
    "There is an alternate pattern that we can use to accomplish the same thing using `property()` as a function instead of a decorator:\n",
    "\n",
    "When using the `property()` function, you specify the *getter* and the *setter* methods as arguments (it can also take a third argument, the *deleter*, if needed)."
   ]
  },
  {
   "cell_type": "code",
   "execution_count": null,
   "metadata": {
    "collapsed": false
   },
   "outputs": [],
   "source": [
    "class Leaf(object):\n",
    "    \n",
    "    def __init__(self, mass_mg):\n",
    "        self.mass_mg = mass_mg\n",
    "\n",
    "    def get_mass_oz(self):\n",
    "        return self.mass_mg * 3.53e-5\n",
    "    \n",
    "    def set_mass_oz(self, m_oz):\n",
    "        self.mass_mg = m_oz / 3.53e-5\n",
    "        \n",
    "    mass_oz = property(get_mass_oz, set_mass_oz)"
   ]
  },
  {
   "cell_type": "code",
   "execution_count": null,
   "metadata": {
    "collapsed": false
   },
   "outputs": [],
   "source": [
    "leaf = Leaf(200)\n",
    "leaf.mass_oz = 0.01\n",
    "print leaf.mass_mg"
   ]
  },
  {
   "cell_type": "markdown",
   "metadata": {},
   "source": [
    "Copyright 2008-2016, Enthought, Inc.<br>Use only permitted under license.  Copying, sharing, redistributing or other unauthorized use strictly prohibited.<br>http://www.enthought.com"
   ]
  }
 ],
 "metadata": {
  "kernelspec": {
   "display_name": "Python 2",
   "language": "python",
   "name": "python2"
  },
  "language_info": {
   "codemirror_mode": {
    "name": "ipython",
    "version": 2
   },
   "file_extension": ".py",
   "mimetype": "text/x-python",
   "name": "python",
   "nbconvert_exporter": "python",
   "pygments_lexer": "ipython2",
   "version": "2.7.10"
  }
 },
 "nbformat": 4,
 "nbformat_minor": 0
}
