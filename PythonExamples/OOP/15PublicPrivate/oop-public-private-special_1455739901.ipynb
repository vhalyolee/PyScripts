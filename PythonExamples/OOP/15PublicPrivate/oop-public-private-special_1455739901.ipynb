{
 "cells": [
  {
   "cell_type": "markdown",
   "metadata": {},
   "source": [
    "# A Quick Word on \"Public\", \"Private\", and \"Special\""
   ]
  },
  {
   "cell_type": "markdown",
   "metadata": {},
   "source": [
    "The terms \"public\", \"private\", and \"special\" have special meaning in python that don't necessarily line up with their meanings in other programming languages.\n",
    "\n",
    "We have already seen examples of special methods, those that start and end with `__` (double underscore).  There is also something often called a \"private\" method.  When we write a method that we don't intend for public use, by convention we name it with a leading underscore.  This doesn't keep anyone from calling the method, but IPython and many auto-completion-enabled editors will ignore those as being 'private'.  Just remember that Python doesn't really have a strong notion of private methods like other languages.\n",
    "\n",
    "So \"private\" doesn't really mean \"private\" as used in other languages.  It is generally used for a method that is only intended for private use, even though it is actually possible to use it."
   ]
  },
  {
   "cell_type": "code",
   "execution_count": null,
   "metadata": {
    "collapsed": false
   },
   "outputs": [],
   "source": [
    "class Leaf(object):\n",
    "    \n",
    "    def __init__(self):\n",
    "        print \"I'm special\"\n",
    "        \n",
    "    def _private(self):\n",
    "        print \"I'm private\"\n",
    "        \n",
    "    def public(self):\n",
    "        print \"I'm public\""
   ]
  },
  {
   "cell_type": "code",
   "execution_count": null,
   "metadata": {
    "collapsed": false
   },
   "outputs": [],
   "source": [
    "leaf = Leaf()"
   ]
  },
  {
   "cell_type": "code",
   "execution_count": null,
   "metadata": {
    "collapsed": false
   },
   "outputs": [],
   "source": [
    "leaf.public()"
   ]
  },
  {
   "cell_type": "markdown",
   "metadata": {},
   "source": [
    "A method that starts with an underscore will not appear when autocompleting, but  nothing prevents you from calling it directly, and it will autocomplete in IPython if you first type the \"`_`\" character. "
   ]
  },
  {
   "cell_type": "code",
   "execution_count": null,
   "metadata": {
    "collapsed": false
   },
   "outputs": [],
   "source": [
    "leaf._private()"
   ]
  },
  {
   "cell_type": "markdown",
   "metadata": {},
   "source": [
    "Even the \"special\" methods can be called directly if you choose:"
   ]
  },
  {
   "cell_type": "code",
   "execution_count": null,
   "metadata": {
    "collapsed": false
   },
   "outputs": [],
   "source": [
    "leaf.__init__()"
   ]
  },
  {
   "cell_type": "markdown",
   "metadata": {},
   "source": [
    "There is one more class of specially named method that we haven't mentioned: one starting (but not ending) with two underscores."
   ]
  },
  {
   "cell_type": "code",
   "execution_count": null,
   "metadata": {
    "collapsed": false
   },
   "outputs": [],
   "source": [
    "class Leaf(object):\n",
    "    \n",
    "    def __init__(self):\n",
    "        print \"I'm special\"\n",
    "        \n",
    "    def _private(self):\n",
    "        print \"I'm private\"\n",
    "        \n",
    "    def public(self):\n",
    "        print \"I'm public\"\n",
    "        \n",
    "    def __special(self):\n",
    "        print \"I'm really special\""
   ]
  },
  {
   "cell_type": "markdown",
   "metadata": {},
   "source": [
    "The `__special()` method really does prevent us from calling it directly:"
   ]
  },
  {
   "cell_type": "code",
   "execution_count": null,
   "metadata": {
    "collapsed": false
   },
   "outputs": [],
   "source": [
    "leaf = Leaf()\n",
    "leaf.__special()"
   ]
  },
  {
   "cell_type": "markdown",
   "metadata": {},
   "source": [
    "If we look closely at the methods available on the `leaf` object, however, we'll see that our new method is there, but its name has been modified with the name of the class:"
   ]
  },
  {
   "cell_type": "code",
   "execution_count": null,
   "metadata": {
    "collapsed": false
   },
   "outputs": [],
   "source": [
    "leaf._Leaf__special()"
   ]
  },
  {
   "cell_type": "markdown",
   "metadata": {},
   "source": [
    "Even this level of obfscation does not make a method truly \"private\" in python."
   ]
  },
  {
   "cell_type": "markdown",
   "metadata": {},
   "source": [
    "Copyright 2008-2016, Enthought, Inc.<br>Use only permitted under license.  Copying, sharing, redistributing or other unauthorized use strictly prohibited.<br>http://www.enthought.com"
   ]
  }
 ],
 "metadata": {
  "kernelspec": {
   "display_name": "Python 2",
   "language": "python",
   "name": "python2"
  },
  "language_info": {
   "codemirror_mode": {
    "name": "ipython",
    "version": 2
   },
   "file_extension": ".py",
   "mimetype": "text/x-python",
   "name": "python",
   "nbconvert_exporter": "python",
   "pygments_lexer": "ipython2",
   "version": "2.7.10"
  }
 },
 "nbformat": 4,
 "nbformat_minor": 0
}
