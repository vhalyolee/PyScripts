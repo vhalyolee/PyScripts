{
 "cells": [
  {
   "cell_type": "markdown",
   "metadata": {},
   "source": [
    "## A word on Interfaces"
   ]
  },
  {
   "cell_type": "markdown",
   "metadata": {},
   "source": [
    "Note that my three different forests all have a common set of methods and properties/attributes that I can make use of.  This allows me to set up experiments like the following.  (Note that the code will not run yet in this notebook, as we have not defined the `BurnableForest`, `SlowBurnForest`, and `InstantBurnForest` classes.  Start executing cells from from the second code cell.)"
   ]
  },
  {
   "cell_type": "code",
   "execution_count": null,
   "metadata": {
    "collapsed": false
   },
   "outputs": [],
   "source": [
    "tree_history = []\n",
    "fire_history = []\n",
    "forests = [\n",
    "    BurnableForest(),\n",
    "    SlowBurnForest(),\n",
    "    InstantBurnForest(),\n",
    "]\n",
    "num_generations = 2500\n",
    "for i in xrange(num_generations):\n",
    "    for forest in forests:\n",
    "        forest.advance_one_step()\n",
    "    tree_history.append(tuple(f.tree_fraction for f in forests))\n",
    "    fire_history.append(tuple(f.fire_fraction for f in forests))"
   ]
  },
  {
   "cell_type": "markdown",
   "metadata": {},
   "source": [
    "Note that it's three different classes, but they all have the same interface for doing the calculation.  Python doesn't do any checking for class inheritance to see whether a method is callable.  Instead, if there's a method with the right name, then it gets called.  This is the essence of what we call \"Duck Typing\".\n",
    "\n",
    "Let's make this concrete and go back to our example `Leaf` class."
   ]
  },
  {
   "cell_type": "code",
   "execution_count": null,
   "metadata": {
    "collapsed": false
   },
   "outputs": [],
   "source": [
    "class Leaf(object):\n",
    "    def __init__(self, color=\"green\"):\n",
    "        self.color = color\n",
    "    def fall(self):\n",
    "        print \"Splat\"\n",
    "\n",
    "class MapleLeaf(Leaf):\n",
    "    def fall(self):\n",
    "        self.color = \"brown\"\n",
    "        super(MapleLeaf, self).fall()\n",
    "\n",
    "class Acorn(object):\n",
    "    def fall(self):\n",
    "        print \"Plunk\""
   ]
  },
  {
   "cell_type": "code",
   "execution_count": null,
   "metadata": {
    "collapsed": false
   },
   "outputs": [],
   "source": [
    "objects = [Leaf(), MapleLeaf(), Acorn()]\n",
    "for obj in objects:\n",
    "    obj.fall()"
   ]
  },
  {
   "cell_type": "markdown",
   "metadata": {},
   "source": [
    "We know that we could make another kind of Forest by subclassing `Forest`, so let's do that.\n",
    "\n",
    "While we're doing that, I want to introduce a minor refactoring of the Forest to create a `losses` attribute that we can use to generically track mold or fires or whatever future agent we can think of."
   ]
  },
  {
   "cell_type": "code",
   "execution_count": null,
   "metadata": {
    "collapsed": false
   },
   "outputs": [],
   "source": [
    "import numpy as np\n",
    "from matplotlib.pyplot import legend, plot\n",
    "from scipy.ndimage.measurements import label\n",
    "%matplotlib inline\n",
    "\n",
    "class Forest(object):\n",
    "    def __init__(self, size=(150, 150), p_sapling=0.0025, name=None):\n",
    "        self.size = size\n",
    "        self.trees = np.zeros(self.size, dtype=bool)\n",
    "        self.p_sapling = p_sapling\n",
    "        if name is not None:\n",
    "            self.name = name\n",
    "        else:\n",
    "            self.name = self.__class__.__name__\n",
    "\n",
    "    @property\n",
    "    def num_cells(self):\n",
    "        return self.size[0] * self.size[1]\n",
    "\n",
    "    @property\n",
    "    def tree_fraction(self):\n",
    "        return self.trees.sum() / float(self.num_cells)\n",
    "\n",
    "    @property\n",
    "    def losses(self):\n",
    "        \"\"\"The base Forest class has no mechanism for losses.\n",
    "        \"\"\"\n",
    "        return np.zeros(self.size)\n",
    "\n",
    "    @property\n",
    "    def loss_fraction(self):\n",
    "        return self.losses.sum() / float(self.num_cells)\n",
    "\n",
    "    def advance_one_step(self):\n",
    "        self.grow_trees()\n",
    "\n",
    "    def grow_trees(self):\n",
    "        growth_sites = self._rand_bool(self.p_sapling)\n",
    "        self.trees[growth_sites] = True\n",
    "\n",
    "    def _rand_bool(self, p):\n",
    "        return np.random.uniform(size=self.trees.shape) < p"
   ]
  },
  {
   "cell_type": "markdown",
   "metadata": {},
   "source": [
    "Now we'll define our `BurnableForest` subclass with the `losses` property defined, which will be inherited by its subclasses."
   ]
  },
  {
   "cell_type": "code",
   "execution_count": null,
   "metadata": {
    "collapsed": false
   },
   "outputs": [],
   "source": [
    "class BurnableForest(Forest):\n",
    "    \"\"\"This class has fires and a probability of lightning strike but no\n",
    "    methods to burn the forest.\n",
    "    \"\"\"\n",
    "    def __init__(self, p_lightning=5.0e-6, *args, **kwargs):\n",
    "        super(BurnableForest, self).__init__(*args, **kwargs)\n",
    "        self.p_lightning = p_lightning\n",
    "        self.fires = np.zeros(self.size, dtype=bool)\n",
    "\n",
    "    @property\n",
    "    def fire_fraction(self):\n",
    "        return self.fires.sum() / float(self.num_cells)\n",
    "\n",
    "    @property\n",
    "    def losses(self):\n",
    "        return self.fires\n",
    "\n",
    "class SlowBurnForest(BurnableForest):\n",
    "    \"\"\"BurnableForest where fires spread at the same time scale as the new\n",
    "    trees grow.\n",
    "    \"\"\"\n",
    "    def advance_one_step(self):\n",
    "        self.grow_trees()\n",
    "        self.start_fires()\n",
    "        self.burn_trees()\n",
    "\n",
    "    def burn_trees(self):\n",
    "        # assumes 2D forest\n",
    "        working_size = (self.size[0] + 2, self.size[1] + 2)\n",
    "        fires = np.zeros(working_size, dtype=bool)\n",
    "        fires[1:-1, 1:-1] = self.fires\n",
    "        north = fires[:-2, 1:-1]\n",
    "        south = fires[2:, 1:-1]\n",
    "        east = fires[1:-1, :-2]\n",
    "        west = fires[1:-1, 2:]\n",
    "        new_fires = (north | south | east | west) & self.trees\n",
    "        self.trees[self.fires] = False\n",
    "        self.fires = new_fires\n",
    "\n",
    "    def start_fires(self):\n",
    "        lightning_strikes = self._rand_bool(self.p_lightning) & self.trees\n",
    "        self.fires[lightning_strikes] = True\n",
    "\n",
    "class InstantBurnForest(BurnableForest):\n",
    "    \"\"\"BurnableForest where fires spread instantaneously relative to the\n",
    "    growth of new saplings.\n",
    "    \"\"\"\n",
    "    def advance_one_step(self):\n",
    "        self.grow_trees()\n",
    "        self._strike_and_burn()\n",
    "\n",
    "    def _strike_and_burn(self):\n",
    "        strikes = self._rand_bool(self.p_lightning) & self.trees\n",
    "        groves, num_groves = label(self.trees)\n",
    "        fires = set(groves[strikes])\n",
    "        self.fires.fill(False)\n",
    "        for fire in fires:\n",
    "            self.fires[groves == fire] = True\n",
    "        self.trees[self.fires] = False"
   ]
  },
  {
   "cell_type": "code",
   "execution_count": null,
   "metadata": {
    "collapsed": false
   },
   "outputs": [],
   "source": [
    "# Try rerunning this cell with different values of p_lightning\n",
    "p_lightning = 5.0e-6\n",
    "forest = Forest()\n",
    "burnable_forest = BurnableForest(p_lightning=p_lightning)\n",
    "slow_burn_forest = SlowBurnForest(p_lightning=p_lightning)\n",
    "inst_burn_forest = InstantBurnForest(p_lightning=p_lightning)\n",
    "forests = [forest, burnable_forest, slow_burn_forest, inst_burn_forest]\n",
    "names = [f.__class__.__name__ for f in forests]\n",
    "loss_history = []\n",
    "\n",
    "for i in xrange(1500):\n",
    "    for fst in forests:\n",
    "        fst.advance_one_step()\n",
    "    loss_history.append([f.losses.sum() for f in forests])\n",
    "\n",
    "plot(loss_history)\n",
    "legend(names)"
   ]
  },
  {
   "cell_type": "markdown",
   "metadata": {},
   "source": [
    "Copyright 2008-2016, Enthought, Inc.<br>Use only permitted under license.  Copying, sharing, redistributing or other unauthorized use strictly prohibited.<br>http://www.enthought.com"
   ]
  }
 ],
 "metadata": {
  "kernelspec": {
   "display_name": "Python 2",
   "language": "python",
   "name": "python2"
  },
  "language_info": {
   "codemirror_mode": {
    "name": "ipython",
    "version": 2
   },
   "file_extension": ".py",
   "mimetype": "text/x-python",
   "name": "python",
   "nbconvert_exporter": "python",
   "pygments_lexer": "ipython2",
   "version": "2.7.10"
  }
 },
 "nbformat": 4,
 "nbformat_minor": 0
}
