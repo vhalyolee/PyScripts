{
 "cells": [
  {
   "cell_type": "markdown",
   "metadata": {},
   "source": [
    "Writing Classes\n",
    "===============\n",
    "\n",
    "Hopefully you are now convinced you that you're already familiar with object-oriented programming in Python, and all we've really done is to learn some new terminology for what we already know.  Now let's start creating our own object types by writing classes.\n",
    "\n",
    "The definition of a class looks somewhat similar to the definition of a function:\n",
    "\n",
    "    class ClassName(ParentClass):\n",
    "        \"\"\"Class Docstring\"\"\"\n",
    "        \n",
    "        def method(self):\n",
    "            \"\"\"Method docstring\"\"\"\n",
    "            return\n",
    "\n",
    "You create a block with the `class` keyword in the same way that you create a function, although by convention classes use \"CamelCase\" for names.  Instead of arguments, classes take a sequence of parent classes that they inherit from (we'll talk about inheritance in later lectures).  But just like functions, the class definition line ends with a \"`:`\" and then the next statement is an optional docstring that allows you to write some information about what the class is supposed to do.\n",
    "\n",
    "The body of the class is indented like the body of a function, and can contain almost any code you like, but _usually_ contains a collection of function definitions which are the methods of the class.  Methods have to take at least one argument, which is called `self` by convention, and is a reference to the object the method is operating on. This might seem confusing now, but we'll talk about methods in detail in another lecture.\n",
    "\n",
    "Let's create for ourselves a \"Leaf\" class, following our theme of forests and trees."
   ]
  },
  {
   "cell_type": "code",
   "execution_count": null,
   "metadata": {
    "collapsed": false
   },
   "outputs": [],
   "source": [
    "class Leaf(object):\n",
    "    \"\"\"A leaf falling in the woods\"\"\"\n",
    "    pass"
   ]
  },
  {
   "cell_type": "markdown",
   "metadata": {},
   "source": [
    "Note that we inherit from `object` which is at the root of the inheritance graph for all Python 2 classes.  If you don't inherit from anything else, you should at least inherit from `object`.\n",
    "\n",
    "**Side note:** It's not strictly necessary to inherit from `object`, but if you don't then in Python 2 you get what's called an \"old-style\" class which are not as well-behaved as the usual \"new-style\" classes - in particular many of the features we talk about in later lectures, like properties, the `super` built-in and the method resolution order don't work with old-style classes.  So save yourself some pain, and inherit from `object`, if nothing else.\n",
    "\n",
    "We've also given ourselves a very basic docstring.\n",
    "\n",
    "And that's all.  Our class doesn't do anything much, but it is at least properly defined.\n",
    "\n",
    "We can see that the class is itself an object:"
   ]
  },
  {
   "cell_type": "code",
   "execution_count": null,
   "metadata": {
    "collapsed": false
   },
   "outputs": [],
   "source": [
    "Leaf"
   ]
  },
  {
   "cell_type": "code",
   "execution_count": null,
   "metadata": {
    "collapsed": false
   },
   "outputs": [],
   "source": [
    "type(Leaf)"
   ]
  },
  {
   "cell_type": "code",
   "execution_count": null,
   "metadata": {
    "collapsed": false
   },
   "outputs": [],
   "source": [
    "id(Leaf)"
   ]
  },
  {
   "cell_type": "markdown",
   "metadata": {},
   "source": [
    "You'll notice that the type of a class is `type`, and in fact the two terms are interchangeable in modern Python.  In general people use the word \"class\" to describe user-defined types, and \"type\" to refer to built-in object types (like integers and strings), but this is a hold-over from older versions of Python where there was a distinction between classes and types roughly along those lines.\n",
    "\n",
    "We can now use the class to create new _instances_ of the class.  You can think of the `Leaf` class as referring to the category of leaves, while an instance is a particular leaf.  You create an instance by calling the class, in this case a \"little-l\" `leaf`:"
   ]
  },
  {
   "cell_type": "code",
   "execution_count": null,
   "metadata": {
    "collapsed": false
   },
   "outputs": [],
   "source": [
    "leaf = Leaf()"
   ]
  },
  {
   "cell_type": "markdown",
   "metadata": {},
   "source": [
    "An instance is an object whose type is the class, so the type of `leaf` is `Leaf`:"
   ]
  },
  {
   "cell_type": "code",
   "execution_count": null,
   "metadata": {
    "collapsed": false
   },
   "outputs": [],
   "source": [
    "type(leaf)"
   ]
  },
  {
   "cell_type": "code",
   "execution_count": null,
   "metadata": {
    "collapsed": false
   },
   "outputs": [],
   "source": [
    "id(leaf)"
   ]
  },
  {
   "cell_type": "markdown",
   "metadata": {},
   "source": [
    "And if we create another leaf, it's a different object."
   ]
  },
  {
   "cell_type": "code",
   "execution_count": null,
   "metadata": {
    "collapsed": false
   },
   "outputs": [],
   "source": [
    "leaf2 = Leaf()\n",
    "id(leaf2)"
   ]
  },
  {
   "cell_type": "markdown",
   "metadata": {},
   "source": [
    "So now that we understand the basics of classes and instances, let's start working on the forest fire example that we discussed in an earlier lecture.\n",
    "\n",
    "Our primary class in this set of examples is going to be a `Forest`, so let's create one."
   ]
  },
  {
   "cell_type": "code",
   "execution_count": null,
   "metadata": {
    "collapsed": false
   },
   "outputs": [],
   "source": [
    "class Forest(object):\n",
    "    \"\"\"A forest can grow trees which eventually die\"\"\"\n",
    "    pass"
   ]
  },
  {
   "cell_type": "markdown",
   "metadata": {},
   "source": [
    "And now we have the general concept of a forest, let's create a particular one."
   ]
  },
  {
   "cell_type": "code",
   "execution_count": null,
   "metadata": {
    "collapsed": false
   },
   "outputs": [],
   "source": [
    "forest = Forest()"
   ]
  },
  {
   "cell_type": "markdown",
   "metadata": {},
   "source": [
    "In the next couple of lectures, we'll look at how we can start adding functionality to our `Forest` class."
   ]
  },
  {
   "cell_type": "markdown",
   "metadata": {},
   "source": [
    "Copyright 2008-2016, Enthought, Inc.<br>Use only permitted under license.  Copying, sharing, redistributing or other unauthorized use strictly prohibited.<br>http://www.enthought.com"
   ]
  }
 ],
 "metadata": {
  "kernelspec": {
   "display_name": "Python 2",
   "language": "python",
   "name": "python2"
  },
  "language_info": {
   "codemirror_mode": {
    "name": "ipython",
    "version": 2
   },
   "file_extension": ".py",
   "mimetype": "text/x-python",
   "name": "python",
   "nbconvert_exporter": "python",
   "pygments_lexer": "ipython2",
   "version": "2.7.11"
  }
 },
 "nbformat": 4,
 "nbformat_minor": 0
}
