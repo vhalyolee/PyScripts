{
 "cells": [
  {
   "cell_type": "markdown",
   "metadata": {},
   "source": [
    "## super()"
   ]
  },
  {
   "cell_type": "markdown",
   "metadata": {},
   "source": [
    "`super()` is a special function built into the Python language that allows you to use a parent method in the child class.\n",
    "\n",
    "Its syntax looks like this:\n",
    "\n",
    "`super(CurrentClassName, instance)`\n",
    "\n",
    "where the first argument is the name of the class we are currently defining, and the second is an instance of the class we are currently working on (this will usually be `self` when calling `super` in a class definition).\n",
    "\n",
    "Let's use `super()` with the class we defined in the last lecture: "
   ]
  },
  {
   "cell_type": "code",
   "execution_count": null,
   "metadata": {
    "collapsed": false
   },
   "outputs": [],
   "source": [
    "class Leaf(object):\n",
    "    def __init__(self, color=\"green\"):\n",
    "        self.color = color\n",
    "    def fall(self):\n",
    "        print \"Splat!\"\n",
    "\n",
    "class MapleLeaf(Leaf):\n",
    "    def change_color(self):\n",
    "        if self.color == \"green\":\n",
    "            self.color = \"red\"\n",
    "    def fall(self):\n",
    "        self.change_color()\n",
    "        super(MapleLeaf, self).fall()"
   ]
  },
  {
   "cell_type": "markdown",
   "metadata": {},
   "source": [
    "Note that that we are calling the `fall()` method directly on the returned value of the `super` function.\n",
    "\n",
    "Now our `fall()` method will change color, and then do what the parent's `fall()` method specifies:"
   ]
  },
  {
   "cell_type": "code",
   "execution_count": null,
   "metadata": {
    "collapsed": false
   },
   "outputs": [],
   "source": [
    "mleaf = MapleLeaf()\n",
    "mleaf.fall()\n",
    "print mleaf.color"
   ]
  },
  {
   "cell_type": "markdown",
   "metadata": {},
   "source": [
    "Now let's introduce the fire concept by writing a `BurnableForest` class that behaves like `Forest` but also has a `fires` array and a `fire_fraction` property. We'll include the methods of `Forest` by *inheritance*.  By inheriting from `Forest` instead of `object`, we get all the methods defined in `Forest`, and we can either overwrite them or add to them."
   ]
  },
  {
   "cell_type": "code",
   "execution_count": null,
   "metadata": {
    "collapsed": false
   },
   "outputs": [],
   "source": [
    "import numpy as np\n",
    "\n",
    "class Forest(object):\n",
    "    \"\"\" A Forest can grow but won't burn.\n",
    "    \"\"\"\n",
    "\n",
    "    def __init__(self, size=(150, 150), p_sapling=0.0025):\n",
    "        self.size = size\n",
    "        self.trees = np.zeros(self.size, dtype=bool)\n",
    "        self.p_sapling = p_sapling\n",
    "\n",
    "    @property\n",
    "    def num_cells(self):\n",
    "        return self.size[0] * self.size[1]\n",
    "\n",
    "    @property\n",
    "    def tree_fraction(self):\n",
    "        return self.trees.sum() / float(self.num_cells)\n",
    "\n",
    "    def grow_trees(self):\n",
    "        growth_sites = self._rand_bool(self.p_sapling)\n",
    "        self.trees[growth_sites] = True\n",
    "\n",
    "    def _rand_bool(self, p):\n",
    "        return np.random.uniform(size=self.trees.shape) < p\n",
    "\n",
    "    def advance_one_step(self):\n",
    "        self.grow_trees()\n",
    "\n",
    "\n",
    "class BurnableForest(Forest):\n",
    "    \"\"\" BurnableForest supports fires.\n",
    "    \"\"\"\n",
    "\n",
    "    def __init__(self, p_lightning=5.0e-6, *args, **kwargs):\n",
    "        super(BurnableForest, self).__init__(*args, **kwargs)\n",
    "        self.p_lightning = p_lightning\n",
    "        self.fires = np.zeros(self.size, dtype=bool)\n",
    "\n",
    "    @property\n",
    "    def fire_fraction(self):\n",
    "        return self.fires.sum() / float(self.num_cells)\n",
    "\n",
    "    def start_fires(self):\n",
    "        lightning_strikes = self._rand_bool(self.p_lightning) & self.trees\n",
    "        self.fires[lightning_strikes] = True\n",
    "\n",
    "    def burn_trees(self):\n",
    "        \"\"\"The rules for burning trees:\n",
    "        -New fires start in tree-filled adjacent cells.\n",
    "        -Trees in currently burning cells burn and disappear.\n",
    "\n",
    "        The fire-spreading algorithm is calculated on an array padded\n",
    "        around the edges with zeros to allow vectorized computations.\n",
    "        \"\"\"\n",
    "        working_size = (self.size[0] + 2, self.size[1] + 2)\n",
    "        fires = np.zeros(working_size, dtype=bool)\n",
    "        fires[1:-1, 1:-1] = self.fires\n",
    "        north = fires[:-2, 1:-1]\n",
    "        south = fires[2:, 1:-1]\n",
    "        east = fires[1:-1, :-2]\n",
    "        west = fires[1:-1, 2:]\n",
    "        new_fires = (north | south | east | west) & self.trees\n",
    "        self.trees[self.fires] = False\n",
    "        self.fires = new_fires\n",
    "\n",
    "    def advance_one_step(self):\n",
    "        self.grow_trees()\n",
    "        self.start_fires()\n",
    "        self.burn_trees()"
   ]
  },
  {
   "cell_type": "markdown",
   "metadata": {},
   "source": [
    "Two things are going on here.\n",
    "\n",
    "1. We're adding an entirely new method that defines the `fire_fraction` property in the same way we defined `tree_fraction`.\n",
    "\n",
    "2. We're redefining `__init__`; however we don't want to lose the things that `Forest.__init__()` does, so we use the `super()` function.  The signature for `super`, as described above, takes the class and instance as arguments, and it returns the parent class, so you can call any method on that class, using the usual signature.  We use `super()` in the `advance_one_step()` method as well.\n",
    "\n",
    "We're calling the parent constructor first, and then we add another attribute to track the fires.  I used `*args` and `**kwargs` so that I don't have to update the signature in `BurnableForest` if I decide to change it for `Forest`.\n",
    "\n",
    "We also moved the other methods specific to fire behavior to the `BurnableForest` class."
   ]
  },
  {
   "cell_type": "code",
   "execution_count": null,
   "metadata": {
    "collapsed": false
   },
   "outputs": [],
   "source": [
    "burnable_forest = BurnableForest()\n",
    "burnable_forest.grow_trees()\n",
    "burnable_forest.start_fires()\n",
    "print burnable_forest.tree_fraction\n",
    "print burnable_forest.fire_fraction"
   ]
  },
  {
   "cell_type": "code",
   "execution_count": null,
   "metadata": {
    "collapsed": false
   },
   "outputs": [],
   "source": [
    "from matplotlib.pyplot import plot\n",
    "%matplotlib inline\n",
    "\n",
    "forest = Forest()\n",
    "burnable_forest = BurnableForest()\n",
    "tree_history = []\n",
    "for i in range(2500):\n",
    "    forest.advance_one_step()\n",
    "    burnable_forest.advance_one_step()\n",
    "    tree_history.append((forest.tree_fraction, burnable_forest.tree_fraction))\n",
    "    \n",
    "plot(tree_history)"
   ]
  },
  {
   "cell_type": "markdown",
   "metadata": {},
   "source": [
    "Now we can see that our `Forest` will continue growing towards 100% tree fraction, while our `BurnableForest` will show oscillations due to fires."
   ]
  },
  {
   "cell_type": "markdown",
   "metadata": {},
   "source": [
    "Copyright 2008-2016, Enthought, Inc.<br>Use only permitted under license.  Copying, sharing, redistributing or other unauthorized use strictly prohibited.<br>http://www.enthought.com"
   ]
  }
 ],
 "metadata": {
  "kernelspec": {
   "display_name": "Python 2",
   "language": "python",
   "name": "python2"
  },
  "language_info": {
   "codemirror_mode": {
    "name": "ipython",
    "version": 2
   },
   "file_extension": ".py",
   "mimetype": "text/x-python",
   "name": "python",
   "nbconvert_exporter": "python",
   "pygments_lexer": "ipython2",
   "version": "2.7.10"
  }
 },
 "nbformat": 4,
 "nbformat_minor": 0
}
