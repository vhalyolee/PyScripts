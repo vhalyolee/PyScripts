{
 "cells": [
  {
   "cell_type": "markdown",
   "metadata": {},
   "source": [
    "Special Methods\n",
    "===============\n",
    "\n",
    "Python uses special methods and attributes to provide a lot of functionality, and the real power of OOP in Python is unlocked once we start to make use of these special methods.\n",
    "\n",
    "These special methods are distinguished by having names which start and end with double underscore characters, such as `__init__`, `__repr__`, `__add__` (and many others).  You may hear people saying these as \"double-under init\" or \"double-under repr\" (or sometimes even \"dunder init\").\n",
    "\n",
    "There are special methods for object construction and initialization (as we'll see later in this exercise), for producing printed representations (which we will discuss in the next lecture), for making objects callable like functions or iterable like lists (these are discussed in the Advanced Python course), or even for making objects work with arithmetic operations.\n",
    "\n",
    "There are also some specially named attributes which follow the same double underscore convention, such as `__class__` and `__name__`.\n",
    "\n",
    "Typically you don't see these special methods when using auto-complete in IPython unless you actually start typing the underscores.\n"
   ]
  },
  {
   "cell_type": "markdown",
   "metadata": {},
   "source": [
    "Constructors\n",
    "------------\n",
    "\n",
    "So the problem we ran into at the end of the last lecture was \"how do we ensure that every instance of class has a consistent set of attributes?\" The solution to this problem, at least in part, is what is called the \"constructor\" special method `__init__`.\n",
    "\n",
    "Python calls the `__init__` method whenever it creates a new instance of the class, so this gives you an opportunity to ensure that your objects start in a consistent state.\n",
    "\n",
    "So let's take the `Leaf` example from the previous lecture and we want to ensure that every leaf has a color.  We can do that with an `__init__` method like this."
   ]
  },
  {
   "cell_type": "code",
   "execution_count": null,
   "metadata": {
    "collapsed": false
   },
   "outputs": [],
   "source": [
    "class Leaf(object):\n",
    "    \"\"\"A Leaf falling in the woods\"\"\"\n",
    "    \n",
    "    def __init__(self, color='green'):\n",
    "        self.color = color"
   ]
  },
  {
   "cell_type": "markdown",
   "metadata": {},
   "source": [
    "So here our `__init__` method accepts an optional color argument (which is `\"green\"` by default) and dynamically assigns it to the `color` attribute of `self`.  Recall that `self` is always a reference to the instance of the class that the method is being called from, so in this case it is the new instance which has just been created.\n",
    "\n",
    "Let's see how this works."
   ]
  },
  {
   "cell_type": "code",
   "execution_count": null,
   "metadata": {
    "collapsed": false
   },
   "outputs": [],
   "source": [
    "leaf = Leaf()\n",
    "print leaf.color"
   ]
  },
  {
   "cell_type": "markdown",
   "metadata": {},
   "source": [
    "So here we see that we have created a new leaf, and it has automatically been assigned a `color` attribute which is the default color.\n",
    "\n",
    "But what if we want the leaf to have a different color?  When you call the class to create an instance, any arguments you use are passed to the `__init__` method, so we can say"
   ]
  },
  {
   "cell_type": "code",
   "execution_count": null,
   "metadata": {
    "collapsed": false
   },
   "outputs": [],
   "source": [
    "leaf2 = Leaf(color='gold')\n",
    "print leaf2.color"
   ]
  },
  {
   "cell_type": "markdown",
   "metadata": {},
   "source": [
    "and you can see that we have overridden the default value in this second instance of the class."
   ]
  },
  {
   "cell_type": "markdown",
   "metadata": {},
   "source": [
    "Forest Example\n",
    "--------------\n",
    "\n",
    "Let's apply our new knowledge to our `Forest` example to automatically add attribuutes for the trees and fires in the forest."
   ]
  },
  {
   "cell_type": "code",
   "execution_count": null,
   "metadata": {
    "collapsed": false
   },
   "outputs": [],
   "source": [
    "import numpy as np\n",
    "\n",
    "class Forest(object):\n",
    "    \"\"\"A forest can grow trees which eventually die\"\"\"\n",
    "    \n",
    "    def __init__(self):\n",
    "        \"Constructor -- this method is automatically called when the instance is created.\"\n",
    "        self.trees = np.zeros((150, 150), dtype=bool)\n",
    "        self.fires = np.zeros((150, 150), dtype=bool)"
   ]
  },
  {
   "cell_type": "markdown",
   "metadata": {},
   "source": [
    "So now if we create an instance of the forest, it has an array of tree locations"
   ]
  },
  {
   "cell_type": "code",
   "execution_count": null,
   "metadata": {
    "collapsed": false
   },
   "outputs": [],
   "source": [
    "forest = Forest()\n",
    "print forest.trees"
   ]
  },
  {
   "cell_type": "markdown",
   "metadata": {},
   "source": [
    "and fire locations"
   ]
  },
  {
   "cell_type": "code",
   "execution_count": null,
   "metadata": {
    "collapsed": false
   },
   "outputs": [],
   "source": [
    "print forest.fires"
   ]
  },
  {
   "cell_type": "markdown",
   "metadata": {},
   "source": [
    "So now we can manipulate these attributes to do the calculations that we want.  So for example, we could add a tree in the top-left corner like so"
   ]
  },
  {
   "cell_type": "code",
   "execution_count": null,
   "metadata": {
    "collapsed": false
   },
   "outputs": [],
   "source": [
    "forest.trees[0, 0] = True\n",
    "print forest.trees"
   ]
  },
  {
   "cell_type": "markdown",
   "metadata": {},
   "source": [
    "and we see that we now have a `True` value in our array.\n",
    "\n",
    "If we were to create another forest, then we see that that forest gets its own array of trees which is completely independent of the first forest's trees."
   ]
  },
  {
   "cell_type": "code",
   "execution_count": null,
   "metadata": {
    "collapsed": false
   },
   "outputs": [],
   "source": [
    "forest2 = Forest()\n",
    "print forest2.trees"
   ]
  },
  {
   "cell_type": "markdown",
   "metadata": {},
   "source": [
    "Advanced: \"Constructors\" vs. \"Initializers\"\n",
    "-------------------------------------------\n",
    "\n",
    "Although it's commonly referred to as a \"constructor\", technically `__init__` is an \"initializer\": it isn't responsible for actually _creating_ the new instance, only for _initializing_ its state once it has been created.  This is different from langauges like C++ and Java, where typically you have to write a method which actually creates the new object.\n",
    "\n",
    "Python does provide a true constructor via the `__new__` special method for those rare advanced cases where you need to do something a bit different than Python's normal object construction.  If you look under the covers, when we do soemthing like\n",
    "\n",
    "    leaf = Leaf(color=\"gold\")\n",
    "\n",
    "what actually happens is something like the following sequence:\n",
    "\n",
    "* first, Python calls the `__new__` method of the class, with the class and any other arguments"
   ]
  },
  {
   "cell_type": "code",
   "execution_count": null,
   "metadata": {
    "collapsed": false
   },
   "outputs": [],
   "source": [
    "_new_leaf = Leaf.__new__(Leaf, color=\"gold\")"
   ]
  },
  {
   "cell_type": "markdown",
   "metadata": {},
   "source": [
    "if you look at this point, `_new_leaf` is an instance of `Leaf`, but `__init__` hasn't been called, so it doesn't have a `color` attribute yet."
   ]
  },
  {
   "cell_type": "code",
   "execution_count": null,
   "metadata": {
    "collapsed": false
   },
   "outputs": [],
   "source": [
    "_new_leaf.color"
   ]
  },
  {
   "cell_type": "markdown",
   "metadata": {},
   "source": [
    "* Then Python calls the `__init__` method, technically something like this:"
   ]
  },
  {
   "cell_type": "code",
   "execution_count": null,
   "metadata": {
    "collapsed": false
   },
   "outputs": [],
   "source": [
    "Leaf.__init__(_new_leaf, color=\"gold\")\n",
    "leaf = _new_leaf"
   ]
  },
  {
   "cell_type": "markdown",
   "metadata": {},
   "source": [
    "At this point our obejct is initialized, and so it has the color that has been passed in:"
   ]
  },
  {
   "cell_type": "code",
   "execution_count": null,
   "metadata": {
    "collapsed": false
   },
   "outputs": [],
   "source": [
    "leaf.color"
   ]
  },
  {
   "cell_type": "markdown",
   "metadata": {},
   "source": [
    "Note that you almost never need to write a `__new__` method, and you usually just let Python's defaults handle everything for you, so you never need to call `__new__` or `__init__` like we did above."
   ]
  },
  {
   "cell_type": "markdown",
   "metadata": {},
   "source": [
    "Copyright 2008-2016, Enthought, Inc.<br>Use only permitted under license.  Copying, sharing, redistributing or other unauthorized use strictly prohibited.<br>http://www.enthought.com"
   ]
  }
 ],
 "metadata": {
  "kernelspec": {
   "display_name": "Python 2",
   "language": "python",
   "name": "python2"
  },
  "language_info": {
   "codemirror_mode": {
    "name": "ipython",
    "version": 2
   },
   "file_extension": ".py",
   "mimetype": "text/x-python",
   "name": "python",
   "nbconvert_exporter": "python",
   "pygments_lexer": "ipython2",
   "version": "2.7.10"
  }
 },
 "nbformat": 4,
 "nbformat_minor": 0
}
