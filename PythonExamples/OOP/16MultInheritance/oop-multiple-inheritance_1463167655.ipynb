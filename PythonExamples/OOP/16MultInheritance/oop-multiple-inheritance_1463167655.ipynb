{
 "cells": [
  {
   "cell_type": "markdown",
   "metadata": {},
   "source": [
    "# Multiple inheritance"
   ]
  },
  {
   "cell_type": "markdown",
   "metadata": {},
   "source": [
    "What if we wanted to add a second kind of loss in the forest, for instance a tree-killing mold that can develop if the density of trees is too high.  It might be kind of interesting see the interactions between two different kinds of growth-limiting phenomena.\n",
    "\n",
    "First, let's go back to our simple `Leaf` example.  If we create two different subclasses of `Leaf`, one which provides a `change()` method, and one which provides a `fall()` method.  A subclass that inherits from both classes will have both methods."
   ]
  },
  {
   "cell_type": "code",
   "execution_count": null,
   "metadata": {
    "collapsed": false
   },
   "outputs": [],
   "source": [
    "class Leaf(object):\n",
    "    def __init__(self, color=\"green\"):\n",
    "        self.color = color\n",
    "\n",
    "class ColorChangingLeaf(Leaf):\n",
    "    def change(self, new_color=\"brown\"):\n",
    "        self.color = new_color\n",
    "\n",
    "class DeciduousLeaf(Leaf):\n",
    "    def fall(self):\n",
    "        print \"Plunk\"\n",
    "        \n",
    "class MapleLeaf(DeciduousLeaf, ColorChangingLeaf):\n",
    "    pass"
   ]
  },
  {
   "cell_type": "markdown",
   "metadata": {},
   "source": [
    "Now we see that an instance of `MapleLeaf` will inherit the behaviors of both of its parents:"
   ]
  },
  {
   "cell_type": "code",
   "execution_count": null,
   "metadata": {
    "collapsed": false
   },
   "outputs": [],
   "source": [
    "leaf = MapleLeaf()\n",
    "leaf.change(\"yellow\")\n",
    "print leaf.color\n",
    "leaf.fall()"
   ]
  },
  {
   "cell_type": "markdown",
   "metadata": {},
   "source": [
    "Now that we've seen a simple example of multiple inheritance, let's go back to our forest example.\n",
    "\n",
    "We know that we could make another kind of Forest by subclassing `Forest`, so let's do that.\n",
    "\n",
    "While we're doing that, I want to introduce a minor refactoring of the Forest to create a `losses` attribute that we can use to generically track mold or fires or whatever future agent we can think of.  [If you did the `mold_prone_forest` exercise, this will be familiar.]"
   ]
  },
  {
   "cell_type": "code",
   "execution_count": null,
   "metadata": {
    "collapsed": false
   },
   "outputs": [],
   "source": [
    "import numpy as np\n",
    "from matplotlib.pyplot import figure, legend, plot\n",
    "%matplotlib inline\n",
    "\n",
    "from scipy.ndimage.measurements import label\n",
    "\n",
    "class Forest(object):\n",
    "    \"\"\" A Forest can grow but won't burn.\n",
    "    \"\"\"\n",
    "\n",
    "    def __init__(self, size=(150, 150), p_sapling=0.0025):\n",
    "        self.size = size\n",
    "        self.trees = np.zeros(self.size, dtype=bool)\n",
    "        self.p_sapling = p_sapling\n",
    "\n",
    "    @property\n",
    "    def name(self):\n",
    "        return self.__class__.__name__\n",
    "\n",
    "    @property\n",
    "    def num_cells(self):\n",
    "        return self.size[0] * self.size[1]\n",
    "\n",
    "    @property\n",
    "    def tree_fraction(self):\n",
    "        return self.trees.sum() / float(self.num_cells)\n",
    "\n",
    "    def grow_trees(self):\n",
    "        growth_sites = self._rand_bool(self.p_sapling)\n",
    "        self.trees[growth_sites] = True\n",
    "\n",
    "    def _rand_bool(self, p):\n",
    "        return np.random.uniform(size=self.trees.shape) < p\n",
    "\n",
    "    def advance_one_step(self):\n",
    "        self.grow_trees()"
   ]
  },
  {
   "cell_type": "code",
   "execution_count": null,
   "metadata": {
    "collapsed": false
   },
   "outputs": [],
   "source": [
    "class MoldProneForest(Forest):\n",
    "    \"\"\"Tree-killing mold can grow in tree groves of a certain size.\n",
    "    \"\"\"\n",
    "    def __init__(self, p_mold=3.0e-3, critical_density=3, *args, **kwargs):\n",
    "        super(MoldProneForest, self).__init__(*args, **kwargs)\n",
    "        self.p_mold = p_mold\n",
    "        self.critical_density = critical_density\n",
    "        self.mold = np.zeros(self.size, dtype=bool)\n",
    "\n",
    "    @property\n",
    "    def mold_fraction(self):\n",
    "        return self.mold.sum() / float(self.num_cells)\n",
    "\n",
    "    @property\n",
    "    def losses(self):\n",
    "        return self.mold\n",
    "\n",
    "    def advance_one_step(self):\n",
    "        self.grow_trees()\n",
    "        self._grow_mold_and_kill_trees()\n",
    "\n",
    "    def _grow_mold_and_kill_trees(self):\n",
    "        working_size = (self.size[0] + 2, self.size[1] + 2)\n",
    "        tmp_trees = np.zeros(working_size, dtype=np.int8)\n",
    "        tmp_trees[1:-1, 1:-1] = self.trees\n",
    "\n",
    "        north = tmp_trees[:-2, 1:-1]\n",
    "        south = tmp_trees[2:, 1:-1]\n",
    "        east = tmp_trees[1:-1, :-2]\n",
    "        west = tmp_trees[1:-1, 2:]\n",
    "        density = north + south + east + west\n",
    "        mold_prone_trees = density >= self.critical_density\n",
    "\n",
    "        self.mold = self._rand_bool(self.p_mold) & mold_prone_trees\n",
    "        self.trees[self.mold] = False"
   ]
  },
  {
   "cell_type": "markdown",
   "metadata": {},
   "source": [
    "Now we have the `.losses` attribute, which for a `MoldProneForest` is the same as the `.mold` array.  We can similarly set `.losses` to `.fire` in the `BurnableForest` subclasses.   Notice that we defined the `loss_fraction` in `Forest` and because of the interface design, we never have to redefine that attribute, just the definition of the `.losses` attribute.\n",
    "\n",
    "Conveniently, we only have to redefine `BurnableForest` (and not its subclasses) to take advantage."
   ]
  },
  {
   "cell_type": "code",
   "execution_count": null,
   "metadata": {
    "collapsed": false
   },
   "outputs": [],
   "source": [
    "class BurnableForest(Forest):\n",
    "    \"\"\" BurnableForest supports fires.\n",
    "    \"\"\"\n",
    "\n",
    "    def __init__(self, p_lightning=5.0e-6, *args, **kwargs):\n",
    "        super(BurnableForest, self).__init__(*args, **kwargs)\n",
    "        self.p_lightning = p_lightning\n",
    "        self.fires = np.zeros(self.size, dtype=bool)\n",
    "\n",
    "    @property\n",
    "    def fire_fraction(self):\n",
    "        return self.fires.sum() / float(self.num_cells)\n",
    "\n",
    "    def start_fires(self):\n",
    "        lightning_strikes = self._rand_bool(self.p_lightning) & self.trees\n",
    "        self.fires[lightning_strikes] = True\n",
    "\n",
    "    def burn_trees(self):\n",
    "        \"\"\"The rules for burning trees:\n",
    "        -New fires start in tree-filled adjacent cells.\n",
    "        -Trees in currently burning cells burn and disappear.\n",
    "\n",
    "        The fire-spreading algorithm is calculated on an array padded\n",
    "        around the edges with zeros to allow vectorized computations.\n",
    "        \"\"\"\n",
    "        working_size = (self.size[0] + 2, self.size[1] + 2)\n",
    "        fires = np.zeros(working_size, dtype=bool)\n",
    "        fires[1:-1, 1:-1] = self.fires\n",
    "        north = fires[:-2, 1:-1]\n",
    "        south = fires[2:, 1:-1]\n",
    "        east = fires[1:-1, :-2]\n",
    "        west = fires[1:-1, 2:]\n",
    "        new_fires = (north | south | east | west) & self.trees\n",
    "        self.trees[self.fires] = False\n",
    "        self.fires = new_fires\n",
    "\n",
    "    def advance_one_step(self):\n",
    "        self.grow_trees()\n",
    "        self.start_fires()\n",
    "        self.burn_trees()\n",
    "\n",
    "    @property\n",
    "    def losses(self):\n",
    "        return self.fires"
   ]
  },
  {
   "cell_type": "code",
   "execution_count": null,
   "metadata": {
    "collapsed": false
   },
   "outputs": [],
   "source": [
    "class InstantBurnForest(BurnableForest):\n",
    "    \"\"\"BurnableForest where fires spread instantaneously relative to the\n",
    "    growth of new saplings.\n",
    "    \"\"\"\n",
    "    def advance_one_step(self):\n",
    "        self.grow_trees()\n",
    "        self._strike_and_burn()\n",
    "\n",
    "    def _strike_and_burn(self):\n",
    "        strikes = self._rand_bool(self.p_lightning) & self.trees\n",
    "        groves, num_groves = label(self.trees)\n",
    "        fires = set(groves[strikes])\n",
    "        self.fires.fill(False)\n",
    "        for fire in fires:\n",
    "            self.fires[groves == fire] = True\n",
    "        self.trees[self.fires] = False"
   ]
  },
  {
   "cell_type": "code",
   "execution_count": null,
   "metadata": {
    "collapsed": false
   },
   "outputs": [],
   "source": [
    "tree_history = []\n",
    "forests = [\n",
    "    Forest(),\n",
    "    MoldProneForest(),\n",
    "    InstantBurnForest(),\n",
    "]\n",
    "num_generations = 2500\n",
    "for i in xrange(num_generations):\n",
    "    for forest in forests:\n",
    "        forest.advance_one_step()\n",
    "    tree_history.append(tuple(f.tree_fraction for f in forests))"
   ]
  },
  {
   "cell_type": "code",
   "execution_count": null,
   "metadata": {
    "collapsed": false
   },
   "outputs": [],
   "source": [
    "p = plot(tree_history)"
   ]
  },
  {
   "cell_type": "markdown",
   "metadata": {},
   "source": [
    "Notice the effect of the mold is to limit the maximum density of the forest, and `p_mold` determines the level of variability."
   ]
  },
  {
   "cell_type": "markdown",
   "metadata": {},
   "source": [
    "In Python, we can use multiple inheritance to combine the features of both kinds of forest with minimal further coding.  We do this by specifying more than one class in the inheritance:"
   ]
  },
  {
   "cell_type": "code",
   "execution_count": null,
   "metadata": {
    "collapsed": false
   },
   "outputs": [],
   "source": [
    "class MoldyInstantBurningForest(InstantBurnForest, MoldProneForest):\n",
    "    @property\n",
    "    def losses(self):\n",
    "        return self.fires | self.mold\n",
    "\n",
    "    def advance_one_step(self):\n",
    "        self.grow_trees()\n",
    "        self._grow_mold_and_kill_trees()\n",
    "        self._strike_and_burn()"
   ]
  },
  {
   "cell_type": "markdown",
   "metadata": {},
   "source": [
    "It's only a matter of defining the appropriate calculation for the `losses` attribute.  In this case we want the union of the fires and the mold sites.\n",
    "\n",
    "Then we overwrite the critical `.advance_one_step()` method to grow the trees, then grow the mold and kill the trees, then strike and burn.  Our choice of order depends on how we want to model the physics of the forest."
   ]
  },
  {
   "cell_type": "code",
   "execution_count": null,
   "metadata": {
    "collapsed": false
   },
   "outputs": [],
   "source": [
    "forest = MoldyInstantBurningForest()"
   ]
  },
  {
   "cell_type": "code",
   "execution_count": null,
   "metadata": {
    "collapsed": false
   },
   "outputs": [],
   "source": [
    "tree_history = []\n",
    "forests = [\n",
    "    Forest(),\n",
    "    MoldProneForest(),\n",
    "    InstantBurnForest(),\n",
    "    MoldyInstantBurningForest(),\n",
    "]\n",
    "num_generations = 2500\n",
    "for i in xrange(num_generations):\n",
    "    for forest in forests:\n",
    "        forest.advance_one_step()\n",
    "    tree_history.append(tuple(f.tree_fraction for f in forests))"
   ]
  },
  {
   "cell_type": "code",
   "execution_count": null,
   "metadata": {
    "collapsed": false
   },
   "outputs": [],
   "source": [
    "f = figure(figsize=(10,5))\n",
    "p = plot(tree_history)\n",
    "l = legend([f.name for f in forests], loc=\"upper right\")"
   ]
  },
  {
   "cell_type": "markdown",
   "metadata": {},
   "source": [
    "Copyright 2008-2016, Enthought, Inc.<br>Use only permitted under license.  Copying, sharing, redistributing or other unauthorized use strictly prohibited.<br>http://www.enthought.com"
   ]
  }
 ],
 "metadata": {
  "kernelspec": {
   "display_name": "Python 2",
   "language": "python",
   "name": "python2"
  },
  "language_info": {
   "codemirror_mode": {
    "name": "ipython",
    "version": 2
   },
   "file_extension": ".py",
   "mimetype": "text/x-python",
   "name": "python",
   "nbconvert_exporter": "python",
   "pygments_lexer": "ipython2",
   "version": "2.7.10"
  }
 },
 "nbformat": 4,
 "nbformat_minor": 0
}
